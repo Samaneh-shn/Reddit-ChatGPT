{
 "cells": [
  {
   "cell_type": "markdown",
   "id": "d0321a06-f95e-46a6-b91b-18027ac71604",
   "metadata": {},
   "source": [
    "# ❤️‍🔥😡 Sentiment Analysis of Each Topics"
   ]
  },
  {
   "cell_type": "markdown",
   "id": "2bfc911c-667f-4d84-ada5-edd3cf09afce",
   "metadata": {
    "jp-MarkdownHeadingCollapsed": true,
    "tags": []
   },
   "source": [
    "## 💾 Loading Data"
   ]
  },
  {
   "cell_type": "code",
   "execution_count": 4,
   "id": "8e576267-babe-49a0-a71d-c80edcad4abb",
   "metadata": {},
   "outputs": [
    {
     "data": {
      "text/html": [
       "<div>\n",
       "<style scoped>\n",
       "    .dataframe tbody tr th:only-of-type {\n",
       "        vertical-align: middle;\n",
       "    }\n",
       "\n",
       "    .dataframe tbody tr th {\n",
       "        vertical-align: top;\n",
       "    }\n",
       "\n",
       "    .dataframe thead th {\n",
       "        text-align: right;\n",
       "    }\n",
       "</style>\n",
       "<table border=\"1\" class=\"dataframe\">\n",
       "  <thead>\n",
       "    <tr style=\"text-align: right;\">\n",
       "      <th></th>\n",
       "      <th>Dominant_Topic</th>\n",
       "      <th>Perc_Contribution</th>\n",
       "      <th>Top_Keywords</th>\n",
       "      <th>Title</th>\n",
       "      <th>Topic_Name</th>\n",
       "      <th>cleaned_titles</th>\n",
       "    </tr>\n",
       "  </thead>\n",
       "  <tbody>\n",
       "    <tr>\n",
       "      <th>0</th>\n",
       "      <td>0</td>\n",
       "      <td>0.1429</td>\n",
       "      <td>play, better, game, explain, want, first, ques...</td>\n",
       "      <td>&gt;:(</td>\n",
       "      <td>ChatGPT for Gaming and Entertainment</td>\n",
       "      <td>[]</td>\n",
       "    </tr>\n",
       "    <tr>\n",
       "      <th>1</th>\n",
       "      <td>0</td>\n",
       "      <td>0.1429</td>\n",
       "      <td>play, better, game, explain, want, first, ques...</td>\n",
       "      <td>Revenge 💀</td>\n",
       "      <td>ChatGPT for Gaming and Entertainment</td>\n",
       "      <td>['revenge']</td>\n",
       "    </tr>\n",
       "    <tr>\n",
       "      <th>2</th>\n",
       "      <td>0</td>\n",
       "      <td>0.5365</td>\n",
       "      <td>play, better, game, explain, want, first, ques...</td>\n",
       "      <td>It used to be so much better at release</td>\n",
       "      <td>ChatGPT for Gaming and Entertainment</td>\n",
       "      <td>['use', 'much', 'better', 'release']</td>\n",
       "    </tr>\n",
       "    <tr>\n",
       "      <th>3</th>\n",
       "      <td>0</td>\n",
       "      <td>0.1429</td>\n",
       "      <td>play, better, game, explain, want, first, ques...</td>\n",
       "      <td>Outsmarted ChatGPT</td>\n",
       "      <td>ChatGPT for Gaming and Entertainment</td>\n",
       "      <td>['outsmart']</td>\n",
       "    </tr>\n",
       "    <tr>\n",
       "      <th>4</th>\n",
       "      <td>0</td>\n",
       "      <td>0.1429</td>\n",
       "      <td>play, better, game, explain, want, first, ques...</td>\n",
       "      <td>Wow lol</td>\n",
       "      <td>ChatGPT for Gaming and Entertainment</td>\n",
       "      <td>[]</td>\n",
       "    </tr>\n",
       "  </tbody>\n",
       "</table>\n",
       "</div>"
      ],
      "text/plain": [
       "   Dominant_Topic  Perc_Contribution  \\\n",
       "0               0             0.1429   \n",
       "1               0             0.1429   \n",
       "2               0             0.5365   \n",
       "3               0             0.1429   \n",
       "4               0             0.1429   \n",
       "\n",
       "                                        Top_Keywords  \\\n",
       "0  play, better, game, explain, want, first, ques...   \n",
       "1  play, better, game, explain, want, first, ques...   \n",
       "2  play, better, game, explain, want, first, ques...   \n",
       "3  play, better, game, explain, want, first, ques...   \n",
       "4  play, better, game, explain, want, first, ques...   \n",
       "\n",
       "                                     Title  \\\n",
       "0                                      >:(   \n",
       "1                                Revenge 💀   \n",
       "2  It used to be so much better at release   \n",
       "3                       Outsmarted ChatGPT   \n",
       "4                                  Wow lol   \n",
       "\n",
       "                             Topic_Name                        cleaned_titles  \n",
       "0  ChatGPT for Gaming and Entertainment                                    []  \n",
       "1  ChatGPT for Gaming and Entertainment                           ['revenge']  \n",
       "2  ChatGPT for Gaming and Entertainment  ['use', 'much', 'better', 'release']  \n",
       "3  ChatGPT for Gaming and Entertainment                          ['outsmart']  \n",
       "4  ChatGPT for Gaming and Entertainment                                    []  "
      ]
     },
     "execution_count": 4,
     "metadata": {},
     "output_type": "execute_result"
    },
    {
     "data": {
      "text/html": [
       "<div>\n",
       "<style scoped>\n",
       "    .dataframe tbody tr th:only-of-type {\n",
       "        vertical-align: middle;\n",
       "    }\n",
       "\n",
       "    .dataframe tbody tr th {\n",
       "        vertical-align: top;\n",
       "    }\n",
       "\n",
       "    .dataframe thead th {\n",
       "        text-align: right;\n",
       "    }\n",
       "</style>\n",
       "<table border=\"1\" class=\"dataframe\">\n",
       "  <thead>\n",
       "    <tr style=\"text-align: right;\">\n",
       "      <th></th>\n",
       "      <th>Dominant_Topic</th>\n",
       "      <th>Perc_Contribution</th>\n",
       "      <th>Top_Keywords</th>\n",
       "      <th>Title</th>\n",
       "      <th>Topic_Name</th>\n",
       "      <th>cleaned_titles</th>\n",
       "    </tr>\n",
       "  </thead>\n",
       "  <tbody>\n",
       "    <tr>\n",
       "      <th>0</th>\n",
       "      <td>1</td>\n",
       "      <td>0.5538</td>\n",
       "      <td>write, dont, get, openai, come, even, need, re...</td>\n",
       "      <td>ChatGPT doomers in a nutshell</td>\n",
       "      <td>ChatGPT Applications and Implications</td>\n",
       "      <td>['doomers', 'nutshell']</td>\n",
       "    </tr>\n",
       "    <tr>\n",
       "      <th>1</th>\n",
       "      <td>1</td>\n",
       "      <td>0.5364</td>\n",
       "      <td>write, dont, get, openai, come, even, need, re...</td>\n",
       "      <td>ChatGPT plays hangman on a whole other level</td>\n",
       "      <td>ChatGPT Applications and Implications</td>\n",
       "      <td>['play', 'hangman', 'whole', 'level']</td>\n",
       "    </tr>\n",
       "    <tr>\n",
       "      <th>2</th>\n",
       "      <td>1</td>\n",
       "      <td>0.4616</td>\n",
       "      <td>write, dont, get, openai, come, even, need, re...</td>\n",
       "      <td>An example of using ChatGPT for school without...</td>\n",
       "      <td>ChatGPT Applications and Implications</td>\n",
       "      <td>['example', 'use', 'school', 'without', 'cheat']</td>\n",
       "    </tr>\n",
       "    <tr>\n",
       "      <th>3</th>\n",
       "      <td>1</td>\n",
       "      <td>0.3141</td>\n",
       "      <td>write, dont, get, openai, come, even, need, re...</td>\n",
       "      <td>ChatGPT getting more and more limited by the day.</td>\n",
       "      <td>ChatGPT Applications and Implications</td>\n",
       "      <td>['get', 'limit']</td>\n",
       "    </tr>\n",
       "    <tr>\n",
       "      <th>4</th>\n",
       "      <td>1</td>\n",
       "      <td>0.4468</td>\n",
       "      <td>write, dont, get, openai, come, even, need, re...</td>\n",
       "      <td>I don’t know what I expected</td>\n",
       "      <td>ChatGPT Applications and Implications</td>\n",
       "      <td>['dont', 'know', 'expect']</td>\n",
       "    </tr>\n",
       "  </tbody>\n",
       "</table>\n",
       "</div>"
      ],
      "text/plain": [
       "   Dominant_Topic  Perc_Contribution  \\\n",
       "0               1             0.5538   \n",
       "1               1             0.5364   \n",
       "2               1             0.4616   \n",
       "3               1             0.3141   \n",
       "4               1             0.4468   \n",
       "\n",
       "                                        Top_Keywords  \\\n",
       "0  write, dont, get, openai, come, even, need, re...   \n",
       "1  write, dont, get, openai, come, even, need, re...   \n",
       "2  write, dont, get, openai, come, even, need, re...   \n",
       "3  write, dont, get, openai, come, even, need, re...   \n",
       "4  write, dont, get, openai, come, even, need, re...   \n",
       "\n",
       "                                               Title  \\\n",
       "0                      ChatGPT doomers in a nutshell   \n",
       "1       ChatGPT plays hangman on a whole other level   \n",
       "2  An example of using ChatGPT for school without...   \n",
       "3  ChatGPT getting more and more limited by the day.   \n",
       "4                       I don’t know what I expected   \n",
       "\n",
       "                              Topic_Name  \\\n",
       "0  ChatGPT Applications and Implications   \n",
       "1  ChatGPT Applications and Implications   \n",
       "2  ChatGPT Applications and Implications   \n",
       "3  ChatGPT Applications and Implications   \n",
       "4  ChatGPT Applications and Implications   \n",
       "\n",
       "                                     cleaned_titles  \n",
       "0                           ['doomers', 'nutshell']  \n",
       "1             ['play', 'hangman', 'whole', 'level']  \n",
       "2  ['example', 'use', 'school', 'without', 'cheat']  \n",
       "3                                  ['get', 'limit']  \n",
       "4                        ['dont', 'know', 'expect']  "
      ]
     },
     "execution_count": 4,
     "metadata": {},
     "output_type": "execute_result"
    },
    {
     "data": {
      "text/html": [
       "<div>\n",
       "<style scoped>\n",
       "    .dataframe tbody tr th:only-of-type {\n",
       "        vertical-align: middle;\n",
       "    }\n",
       "\n",
       "    .dataframe tbody tr th {\n",
       "        vertical-align: top;\n",
       "    }\n",
       "\n",
       "    .dataframe thead th {\n",
       "        text-align: right;\n",
       "    }\n",
       "</style>\n",
       "<table border=\"1\" class=\"dataframe\">\n",
       "  <thead>\n",
       "    <tr style=\"text-align: right;\">\n",
       "      <th></th>\n",
       "      <th>Dominant_Topic</th>\n",
       "      <th>Perc_Contribution</th>\n",
       "      <th>Top_Keywords</th>\n",
       "      <th>Title</th>\n",
       "      <th>Topic_Name</th>\n",
       "      <th>cleaned_titles</th>\n",
       "    </tr>\n",
       "  </thead>\n",
       "  <tbody>\n",
       "    <tr>\n",
       "      <th>0</th>\n",
       "      <td>2</td>\n",
       "      <td>0.4468</td>\n",
       "      <td>ask, give, work, ever, jailbreak, right, never...</td>\n",
       "      <td>Has ChatGPT or me been hacked? Ive never had t...</td>\n",
       "      <td>AI Interactions and Limitations</td>\n",
       "      <td>['hack', 'never', 'conversations']</td>\n",
       "    </tr>\n",
       "    <tr>\n",
       "      <th>1</th>\n",
       "      <td>2</td>\n",
       "      <td>0.3222</td>\n",
       "      <td>ask, give, work, ever, jailbreak, right, never...</td>\n",
       "      <td>ChatGPT's take on lowering writing quality</td>\n",
       "      <td>AI Interactions and Limitations</td>\n",
       "      <td>['chatgpts', 'take', 'lower', 'write', 'quality']</td>\n",
       "    </tr>\n",
       "    <tr>\n",
       "      <th>2</th>\n",
       "      <td>2</td>\n",
       "      <td>0.3222</td>\n",
       "      <td>ask, give, work, ever, jailbreak, right, never...</td>\n",
       "      <td>the poem quality glow up with GPT-4 is genuine...</td>\n",
       "      <td>AI Interactions and Limitations</td>\n",
       "      <td>['poem', 'quality', 'glow', 'genuinely', 'insa...</td>\n",
       "    </tr>\n",
       "    <tr>\n",
       "      <th>3</th>\n",
       "      <td>2</td>\n",
       "      <td>0.5540</td>\n",
       "      <td>ask, give, work, ever, jailbreak, right, never...</td>\n",
       "      <td>ChatGPT really learns</td>\n",
       "      <td>AI Interactions and Limitations</td>\n",
       "      <td>['really', 'learn']</td>\n",
       "    </tr>\n",
       "    <tr>\n",
       "      <th>4</th>\n",
       "      <td>2</td>\n",
       "      <td>0.3142</td>\n",
       "      <td>ask, give, work, ever, jailbreak, right, never...</td>\n",
       "      <td>It's messing with me, right?</td>\n",
       "      <td>AI Interactions and Limitations</td>\n",
       "      <td>['mess', 'right']</td>\n",
       "    </tr>\n",
       "  </tbody>\n",
       "</table>\n",
       "</div>"
      ],
      "text/plain": [
       "   Dominant_Topic  Perc_Contribution  \\\n",
       "0               2             0.4468   \n",
       "1               2             0.3222   \n",
       "2               2             0.3222   \n",
       "3               2             0.5540   \n",
       "4               2             0.3142   \n",
       "\n",
       "                                        Top_Keywords  \\\n",
       "0  ask, give, work, ever, jailbreak, right, never...   \n",
       "1  ask, give, work, ever, jailbreak, right, never...   \n",
       "2  ask, give, work, ever, jailbreak, right, never...   \n",
       "3  ask, give, work, ever, jailbreak, right, never...   \n",
       "4  ask, give, work, ever, jailbreak, right, never...   \n",
       "\n",
       "                                               Title  \\\n",
       "0  Has ChatGPT or me been hacked? Ive never had t...   \n",
       "1         ChatGPT's take on lowering writing quality   \n",
       "2  the poem quality glow up with GPT-4 is genuine...   \n",
       "3                              ChatGPT really learns   \n",
       "4                       It's messing with me, right?   \n",
       "\n",
       "                        Topic_Name  \\\n",
       "0  AI Interactions and Limitations   \n",
       "1  AI Interactions and Limitations   \n",
       "2  AI Interactions and Limitations   \n",
       "3  AI Interactions and Limitations   \n",
       "4  AI Interactions and Limitations   \n",
       "\n",
       "                                      cleaned_titles  \n",
       "0                 ['hack', 'never', 'conversations']  \n",
       "1  ['chatgpts', 'take', 'lower', 'write', 'quality']  \n",
       "2  ['poem', 'quality', 'glow', 'genuinely', 'insa...  \n",
       "3                                ['really', 'learn']  \n",
       "4                                  ['mess', 'right']  "
      ]
     },
     "execution_count": 4,
     "metadata": {},
     "output_type": "execute_result"
    },
    {
     "data": {
      "text/html": [
       "<div>\n",
       "<style scoped>\n",
       "    .dataframe tbody tr th:only-of-type {\n",
       "        vertical-align: middle;\n",
       "    }\n",
       "\n",
       "    .dataframe tbody tr th {\n",
       "        vertical-align: top;\n",
       "    }\n",
       "\n",
       "    .dataframe thead th {\n",
       "        text-align: right;\n",
       "    }\n",
       "</style>\n",
       "<table border=\"1\" class=\"dataframe\">\n",
       "  <thead>\n",
       "    <tr style=\"text-align: right;\">\n",
       "      <th></th>\n",
       "      <th>Dominant_Topic</th>\n",
       "      <th>Perc_Contribution</th>\n",
       "      <th>Top_Keywords</th>\n",
       "      <th>Title</th>\n",
       "      <th>Topic_Name</th>\n",
       "      <th>cleaned_titles</th>\n",
       "    </tr>\n",
       "  </thead>\n",
       "  <tbody>\n",
       "    <tr>\n",
       "      <th>0</th>\n",
       "      <td>3</td>\n",
       "      <td>0.5991</td>\n",
       "      <td>prompt, like, think, google, go, know, feel, t...</td>\n",
       "      <td>10/10, must-see moment! ChatGPT just did somet...</td>\n",
       "      <td>Language and Communication</td>\n",
       "      <td>['mustsee', 'moment', 'something', 'shock', 'c...</td>\n",
       "    </tr>\n",
       "    <tr>\n",
       "      <th>1</th>\n",
       "      <td>3</td>\n",
       "      <td>0.4132</td>\n",
       "      <td>prompt, like, think, google, go, know, feel, t...</td>\n",
       "      <td>wow it is so smart 💀</td>\n",
       "      <td>Language and Communication</td>\n",
       "      <td>['smart']</td>\n",
       "    </tr>\n",
       "    <tr>\n",
       "      <th>2</th>\n",
       "      <td>3</td>\n",
       "      <td>0.6402</td>\n",
       "      <td>prompt, like, think, google, go, know, feel, t...</td>\n",
       "      <td>Truly pure of heart.</td>\n",
       "      <td>Language and Communication</td>\n",
       "      <td>['truly', 'pure', 'heart']</td>\n",
       "    </tr>\n",
       "    <tr>\n",
       "      <th>3</th>\n",
       "      <td>3</td>\n",
       "      <td>0.4132</td>\n",
       "      <td>prompt, like, think, google, go, know, feel, t...</td>\n",
       "      <td>Thanks, ChatGPT</td>\n",
       "      <td>Language and Communication</td>\n",
       "      <td>['thank']</td>\n",
       "    </tr>\n",
       "    <tr>\n",
       "      <th>4</th>\n",
       "      <td>3</td>\n",
       "      <td>0.3141</td>\n",
       "      <td>prompt, like, think, google, go, know, feel, t...</td>\n",
       "      <td>Thank you ChatGPT, very cool</td>\n",
       "      <td>Language and Communication</td>\n",
       "      <td>['thank', 'cool']</td>\n",
       "    </tr>\n",
       "  </tbody>\n",
       "</table>\n",
       "</div>"
      ],
      "text/plain": [
       "   Dominant_Topic  Perc_Contribution  \\\n",
       "0               3             0.5991   \n",
       "1               3             0.4132   \n",
       "2               3             0.6402   \n",
       "3               3             0.4132   \n",
       "4               3             0.3141   \n",
       "\n",
       "                                        Top_Keywords  \\\n",
       "0  prompt, like, think, google, go, know, feel, t...   \n",
       "1  prompt, like, think, google, go, know, feel, t...   \n",
       "2  prompt, like, think, google, go, know, feel, t...   \n",
       "3  prompt, like, think, google, go, know, feel, t...   \n",
       "4  prompt, like, think, google, go, know, feel, t...   \n",
       "\n",
       "                                               Title  \\\n",
       "0  10/10, must-see moment! ChatGPT just did somet...   \n",
       "1                               wow it is so smart 💀   \n",
       "2                               Truly pure of heart.   \n",
       "3                                    Thanks, ChatGPT   \n",
       "4                       Thank you ChatGPT, very cool   \n",
       "\n",
       "                   Topic_Name  \\\n",
       "0  Language and Communication   \n",
       "1  Language and Communication   \n",
       "2  Language and Communication   \n",
       "3  Language and Communication   \n",
       "4  Language and Communication   \n",
       "\n",
       "                                      cleaned_titles  \n",
       "0  ['mustsee', 'moment', 'something', 'shock', 'c...  \n",
       "1                                          ['smart']  \n",
       "2                         ['truly', 'pure', 'heart']  \n",
       "3                                          ['thank']  \n",
       "4                                  ['thank', 'cool']  "
      ]
     },
     "execution_count": 4,
     "metadata": {},
     "output_type": "execute_result"
    },
    {
     "data": {
      "text/html": [
       "<div>\n",
       "<style scoped>\n",
       "    .dataframe tbody tr th:only-of-type {\n",
       "        vertical-align: middle;\n",
       "    }\n",
       "\n",
       "    .dataframe tbody tr th {\n",
       "        vertical-align: top;\n",
       "    }\n",
       "\n",
       "    .dataframe thead th {\n",
       "        text-align: right;\n",
       "    }\n",
       "</style>\n",
       "<table border=\"1\" class=\"dataframe\">\n",
       "  <thead>\n",
       "    <tr style=\"text-align: right;\">\n",
       "      <th></th>\n",
       "      <th>Dominant_Topic</th>\n",
       "      <th>Perc_Contribution</th>\n",
       "      <th>Top_Keywords</th>\n",
       "      <th>Title</th>\n",
       "      <th>Topic_Name</th>\n",
       "      <th>cleaned_titles</th>\n",
       "    </tr>\n",
       "  </thead>\n",
       "  <tbody>\n",
       "    <tr>\n",
       "      <th>0</th>\n",
       "      <td>4</td>\n",
       "      <td>0.3141</td>\n",
       "      <td>people, source, search, break, week, real, lit...</td>\n",
       "      <td>Breaking bad in 20 words</td>\n",
       "      <td>User Experience</td>\n",
       "      <td>['break', 'word']</td>\n",
       "    </tr>\n",
       "    <tr>\n",
       "      <th>1</th>\n",
       "      <td>4</td>\n",
       "      <td>0.5364</td>\n",
       "      <td>people, source, search, break, week, real, lit...</td>\n",
       "      <td>I can now upload pics to GPT-4! Taking request...</td>\n",
       "      <td>User Experience</td>\n",
       "      <td>['upload', 'pics', 'take', 'request']</td>\n",
       "    </tr>\n",
       "    <tr>\n",
       "      <th>2</th>\n",
       "      <td>4</td>\n",
       "      <td>0.6402</td>\n",
       "      <td>people, source, search, break, week, real, lit...</td>\n",
       "      <td>ChatGPT security update from Sam Altman</td>\n",
       "      <td>User Experience</td>\n",
       "      <td>['security', 'update', 'altman']</td>\n",
       "    </tr>\n",
       "    <tr>\n",
       "      <th>3</th>\n",
       "      <td>4</td>\n",
       "      <td>0.6985</td>\n",
       "      <td>people, source, search, break, week, real, lit...</td>\n",
       "      <td>Guys, once again, chill, your job isn't threat...</td>\n",
       "      <td>User Experience</td>\n",
       "      <td>['guy', 'chill', 'isnt', 'threaten']</td>\n",
       "    </tr>\n",
       "    <tr>\n",
       "      <th>4</th>\n",
       "      <td>4</td>\n",
       "      <td>0.5539</td>\n",
       "      <td>people, source, search, break, week, real, lit...</td>\n",
       "      <td>its real bro i swear</td>\n",
       "      <td>User Experience</td>\n",
       "      <td>['real', 'swear']</td>\n",
       "    </tr>\n",
       "  </tbody>\n",
       "</table>\n",
       "</div>"
      ],
      "text/plain": [
       "   Dominant_Topic  Perc_Contribution  \\\n",
       "0               4             0.3141   \n",
       "1               4             0.5364   \n",
       "2               4             0.6402   \n",
       "3               4             0.6985   \n",
       "4               4             0.5539   \n",
       "\n",
       "                                        Top_Keywords  \\\n",
       "0  people, source, search, break, week, real, lit...   \n",
       "1  people, source, search, break, week, real, lit...   \n",
       "2  people, source, search, break, week, real, lit...   \n",
       "3  people, source, search, break, week, real, lit...   \n",
       "4  people, source, search, break, week, real, lit...   \n",
       "\n",
       "                                               Title       Topic_Name  \\\n",
       "0                           Breaking bad in 20 words  User Experience   \n",
       "1  I can now upload pics to GPT-4! Taking request...  User Experience   \n",
       "2            ChatGPT security update from Sam Altman  User Experience   \n",
       "3  Guys, once again, chill, your job isn't threat...  User Experience   \n",
       "4                               its real bro i swear  User Experience   \n",
       "\n",
       "                          cleaned_titles  \n",
       "0                      ['break', 'word']  \n",
       "1  ['upload', 'pics', 'take', 'request']  \n",
       "2       ['security', 'update', 'altman']  \n",
       "3   ['guy', 'chill', 'isnt', 'threaten']  \n",
       "4                      ['real', 'swear']  "
      ]
     },
     "execution_count": 4,
     "metadata": {},
     "output_type": "execute_result"
    },
    {
     "data": {
      "text/html": [
       "<div>\n",
       "<style scoped>\n",
       "    .dataframe tbody tr th:only-of-type {\n",
       "        vertical-align: middle;\n",
       "    }\n",
       "\n",
       "    .dataframe tbody tr th {\n",
       "        vertical-align: top;\n",
       "    }\n",
       "\n",
       "    .dataframe thead th {\n",
       "        text-align: right;\n",
       "    }\n",
       "</style>\n",
       "<table border=\"1\" class=\"dataframe\">\n",
       "  <thead>\n",
       "    <tr style=\"text-align: right;\">\n",
       "      <th></th>\n",
       "      <th>Dominant_Topic</th>\n",
       "      <th>Perc_Contribution</th>\n",
       "      <th>Top_Keywords</th>\n",
       "      <th>Title</th>\n",
       "      <th>Topic_Name</th>\n",
       "      <th>cleaned_titles</th>\n",
       "    </tr>\n",
       "  </thead>\n",
       "  <tbody>\n",
       "    <tr>\n",
       "      <th>0</th>\n",
       "      <td>5</td>\n",
       "      <td>0.6985</td>\n",
       "      <td>make, use, answer, tell, bard, joke, love, pos...</td>\n",
       "      <td>I told GPT to only reply using emojis...</td>\n",
       "      <td>ChatGPT and Bard</td>\n",
       "      <td>['tell', 'reply', 'use', 'emojis']</td>\n",
       "    </tr>\n",
       "    <tr>\n",
       "      <th>1</th>\n",
       "      <td>5</td>\n",
       "      <td>0.7406</td>\n",
       "      <td>make, use, answer, tell, bard, joke, love, pos...</td>\n",
       "      <td>Yet another way that ChatGPT can make your job...</td>\n",
       "      <td>ChatGPT and Bard</td>\n",
       "      <td>['another', 'make', 'easier', 'least', 'bearab...</td>\n",
       "    </tr>\n",
       "    <tr>\n",
       "      <th>2</th>\n",
       "      <td>5</td>\n",
       "      <td>0.3744</td>\n",
       "      <td>make, use, answer, tell, bard, joke, love, pos...</td>\n",
       "      <td>First ChatGPT answer which made me pause.</td>\n",
       "      <td>ChatGPT and Bard</td>\n",
       "      <td>['first', 'answer', 'make', 'pause']</td>\n",
       "    </tr>\n",
       "    <tr>\n",
       "      <th>3</th>\n",
       "      <td>5</td>\n",
       "      <td>0.5365</td>\n",
       "      <td>make, use, answer, tell, bard, joke, love, pos...</td>\n",
       "      <td>Google Bard has some jokes ... LMAO</td>\n",
       "      <td>ChatGPT and Bard</td>\n",
       "      <td>['google', 'bard', 'joke', 'lmao']</td>\n",
       "    </tr>\n",
       "    <tr>\n",
       "      <th>4</th>\n",
       "      <td>5</td>\n",
       "      <td>0.5539</td>\n",
       "      <td>make, use, answer, tell, bard, joke, love, pos...</td>\n",
       "      <td>The pain() function</td>\n",
       "      <td>ChatGPT and Bard</td>\n",
       "      <td>['pain', 'function']</td>\n",
       "    </tr>\n",
       "  </tbody>\n",
       "</table>\n",
       "</div>"
      ],
      "text/plain": [
       "   Dominant_Topic  Perc_Contribution  \\\n",
       "0               5             0.6985   \n",
       "1               5             0.7406   \n",
       "2               5             0.3744   \n",
       "3               5             0.5365   \n",
       "4               5             0.5539   \n",
       "\n",
       "                                        Top_Keywords  \\\n",
       "0  make, use, answer, tell, bard, joke, love, pos...   \n",
       "1  make, use, answer, tell, bard, joke, love, pos...   \n",
       "2  make, use, answer, tell, bard, joke, love, pos...   \n",
       "3  make, use, answer, tell, bard, joke, love, pos...   \n",
       "4  make, use, answer, tell, bard, joke, love, pos...   \n",
       "\n",
       "                                               Title        Topic_Name  \\\n",
       "0           I told GPT to only reply using emojis...  ChatGPT and Bard   \n",
       "1  Yet another way that ChatGPT can make your job...  ChatGPT and Bard   \n",
       "2          First ChatGPT answer which made me pause.  ChatGPT and Bard   \n",
       "3                Google Bard has some jokes ... LMAO  ChatGPT and Bard   \n",
       "4                                The pain() function  ChatGPT and Bard   \n",
       "\n",
       "                                      cleaned_titles  \n",
       "0                 ['tell', 'reply', 'use', 'emojis']  \n",
       "1  ['another', 'make', 'easier', 'least', 'bearab...  \n",
       "2               ['first', 'answer', 'make', 'pause']  \n",
       "3                 ['google', 'bard', 'joke', 'lmao']  \n",
       "4                               ['pain', 'function']  "
      ]
     },
     "execution_count": 4,
     "metadata": {},
     "output_type": "execute_result"
    },
    {
     "data": {
      "text/html": [
       "<div>\n",
       "<style scoped>\n",
       "    .dataframe tbody tr th:only-of-type {\n",
       "        vertical-align: middle;\n",
       "    }\n",
       "\n",
       "    .dataframe tbody tr th {\n",
       "        vertical-align: top;\n",
       "    }\n",
       "\n",
       "    .dataframe thead th {\n",
       "        text-align: right;\n",
       "    }\n",
       "</style>\n",
       "<table border=\"1\" class=\"dataframe\">\n",
       "  <thead>\n",
       "    <tr style=\"text-align: right;\">\n",
       "      <th></th>\n",
       "      <th>Dominant_Topic</th>\n",
       "      <th>Perc_Contribution</th>\n",
       "      <th>Top_Keywords</th>\n",
       "      <th>Title</th>\n",
       "      <th>Topic_Name</th>\n",
       "      <th>cleaned_titles</th>\n",
       "    </tr>\n",
       "  </thead>\n",
       "  <tbody>\n",
       "    <tr>\n",
       "      <th>0</th>\n",
       "      <td>6</td>\n",
       "      <td>0.4467</td>\n",
       "      <td>bing, chat, cant, build, generate, access, tex...</td>\n",
       "      <td>Rap battling ChatGPT is my new favorite sport.</td>\n",
       "      <td>ChatGPT and Bing</td>\n",
       "      <td>['battle', 'favorite', 'sport']</td>\n",
       "    </tr>\n",
       "    <tr>\n",
       "      <th>1</th>\n",
       "      <td>6</td>\n",
       "      <td>0.3142</td>\n",
       "      <td>bing, chat, cant, build, generate, access, tex...</td>\n",
       "      <td>Chat GPT rap battled me</td>\n",
       "      <td>ChatGPT and Bing</td>\n",
       "      <td>['chat', 'battle']</td>\n",
       "    </tr>\n",
       "    <tr>\n",
       "      <th>2</th>\n",
       "      <td>6</td>\n",
       "      <td>0.3142</td>\n",
       "      <td>bing, chat, cant, build, generate, access, tex...</td>\n",
       "      <td>\"The future of communication\"</td>\n",
       "      <td>ChatGPT and Bing</td>\n",
       "      <td>['future', 'communication']</td>\n",
       "    </tr>\n",
       "    <tr>\n",
       "      <th>3</th>\n",
       "      <td>6</td>\n",
       "      <td>0.6608</td>\n",
       "      <td>bing, chat, cant, build, generate, access, tex...</td>\n",
       "      <td>if GPT-4 is too tame for your liking, tell it ...</td>\n",
       "      <td>ChatGPT and Bing</td>\n",
       "      <td>['tame', 'like', 'tell', 'suffer', 'neuroseman...</td>\n",
       "    </tr>\n",
       "    <tr>\n",
       "      <th>4</th>\n",
       "      <td>6</td>\n",
       "      <td>0.4132</td>\n",
       "      <td>bing, chat, cant, build, generate, access, tex...</td>\n",
       "      <td>Interesting. . .</td>\n",
       "      <td>ChatGPT and Bing</td>\n",
       "      <td>['interest']</td>\n",
       "    </tr>\n",
       "  </tbody>\n",
       "</table>\n",
       "</div>"
      ],
      "text/plain": [
       "   Dominant_Topic  Perc_Contribution  \\\n",
       "0               6             0.4467   \n",
       "1               6             0.3142   \n",
       "2               6             0.3142   \n",
       "3               6             0.6608   \n",
       "4               6             0.4132   \n",
       "\n",
       "                                        Top_Keywords  \\\n",
       "0  bing, chat, cant, build, generate, access, tex...   \n",
       "1  bing, chat, cant, build, generate, access, tex...   \n",
       "2  bing, chat, cant, build, generate, access, tex...   \n",
       "3  bing, chat, cant, build, generate, access, tex...   \n",
       "4  bing, chat, cant, build, generate, access, tex...   \n",
       "\n",
       "                                               Title        Topic_Name  \\\n",
       "0     Rap battling ChatGPT is my new favorite sport.  ChatGPT and Bing   \n",
       "1                            Chat GPT rap battled me  ChatGPT and Bing   \n",
       "2                      \"The future of communication\"  ChatGPT and Bing   \n",
       "3  if GPT-4 is too tame for your liking, tell it ...  ChatGPT and Bing   \n",
       "4                                   Interesting. . .  ChatGPT and Bing   \n",
       "\n",
       "                                      cleaned_titles  \n",
       "0                    ['battle', 'favorite', 'sport']  \n",
       "1                                 ['chat', 'battle']  \n",
       "2                        ['future', 'communication']  \n",
       "3  ['tame', 'like', 'tell', 'suffer', 'neuroseman...  \n",
       "4                                       ['interest']  "
      ]
     },
     "execution_count": 4,
     "metadata": {},
     "output_type": "execute_result"
    }
   ],
   "source": [
    "# Displaying full output in Jupyter, not only the last result:\n",
    "from IPython.core.interactiveshell import InteractiveShell\n",
    "InteractiveShell.ast_node_interactivity = \"all\"\n",
    "\n",
    "import pandas as pd\n",
    "import time \n",
    "\n",
    "# Load the datasets into pandas DataFrames\n",
    "T0_df = pd.read_csv(\"topics/ChatGPT for Gaming and Entertainment.csv\")\n",
    "T1_df = pd.read_csv(\"topics/ChatGPT Applications and Implications.csv\")\n",
    "T2_df = pd.read_csv(\"topics/AI Interactions and Limitations.csv\")\n",
    "T3_df = pd.read_csv(\"topics/Language and Communication.csv\")\n",
    "T4_df = pd.read_csv(\"topics/User Experience.csv\")\n",
    "T5_df = pd.read_csv(\"topics/ChatGPT and Bard.csv\")\n",
    "T6_df = pd.read_csv(\"topics/ChatGPT and Bing.csv\")\n",
    "\n",
    "\n",
    "T0_df.head(5)\n",
    "T1_df.head(5)\n",
    "T2_df.head(5)\n",
    "T3_df.head(5)\n",
    "T4_df.head(5)\n",
    "T5_df.head(5)\n",
    "T6_df.head(5)"
   ]
  },
  {
   "cell_type": "markdown",
   "id": "b6c3e8cd-23a4-4905-be62-0372bc7b3d47",
   "metadata": {
    "jp-MarkdownHeadingCollapsed": true,
    "tags": []
   },
   "source": [
    "## Vader Sentiment"
   ]
  },
  {
   "cell_type": "markdown",
   "id": "67573a6f-76a9-451b-bed1-1e23f8686bb4",
   "metadata": {
    "jp-MarkdownHeadingCollapsed": true,
    "tags": []
   },
   "source": [
    "### Topic 0"
   ]
  },
  {
   "cell_type": "code",
   "execution_count": 6,
   "id": "2e206d94-abd5-4197-bbbc-0a112730fa48",
   "metadata": {},
   "outputs": [
    {
     "name": "stdout",
     "output_type": "stream",
     "text": [
      "CPU times: user 88.8 ms, sys: 4.51 ms, total: 93.3 ms\n",
      "Wall time: 91.3 ms\n"
     ]
    },
    {
     "name": "stderr",
     "output_type": "stream",
     "text": [
      "[nltk_data] Downloading package vader_lexicon to\n",
      "[nltk_data]     /Users/samaneh/nltk_data...\n",
      "[nltk_data]   Package vader_lexicon is already up-to-date!\n"
     ]
    },
    {
     "data": {
      "text/html": [
       "<div>\n",
       "<style scoped>\n",
       "    .dataframe tbody tr th:only-of-type {\n",
       "        vertical-align: middle;\n",
       "    }\n",
       "\n",
       "    .dataframe tbody tr th {\n",
       "        vertical-align: top;\n",
       "    }\n",
       "\n",
       "    .dataframe thead th {\n",
       "        text-align: right;\n",
       "    }\n",
       "</style>\n",
       "<table border=\"1\" class=\"dataframe\">\n",
       "  <thead>\n",
       "    <tr style=\"text-align: right;\">\n",
       "      <th></th>\n",
       "      <th>Dominant_Topic</th>\n",
       "      <th>Perc_Contribution</th>\n",
       "      <th>Top_Keywords</th>\n",
       "      <th>Title</th>\n",
       "      <th>Topic_Name</th>\n",
       "      <th>cleaned_titles</th>\n",
       "      <th>sentiment_scores</th>\n",
       "      <th>neg</th>\n",
       "      <th>neu</th>\n",
       "      <th>pos</th>\n",
       "      <th>compound</th>\n",
       "    </tr>\n",
       "  </thead>\n",
       "  <tbody>\n",
       "    <tr>\n",
       "      <th>0</th>\n",
       "      <td>0</td>\n",
       "      <td>0.1429</td>\n",
       "      <td>play, better, game, explain, want, first, ques...</td>\n",
       "      <td>&gt;:(</td>\n",
       "      <td>ChatGPT for Gaming and Entertainment</td>\n",
       "      <td>[]</td>\n",
       "      <td>{'neg': 1.0, 'neu': 0.0, 'pos': 0.0, 'compound...</td>\n",
       "      <td>1.000</td>\n",
       "      <td>0.000</td>\n",
       "      <td>0.000</td>\n",
       "      <td>-0.5719</td>\n",
       "    </tr>\n",
       "    <tr>\n",
       "      <th>1</th>\n",
       "      <td>0</td>\n",
       "      <td>0.1429</td>\n",
       "      <td>play, better, game, explain, want, first, ques...</td>\n",
       "      <td>Revenge 💀</td>\n",
       "      <td>ChatGPT for Gaming and Entertainment</td>\n",
       "      <td>['revenge']</td>\n",
       "      <td>{'neg': 1.0, 'neu': 0.0, 'pos': 0.0, 'compound...</td>\n",
       "      <td>1.000</td>\n",
       "      <td>0.000</td>\n",
       "      <td>0.000</td>\n",
       "      <td>-0.5267</td>\n",
       "    </tr>\n",
       "    <tr>\n",
       "      <th>2</th>\n",
       "      <td>0</td>\n",
       "      <td>0.5365</td>\n",
       "      <td>play, better, game, explain, want, first, ques...</td>\n",
       "      <td>It used to be so much better at release</td>\n",
       "      <td>ChatGPT for Gaming and Entertainment</td>\n",
       "      <td>['use', 'much', 'better', 'release']</td>\n",
       "      <td>{'neg': 0.0, 'neu': 0.716, 'pos': 0.284, 'comp...</td>\n",
       "      <td>0.000</td>\n",
       "      <td>0.716</td>\n",
       "      <td>0.284</td>\n",
       "      <td>0.4902</td>\n",
       "    </tr>\n",
       "    <tr>\n",
       "      <th>3</th>\n",
       "      <td>0</td>\n",
       "      <td>0.1429</td>\n",
       "      <td>play, better, game, explain, want, first, ques...</td>\n",
       "      <td>Outsmarted ChatGPT</td>\n",
       "      <td>ChatGPT for Gaming and Entertainment</td>\n",
       "      <td>['outsmart']</td>\n",
       "      <td>{'neg': 0.0, 'neu': 1.0, 'pos': 0.0, 'compound...</td>\n",
       "      <td>0.000</td>\n",
       "      <td>1.000</td>\n",
       "      <td>0.000</td>\n",
       "      <td>0.0000</td>\n",
       "    </tr>\n",
       "    <tr>\n",
       "      <th>4</th>\n",
       "      <td>0</td>\n",
       "      <td>0.1429</td>\n",
       "      <td>play, better, game, explain, want, first, ques...</td>\n",
       "      <td>Wow lol</td>\n",
       "      <td>ChatGPT for Gaming and Entertainment</td>\n",
       "      <td>[]</td>\n",
       "      <td>{'neg': 0.0, 'neu': 0.0, 'pos': 1.0, 'compound...</td>\n",
       "      <td>0.000</td>\n",
       "      <td>0.000</td>\n",
       "      <td>1.000</td>\n",
       "      <td>0.7650</td>\n",
       "    </tr>\n",
       "    <tr>\n",
       "      <th>...</th>\n",
       "      <td>...</td>\n",
       "      <td>...</td>\n",
       "      <td>...</td>\n",
       "      <td>...</td>\n",
       "      <td>...</td>\n",
       "      <td>...</td>\n",
       "      <td>...</td>\n",
       "      <td>...</td>\n",
       "      <td>...</td>\n",
       "      <td>...</td>\n",
       "      <td>...</td>\n",
       "    </tr>\n",
       "    <tr>\n",
       "      <th>244</th>\n",
       "      <td>0</td>\n",
       "      <td>0.1429</td>\n",
       "      <td>play, better, game, explain, want, first, ques...</td>\n",
       "      <td>Are you kidding me?</td>\n",
       "      <td>ChatGPT for Gaming and Entertainment</td>\n",
       "      <td>['kid']</td>\n",
       "      <td>{'neg': 0.0, 'neu': 0.682, 'pos': 0.318, 'comp...</td>\n",
       "      <td>0.000</td>\n",
       "      <td>0.682</td>\n",
       "      <td>0.318</td>\n",
       "      <td>0.1027</td>\n",
       "    </tr>\n",
       "    <tr>\n",
       "      <th>245</th>\n",
       "      <td>0</td>\n",
       "      <td>0.1429</td>\n",
       "      <td>play, better, game, explain, want, first, ques...</td>\n",
       "      <td>Have fun!</td>\n",
       "      <td>ChatGPT for Gaming and Entertainment</td>\n",
       "      <td>[]</td>\n",
       "      <td>{'neg': 0.0, 'neu': 0.218, 'pos': 0.782, 'comp...</td>\n",
       "      <td>0.000</td>\n",
       "      <td>0.218</td>\n",
       "      <td>0.782</td>\n",
       "      <td>0.5562</td>\n",
       "    </tr>\n",
       "    <tr>\n",
       "      <th>246</th>\n",
       "      <td>0</td>\n",
       "      <td>0.1429</td>\n",
       "      <td>play, better, game, explain, want, first, ques...</td>\n",
       "      <td>Apparently not a fan of ASCII art</td>\n",
       "      <td>ChatGPT for Gaming and Entertainment</td>\n",
       "      <td>['apparently', 'ascii']</td>\n",
       "      <td>{'neg': 0.282, 'neu': 0.718, 'pos': 0.0, 'comp...</td>\n",
       "      <td>0.282</td>\n",
       "      <td>0.718</td>\n",
       "      <td>0.000</td>\n",
       "      <td>-0.2411</td>\n",
       "    </tr>\n",
       "    <tr>\n",
       "      <th>247</th>\n",
       "      <td>0</td>\n",
       "      <td>0.2123</td>\n",
       "      <td>play, better, game, explain, want, first, ques...</td>\n",
       "      <td>I can’t explain how I feel right now</td>\n",
       "      <td>ChatGPT for Gaming and Entertainment</td>\n",
       "      <td>['cant', 'explain', 'feel', 'right']</td>\n",
       "      <td>{'neg': 0.0, 'neu': 1.0, 'pos': 0.0, 'compound...</td>\n",
       "      <td>0.000</td>\n",
       "      <td>1.000</td>\n",
       "      <td>0.000</td>\n",
       "      <td>0.0000</td>\n",
       "    </tr>\n",
       "    <tr>\n",
       "      <th>248</th>\n",
       "      <td>0</td>\n",
       "      <td>0.1429</td>\n",
       "      <td>play, better, game, explain, want, first, ques...</td>\n",
       "      <td>The situation is apparently serious…</td>\n",
       "      <td>ChatGPT for Gaming and Entertainment</td>\n",
       "      <td>['situation', 'apparently', 'serious']</td>\n",
       "      <td>{'neg': 0.0, 'neu': 1.0, 'pos': 0.0, 'compound...</td>\n",
       "      <td>0.000</td>\n",
       "      <td>1.000</td>\n",
       "      <td>0.000</td>\n",
       "      <td>0.0000</td>\n",
       "    </tr>\n",
       "  </tbody>\n",
       "</table>\n",
       "<p>249 rows × 11 columns</p>\n",
       "</div>"
      ],
      "text/plain": [
       "     Dominant_Topic  Perc_Contribution  \\\n",
       "0                 0             0.1429   \n",
       "1                 0             0.1429   \n",
       "2                 0             0.5365   \n",
       "3                 0             0.1429   \n",
       "4                 0             0.1429   \n",
       "..              ...                ...   \n",
       "244               0             0.1429   \n",
       "245               0             0.1429   \n",
       "246               0             0.1429   \n",
       "247               0             0.2123   \n",
       "248               0             0.1429   \n",
       "\n",
       "                                          Top_Keywords  \\\n",
       "0    play, better, game, explain, want, first, ques...   \n",
       "1    play, better, game, explain, want, first, ques...   \n",
       "2    play, better, game, explain, want, first, ques...   \n",
       "3    play, better, game, explain, want, first, ques...   \n",
       "4    play, better, game, explain, want, first, ques...   \n",
       "..                                                 ...   \n",
       "244  play, better, game, explain, want, first, ques...   \n",
       "245  play, better, game, explain, want, first, ques...   \n",
       "246  play, better, game, explain, want, first, ques...   \n",
       "247  play, better, game, explain, want, first, ques...   \n",
       "248  play, better, game, explain, want, first, ques...   \n",
       "\n",
       "                                       Title  \\\n",
       "0                                        >:(   \n",
       "1                                  Revenge 💀   \n",
       "2    It used to be so much better at release   \n",
       "3                         Outsmarted ChatGPT   \n",
       "4                                    Wow lol   \n",
       "..                                       ...   \n",
       "244                      Are you kidding me?   \n",
       "245                                Have fun!   \n",
       "246        Apparently not a fan of ASCII art   \n",
       "247     I can’t explain how I feel right now   \n",
       "248     The situation is apparently serious…   \n",
       "\n",
       "                               Topic_Name  \\\n",
       "0    ChatGPT for Gaming and Entertainment   \n",
       "1    ChatGPT for Gaming and Entertainment   \n",
       "2    ChatGPT for Gaming and Entertainment   \n",
       "3    ChatGPT for Gaming and Entertainment   \n",
       "4    ChatGPT for Gaming and Entertainment   \n",
       "..                                    ...   \n",
       "244  ChatGPT for Gaming and Entertainment   \n",
       "245  ChatGPT for Gaming and Entertainment   \n",
       "246  ChatGPT for Gaming and Entertainment   \n",
       "247  ChatGPT for Gaming and Entertainment   \n",
       "248  ChatGPT for Gaming and Entertainment   \n",
       "\n",
       "                             cleaned_titles  \\\n",
       "0                                        []   \n",
       "1                               ['revenge']   \n",
       "2      ['use', 'much', 'better', 'release']   \n",
       "3                              ['outsmart']   \n",
       "4                                        []   \n",
       "..                                      ...   \n",
       "244                                 ['kid']   \n",
       "245                                      []   \n",
       "246                 ['apparently', 'ascii']   \n",
       "247    ['cant', 'explain', 'feel', 'right']   \n",
       "248  ['situation', 'apparently', 'serious']   \n",
       "\n",
       "                                      sentiment_scores    neg    neu    pos  \\\n",
       "0    {'neg': 1.0, 'neu': 0.0, 'pos': 0.0, 'compound...  1.000  0.000  0.000   \n",
       "1    {'neg': 1.0, 'neu': 0.0, 'pos': 0.0, 'compound...  1.000  0.000  0.000   \n",
       "2    {'neg': 0.0, 'neu': 0.716, 'pos': 0.284, 'comp...  0.000  0.716  0.284   \n",
       "3    {'neg': 0.0, 'neu': 1.0, 'pos': 0.0, 'compound...  0.000  1.000  0.000   \n",
       "4    {'neg': 0.0, 'neu': 0.0, 'pos': 1.0, 'compound...  0.000  0.000  1.000   \n",
       "..                                                 ...    ...    ...    ...   \n",
       "244  {'neg': 0.0, 'neu': 0.682, 'pos': 0.318, 'comp...  0.000  0.682  0.318   \n",
       "245  {'neg': 0.0, 'neu': 0.218, 'pos': 0.782, 'comp...  0.000  0.218  0.782   \n",
       "246  {'neg': 0.282, 'neu': 0.718, 'pos': 0.0, 'comp...  0.282  0.718  0.000   \n",
       "247  {'neg': 0.0, 'neu': 1.0, 'pos': 0.0, 'compound...  0.000  1.000  0.000   \n",
       "248  {'neg': 0.0, 'neu': 1.0, 'pos': 0.0, 'compound...  0.000  1.000  0.000   \n",
       "\n",
       "     compound  \n",
       "0     -0.5719  \n",
       "1     -0.5267  \n",
       "2      0.4902  \n",
       "3      0.0000  \n",
       "4      0.7650  \n",
       "..        ...  \n",
       "244    0.1027  \n",
       "245    0.5562  \n",
       "246   -0.2411  \n",
       "247    0.0000  \n",
       "248    0.0000  \n",
       "\n",
       "[249 rows x 11 columns]"
      ]
     },
     "execution_count": 6,
     "metadata": {},
     "output_type": "execute_result"
    }
   ],
   "source": [
    "%%time\n",
    "\n",
    "# Perform sentiment analysis using VADER\n",
    "# https://pypi.org/project/vaderSentiment/\n",
    "import nltk\n",
    "nltk.download('vader_lexicon') #downloading vader_lexicon resource required for the SentimentIntensityAnalyzer.\n",
    "from nltk.sentiment.vader import SentimentIntensityAnalyzer\n",
    "\n",
    "\n",
    "# Initialize the SentimentIntensityAnalyzer object\n",
    "sid = SentimentIntensityAnalyzer()\n",
    "\n",
    "T0_df['sentiment_scores'] = T0_df['Title'].apply(lambda x: sid.polarity_scores(x))\n",
    "\n",
    "# Extract sentiment scores into separate columns\n",
    "T0_df[['neg', 'neu', 'pos', 'compound']] = T0_df['sentiment_scores'].apply(pd.Series)\n",
    "\n",
    "T0_df\n"
   ]
  },
  {
   "cell_type": "markdown",
   "id": "45a6fc66-4dd1-4773-8787-e33e05d5569d",
   "metadata": {},
   "source": [
    "#### 📊 Visulization"
   ]
  },
  {
   "cell_type": "code",
   "execution_count": 14,
   "id": "663ba561-d278-45d5-a1f0-c33142d7bc28",
   "metadata": {},
   "outputs": [
    {
     "data": {
      "text/plain": [
       "<seaborn.axisgrid.FacetGrid at 0x7fcfcb9476a0>"
      ]
     },
     "execution_count": 14,
     "metadata": {},
     "output_type": "execute_result"
    },
    {
     "data": {
      "text/plain": [
       "Text(0.5, 1.0, 'Topic 0 Sentiment Scores')"
      ]
     },
     "execution_count": 14,
     "metadata": {},
     "output_type": "execute_result"
    },
    {
     "data": {
      "text/plain": [
       "Text(0.5, 9.444444444444438, 'Compound Score')"
      ]
     },
     "execution_count": 14,
     "metadata": {},
     "output_type": "execute_result"
    },
    {
     "data": {
      "text/plain": [
       "Text(4.944444444444445, 0.5, 'Frequency')"
      ]
     },
     "execution_count": 14,
     "metadata": {},
     "output_type": "execute_result"
    },
    {
     "data": {
      "image/png": "[encoded data removed]",
      "text/plain": [
       "<Figure size 500x500 with 1 Axes>"
      ]
     },
     "metadata": {},
     "output_type": "display_data"
    }
   ],
   "source": [
    "import matplotlib.pyplot as plt\n",
    "import seaborn as sns\n",
    "\n",
    "palette = sns.set_palette(\"viridis\")\n",
    "# Plot histogram of compound sentiment scores with colored bars\n",
    "\n",
    "\n",
    "sns.displot(T0_df['compound'], color= palette, element=\"step\")\n",
    "\n",
    "\n",
    "plt.title('Topic 0 Sentiment Scores')\n",
    "plt.xlabel('Compound Score')\n",
    "plt.ylabel('Frequency')\n",
    "plt.show()\n"
   ]
  },
  {
   "cell_type": "code",
   "execution_count": 29,
   "id": "9d462039-195f-405b-a5d8-7cd6fb84b85c",
   "metadata": {},
   "outputs": [
    {
     "data": {
      "text/plain": [
       "([<matplotlib.patches.Wedge at 0x7fcfa813c850>,\n",
       "  <matplotlib.patches.Wedge at 0x7fcf8824e1c0>,\n",
       "  <matplotlib.patches.Wedge at 0x7fcfa8152c40>],\n",
       " [Text(-0.3364891630477944, 1.0472702818047475, 'Negative'),\n",
       "  Text(-0.04930218246093711, -1.098894578567293, 'Neutral'),\n",
       "  Text(0.3830898190820775, 1.0311363588370168, 'Positive')],\n",
       " [Text(-0.1835395434806151, 0.5712383355298621, '9.9%'),\n",
       "  Text(-0.02689209952414751, -0.599397042854887, '78.8%'),\n",
       "  Text(0.20895808313567862, 0.5624380139111, '11.3%')])"
      ]
     },
     "execution_count": 29,
     "metadata": {},
     "output_type": "execute_result"
    },
    {
     "data": {
      "text/plain": [
       "(-1.1022756699487941,\n",
       " 1.105070288146237,\n",
       " -1.1038076496417628,\n",
       " 1.1001813224800034)"
      ]
     },
     "execution_count": 29,
     "metadata": {},
     "output_type": "execute_result"
    },
    {
     "data": {
      "text/plain": [
       "Text(0.5, 1.0, 'Sentiment Distribution for Topic 0: ChatGPT for Gaming and Entertainment')"
      ]
     },
     "execution_count": 29,
     "metadata": {},
     "output_type": "execute_result"
    },
    {
     "data": {
      "image/png": "[encoded data removed]",
      "text/plain": [
       "<Figure size 640x480 with 1 Axes>"
      ]
     },
     "metadata": {},
     "output_type": "display_data"
    }
   ],
   "source": [
    "# Create data for the pie chart\n",
    "labels = ['Negative', 'Neutral', 'Positive']\n",
    "# average sentiment\n",
    "sizes = [T0_df['neg'].mean(), T0_df['neu'].mean(), T0_df['pos'].mean()]\n",
    "\n",
    "color = palette = sns.set_palette(\"Set1\")\n",
    "\n",
    "# Create the pie chart\n",
    "fig1, ax1 = plt.subplots()\n",
    "ax1.pie(sizes, labels=labels, autopct='%1.1f%%', startangle=90, colors = palette)\n",
    "ax1.axis('equal')\n",
    "\n",
    "# Add a title\n",
    "plt.title('Sentiment Distribution for Topic 0: ChatGPT for Gaming and Entertainment')\n",
    "\n",
    "# Show the chart\n",
    "plt.show()\n"
   ]
  },
  {
   "cell_type": "markdown",
   "id": "b2634bb7-a441-4dee-aa48-4c3bebbf9728",
   "metadata": {
    "jp-MarkdownHeadingCollapsed": true,
    "tags": []
   },
   "source": [
    "### Topic 1"
   ]
  },
  {
   "cell_type": "code",
   "execution_count": 9,
   "id": "806377be-1a6b-4f0a-8e9b-f5a5172028e1",
   "metadata": {},
   "outputs": [
    {
     "name": "stdout",
     "output_type": "stream",
     "text": [
      "CPU times: user 69.3 ms, sys: 3.9 ms, total: 73.2 ms\n",
      "Wall time: 71.1 ms\n"
     ]
    },
    {
     "data": {
      "text/html": [
       "<div>\n",
       "<style scoped>\n",
       "    .dataframe tbody tr th:only-of-type {\n",
       "        vertical-align: middle;\n",
       "    }\n",
       "\n",
       "    .dataframe tbody tr th {\n",
       "        vertical-align: top;\n",
       "    }\n",
       "\n",
       "    .dataframe thead th {\n",
       "        text-align: right;\n",
       "    }\n",
       "</style>\n",
       "<table border=\"1\" class=\"dataframe\">\n",
       "  <thead>\n",
       "    <tr style=\"text-align: right;\">\n",
       "      <th></th>\n",
       "      <th>Dominant_Topic</th>\n",
       "      <th>Perc_Contribution</th>\n",
       "      <th>Top_Keywords</th>\n",
       "      <th>Title</th>\n",
       "      <th>Topic_Name</th>\n",
       "      <th>cleaned_titles</th>\n",
       "      <th>sentiment_scores</th>\n",
       "      <th>neg</th>\n",
       "      <th>neu</th>\n",
       "      <th>pos</th>\n",
       "      <th>compound</th>\n",
       "    </tr>\n",
       "  </thead>\n",
       "  <tbody>\n",
       "    <tr>\n",
       "      <th>0</th>\n",
       "      <td>1</td>\n",
       "      <td>0.5538</td>\n",
       "      <td>write, dont, get, openai, come, even, need, re...</td>\n",
       "      <td>ChatGPT doomers in a nutshell</td>\n",
       "      <td>ChatGPT Applications and Implications</td>\n",
       "      <td>['doomers', 'nutshell']</td>\n",
       "      <td>{'neg': 0.0, 'neu': 1.0, 'pos': 0.0, 'compound...</td>\n",
       "      <td>0.000</td>\n",
       "      <td>1.000</td>\n",
       "      <td>0.000</td>\n",
       "      <td>0.0000</td>\n",
       "    </tr>\n",
       "    <tr>\n",
       "      <th>1</th>\n",
       "      <td>1</td>\n",
       "      <td>0.5364</td>\n",
       "      <td>write, dont, get, openai, come, even, need, re...</td>\n",
       "      <td>ChatGPT plays hangman on a whole other level</td>\n",
       "      <td>ChatGPT Applications and Implications</td>\n",
       "      <td>['play', 'hangman', 'whole', 'level']</td>\n",
       "      <td>{'neg': 0.0, 'neu': 0.75, 'pos': 0.25, 'compou...</td>\n",
       "      <td>0.000</td>\n",
       "      <td>0.750</td>\n",
       "      <td>0.250</td>\n",
       "      <td>0.2500</td>\n",
       "    </tr>\n",
       "    <tr>\n",
       "      <th>2</th>\n",
       "      <td>1</td>\n",
       "      <td>0.4616</td>\n",
       "      <td>write, dont, get, openai, come, even, need, re...</td>\n",
       "      <td>An example of using ChatGPT for school without...</td>\n",
       "      <td>ChatGPT Applications and Implications</td>\n",
       "      <td>['example', 'use', 'school', 'without', 'cheat']</td>\n",
       "      <td>{'neg': 0.0, 'neu': 0.713, 'pos': 0.287, 'comp...</td>\n",
       "      <td>0.000</td>\n",
       "      <td>0.713</td>\n",
       "      <td>0.287</td>\n",
       "      <td>0.4966</td>\n",
       "    </tr>\n",
       "    <tr>\n",
       "      <th>3</th>\n",
       "      <td>1</td>\n",
       "      <td>0.3141</td>\n",
       "      <td>write, dont, get, openai, come, even, need, re...</td>\n",
       "      <td>ChatGPT getting more and more limited by the day.</td>\n",
       "      <td>ChatGPT Applications and Implications</td>\n",
       "      <td>['get', 'limit']</td>\n",
       "      <td>{'neg': 0.235, 'neu': 0.765, 'pos': 0.0, 'comp...</td>\n",
       "      <td>0.235</td>\n",
       "      <td>0.765</td>\n",
       "      <td>0.000</td>\n",
       "      <td>-0.3520</td>\n",
       "    </tr>\n",
       "    <tr>\n",
       "      <th>4</th>\n",
       "      <td>1</td>\n",
       "      <td>0.4468</td>\n",
       "      <td>write, dont, get, openai, come, even, need, re...</td>\n",
       "      <td>I don’t know what I expected</td>\n",
       "      <td>ChatGPT Applications and Implications</td>\n",
       "      <td>['dont', 'know', 'expect']</td>\n",
       "      <td>{'neg': 0.0, 'neu': 1.0, 'pos': 0.0, 'compound...</td>\n",
       "      <td>0.000</td>\n",
       "      <td>1.000</td>\n",
       "      <td>0.000</td>\n",
       "      <td>0.0000</td>\n",
       "    </tr>\n",
       "    <tr>\n",
       "      <th>...</th>\n",
       "      <td>...</td>\n",
       "      <td>...</td>\n",
       "      <td>...</td>\n",
       "      <td>...</td>\n",
       "      <td>...</td>\n",
       "      <td>...</td>\n",
       "      <td>...</td>\n",
       "      <td>...</td>\n",
       "      <td>...</td>\n",
       "      <td>...</td>\n",
       "      <td>...</td>\n",
       "    </tr>\n",
       "    <tr>\n",
       "      <th>116</th>\n",
       "      <td>1</td>\n",
       "      <td>0.6332</td>\n",
       "      <td>write, dont, get, openai, come, even, need, re...</td>\n",
       "      <td>ChatGPT correctly identified a NY Times Op-ed ...</td>\n",
       "      <td>ChatGPT Applications and Implications</td>\n",
       "      <td>['correctly', 'identify', 'time', 'oped', 'pau...</td>\n",
       "      <td>{'neg': 0.0, 'neu': 1.0, 'pos': 0.0, 'compound...</td>\n",
       "      <td>0.000</td>\n",
       "      <td>1.000</td>\n",
       "      <td>0.000</td>\n",
       "      <td>0.0000</td>\n",
       "    </tr>\n",
       "    <tr>\n",
       "      <th>117</th>\n",
       "      <td>1</td>\n",
       "      <td>0.5539</td>\n",
       "      <td>write, dont, get, openai, come, even, need, re...</td>\n",
       "      <td>Clear example of ChatGPT bias</td>\n",
       "      <td>ChatGPT Applications and Implications</td>\n",
       "      <td>['clear', 'example', 'bias']</td>\n",
       "      <td>{'neg': 0.2, 'neu': 0.429, 'pos': 0.371, 'comp...</td>\n",
       "      <td>0.200</td>\n",
       "      <td>0.429</td>\n",
       "      <td>0.371</td>\n",
       "      <td>0.2960</td>\n",
       "    </tr>\n",
       "    <tr>\n",
       "      <th>118</th>\n",
       "      <td>1</td>\n",
       "      <td>0.4132</td>\n",
       "      <td>write, dont, get, openai, come, even, need, re...</td>\n",
       "      <td>Ai is coming for r/memes now!</td>\n",
       "      <td>ChatGPT Applications and Implications</td>\n",
       "      <td>['come', 'rmemes']</td>\n",
       "      <td>{'neg': 0.0, 'neu': 1.0, 'pos': 0.0, 'compound...</td>\n",
       "      <td>0.000</td>\n",
       "      <td>1.000</td>\n",
       "      <td>0.000</td>\n",
       "      <td>0.0000</td>\n",
       "    </tr>\n",
       "    <tr>\n",
       "      <th>119</th>\n",
       "      <td>1</td>\n",
       "      <td>0.3141</td>\n",
       "      <td>write, dont, get, openai, come, even, need, re...</td>\n",
       "      <td>Oh, THAT'S what she was saying...</td>\n",
       "      <td>ChatGPT Applications and Implications</td>\n",
       "      <td>['thats', 'say']</td>\n",
       "      <td>{'neg': 0.0, 'neu': 1.0, 'pos': 0.0, 'compound...</td>\n",
       "      <td>0.000</td>\n",
       "      <td>1.000</td>\n",
       "      <td>0.000</td>\n",
       "      <td>0.0000</td>\n",
       "    </tr>\n",
       "    <tr>\n",
       "      <th>120</th>\n",
       "      <td>1</td>\n",
       "      <td>0.4132</td>\n",
       "      <td>write, dont, get, openai, come, even, need, re...</td>\n",
       "      <td>Don't be a brat</td>\n",
       "      <td>ChatGPT Applications and Implications</td>\n",
       "      <td>['dont', 'brat']</td>\n",
       "      <td>{'neg': 0.0, 'neu': 1.0, 'pos': 0.0, 'compound...</td>\n",
       "      <td>0.000</td>\n",
       "      <td>1.000</td>\n",
       "      <td>0.000</td>\n",
       "      <td>0.0000</td>\n",
       "    </tr>\n",
       "  </tbody>\n",
       "</table>\n",
       "<p>121 rows × 11 columns</p>\n",
       "</div>"
      ],
      "text/plain": [
       "     Dominant_Topic  Perc_Contribution  \\\n",
       "0                 1             0.5538   \n",
       "1                 1             0.5364   \n",
       "2                 1             0.4616   \n",
       "3                 1             0.3141   \n",
       "4                 1             0.4468   \n",
       "..              ...                ...   \n",
       "116               1             0.6332   \n",
       "117               1             0.5539   \n",
       "118               1             0.4132   \n",
       "119               1             0.3141   \n",
       "120               1             0.4132   \n",
       "\n",
       "                                          Top_Keywords  \\\n",
       "0    write, dont, get, openai, come, even, need, re...   \n",
       "1    write, dont, get, openai, come, even, need, re...   \n",
       "2    write, dont, get, openai, come, even, need, re...   \n",
       "3    write, dont, get, openai, come, even, need, re...   \n",
       "4    write, dont, get, openai, come, even, need, re...   \n",
       "..                                                 ...   \n",
       "116  write, dont, get, openai, come, even, need, re...   \n",
       "117  write, dont, get, openai, come, even, need, re...   \n",
       "118  write, dont, get, openai, come, even, need, re...   \n",
       "119  write, dont, get, openai, come, even, need, re...   \n",
       "120  write, dont, get, openai, come, even, need, re...   \n",
       "\n",
       "                                                 Title  \\\n",
       "0                        ChatGPT doomers in a nutshell   \n",
       "1         ChatGPT plays hangman on a whole other level   \n",
       "2    An example of using ChatGPT for school without...   \n",
       "3    ChatGPT getting more and more limited by the day.   \n",
       "4                         I don’t know what I expected   \n",
       "..                                                 ...   \n",
       "116  ChatGPT correctly identified a NY Times Op-ed ...   \n",
       "117                      Clear example of ChatGPT bias   \n",
       "118                      Ai is coming for r/memes now!   \n",
       "119                  Oh, THAT'S what she was saying...   \n",
       "120                                    Don't be a brat   \n",
       "\n",
       "                                Topic_Name  \\\n",
       "0    ChatGPT Applications and Implications   \n",
       "1    ChatGPT Applications and Implications   \n",
       "2    ChatGPT Applications and Implications   \n",
       "3    ChatGPT Applications and Implications   \n",
       "4    ChatGPT Applications and Implications   \n",
       "..                                     ...   \n",
       "116  ChatGPT Applications and Implications   \n",
       "117  ChatGPT Applications and Implications   \n",
       "118  ChatGPT Applications and Implications   \n",
       "119  ChatGPT Applications and Implications   \n",
       "120  ChatGPT Applications and Implications   \n",
       "\n",
       "                                        cleaned_titles  \\\n",
       "0                              ['doomers', 'nutshell']   \n",
       "1                ['play', 'hangman', 'whole', 'level']   \n",
       "2     ['example', 'use', 'school', 'without', 'cheat']   \n",
       "3                                     ['get', 'limit']   \n",
       "4                           ['dont', 'know', 'expect']   \n",
       "..                                                 ...   \n",
       "116  ['correctly', 'identify', 'time', 'oped', 'pau...   \n",
       "117                       ['clear', 'example', 'bias']   \n",
       "118                                 ['come', 'rmemes']   \n",
       "119                                   ['thats', 'say']   \n",
       "120                                   ['dont', 'brat']   \n",
       "\n",
       "                                      sentiment_scores    neg    neu    pos  \\\n",
       "0    {'neg': 0.0, 'neu': 1.0, 'pos': 0.0, 'compound...  0.000  1.000  0.000   \n",
       "1    {'neg': 0.0, 'neu': 0.75, 'pos': 0.25, 'compou...  0.000  0.750  0.250   \n",
       "2    {'neg': 0.0, 'neu': 0.713, 'pos': 0.287, 'comp...  0.000  0.713  0.287   \n",
       "3    {'neg': 0.235, 'neu': 0.765, 'pos': 0.0, 'comp...  0.235  0.765  0.000   \n",
       "4    {'neg': 0.0, 'neu': 1.0, 'pos': 0.0, 'compound...  0.000  1.000  0.000   \n",
       "..                                                 ...    ...    ...    ...   \n",
       "116  {'neg': 0.0, 'neu': 1.0, 'pos': 0.0, 'compound...  0.000  1.000  0.000   \n",
       "117  {'neg': 0.2, 'neu': 0.429, 'pos': 0.371, 'comp...  0.200  0.429  0.371   \n",
       "118  {'neg': 0.0, 'neu': 1.0, 'pos': 0.0, 'compound...  0.000  1.000  0.000   \n",
       "119  {'neg': 0.0, 'neu': 1.0, 'pos': 0.0, 'compound...  0.000  1.000  0.000   \n",
       "120  {'neg': 0.0, 'neu': 1.0, 'pos': 0.0, 'compound...  0.000  1.000  0.000   \n",
       "\n",
       "     compound  \n",
       "0      0.0000  \n",
       "1      0.2500  \n",
       "2      0.4966  \n",
       "3     -0.3520  \n",
       "4      0.0000  \n",
       "..        ...  \n",
       "116    0.0000  \n",
       "117    0.2960  \n",
       "118    0.0000  \n",
       "119    0.0000  \n",
       "120    0.0000  \n",
       "\n",
       "[121 rows x 11 columns]"
      ]
     },
     "execution_count": 9,
     "metadata": {},
     "output_type": "execute_result"
    }
   ],
   "source": [
    "%%time\n",
    "\n",
    "# Initialize the SentimentIntensityAnalyzer object\n",
    "sid = SentimentIntensityAnalyzer()\n",
    "\n",
    "T1_df['sentiment_scores'] = T1_df['Title'].apply(lambda x: sid.polarity_scores(x))\n",
    "\n",
    "# Extract sentiment scores into separate columns\n",
    "T1_df[['neg', 'neu', 'pos', 'compound']] = T1_df['sentiment_scores'].apply(pd.Series)\n",
    "\n",
    "T1_df"
   ]
  },
  {
   "cell_type": "markdown",
   "id": "ae253c6b-7193-4a8f-8138-a07a36805c40",
   "metadata": {},
   "source": [
    "#### 📊 Visulization"
   ]
  },
  {
   "cell_type": "code",
   "execution_count": 17,
   "id": "65d88b5a-9963-49de-b5e0-b2e9693c4d2d",
   "metadata": {},
   "outputs": [
    {
     "data": {
      "text/plain": [
       "<seaborn.axisgrid.FacetGrid at 0x7fcf981d2a90>"
      ]
     },
     "execution_count": 17,
     "metadata": {},
     "output_type": "execute_result"
    },
    {
     "data": {
      "text/plain": [
       "Text(0.5, 1.0, 'Topic 1 Sentiment Scores')"
      ]
     },
     "execution_count": 17,
     "metadata": {},
     "output_type": "execute_result"
    },
    {
     "data": {
      "text/plain": [
       "Text(0.5, 9.444444444444438, 'Compound Score')"
      ]
     },
     "execution_count": 17,
     "metadata": {},
     "output_type": "execute_result"
    },
    {
     "data": {
      "text/plain": [
       "Text(13.819444444444445, 0.5, 'Frequency')"
      ]
     },
     "execution_count": 17,
     "metadata": {},
     "output_type": "execute_result"
    },
    {
     "data": {
      "image/png": "[encoded data removed]",
      "text/plain": [
       "<Figure size 500x500 with 1 Axes>"
      ]
     },
     "metadata": {},
     "output_type": "display_data"
    }
   ],
   "source": [
    "import matplotlib.pyplot as plt\n",
    "import seaborn as sns\n",
    "\n",
    "palette = sns.set_palette(\"viridis\")\n",
    "# Plot histogram of compound sentiment scores with colored bars\n",
    "\n",
    "\n",
    "sns.displot(T1_df['compound'], color= palette, element=\"step\")\n",
    "\n",
    "\n",
    "plt.title('Topic 1 Sentiment Scores')\n",
    "plt.xlabel('Compound Score')\n",
    "plt.ylabel('Frequency')\n",
    "plt.show()\n"
   ]
  },
  {
   "cell_type": "code",
   "execution_count": 30,
   "id": "d6e6e330-18a4-431b-82b0-a783bc6776c1",
   "metadata": {},
   "outputs": [
    {
     "data": {
      "text/plain": [
       "([<matplotlib.patches.Wedge at 0x7fcf8822a160>,\n",
       "  <matplotlib.patches.Wedge at 0x7fcfcb936970>,\n",
       "  <matplotlib.patches.Wedge at 0x7fcfa0140970>],\n",
       " [Text(-0.28731162341935773, 1.0618154411422605, 'Negative'),\n",
       "  Text(0.008710652196096938, -1.0999655106130914, 'Neutral'),\n",
       "  Text(0.27889436268361756, 1.0640572984869279, 'Positive')],\n",
       " [Text(-0.15671543095601329, 0.5791720588048693, '8.4%'),\n",
       "  Text(0.0047512648342346924, -0.5999811876071407, '83.4%'),\n",
       "  Text(0.15212419782742773, 0.5803948900837788, '8.2%')])"
      ]
     },
     "execution_count": 30,
     "metadata": {},
     "output_type": "execute_result"
    },
    {
     "data": {
      "text/plain": [
       "(-1.1052409879699598,\n",
       " 1.1059050235982604,\n",
       " -1.100877138988138,\n",
       " 1.1000417685232446)"
      ]
     },
     "execution_count": 30,
     "metadata": {},
     "output_type": "execute_result"
    },
    {
     "data": {
      "text/plain": [
       "Text(0.5, 1.0, 'Sentiment Distribution for Topic 1: ChatGPT Applications and Implications')"
      ]
     },
     "execution_count": 30,
     "metadata": {},
     "output_type": "execute_result"
    },
    {
     "data": {
      "image/png": "[encoded data removed]",
      "text/plain": [
       "<Figure size 640x480 with 1 Axes>"
      ]
     },
     "metadata": {},
     "output_type": "display_data"
    }
   ],
   "source": [
    "# Create data for the pie chart\n",
    "labels = ['Negative', 'Neutral', 'Positive']\n",
    "# average sentiment\n",
    "sizes = [T1_df['neg'].mean(), T1_df['neu'].mean(), T1_df['pos'].mean()]\n",
    "\n",
    "color = palette = sns.set_palette(\"Set1\")\n",
    "\n",
    "# Create the pie chart\n",
    "fig1, ax1 = plt.subplots()\n",
    "ax1.pie(sizes, labels=labels, autopct='%1.1f%%', startangle=90, colors = palette)\n",
    "ax1.axis('equal')\n",
    "\n",
    "# Add a title\n",
    "plt.title('Sentiment Distribution for Topic 1: ChatGPT Applications and Implications')\n",
    "\n",
    "# Show the chart\n",
    "plt.show()\n"
   ]
  },
  {
   "cell_type": "code",
   "execution_count": 19,
   "id": "ea38b412-8b2d-4a03-88aa-03e9fd1ba900",
   "metadata": {},
   "outputs": [
    {
     "data": {
      "image/png": "[encoded data removed]",
      "text/plain": [
       "<Figure size 500x500 with 1 Axes>"
      ]
     },
     "metadata": {},
     "output_type": "display_data"
    },
    {
     "name": "stdout",
     "output_type": "stream",
     "text": [
      "CPU times: user 149 ms, sys: 4.61 ms, total: 154 ms\n",
      "Wall time: 154 ms\n"
     ]
    }
   ],
   "source": [
    "%%time\n",
    "\n",
    "# Initialize the SentimentIntensityAnalyzer object\n",
    "sid = SentimentIntensityAnalyzer()\n",
    "\n",
    "T2_df['sentiment_scores'] = T2_df['Title'].apply(lambda x: sid.polarity_scores(x))\n",
    "\n",
    "# Extract sentiment scores into separate columns\n",
    "T2_df[['neg', 'neu', 'pos', 'compound']] = T2_df['sentiment_scores'].apply(pd.Series)\n",
    "\n",
    "\n",
    "\n",
    "palette = sns.set_palette(\"viridis\")\n",
    "# Plot histogram of compound sentiment scores with colored bars\n",
    "\n",
    "\n",
    "sns.displot(T2_df['compound'], color= palette, element=\"step\")\n",
    "\n",
    "\n",
    "plt.title('Topic 2 Sentiment Scores')\n",
    "plt.xlabel('Compound Score')\n",
    "plt.ylabel('Frequency')\n",
    "plt.show()"
   ]
  },
  {
   "cell_type": "code",
   "execution_count": 31,
   "id": "203c625e-d6d0-4400-8a06-847bb25d89ec",
   "metadata": {},
   "outputs": [
    {
     "data": {
      "text/plain": [
       "([<matplotlib.patches.Wedge at 0x7fcfcb93cd90>,\n",
       "  <matplotlib.patches.Wedge at 0x7fcfcb956100>,\n",
       "  <matplotlib.patches.Wedge at 0x7fcfcb956d60>],\n",
       " [Text(-0.22025074785094956, 1.077724272748414, 'Negative'),\n",
       "  Text(-0.09359739148586503, -1.0960107336641562, 'Neutral'),\n",
       "  Text(0.3111538441686194, 1.0550750140435943, 'Positive')],\n",
       " [Text(-0.12013677155506339, 0.5878496033173166, '6.4%'),\n",
       "  Text(-0.05105312262865365, -0.5978240365440851, '84.5%'),\n",
       "  Text(0.16972027863742875, 0.5754954622055969, '9.1%')])"
      ]
     },
     "execution_count": 31,
     "metadata": {},
     "output_type": "execute_result"
    },
    {
     "data": {
      "text/plain": [
       "(-1.1051889584327899,\n",
       " 1.1005084173628614,\n",
       " -1.106091582129493,\n",
       " 1.1002900988204674)"
      ]
     },
     "execution_count": 31,
     "metadata": {},
     "output_type": "execute_result"
    },
    {
     "data": {
      "text/plain": [
       "Text(0.5, 1.0, 'Sentiment Distribution for Topic 2: AI Interactions and Limitations')"
      ]
     },
     "execution_count": 31,
     "metadata": {},
     "output_type": "execute_result"
    },
    {
     "data": {
      "image/png": "[encoded data removed]",
      "text/plain": [
       "<Figure size 640x480 with 1 Axes>"
      ]
     },
     "metadata": {},
     "output_type": "display_data"
    }
   ],
   "source": [
    "# Create data for the pie chart\n",
    "labels = ['Negative', 'Neutral', 'Positive']\n",
    "# average sentiment\n",
    "sizes = [T2_df['neg'].mean(), T2_df['neu'].mean(), T2_df['pos'].mean()]\n",
    "\n",
    "color = palette = sns.set_palette(\"Set1\")\n",
    "\n",
    "# Create the pie chart\n",
    "fig1, ax1 = plt.subplots()\n",
    "ax1.pie(sizes, labels=labels, autopct='%1.1f%%', startangle=90, colors = palette)\n",
    "ax1.axis('equal')\n",
    "\n",
    "# Add a title\n",
    "plt.title('Sentiment Distribution for Topic 2: AI Interactions and Limitations')\n",
    "\n",
    "# Show the chart\n",
    "plt.show()\n"
   ]
  },
  {
   "cell_type": "code",
   "execution_count": 21,
   "id": "f603d1c8-42ab-4824-a92b-3230bc27aa21",
   "metadata": {},
   "outputs": [
    {
     "data": {
      "image/png": "[encoded data removed]",
      "text/plain": [
       "<Figure size 500x500 with 1 Axes>"
      ]
     },
     "metadata": {},
     "output_type": "display_data"
    },
    {
     "name": "stdout",
     "output_type": "stream",
     "text": [
      "CPU times: user 152 ms, sys: 3.96 ms, total: 156 ms\n",
      "Wall time: 155 ms\n"
     ]
    }
   ],
   "source": [
    "%%time\n",
    "\n",
    "# Initialize the SentimentIntensityAnalyzer object\n",
    "sid = SentimentIntensityAnalyzer()\n",
    "\n",
    "T3_df['sentiment_scores'] = T3_df['Title'].apply(lambda x: sid.polarity_scores(x))\n",
    "\n",
    "# Extract sentiment scores into separate columns\n",
    "T3_df[['neg', 'neu', 'pos', 'compound']] = T3_df['sentiment_scores'].apply(pd.Series)\n",
    "\n",
    "\n",
    "\n",
    "palette = sns.set_palette(\"viridis\")\n",
    "# Plot histogram of compound sentiment scores with colored bars\n",
    "\n",
    "\n",
    "sns.displot(T3_df['compound'], color= palette, element=\"step\")\n",
    "\n",
    "\n",
    "plt.title('Topic 3 Sentiment Scores')\n",
    "plt.xlabel('Compound Score')\n",
    "plt.ylabel('Frequency')\n",
    "plt.show()"
   ]
  },
  {
   "cell_type": "code",
   "execution_count": 32,
   "id": "53b33846-1f5d-47a1-916c-432242e08088",
   "metadata": {},
   "outputs": [
    {
     "data": {
      "text/plain": [
       "([<matplotlib.patches.Wedge at 0x7fcfdc7198e0>,\n",
       "  <matplotlib.patches.Wedge at 0x7fcfdc1623d0>,\n",
       "  <matplotlib.patches.Wedge at 0x7fcf88240790>],\n",
       " [Text(-0.23144599988790776, 1.075375631645002, 'Negative'),\n",
       "  Text(-0.3396314266410154, -1.0462554630862335, 'Neutral'),\n",
       "  Text(0.5521664320262246, 0.9513738651778431, 'Positive')],\n",
       " [Text(-0.1262432726661315, 0.5865685263518192, '6.7%'),\n",
       "  Text(-0.18525350544055383, -0.5706847980470363, '76.5%'),\n",
       "  Text(0.30118169019612245, 0.5189311991879143, '16.7%')])"
      ]
     },
     "execution_count": 32,
     "metadata": {},
     "output_type": "execute_result"
    },
    {
     "data": {
      "text/plain": [
       "(-1.1044492657134934,\n",
       " 1.1052998672449577,\n",
       " -1.1013192197883632,\n",
       " 1.100062819989922)"
      ]
     },
     "execution_count": 32,
     "metadata": {},
     "output_type": "execute_result"
    },
    {
     "data": {
      "text/plain": [
       "Text(0.5, 1.0, 'Sentiment Distribution for Topic 3: Language and Communication')"
      ]
     },
     "execution_count": 32,
     "metadata": {},
     "output_type": "execute_result"
    },
    {
     "data": {
      "image/png": "[encoded data removed]",
      "text/plain": [
       "<Figure size 640x480 with 1 Axes>"
      ]
     },
     "metadata": {},
     "output_type": "display_data"
    }
   ],
   "source": [
    "# Create data for the pie chart\n",
    "labels = ['Negative', 'Neutral', 'Positive']\n",
    "# average sentiment\n",
    "sizes = [T3_df['neg'].mean(), T3_df['neu'].mean(), T3_df['pos'].mean()]\n",
    "\n",
    "color = palette = sns.set_palette(\"Set1\")\n",
    "\n",
    "# Create the pie chart\n",
    "fig1, ax1 = plt.subplots()\n",
    "ax1.pie(sizes, labels=labels, autopct='%1.1f%%', startangle=90, colors = palette)\n",
    "ax1.axis('equal')\n",
    "\n",
    "# Add a title\n",
    "plt.title('Sentiment Distribution for Topic 3: Language and Communication')\n",
    "\n",
    "# Show the chart\n",
    "plt.show()\n"
   ]
  },
  {
   "cell_type": "code",
   "execution_count": 23,
   "id": "073532f9-4575-4382-b489-da44d97c95da",
   "metadata": {},
   "outputs": [
    {
     "data": {
      "image/png": "[encoded data removed]",
      "text/plain": [
       "<Figure size 500x500 with 1 Axes>"
      ]
     },
     "metadata": {},
     "output_type": "display_data"
    },
    {
     "name": "stdout",
     "output_type": "stream",
     "text": [
      "CPU times: user 142 ms, sys: 4.94 ms, total: 147 ms\n",
      "Wall time: 146 ms\n"
     ]
    }
   ],
   "source": [
    "%%time\n",
    "\n",
    "# Initialize the SentimentIntensityAnalyzer object\n",
    "sid = SentimentIntensityAnalyzer()\n",
    "\n",
    "T4_df['sentiment_scores'] = T4_df['Title'].apply(lambda x: sid.polarity_scores(x))\n",
    "\n",
    "# Extract sentiment scores into separate columns\n",
    "T4_df[['neg', 'neu', 'pos', 'compound']] = T4_df['sentiment_scores'].apply(pd.Series)\n",
    "\n",
    "\n",
    "\n",
    "palette = sns.set_palette(\"viridis\")\n",
    "# Plot histogram of compound sentiment scores with colored bars\n",
    "\n",
    "\n",
    "sns.displot(T4_df['compound'], color= palette, element=\"step\")\n",
    "\n",
    "\n",
    "plt.title('Topic 4 Sentiment Scores')\n",
    "plt.xlabel('Compound Score')\n",
    "plt.ylabel('Frequency')\n",
    "plt.show()"
   ]
  },
  {
   "cell_type": "code",
   "execution_count": 33,
   "id": "e07216e4-3d32-42c3-8d5c-baa91b8310db",
   "metadata": {},
   "outputs": [
    {
     "data": {
      "text/plain": [
       "([<matplotlib.patches.Wedge at 0x7fcfa814dc10>,\n",
       "  <matplotlib.patches.Wedge at 0x7fcf88243bb0>,\n",
       "  <matplotlib.patches.Wedge at 0x7fcfcb92f310>],\n",
       " [Text(-0.4081867164444831, 1.0214615041783373, 'Negative'),\n",
       "  Text(0.13964908254722497, -1.091099506802069, 'Neutral'),\n",
       "  Text(0.2752056775855136, 1.0650172932984225, 'Positive')],\n",
       " [Text(-0.22264729987880896, 0.5571608204609112, '12.1%'),\n",
       "  Text(0.07617222684394089, -0.5951451855284012, '79.8%'),\n",
       "  Text(0.15011218777391652, 0.5809185236173213, '8.0%')])"
      ]
     },
     "execution_count": 33,
     "metadata": {},
     "output_type": "execute_result"
    },
    {
     "data": {
      "text/plain": [
       "(-1.1056529251351486,\n",
       " 1.105789159388005,\n",
       " -1.1054655978067556,\n",
       " 1.1002602665622265)"
      ]
     },
     "execution_count": 33,
     "metadata": {},
     "output_type": "execute_result"
    },
    {
     "data": {
      "text/plain": [
       "Text(0.5, 1.0, 'Sentiment Distribution for Topic 4: User Experience')"
      ]
     },
     "execution_count": 33,
     "metadata": {},
     "output_type": "execute_result"
    },
    {
     "data": {
      "image/png": "[encoded data removed]",
      "text/plain": [
       "<Figure size 640x480 with 1 Axes>"
      ]
     },
     "metadata": {},
     "output_type": "display_data"
    }
   ],
   "source": [
    "# Create data for the pie chart\n",
    "labels = ['Negative', 'Neutral', 'Positive']\n",
    "# average sentiment\n",
    "sizes = [T4_df['neg'].mean(), T4_df['neu'].mean(), T4_df['pos'].mean()]\n",
    "\n",
    "color = palette = sns.set_palette(\"Set1\")\n",
    "\n",
    "# Create the pie chart\n",
    "fig1, ax1 = plt.subplots()\n",
    "ax1.pie(sizes, labels=labels, autopct='%1.1f%%', startangle=90, colors = palette)\n",
    "ax1.axis('equal')\n",
    "\n",
    "# Add a title\n",
    "plt.title('Sentiment Distribution for Topic 4: User Experience')\n",
    "\n",
    "# Show the chart\n",
    "plt.show()\n"
   ]
  },
  {
   "cell_type": "code",
   "execution_count": 25,
   "id": "734c8752-df6b-4724-8d42-47e7ed3fd516",
   "metadata": {},
   "outputs": [
    {
     "data": {
      "image/png": "[encoded data removed]",
      "text/plain": [
       "<Figure size 500x500 with 1 Axes>"
      ]
     },
     "metadata": {},
     "output_type": "display_data"
    },
    {
     "name": "stdout",
     "output_type": "stream",
     "text": [
      "CPU times: user 156 ms, sys: 5.63 ms, total: 162 ms\n",
      "Wall time: 161 ms\n"
     ]
    }
   ],
   "source": [
    "%%time\n",
    "\n",
    "# Initialize the SentimentIntensityAnalyzer object\n",
    "sid = SentimentIntensityAnalyzer()\n",
    "\n",
    "T5_df['sentiment_scores'] = T5_df['Title'].apply(lambda x: sid.polarity_scores(x))\n",
    "\n",
    "# Extract sentiment scores into separate columns\n",
    "T5_df[['neg', 'neu', 'pos', 'compound']] = T5_df['sentiment_scores'].apply(pd.Series)\n",
    "\n",
    "\n",
    "\n",
    "palette = sns.set_palette(\"viridis\")\n",
    "# Plot histogram of compound sentiment scores with colored bars\n",
    "\n",
    "\n",
    "sns.displot(T5_df['compound'], color= palette, element=\"step\")\n",
    "\n",
    "\n",
    "plt.title('Topic 5 Sentiment Scores')\n",
    "plt.xlabel('Compound Score')\n",
    "plt.ylabel('Frequency')\n",
    "plt.show()"
   ]
  },
  {
   "cell_type": "code",
   "execution_count": 34,
   "id": "336b3099-b7bf-460d-b527-a7be55576cb2",
   "metadata": {},
   "outputs": [
    {
     "data": {
      "text/plain": [
       "([<matplotlib.patches.Wedge at 0x7fcf9837f670>,\n",
       "  <matplotlib.patches.Wedge at 0x7fcf98345490>,\n",
       "  <matplotlib.patches.Wedge at 0x7fcf98345b50>],\n",
       " [Text(-0.18400958126439004, 1.084500103274732, 'Negative'),\n",
       "  Text(-0.3491943932917155, -1.0431027157924722, 'Neutral'),\n",
       "  Text(0.5187657154532685, 0.9699907898893981, 'Positive')],\n",
       " [Text(-0.1003688625078491, 0.5915455108771264, '5.3%'),\n",
       "  Text(-0.19046966906820842, -0.5689651177049847, '79.0%'),\n",
       "  Text(0.28296311751996467, 0.5290858853942171, '15.6%')])"
      ]
     },
     "execution_count": 34,
     "metadata": {},
     "output_type": "execute_result"
    },
    {
     "data": {
      "text/plain": [
       "(-1.100830791006249,\n",
       " 1.1029790775290724,\n",
       " -1.1013008922588585,\n",
       " 1.1000619472504218)"
      ]
     },
     "execution_count": 34,
     "metadata": {},
     "output_type": "execute_result"
    },
    {
     "data": {
      "text/plain": [
       "Text(0.5, 1.0, 'Sentiment Distribution for Topic 5: ChatGPT and Bard')"
      ]
     },
     "execution_count": 34,
     "metadata": {},
     "output_type": "execute_result"
    },
    {
     "data": {
      "image/png": "[encoded data removed]",
      "text/plain": [
       "<Figure size 640x480 with 1 Axes>"
      ]
     },
     "metadata": {},
     "output_type": "display_data"
    }
   ],
   "source": [
    "# Create data for the pie chart\n",
    "labels = ['Negative', 'Neutral', 'Positive']\n",
    "# average sentiment\n",
    "sizes = [T5_df['neg'].mean(), T5_df['neu'].mean(), T5_df['pos'].mean()]\n",
    "\n",
    "color = palette = sns.set_palette(\"Set1\")\n",
    "\n",
    "# Create the pie chart\n",
    "fig1, ax1 = plt.subplots()\n",
    "ax1.pie(sizes, labels=labels, autopct='%1.1f%%', startangle=90, colors = palette)\n",
    "ax1.axis('equal')\n",
    "\n",
    "# Add a title\n",
    "plt.title('Sentiment Distribution for Topic 5: ChatGPT and Bard')\n",
    "\n",
    "# Show the chart\n",
    "plt.show()\n"
   ]
  },
  {
   "cell_type": "code",
   "execution_count": 27,
   "id": "a3d4c629-2f53-4715-914c-bb6671b03451",
   "metadata": {},
   "outputs": [
    {
     "data": {
      "image/png": "[encoded data removed]",
      "text/plain": [
       "<Figure size 500x500 with 1 Axes>"
      ]
     },
     "metadata": {},
     "output_type": "display_data"
    },
    {
     "name": "stdout",
     "output_type": "stream",
     "text": [
      "CPU times: user 234 ms, sys: 8.53 ms, total: 243 ms\n",
      "Wall time: 243 ms\n"
     ]
    }
   ],
   "source": [
    "%%time\n",
    "\n",
    "# Initialize the SentimentIntensityAnalyzer object\n",
    "sid = SentimentIntensityAnalyzer()\n",
    "\n",
    "T6_df['sentiment_scores'] = T6_df['Title'].apply(lambda x: sid.polarity_scores(x))\n",
    "\n",
    "# Extract sentiment scores into separate columns\n",
    "T6_df[['neg', 'neu', 'pos', 'compound']] = T6_df['sentiment_scores'].apply(pd.Series)\n",
    "\n",
    "\n",
    "\n",
    "palette = sns.set_palette(\"viridis\")\n",
    "# Plot histogram of compound sentiment scores with colored bars\n",
    "\n",
    "\n",
    "sns.displot(T6_df['compound'], color= palette, element=\"step\")\n",
    "\n",
    "\n",
    "plt.title('Topic 6 Sentiment Scores')\n",
    "plt.xlabel('Compound Score')\n",
    "plt.ylabel('Frequency')\n",
    "plt.show()"
   ]
  },
  {
   "cell_type": "code",
   "execution_count": 35,
   "id": "205b90b1-dc33-4847-95d8-7f64b3c1589d",
   "metadata": {},
   "outputs": [
    {
     "data": {
      "text/plain": [
       "([<matplotlib.patches.Wedge at 0x7fcfcb92ffd0>,\n",
       "  <matplotlib.patches.Wedge at 0x7fcf88010cd0>,\n",
       "  <matplotlib.patches.Wedge at 0x7fcf8801f430>],\n",
       " [Text(-0.2325475618360372, 1.0751379592796986, 'Negative'),\n",
       "  Text(-0.1640149695820681, -1.0877035854280308, 'Neutral'),\n",
       "  Text(0.39025589410897926, 1.0284455926850002, 'Positive')],\n",
       " [Text(-0.12684412463783845, 0.5864388868798355, '6.8%'),\n",
       "  Text(-0.08946271068112804, -0.5932928647789258, '81.7%'),\n",
       "  Text(0.2128668513321705, 0.5609703232827273, '11.5%')])"
      ]
     },
     "execution_count": 35,
     "metadata": {},
     "output_type": "execute_result"
    },
    {
     "data": {
      "text/plain": [
       "(-1.105770861590994,\n",
       " 1.1062175134434624,\n",
       " -1.1050365102279613,\n",
       " 1.1002398457105123)"
      ]
     },
     "execution_count": 35,
     "metadata": {},
     "output_type": "execute_result"
    },
    {
     "data": {
      "text/plain": [
       "Text(0.5, 1.0, 'Sentiment Distribution for Topic 6: ChatGPT and Bing')"
      ]
     },
     "execution_count": 35,
     "metadata": {},
     "output_type": "execute_result"
    },
    {
     "data": {
      "image/png": "[encoded data removed]",
      "text/plain": [
       "<Figure size 640x480 with 1 Axes>"
      ]
     },
     "metadata": {},
     "output_type": "display_data"
    }
   ],
   "source": [
    "# Create data for the pie chart\n",
    "labels = ['Negative', 'Neutral', 'Positive']\n",
    "# average sentiment\n",
    "sizes = [T6_df['neg'].mean(), T6_df['neu'].mean(), T6_df['pos'].mean()]\n",
    "\n",
    "color = palette = sns.set_palette(\"Set1\")\n",
    "\n",
    "# Create the pie chart\n",
    "fig1, ax1 = plt.subplots()\n",
    "ax1.pie(sizes, labels=labels, autopct='%1.1f%%', startangle=90, colors = palette)\n",
    "ax1.axis('equal')\n",
    "\n",
    "# Add a title\n",
    "plt.title('Sentiment Distribution for Topic 6: ChatGPT and Bing')\n",
    "\n",
    "# Show the chart\n",
    "plt.show()\n"
   ]
  },
  {
   "cell_type": "code",
   "execution_count": null,
   "id": "b722c56f-08b6-4af7-9304-33c1af000a93",
   "metadata": {},
   "outputs": [],
   "source": []
  }
 ],
 "metadata": {
  "kernelspec": {
   "display_name": "Python 3 (ipykernel)",
   "language": "python",
   "name": "python3"
  },
  "language_info": {
   "codemirror_mode": {
    "name": "ipython",
    "version": 3
   },
   "file_extension": ".py",
   "mimetype": "text/x-python",
   "name": "python",
   "nbconvert_exporter": "python",
   "pygments_lexer": "ipython3",
   "version": "3.9.13"
  }
 },
 "nbformat": 4,
 "nbformat_minor": 5
}
