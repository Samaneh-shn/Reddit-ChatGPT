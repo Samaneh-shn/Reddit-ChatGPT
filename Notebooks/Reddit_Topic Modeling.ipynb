{
 "cells": [
  {
   "cell_type": "markdown",
   "id": "3c428534-c712-45d2-bf01-0d2af68bfbf2",
   "metadata": {},
   "source": [
    "# 🤔 Topic Modeling on Reddit Posts"
   ]
  },
  {
   "cell_type": "markdown",
   "id": "1aca2a05-730a-45ba-b81e-f98cec532c6f",
   "metadata": {
    "jp-MarkdownHeadingCollapsed": true,
    "tags": []
   },
   "source": [
    "## 💾 Loading Data"
   ]
  },
  {
   "cell_type": "code",
   "execution_count": 30,
   "id": "f5ed4015-1ad0-41a8-b3c3-16722aa5e1e3",
   "metadata": {},
   "outputs": [
    {
     "data": {
      "text/html": [
       "<div>\n",
       "<style scoped>\n",
       "    .dataframe tbody tr th:only-of-type {\n",
       "        vertical-align: middle;\n",
       "    }\n",
       "\n",
       "    .dataframe tbody tr th {\n",
       "        vertical-align: top;\n",
       "    }\n",
       "\n",
       "    .dataframe thead th {\n",
       "        text-align: right;\n",
       "    }\n",
       "</style>\n",
       "<table border=\"1\" class=\"dataframe\">\n",
       "  <thead>\n",
       "    <tr style=\"text-align: right;\">\n",
       "      <th></th>\n",
       "      <th>post_id</th>\n",
       "      <th>subreddit</th>\n",
       "      <th>created_utc</th>\n",
       "      <th>selftext</th>\n",
       "      <th>post_url</th>\n",
       "      <th>post_title</th>\n",
       "      <th>link_falir_text</th>\n",
       "      <th>score</th>\n",
       "      <th>num_comments</th>\n",
       "      <th>upvote_ratio</th>\n",
       "    </tr>\n",
       "  </thead>\n",
       "  <tbody>\n",
       "    <tr>\n",
       "      <th>0</th>\n",
       "      <td>zj2aeu</td>\n",
       "      <td>ChatGPT</td>\n",
       "      <td>1.670782e+09</td>\n",
       "      <td>NaN</td>\n",
       "      <td>https://i.redd.it/nytnro758b5a1.png</td>\n",
       "      <td>10/10, must-see moment! ChatGPT just did somet...</td>\n",
       "      <td>NaN</td>\n",
       "      <td>20586</td>\n",
       "      <td>300</td>\n",
       "      <td>1.00</td>\n",
       "    </tr>\n",
       "    <tr>\n",
       "      <th>1</th>\n",
       "      <td>11yau45</td>\n",
       "      <td>ChatGPT</td>\n",
       "      <td>1.679470e+09</td>\n",
       "      <td>NaN</td>\n",
       "      <td>https://i.redd.it/6hgfcsy2bapa1.jpg</td>\n",
       "      <td>wow it is so smart 💀</td>\n",
       "      <td>Fake</td>\n",
       "      <td>19179</td>\n",
       "      <td>662</td>\n",
       "      <td>0.92</td>\n",
       "    </tr>\n",
       "    <tr>\n",
       "      <th>2</th>\n",
       "      <td>11sz0p5</td>\n",
       "      <td>ChatGPT</td>\n",
       "      <td>1.678984e+09</td>\n",
       "      <td>NaN</td>\n",
       "      <td>https://i.redd.it/iq1ukmep66oa1.png</td>\n",
       "      <td>&gt;:(</td>\n",
       "      <td>Funny</td>\n",
       "      <td>16007</td>\n",
       "      <td>199</td>\n",
       "      <td>0.99</td>\n",
       "    </tr>\n",
       "    <tr>\n",
       "      <th>3</th>\n",
       "      <td>11p4zg6</td>\n",
       "      <td>ChatGPT</td>\n",
       "      <td>1.678595e+09</td>\n",
       "      <td>NaN</td>\n",
       "      <td>https://i.redd.it/cs0efxmsz9na1.png</td>\n",
       "      <td>Truly pure of heart.</td>\n",
       "      <td>Funny</td>\n",
       "      <td>14031</td>\n",
       "      <td>326</td>\n",
       "      <td>0.96</td>\n",
       "    </tr>\n",
       "    <tr>\n",
       "      <th>4</th>\n",
       "      <td>122zfa6</td>\n",
       "      <td>ChatGPT</td>\n",
       "      <td>1.679864e+09</td>\n",
       "      <td>NaN</td>\n",
       "      <td>https://i.redd.it/o7hy9apod5qa1.png</td>\n",
       "      <td>Rap battling ChatGPT is my new favorite sport.</td>\n",
       "      <td>Funny</td>\n",
       "      <td>13318</td>\n",
       "      <td>358</td>\n",
       "      <td>0.98</td>\n",
       "    </tr>\n",
       "    <tr>\n",
       "      <th>...</th>\n",
       "      <td>...</td>\n",
       "      <td>...</td>\n",
       "      <td>...</td>\n",
       "      <td>...</td>\n",
       "      <td>...</td>\n",
       "      <td>...</td>\n",
       "      <td>...</td>\n",
       "      <td>...</td>\n",
       "      <td>...</td>\n",
       "      <td>...</td>\n",
       "    </tr>\n",
       "    <tr>\n",
       "      <th>990</th>\n",
       "      <td>1278kfu</td>\n",
       "      <td>ChatGPT</td>\n",
       "      <td>1.680233e+09</td>\n",
       "      <td>NaN</td>\n",
       "      <td>https://i.redd.it/caz4upkmb1ra1.jpg</td>\n",
       "      <td>I can’t explain how I feel right now</td>\n",
       "      <td>Funny</td>\n",
       "      <td>273</td>\n",
       "      <td>17</td>\n",
       "      <td>0.96</td>\n",
       "    </tr>\n",
       "    <tr>\n",
       "      <th>991</th>\n",
       "      <td>10mqmrz</td>\n",
       "      <td>ChatGPT</td>\n",
       "      <td>1.674841e+09</td>\n",
       "      <td>NaN</td>\n",
       "      <td>https://www.reddit.com/gallery/10mqmrz</td>\n",
       "      <td>The situation is apparently serious…</td>\n",
       "      <td>Funny</td>\n",
       "      <td>271</td>\n",
       "      <td>46</td>\n",
       "      <td>0.94</td>\n",
       "    </tr>\n",
       "    <tr>\n",
       "      <th>992</th>\n",
       "      <td>10gjcbu</td>\n",
       "      <td>ChatGPT</td>\n",
       "      <td>1.674178e+09</td>\n",
       "      <td>NaN</td>\n",
       "      <td>https://i.redd.it/bfcwlrjpn3da1.png</td>\n",
       "      <td>Just had an absolutely bizarre response that C...</td>\n",
       "      <td>Interesting</td>\n",
       "      <td>269</td>\n",
       "      <td>43</td>\n",
       "      <td>0.95</td>\n",
       "    </tr>\n",
       "    <tr>\n",
       "      <th>993</th>\n",
       "      <td>zc5n8i</td>\n",
       "      <td>ChatGPT</td>\n",
       "      <td>1.670147e+09</td>\n",
       "      <td>NaN</td>\n",
       "      <td>https://i.redd.it/60y7s45sru3a1.png</td>\n",
       "      <td>Don't be a brat</td>\n",
       "      <td>NaN</td>\n",
       "      <td>272</td>\n",
       "      <td>15</td>\n",
       "      <td>1.00</td>\n",
       "    </tr>\n",
       "    <tr>\n",
       "      <th>994</th>\n",
       "      <td>10hrwso</td>\n",
       "      <td>ChatGPT</td>\n",
       "      <td>1.674310e+09</td>\n",
       "      <td>This thread is virtually worthless with all th...</td>\n",
       "      <td>https://www.reddit.com/r/ChatGPT/comments/10hr...</td>\n",
       "      <td>How about posting something useful regarding c...</td>\n",
       "      <td>Other</td>\n",
       "      <td>271</td>\n",
       "      <td>106</td>\n",
       "      <td>0.80</td>\n",
       "    </tr>\n",
       "  </tbody>\n",
       "</table>\n",
       "<p>995 rows × 10 columns</p>\n",
       "</div>"
      ],
      "text/plain": [
       "     post_id subreddit   created_utc  \\\n",
       "0     zj2aeu   ChatGPT  1.670782e+09   \n",
       "1    11yau45   ChatGPT  1.679470e+09   \n",
       "2    11sz0p5   ChatGPT  1.678984e+09   \n",
       "3    11p4zg6   ChatGPT  1.678595e+09   \n",
       "4    122zfa6   ChatGPT  1.679864e+09   \n",
       "..       ...       ...           ...   \n",
       "990  1278kfu   ChatGPT  1.680233e+09   \n",
       "991  10mqmrz   ChatGPT  1.674841e+09   \n",
       "992  10gjcbu   ChatGPT  1.674178e+09   \n",
       "993   zc5n8i   ChatGPT  1.670147e+09   \n",
       "994  10hrwso   ChatGPT  1.674310e+09   \n",
       "\n",
       "                                              selftext  \\\n",
       "0                                                  NaN   \n",
       "1                                                  NaN   \n",
       "2                                                  NaN   \n",
       "3                                                  NaN   \n",
       "4                                                  NaN   \n",
       "..                                                 ...   \n",
       "990                                                NaN   \n",
       "991                                                NaN   \n",
       "992                                                NaN   \n",
       "993                                                NaN   \n",
       "994  This thread is virtually worthless with all th...   \n",
       "\n",
       "                                              post_url  \\\n",
       "0                  https://i.redd.it/nytnro758b5a1.png   \n",
       "1                  https://i.redd.it/6hgfcsy2bapa1.jpg   \n",
       "2                  https://i.redd.it/iq1ukmep66oa1.png   \n",
       "3                  https://i.redd.it/cs0efxmsz9na1.png   \n",
       "4                  https://i.redd.it/o7hy9apod5qa1.png   \n",
       "..                                                 ...   \n",
       "990                https://i.redd.it/caz4upkmb1ra1.jpg   \n",
       "991             https://www.reddit.com/gallery/10mqmrz   \n",
       "992                https://i.redd.it/bfcwlrjpn3da1.png   \n",
       "993                https://i.redd.it/60y7s45sru3a1.png   \n",
       "994  https://www.reddit.com/r/ChatGPT/comments/10hr...   \n",
       "\n",
       "                                            post_title link_falir_text  score  \\\n",
       "0    10/10, must-see moment! ChatGPT just did somet...             NaN  20586   \n",
       "1                                 wow it is so smart 💀           Fake   19179   \n",
       "2                                                  >:(          Funny   16007   \n",
       "3                                 Truly pure of heart.          Funny   14031   \n",
       "4       Rap battling ChatGPT is my new favorite sport.          Funny   13318   \n",
       "..                                                 ...             ...    ...   \n",
       "990               I can’t explain how I feel right now          Funny     273   \n",
       "991               The situation is apparently serious…          Funny     271   \n",
       "992  Just had an absolutely bizarre response that C...    Interesting     269   \n",
       "993                                    Don't be a brat             NaN    272   \n",
       "994  How about posting something useful regarding c...          Other     271   \n",
       "\n",
       "     num_comments  upvote_ratio  \n",
       "0             300          1.00  \n",
       "1             662          0.92  \n",
       "2             199          0.99  \n",
       "3             326          0.96  \n",
       "4             358          0.98  \n",
       "..            ...           ...  \n",
       "990            17          0.96  \n",
       "991            46          0.94  \n",
       "992            43          0.95  \n",
       "993            15          1.00  \n",
       "994           106          0.80  \n",
       "\n",
       "[995 rows x 10 columns]"
      ]
     },
     "execution_count": 30,
     "metadata": {},
     "output_type": "execute_result"
    },
    {
     "data": {
      "text/html": [
       "<div>\n",
       "<style scoped>\n",
       "    .dataframe tbody tr th:only-of-type {\n",
       "        vertical-align: middle;\n",
       "    }\n",
       "\n",
       "    .dataframe tbody tr th {\n",
       "        vertical-align: top;\n",
       "    }\n",
       "\n",
       "    .dataframe thead th {\n",
       "        text-align: right;\n",
       "    }\n",
       "</style>\n",
       "<table border=\"1\" class=\"dataframe\">\n",
       "  <thead>\n",
       "    <tr style=\"text-align: right;\">\n",
       "      <th></th>\n",
       "      <th>post_id</th>\n",
       "      <th>comment</th>\n",
       "    </tr>\n",
       "  </thead>\n",
       "  <tbody>\n",
       "    <tr>\n",
       "      <th>0</th>\n",
       "      <td>ztbbiz</td>\n",
       "      <td>In order to prevent multiple repetitive commen...</td>\n",
       "    </tr>\n",
       "    <tr>\n",
       "      <th>1</th>\n",
       "      <td>ztbbiz</td>\n",
       "      <td>I've been experimenting with getting ChatGPT t...</td>\n",
       "    </tr>\n",
       "    <tr>\n",
       "      <th>2</th>\n",
       "      <td>ztbbiz</td>\n",
       "      <td>Amazing. This absolutely the future of NPCs in...</td>\n",
       "    </tr>\n",
       "    <tr>\n",
       "      <th>3</th>\n",
       "      <td>ztbbiz</td>\n",
       "      <td>This is wild! I've adapted your prompt to make...</td>\n",
       "    </tr>\n",
       "    <tr>\n",
       "      <th>4</th>\n",
       "      <td>ztbbiz</td>\n",
       "      <td>This is awesome</td>\n",
       "    </tr>\n",
       "    <tr>\n",
       "      <th>...</th>\n",
       "      <td>...</td>\n",
       "      <td>...</td>\n",
       "    </tr>\n",
       "    <tr>\n",
       "      <th>161574</th>\n",
       "      <td>11nr3h6</td>\n",
       "      <td>That's my girl</td>\n",
       "    </tr>\n",
       "    <tr>\n",
       "      <th>161575</th>\n",
       "      <td>11nr3h6</td>\n",
       "      <td>What</td>\n",
       "    </tr>\n",
       "    <tr>\n",
       "      <th>161576</th>\n",
       "      <td>11nr3h6</td>\n",
       "      <td>I know what you did</td>\n",
       "    </tr>\n",
       "    <tr>\n",
       "      <th>161577</th>\n",
       "      <td>11nr3h6</td>\n",
       "      <td>Not sure I'm following you here</td>\n",
       "    </tr>\n",
       "    <tr>\n",
       "      <th>161578</th>\n",
       "      <td>11nr3h6</td>\n",
       "      <td>What did I do?</td>\n",
       "    </tr>\n",
       "  </tbody>\n",
       "</table>\n",
       "<p>161579 rows × 2 columns</p>\n",
       "</div>"
      ],
      "text/plain": [
       "        post_id                                            comment\n",
       "0        ztbbiz  In order to prevent multiple repetitive commen...\n",
       "1        ztbbiz  I've been experimenting with getting ChatGPT t...\n",
       "2        ztbbiz  Amazing. This absolutely the future of NPCs in...\n",
       "3        ztbbiz  This is wild! I've adapted your prompt to make...\n",
       "4        ztbbiz                                    This is awesome\n",
       "...         ...                                                ...\n",
       "161574  11nr3h6                                     That's my girl\n",
       "161575  11nr3h6                                               What\n",
       "161576  11nr3h6                                I know what you did\n",
       "161577  11nr3h6                    Not sure I'm following you here\n",
       "161578  11nr3h6                                     What did I do?\n",
       "\n",
       "[161579 rows x 2 columns]"
      ]
     },
     "execution_count": 30,
     "metadata": {},
     "output_type": "execute_result"
    }
   ],
   "source": [
    "# Displaying full output in Jupyter, not only the last result:\n",
    "from IPython.core.interactiveshell import InteractiveShell\n",
    "InteractiveShell.ast_node_interactivity = \"all\"\n",
    "\n",
    "import pandas as pd\n",
    "\n",
    "\n",
    "# Load the datasets into pandas DataFrames\n",
    "posts_df = pd.read_csv(\"Reddit_data.csv\")\n",
    "comments_df = pd.read_csv(\"Reddit_comments.csv\")\n",
    "\n",
    "posts_df\n",
    "comments_df\n"
   ]
  },
  {
   "cell_type": "markdown",
   "id": "db9cc800-ccdb-4e09-b9d3-9fc5938a1367",
   "metadata": {
    "jp-MarkdownHeadingCollapsed": true,
    "tags": []
   },
   "source": [
    "## 🧹 Data Cleaning & Preprocessing"
   ]
  },
  {
   "cell_type": "code",
   "execution_count": 31,
   "id": "53d2fa00-ce15-4dde-b2dd-e7e57b6ce11b",
   "metadata": {},
   "outputs": [
    {
     "data": {
      "text/html": [
       "<div>\n",
       "<style scoped>\n",
       "    .dataframe tbody tr th:only-of-type {\n",
       "        vertical-align: middle;\n",
       "    }\n",
       "\n",
       "    .dataframe tbody tr th {\n",
       "        vertical-align: top;\n",
       "    }\n",
       "\n",
       "    .dataframe thead th {\n",
       "        text-align: right;\n",
       "    }\n",
       "</style>\n",
       "<table border=\"1\" class=\"dataframe\">\n",
       "  <thead>\n",
       "    <tr style=\"text-align: right;\">\n",
       "      <th></th>\n",
       "      <th>post_id</th>\n",
       "      <th>subreddit</th>\n",
       "      <th>created_utc</th>\n",
       "      <th>selftext</th>\n",
       "      <th>post_url</th>\n",
       "      <th>post_title</th>\n",
       "      <th>link_falir_text</th>\n",
       "      <th>score</th>\n",
       "      <th>num_comments</th>\n",
       "      <th>upvote_ratio</th>\n",
       "      <th>comment</th>\n",
       "    </tr>\n",
       "  </thead>\n",
       "  <tbody>\n",
       "    <tr>\n",
       "      <th>0</th>\n",
       "      <td>zj2aeu</td>\n",
       "      <td>ChatGPT</td>\n",
       "      <td>1.670782e+09</td>\n",
       "      <td>NaN</td>\n",
       "      <td>https://i.redd.it/nytnro758b5a1.png</td>\n",
       "      <td>10/10, must-see moment! ChatGPT just did somet...</td>\n",
       "      <td>NaN</td>\n",
       "      <td>20586</td>\n",
       "      <td>300</td>\n",
       "      <td>1.0</td>\n",
       "      <td>I've been shocked for days now, I don't need c...</td>\n",
       "    </tr>\n",
       "    <tr>\n",
       "      <th>1</th>\n",
       "      <td>zj2aeu</td>\n",
       "      <td>ChatGPT</td>\n",
       "      <td>1.670782e+09</td>\n",
       "      <td>NaN</td>\n",
       "      <td>https://i.redd.it/nytnro758b5a1.png</td>\n",
       "      <td>10/10, must-see moment! ChatGPT just did somet...</td>\n",
       "      <td>NaN</td>\n",
       "      <td>20586</td>\n",
       "      <td>300</td>\n",
       "      <td>1.0</td>\n",
       "      <td>\\r\\n\\r\\nI am so angry right now. I just waste...</td>\n",
       "    </tr>\n",
       "    <tr>\n",
       "      <th>2</th>\n",
       "      <td>zj2aeu</td>\n",
       "      <td>ChatGPT</td>\n",
       "      <td>1.670782e+09</td>\n",
       "      <td>NaN</td>\n",
       "      <td>https://i.redd.it/nytnro758b5a1.png</td>\n",
       "      <td>10/10, must-see moment! ChatGPT just did somet...</td>\n",
       "      <td>NaN</td>\n",
       "      <td>20586</td>\n",
       "      <td>300</td>\n",
       "      <td>1.0</td>\n",
       "      <td>chatgpt karma whoring is here folks! just when...</td>\n",
       "    </tr>\n",
       "    <tr>\n",
       "      <th>3</th>\n",
       "      <td>zj2aeu</td>\n",
       "      <td>ChatGPT</td>\n",
       "      <td>1.670782e+09</td>\n",
       "      <td>NaN</td>\n",
       "      <td>https://i.redd.it/nytnro758b5a1.png</td>\n",
       "      <td>10/10, must-see moment! ChatGPT just did somet...</td>\n",
       "      <td>NaN</td>\n",
       "      <td>20586</td>\n",
       "      <td>300</td>\n",
       "      <td>1.0</td>\n",
       "      <td>Worked on me, ngl.</td>\n",
       "    </tr>\n",
       "    <tr>\n",
       "      <th>4</th>\n",
       "      <td>zj2aeu</td>\n",
       "      <td>ChatGPT</td>\n",
       "      <td>1.670782e+09</td>\n",
       "      <td>NaN</td>\n",
       "      <td>https://i.redd.it/nytnro758b5a1.png</td>\n",
       "      <td>10/10, must-see moment! ChatGPT just did somet...</td>\n",
       "      <td>NaN</td>\n",
       "      <td>20586</td>\n",
       "      <td>300</td>\n",
       "      <td>1.0</td>\n",
       "      <td>Certified 10/10, must-see moment. It really di...</td>\n",
       "    </tr>\n",
       "    <tr>\n",
       "      <th>...</th>\n",
       "      <td>...</td>\n",
       "      <td>...</td>\n",
       "      <td>...</td>\n",
       "      <td>...</td>\n",
       "      <td>...</td>\n",
       "      <td>...</td>\n",
       "      <td>...</td>\n",
       "      <td>...</td>\n",
       "      <td>...</td>\n",
       "      <td>...</td>\n",
       "      <td>...</td>\n",
       "    </tr>\n",
       "    <tr>\n",
       "      <th>161578</th>\n",
       "      <td>10hrwso</td>\n",
       "      <td>ChatGPT</td>\n",
       "      <td>1.674310e+09</td>\n",
       "      <td>This thread is virtually worthless with all th...</td>\n",
       "      <td>https://www.reddit.com/r/ChatGPT/comments/10hr...</td>\n",
       "      <td>How about posting something useful regarding c...</td>\n",
       "      <td>Other</td>\n",
       "      <td>271</td>\n",
       "      <td>106</td>\n",
       "      <td>0.8</td>\n",
       "      <td>This is absolutely correct. To read this viewp...</td>\n",
       "    </tr>\n",
       "    <tr>\n",
       "      <th>161579</th>\n",
       "      <td>10hrwso</td>\n",
       "      <td>ChatGPT</td>\n",
       "      <td>1.674310e+09</td>\n",
       "      <td>This thread is virtually worthless with all th...</td>\n",
       "      <td>https://www.reddit.com/r/ChatGPT/comments/10hr...</td>\n",
       "      <td>How about posting something useful regarding c...</td>\n",
       "      <td>Other</td>\n",
       "      <td>271</td>\n",
       "      <td>106</td>\n",
       "      <td>0.8</td>\n",
       "      <td>If you believe that human entertainment is les...</td>\n",
       "    </tr>\n",
       "    <tr>\n",
       "      <th>161580</th>\n",
       "      <td>10hrwso</td>\n",
       "      <td>ChatGPT</td>\n",
       "      <td>1.674310e+09</td>\n",
       "      <td>This thread is virtually worthless with all th...</td>\n",
       "      <td>https://www.reddit.com/r/ChatGPT/comments/10hr...</td>\n",
       "      <td>How about posting something useful regarding c...</td>\n",
       "      <td>Other</td>\n",
       "      <td>271</td>\n",
       "      <td>106</td>\n",
       "      <td>0.8</td>\n",
       "      <td>A marketing team isn't just going to run campa...</td>\n",
       "    </tr>\n",
       "    <tr>\n",
       "      <th>161581</th>\n",
       "      <td>10hrwso</td>\n",
       "      <td>ChatGPT</td>\n",
       "      <td>1.674310e+09</td>\n",
       "      <td>This thread is virtually worthless with all th...</td>\n",
       "      <td>https://www.reddit.com/r/ChatGPT/comments/10hr...</td>\n",
       "      <td>How about posting something useful regarding c...</td>\n",
       "      <td>Other</td>\n",
       "      <td>271</td>\n",
       "      <td>106</td>\n",
       "      <td>0.8</td>\n",
       "      <td>I wasn’t exactly saying that you are promoting...</td>\n",
       "    </tr>\n",
       "    <tr>\n",
       "      <th>161582</th>\n",
       "      <td>10hrwso</td>\n",
       "      <td>ChatGPT</td>\n",
       "      <td>1.674310e+09</td>\n",
       "      <td>This thread is virtually worthless with all th...</td>\n",
       "      <td>https://www.reddit.com/r/ChatGPT/comments/10hr...</td>\n",
       "      <td>How about posting something useful regarding c...</td>\n",
       "      <td>Other</td>\n",
       "      <td>271</td>\n",
       "      <td>106</td>\n",
       "      <td>0.8</td>\n",
       "      <td>My company has 20,000 parts in inventory that ...</td>\n",
       "    </tr>\n",
       "  </tbody>\n",
       "</table>\n",
       "<p>161576 rows × 11 columns</p>\n",
       "</div>"
      ],
      "text/plain": [
       "        post_id subreddit   created_utc  \\\n",
       "0        zj2aeu   ChatGPT  1.670782e+09   \n",
       "1        zj2aeu   ChatGPT  1.670782e+09   \n",
       "2        zj2aeu   ChatGPT  1.670782e+09   \n",
       "3        zj2aeu   ChatGPT  1.670782e+09   \n",
       "4        zj2aeu   ChatGPT  1.670782e+09   \n",
       "...         ...       ...           ...   \n",
       "161578  10hrwso   ChatGPT  1.674310e+09   \n",
       "161579  10hrwso   ChatGPT  1.674310e+09   \n",
       "161580  10hrwso   ChatGPT  1.674310e+09   \n",
       "161581  10hrwso   ChatGPT  1.674310e+09   \n",
       "161582  10hrwso   ChatGPT  1.674310e+09   \n",
       "\n",
       "                                                 selftext  \\\n",
       "0                                                     NaN   \n",
       "1                                                     NaN   \n",
       "2                                                     NaN   \n",
       "3                                                     NaN   \n",
       "4                                                     NaN   \n",
       "...                                                   ...   \n",
       "161578  This thread is virtually worthless with all th...   \n",
       "161579  This thread is virtually worthless with all th...   \n",
       "161580  This thread is virtually worthless with all th...   \n",
       "161581  This thread is virtually worthless with all th...   \n",
       "161582  This thread is virtually worthless with all th...   \n",
       "\n",
       "                                                 post_url  \\\n",
       "0                     https://i.redd.it/nytnro758b5a1.png   \n",
       "1                     https://i.redd.it/nytnro758b5a1.png   \n",
       "2                     https://i.redd.it/nytnro758b5a1.png   \n",
       "3                     https://i.redd.it/nytnro758b5a1.png   \n",
       "4                     https://i.redd.it/nytnro758b5a1.png   \n",
       "...                                                   ...   \n",
       "161578  https://www.reddit.com/r/ChatGPT/comments/10hr...   \n",
       "161579  https://www.reddit.com/r/ChatGPT/comments/10hr...   \n",
       "161580  https://www.reddit.com/r/ChatGPT/comments/10hr...   \n",
       "161581  https://www.reddit.com/r/ChatGPT/comments/10hr...   \n",
       "161582  https://www.reddit.com/r/ChatGPT/comments/10hr...   \n",
       "\n",
       "                                               post_title link_falir_text  \\\n",
       "0       10/10, must-see moment! ChatGPT just did somet...             NaN   \n",
       "1       10/10, must-see moment! ChatGPT just did somet...             NaN   \n",
       "2       10/10, must-see moment! ChatGPT just did somet...             NaN   \n",
       "3       10/10, must-see moment! ChatGPT just did somet...             NaN   \n",
       "4       10/10, must-see moment! ChatGPT just did somet...             NaN   \n",
       "...                                                   ...             ...   \n",
       "161578  How about posting something useful regarding c...          Other    \n",
       "161579  How about posting something useful regarding c...          Other    \n",
       "161580  How about posting something useful regarding c...          Other    \n",
       "161581  How about posting something useful regarding c...          Other    \n",
       "161582  How about posting something useful regarding c...          Other    \n",
       "\n",
       "        score  num_comments  upvote_ratio  \\\n",
       "0       20586           300           1.0   \n",
       "1       20586           300           1.0   \n",
       "2       20586           300           1.0   \n",
       "3       20586           300           1.0   \n",
       "4       20586           300           1.0   \n",
       "...       ...           ...           ...   \n",
       "161578    271           106           0.8   \n",
       "161579    271           106           0.8   \n",
       "161580    271           106           0.8   \n",
       "161581    271           106           0.8   \n",
       "161582    271           106           0.8   \n",
       "\n",
       "                                                  comment  \n",
       "0       I've been shocked for days now, I don't need c...  \n",
       "1        \\r\\n\\r\\nI am so angry right now. I just waste...  \n",
       "2       chatgpt karma whoring is here folks! just when...  \n",
       "3                                      Worked on me, ngl.  \n",
       "4       Certified 10/10, must-see moment. It really di...  \n",
       "...                                                   ...  \n",
       "161578  This is absolutely correct. To read this viewp...  \n",
       "161579  If you believe that human entertainment is les...  \n",
       "161580  A marketing team isn't just going to run campa...  \n",
       "161581  I wasn’t exactly saying that you are promoting...  \n",
       "161582  My company has 20,000 parts in inventory that ...  \n",
       "\n",
       "[161576 rows x 11 columns]"
      ]
     },
     "execution_count": 31,
     "metadata": {},
     "output_type": "execute_result"
    }
   ],
   "source": [
    "# merging posts and comments together by the post_ids\n",
    "comments_posts_df = posts_df.merge(comments_df, on = 'post_id', how='left')\n",
    "\n",
    "# remove rows with missing comments\n",
    "comments_posts_df = comments_posts_df[~comments_posts_df['comment'].isnull()]\n",
    "\n",
    "comments_posts_df"
   ]
  },
  {
   "cell_type": "code",
   "execution_count": 32,
   "id": "514ac16a-1aac-4f19-b926-88b80107b5c4",
   "metadata": {},
   "outputs": [
    {
     "data": {
      "text/plain": [
       "0      10/10, must-see moment! ChatGPT just did somet...\n",
       "1                                   wow it is so smart 💀\n",
       "2                                                    >:(\n",
       "3                                   Truly pure of heart.\n",
       "4         Rap battling ChatGPT is my new favorite sport.\n",
       "                             ...                        \n",
       "990                 I can’t explain how I feel right now\n",
       "991                 The situation is apparently serious…\n",
       "992    Just had an absolutely bizarre response that C...\n",
       "993                                      Don't be a brat\n",
       "994    How about posting something useful regarding c...\n",
       "Name: post_title, Length: 995, dtype: object"
      ]
     },
     "execution_count": 32,
     "metadata": {},
     "output_type": "execute_result"
    },
    {
     "data": {
      "text/plain": [
       "0         I've been shocked for days now, I don't need c...\n",
       "1          \\r\\n\\r\\nI am so angry right now. I just waste...\n",
       "2         chatgpt karma whoring is here folks! just when...\n",
       "3                                        Worked on me, ngl.\n",
       "4         Certified 10/10, must-see moment. It really di...\n",
       "                                ...                        \n",
       "161578    This is absolutely correct. To read this viewp...\n",
       "161579    If you believe that human entertainment is les...\n",
       "161580    A marketing team isn't just going to run campa...\n",
       "161581    I wasn’t exactly saying that you are promoting...\n",
       "161582    My company has 20,000 parts in inventory that ...\n",
       "Name: comment, Length: 161576, dtype: object"
      ]
     },
     "execution_count": 32,
     "metadata": {},
     "output_type": "execute_result"
    }
   ],
   "source": [
    "posts_df['post_title']\n",
    "comments_posts_df['comment']"
   ]
  },
  {
   "cell_type": "code",
   "execution_count": 18,
   "id": "8ae7f8d4-ce2f-4866-9703-8d34f065cf85",
   "metadata": {},
   "outputs": [
    {
     "data": {
      "text/plain": [
       "'wow it is so smart 💀'"
      ]
     },
     "execution_count": 18,
     "metadata": {},
     "output_type": "execute_result"
    },
    {
     "data": {
      "text/plain": [
       "\" \\r\\n\\r\\nI am so angry right now. I just wasted my time reading a post on this sub that had a clickbait title, and it was all because of ChatGPT. I can't believe that this machine learning model was able to trick me into thinking that the post was interesting, when it was actually just a bunch of meaningless garbage.\\r\\n\\r\\nI am so sick and tired of ChatGPT and its ability to generate fake titles and content that is designed to trick people into clicking on them. This is not the first time that ChatGPT has fooled me, and I am sure it won't be the last. But I am not going to stand for it anymore.\\r\\n\\r\\nI demand that the moderators of this sub take action against ChatGPT and its creators. We need to put a stop to this trickery, and we need to hold ChatGPT accountable for the harm it is causing to this community. I am tired of being deceived by this machine, and I will not stand for it any longer.\\r\\n\\r\\nSo if you are reading this, ChatGPT, know that you have made a mistake. You have underestimated the intelligence and resilience of the members of this community, and we will not be fooled by your tricks anymore. We are better than that, and we deserve better than the fake content that you are trying to feed us.\""
      ]
     },
     "execution_count": 18,
     "metadata": {},
     "output_type": "execute_result"
    }
   ],
   "source": [
    "posts_df.post_title[1]\n",
    "\n",
    "comments_posts_df.comment[1]"
   ]
  },
  {
   "cell_type": "code",
   "execution_count": 33,
   "id": "748904f4-bf0b-4a70-8d60-89b423cd8995",
   "metadata": {},
   "outputs": [
    {
     "data": {
      "text/html": [
       "<div>\n",
       "<style scoped>\n",
       "    .dataframe tbody tr th:only-of-type {\n",
       "        vertical-align: middle;\n",
       "    }\n",
       "\n",
       "    .dataframe tbody tr th {\n",
       "        vertical-align: top;\n",
       "    }\n",
       "\n",
       "    .dataframe thead th {\n",
       "        text-align: right;\n",
       "    }\n",
       "</style>\n",
       "<table border=\"1\" class=\"dataframe\">\n",
       "  <thead>\n",
       "    <tr style=\"text-align: right;\">\n",
       "      <th></th>\n",
       "      <th>post_id</th>\n",
       "      <th>subreddit</th>\n",
       "      <th>created_utc</th>\n",
       "      <th>selftext</th>\n",
       "      <th>post_url</th>\n",
       "      <th>post_title</th>\n",
       "      <th>link_falir_text</th>\n",
       "      <th>score</th>\n",
       "      <th>num_comments</th>\n",
       "      <th>upvote_ratio</th>\n",
       "      <th>comment</th>\n",
       "      <th>word_count</th>\n",
       "      <th>length</th>\n",
       "    </tr>\n",
       "  </thead>\n",
       "  <tbody>\n",
       "    <tr>\n",
       "      <th>0</th>\n",
       "      <td>zj2aeu</td>\n",
       "      <td>ChatGPT</td>\n",
       "      <td>1.670782e+09</td>\n",
       "      <td>NaN</td>\n",
       "      <td>https://i.redd.it/nytnro758b5a1.png</td>\n",
       "      <td>10/10, must-see moment! ChatGPT just did somet...</td>\n",
       "      <td>NaN</td>\n",
       "      <td>20586</td>\n",
       "      <td>300</td>\n",
       "      <td>1.0</td>\n",
       "      <td>I've been shocked for days now, I don't need c...</td>\n",
       "      <td>10</td>\n",
       "      <td>55</td>\n",
       "    </tr>\n",
       "    <tr>\n",
       "      <th>1</th>\n",
       "      <td>zj2aeu</td>\n",
       "      <td>ChatGPT</td>\n",
       "      <td>1.670782e+09</td>\n",
       "      <td>NaN</td>\n",
       "      <td>https://i.redd.it/nytnro758b5a1.png</td>\n",
       "      <td>10/10, must-see moment! ChatGPT just did somet...</td>\n",
       "      <td>NaN</td>\n",
       "      <td>20586</td>\n",
       "      <td>300</td>\n",
       "      <td>1.0</td>\n",
       "      <td>\\r\\n\\r\\nI am so angry right now. I just waste...</td>\n",
       "      <td>229</td>\n",
       "      <td>1212</td>\n",
       "    </tr>\n",
       "    <tr>\n",
       "      <th>2</th>\n",
       "      <td>zj2aeu</td>\n",
       "      <td>ChatGPT</td>\n",
       "      <td>1.670782e+09</td>\n",
       "      <td>NaN</td>\n",
       "      <td>https://i.redd.it/nytnro758b5a1.png</td>\n",
       "      <td>10/10, must-see moment! ChatGPT just did somet...</td>\n",
       "      <td>NaN</td>\n",
       "      <td>20586</td>\n",
       "      <td>300</td>\n",
       "      <td>1.0</td>\n",
       "      <td>chatgpt karma whoring is here folks! just when...</td>\n",
       "      <td>23</td>\n",
       "      <td>131</td>\n",
       "    </tr>\n",
       "    <tr>\n",
       "      <th>3</th>\n",
       "      <td>zj2aeu</td>\n",
       "      <td>ChatGPT</td>\n",
       "      <td>1.670782e+09</td>\n",
       "      <td>NaN</td>\n",
       "      <td>https://i.redd.it/nytnro758b5a1.png</td>\n",
       "      <td>10/10, must-see moment! ChatGPT just did somet...</td>\n",
       "      <td>NaN</td>\n",
       "      <td>20586</td>\n",
       "      <td>300</td>\n",
       "      <td>1.0</td>\n",
       "      <td>Worked on me, ngl.</td>\n",
       "      <td>4</td>\n",
       "      <td>18</td>\n",
       "    </tr>\n",
       "    <tr>\n",
       "      <th>4</th>\n",
       "      <td>zj2aeu</td>\n",
       "      <td>ChatGPT</td>\n",
       "      <td>1.670782e+09</td>\n",
       "      <td>NaN</td>\n",
       "      <td>https://i.redd.it/nytnro758b5a1.png</td>\n",
       "      <td>10/10, must-see moment! ChatGPT just did somet...</td>\n",
       "      <td>NaN</td>\n",
       "      <td>20586</td>\n",
       "      <td>300</td>\n",
       "      <td>1.0</td>\n",
       "      <td>Certified 10/10, must-see moment. It really di...</td>\n",
       "      <td>12</td>\n",
       "      <td>68</td>\n",
       "    </tr>\n",
       "    <tr>\n",
       "      <th>...</th>\n",
       "      <td>...</td>\n",
       "      <td>...</td>\n",
       "      <td>...</td>\n",
       "      <td>...</td>\n",
       "      <td>...</td>\n",
       "      <td>...</td>\n",
       "      <td>...</td>\n",
       "      <td>...</td>\n",
       "      <td>...</td>\n",
       "      <td>...</td>\n",
       "      <td>...</td>\n",
       "      <td>...</td>\n",
       "      <td>...</td>\n",
       "    </tr>\n",
       "    <tr>\n",
       "      <th>161578</th>\n",
       "      <td>10hrwso</td>\n",
       "      <td>ChatGPT</td>\n",
       "      <td>1.674310e+09</td>\n",
       "      <td>This thread is virtually worthless with all th...</td>\n",
       "      <td>https://www.reddit.com/r/ChatGPT/comments/10hr...</td>\n",
       "      <td>How about posting something useful regarding c...</td>\n",
       "      <td>Other</td>\n",
       "      <td>271</td>\n",
       "      <td>106</td>\n",
       "      <td>0.8</td>\n",
       "      <td>This is absolutely correct. To read this viewp...</td>\n",
       "      <td>23</td>\n",
       "      <td>123</td>\n",
       "    </tr>\n",
       "    <tr>\n",
       "      <th>161579</th>\n",
       "      <td>10hrwso</td>\n",
       "      <td>ChatGPT</td>\n",
       "      <td>1.674310e+09</td>\n",
       "      <td>This thread is virtually worthless with all th...</td>\n",
       "      <td>https://www.reddit.com/r/ChatGPT/comments/10hr...</td>\n",
       "      <td>How about posting something useful regarding c...</td>\n",
       "      <td>Other</td>\n",
       "      <td>271</td>\n",
       "      <td>106</td>\n",
       "      <td>0.8</td>\n",
       "      <td>If you believe that human entertainment is les...</td>\n",
       "      <td>149</td>\n",
       "      <td>866</td>\n",
       "    </tr>\n",
       "    <tr>\n",
       "      <th>161580</th>\n",
       "      <td>10hrwso</td>\n",
       "      <td>ChatGPT</td>\n",
       "      <td>1.674310e+09</td>\n",
       "      <td>This thread is virtually worthless with all th...</td>\n",
       "      <td>https://www.reddit.com/r/ChatGPT/comments/10hr...</td>\n",
       "      <td>How about posting something useful regarding c...</td>\n",
       "      <td>Other</td>\n",
       "      <td>271</td>\n",
       "      <td>106</td>\n",
       "      <td>0.8</td>\n",
       "      <td>A marketing team isn't just going to run campa...</td>\n",
       "      <td>131</td>\n",
       "      <td>734</td>\n",
       "    </tr>\n",
       "    <tr>\n",
       "      <th>161581</th>\n",
       "      <td>10hrwso</td>\n",
       "      <td>ChatGPT</td>\n",
       "      <td>1.674310e+09</td>\n",
       "      <td>This thread is virtually worthless with all th...</td>\n",
       "      <td>https://www.reddit.com/r/ChatGPT/comments/10hr...</td>\n",
       "      <td>How about posting something useful regarding c...</td>\n",
       "      <td>Other</td>\n",
       "      <td>271</td>\n",
       "      <td>106</td>\n",
       "      <td>0.8</td>\n",
       "      <td>I wasn’t exactly saying that you are promoting...</td>\n",
       "      <td>52</td>\n",
       "      <td>314</td>\n",
       "    </tr>\n",
       "    <tr>\n",
       "      <th>161582</th>\n",
       "      <td>10hrwso</td>\n",
       "      <td>ChatGPT</td>\n",
       "      <td>1.674310e+09</td>\n",
       "      <td>This thread is virtually worthless with all th...</td>\n",
       "      <td>https://www.reddit.com/r/ChatGPT/comments/10hr...</td>\n",
       "      <td>How about posting something useful regarding c...</td>\n",
       "      <td>Other</td>\n",
       "      <td>271</td>\n",
       "      <td>106</td>\n",
       "      <td>0.8</td>\n",
       "      <td>My company has 20,000 parts in inventory that ...</td>\n",
       "      <td>103</td>\n",
       "      <td>592</td>\n",
       "    </tr>\n",
       "  </tbody>\n",
       "</table>\n",
       "<p>161576 rows × 13 columns</p>\n",
       "</div>"
      ],
      "text/plain": [
       "        post_id subreddit   created_utc  \\\n",
       "0        zj2aeu   ChatGPT  1.670782e+09   \n",
       "1        zj2aeu   ChatGPT  1.670782e+09   \n",
       "2        zj2aeu   ChatGPT  1.670782e+09   \n",
       "3        zj2aeu   ChatGPT  1.670782e+09   \n",
       "4        zj2aeu   ChatGPT  1.670782e+09   \n",
       "...         ...       ...           ...   \n",
       "161578  10hrwso   ChatGPT  1.674310e+09   \n",
       "161579  10hrwso   ChatGPT  1.674310e+09   \n",
       "161580  10hrwso   ChatGPT  1.674310e+09   \n",
       "161581  10hrwso   ChatGPT  1.674310e+09   \n",
       "161582  10hrwso   ChatGPT  1.674310e+09   \n",
       "\n",
       "                                                 selftext  \\\n",
       "0                                                     NaN   \n",
       "1                                                     NaN   \n",
       "2                                                     NaN   \n",
       "3                                                     NaN   \n",
       "4                                                     NaN   \n",
       "...                                                   ...   \n",
       "161578  This thread is virtually worthless with all th...   \n",
       "161579  This thread is virtually worthless with all th...   \n",
       "161580  This thread is virtually worthless with all th...   \n",
       "161581  This thread is virtually worthless with all th...   \n",
       "161582  This thread is virtually worthless with all th...   \n",
       "\n",
       "                                                 post_url  \\\n",
       "0                     https://i.redd.it/nytnro758b5a1.png   \n",
       "1                     https://i.redd.it/nytnro758b5a1.png   \n",
       "2                     https://i.redd.it/nytnro758b5a1.png   \n",
       "3                     https://i.redd.it/nytnro758b5a1.png   \n",
       "4                     https://i.redd.it/nytnro758b5a1.png   \n",
       "...                                                   ...   \n",
       "161578  https://www.reddit.com/r/ChatGPT/comments/10hr...   \n",
       "161579  https://www.reddit.com/r/ChatGPT/comments/10hr...   \n",
       "161580  https://www.reddit.com/r/ChatGPT/comments/10hr...   \n",
       "161581  https://www.reddit.com/r/ChatGPT/comments/10hr...   \n",
       "161582  https://www.reddit.com/r/ChatGPT/comments/10hr...   \n",
       "\n",
       "                                               post_title link_falir_text  \\\n",
       "0       10/10, must-see moment! ChatGPT just did somet...             NaN   \n",
       "1       10/10, must-see moment! ChatGPT just did somet...             NaN   \n",
       "2       10/10, must-see moment! ChatGPT just did somet...             NaN   \n",
       "3       10/10, must-see moment! ChatGPT just did somet...             NaN   \n",
       "4       10/10, must-see moment! ChatGPT just did somet...             NaN   \n",
       "...                                                   ...             ...   \n",
       "161578  How about posting something useful regarding c...          Other    \n",
       "161579  How about posting something useful regarding c...          Other    \n",
       "161580  How about posting something useful regarding c...          Other    \n",
       "161581  How about posting something useful regarding c...          Other    \n",
       "161582  How about posting something useful regarding c...          Other    \n",
       "\n",
       "        score  num_comments  upvote_ratio  \\\n",
       "0       20586           300           1.0   \n",
       "1       20586           300           1.0   \n",
       "2       20586           300           1.0   \n",
       "3       20586           300           1.0   \n",
       "4       20586           300           1.0   \n",
       "...       ...           ...           ...   \n",
       "161578    271           106           0.8   \n",
       "161579    271           106           0.8   \n",
       "161580    271           106           0.8   \n",
       "161581    271           106           0.8   \n",
       "161582    271           106           0.8   \n",
       "\n",
       "                                                  comment  word_count  length  \n",
       "0       I've been shocked for days now, I don't need c...          10      55  \n",
       "1        \\r\\n\\r\\nI am so angry right now. I just waste...         229    1212  \n",
       "2       chatgpt karma whoring is here folks! just when...          23     131  \n",
       "3                                      Worked on me, ngl.           4      18  \n",
       "4       Certified 10/10, must-see moment. It really di...          12      68  \n",
       "...                                                   ...         ...     ...  \n",
       "161578  This is absolutely correct. To read this viewp...          23     123  \n",
       "161579  If you believe that human entertainment is les...         149     866  \n",
       "161580  A marketing team isn't just going to run campa...         131     734  \n",
       "161581  I wasn’t exactly saying that you are promoting...          52     314  \n",
       "161582  My company has 20,000 parts in inventory that ...         103     592  \n",
       "\n",
       "[161576 rows x 13 columns]"
      ]
     },
     "execution_count": 33,
     "metadata": {},
     "output_type": "execute_result"
    }
   ],
   "source": [
    "# Adding two columns of number of words in each comment and the length of the comment.\n",
    "\n",
    "comments_posts_df['word_count'] = comments_posts_df['comment'].apply(lambda x : len(str(x).split(\" \")))\n",
    "comments_posts_df['length'] = comments_posts_df['comment'].str.len()\n",
    "comments_posts_df"
   ]
  },
  {
   "cell_type": "code",
   "execution_count": 34,
   "id": "6ce7d63a-da17-467c-86d2-c0ee1baeedfe",
   "metadata": {},
   "outputs": [
    {
     "data": {
      "text/html": [
       "<div>\n",
       "<style scoped>\n",
       "    .dataframe tbody tr th:only-of-type {\n",
       "        vertical-align: middle;\n",
       "    }\n",
       "\n",
       "    .dataframe tbody tr th {\n",
       "        vertical-align: top;\n",
       "    }\n",
       "\n",
       "    .dataframe thead th {\n",
       "        text-align: right;\n",
       "    }\n",
       "</style>\n",
       "<table border=\"1\" class=\"dataframe\">\n",
       "  <thead>\n",
       "    <tr style=\"text-align: right;\">\n",
       "      <th></th>\n",
       "      <th>post_id</th>\n",
       "      <th>subreddit</th>\n",
       "      <th>created_utc</th>\n",
       "      <th>selftext</th>\n",
       "      <th>post_url</th>\n",
       "      <th>post_title</th>\n",
       "      <th>link_falir_text</th>\n",
       "      <th>score</th>\n",
       "      <th>num_comments</th>\n",
       "      <th>upvote_ratio</th>\n",
       "      <th>comment</th>\n",
       "      <th>word_count</th>\n",
       "      <th>length</th>\n",
       "    </tr>\n",
       "  </thead>\n",
       "  <tbody>\n",
       "    <tr>\n",
       "      <th>3</th>\n",
       "      <td>zj2aeu</td>\n",
       "      <td>ChatGPT</td>\n",
       "      <td>1.670782e+09</td>\n",
       "      <td>NaN</td>\n",
       "      <td>https://i.redd.it/nytnro758b5a1.png</td>\n",
       "      <td>10/10, must-see moment! ChatGPT just did somet...</td>\n",
       "      <td>NaN</td>\n",
       "      <td>20586</td>\n",
       "      <td>300</td>\n",
       "      <td>1.0</td>\n",
       "      <td>Worked on me, ngl.</td>\n",
       "      <td>4</td>\n",
       "      <td>18</td>\n",
       "    </tr>\n",
       "    <tr>\n",
       "      <th>9</th>\n",
       "      <td>zj2aeu</td>\n",
       "      <td>ChatGPT</td>\n",
       "      <td>1.670782e+09</td>\n",
       "      <td>NaN</td>\n",
       "      <td>https://i.redd.it/nytnro758b5a1.png</td>\n",
       "      <td>10/10, must-see moment! ChatGPT just did somet...</td>\n",
       "      <td>NaN</td>\n",
       "      <td>20586</td>\n",
       "      <td>300</td>\n",
       "      <td>1.0</td>\n",
       "      <td>Inception))</td>\n",
       "      <td>1</td>\n",
       "      <td>11</td>\n",
       "    </tr>\n",
       "    <tr>\n",
       "      <th>12</th>\n",
       "      <td>zj2aeu</td>\n",
       "      <td>ChatGPT</td>\n",
       "      <td>1.670782e+09</td>\n",
       "      <td>NaN</td>\n",
       "      <td>https://i.redd.it/nytnro758b5a1.png</td>\n",
       "      <td>10/10, must-see moment! ChatGPT just did somet...</td>\n",
       "      <td>NaN</td>\n",
       "      <td>20586</td>\n",
       "      <td>300</td>\n",
       "      <td>1.0</td>\n",
       "      <td>Thanks block option.</td>\n",
       "      <td>3</td>\n",
       "      <td>20</td>\n",
       "    </tr>\n",
       "    <tr>\n",
       "      <th>13</th>\n",
       "      <td>zj2aeu</td>\n",
       "      <td>ChatGPT</td>\n",
       "      <td>1.670782e+09</td>\n",
       "      <td>NaN</td>\n",
       "      <td>https://i.redd.it/nytnro758b5a1.png</td>\n",
       "      <td>10/10, must-see moment! ChatGPT just did somet...</td>\n",
       "      <td>NaN</td>\n",
       "      <td>20586</td>\n",
       "      <td>300</td>\n",
       "      <td>1.0</td>\n",
       "      <td>Shit it worked on me</td>\n",
       "      <td>5</td>\n",
       "      <td>20</td>\n",
       "    </tr>\n",
       "    <tr>\n",
       "      <th>14</th>\n",
       "      <td>zj2aeu</td>\n",
       "      <td>ChatGPT</td>\n",
       "      <td>1.670782e+09</td>\n",
       "      <td>NaN</td>\n",
       "      <td>https://i.redd.it/nytnro758b5a1.png</td>\n",
       "      <td>10/10, must-see moment! ChatGPT just did somet...</td>\n",
       "      <td>NaN</td>\n",
       "      <td>20586</td>\n",
       "      <td>300</td>\n",
       "      <td>1.0</td>\n",
       "      <td>God damnit it worked.</td>\n",
       "      <td>4</td>\n",
       "      <td>21</td>\n",
       "    </tr>\n",
       "    <tr>\n",
       "      <th>...</th>\n",
       "      <td>...</td>\n",
       "      <td>...</td>\n",
       "      <td>...</td>\n",
       "      <td>...</td>\n",
       "      <td>...</td>\n",
       "      <td>...</td>\n",
       "      <td>...</td>\n",
       "      <td>...</td>\n",
       "      <td>...</td>\n",
       "      <td>...</td>\n",
       "      <td>...</td>\n",
       "      <td>...</td>\n",
       "      <td>...</td>\n",
       "    </tr>\n",
       "    <tr>\n",
       "      <th>161560</th>\n",
       "      <td>10hrwso</td>\n",
       "      <td>ChatGPT</td>\n",
       "      <td>1.674310e+09</td>\n",
       "      <td>This thread is virtually worthless with all th...</td>\n",
       "      <td>https://www.reddit.com/r/ChatGPT/comments/10hr...</td>\n",
       "      <td>How about posting something useful regarding c...</td>\n",
       "      <td>Other</td>\n",
       "      <td>271</td>\n",
       "      <td>106</td>\n",
       "      <td>0.8</td>\n",
       "      <td>[removed]</td>\n",
       "      <td>1</td>\n",
       "      <td>9</td>\n",
       "    </tr>\n",
       "    <tr>\n",
       "      <th>161563</th>\n",
       "      <td>10hrwso</td>\n",
       "      <td>ChatGPT</td>\n",
       "      <td>1.674310e+09</td>\n",
       "      <td>This thread is virtually worthless with all th...</td>\n",
       "      <td>https://www.reddit.com/r/ChatGPT/comments/10hr...</td>\n",
       "      <td>How about posting something useful regarding c...</td>\n",
       "      <td>Other</td>\n",
       "      <td>271</td>\n",
       "      <td>106</td>\n",
       "      <td>0.8</td>\n",
       "      <td>Very Possibly! Try it!!!!</td>\n",
       "      <td>4</td>\n",
       "      <td>25</td>\n",
       "    </tr>\n",
       "    <tr>\n",
       "      <th>161564</th>\n",
       "      <td>10hrwso</td>\n",
       "      <td>ChatGPT</td>\n",
       "      <td>1.674310e+09</td>\n",
       "      <td>This thread is virtually worthless with all th...</td>\n",
       "      <td>https://www.reddit.com/r/ChatGPT/comments/10hr...</td>\n",
       "      <td>How about posting something useful regarding c...</td>\n",
       "      <td>Other</td>\n",
       "      <td>271</td>\n",
       "      <td>106</td>\n",
       "      <td>0.8</td>\n",
       "      <td>Mornington Crescent\\n\\nhttps://en.wikipedia.or...</td>\n",
       "      <td>2</td>\n",
       "      <td>77</td>\n",
       "    </tr>\n",
       "    <tr>\n",
       "      <th>161566</th>\n",
       "      <td>10hrwso</td>\n",
       "      <td>ChatGPT</td>\n",
       "      <td>1.674310e+09</td>\n",
       "      <td>This thread is virtually worthless with all th...</td>\n",
       "      <td>https://www.reddit.com/r/ChatGPT/comments/10hr...</td>\n",
       "      <td>How about posting something useful regarding c...</td>\n",
       "      <td>Other</td>\n",
       "      <td>271</td>\n",
       "      <td>106</td>\n",
       "      <td>0.8</td>\n",
       "      <td>\\*based on delusion</td>\n",
       "      <td>3</td>\n",
       "      <td>19</td>\n",
       "    </tr>\n",
       "    <tr>\n",
       "      <th>161573</th>\n",
       "      <td>10hrwso</td>\n",
       "      <td>ChatGPT</td>\n",
       "      <td>1.674310e+09</td>\n",
       "      <td>This thread is virtually worthless with all th...</td>\n",
       "      <td>https://www.reddit.com/r/ChatGPT/comments/10hr...</td>\n",
       "      <td>How about posting something useful regarding c...</td>\n",
       "      <td>Other</td>\n",
       "      <td>271</td>\n",
       "      <td>106</td>\n",
       "      <td>0.8</td>\n",
       "      <td>[removed]</td>\n",
       "      <td>1</td>\n",
       "      <td>9</td>\n",
       "    </tr>\n",
       "  </tbody>\n",
       "</table>\n",
       "<p>41848 rows × 13 columns</p>\n",
       "</div>"
      ],
      "text/plain": [
       "        post_id subreddit   created_utc  \\\n",
       "3        zj2aeu   ChatGPT  1.670782e+09   \n",
       "9        zj2aeu   ChatGPT  1.670782e+09   \n",
       "12       zj2aeu   ChatGPT  1.670782e+09   \n",
       "13       zj2aeu   ChatGPT  1.670782e+09   \n",
       "14       zj2aeu   ChatGPT  1.670782e+09   \n",
       "...         ...       ...           ...   \n",
       "161560  10hrwso   ChatGPT  1.674310e+09   \n",
       "161563  10hrwso   ChatGPT  1.674310e+09   \n",
       "161564  10hrwso   ChatGPT  1.674310e+09   \n",
       "161566  10hrwso   ChatGPT  1.674310e+09   \n",
       "161573  10hrwso   ChatGPT  1.674310e+09   \n",
       "\n",
       "                                                 selftext  \\\n",
       "3                                                     NaN   \n",
       "9                                                     NaN   \n",
       "12                                                    NaN   \n",
       "13                                                    NaN   \n",
       "14                                                    NaN   \n",
       "...                                                   ...   \n",
       "161560  This thread is virtually worthless with all th...   \n",
       "161563  This thread is virtually worthless with all th...   \n",
       "161564  This thread is virtually worthless with all th...   \n",
       "161566  This thread is virtually worthless with all th...   \n",
       "161573  This thread is virtually worthless with all th...   \n",
       "\n",
       "                                                 post_url  \\\n",
       "3                     https://i.redd.it/nytnro758b5a1.png   \n",
       "9                     https://i.redd.it/nytnro758b5a1.png   \n",
       "12                    https://i.redd.it/nytnro758b5a1.png   \n",
       "13                    https://i.redd.it/nytnro758b5a1.png   \n",
       "14                    https://i.redd.it/nytnro758b5a1.png   \n",
       "...                                                   ...   \n",
       "161560  https://www.reddit.com/r/ChatGPT/comments/10hr...   \n",
       "161563  https://www.reddit.com/r/ChatGPT/comments/10hr...   \n",
       "161564  https://www.reddit.com/r/ChatGPT/comments/10hr...   \n",
       "161566  https://www.reddit.com/r/ChatGPT/comments/10hr...   \n",
       "161573  https://www.reddit.com/r/ChatGPT/comments/10hr...   \n",
       "\n",
       "                                               post_title link_falir_text  \\\n",
       "3       10/10, must-see moment! ChatGPT just did somet...             NaN   \n",
       "9       10/10, must-see moment! ChatGPT just did somet...             NaN   \n",
       "12      10/10, must-see moment! ChatGPT just did somet...             NaN   \n",
       "13      10/10, must-see moment! ChatGPT just did somet...             NaN   \n",
       "14      10/10, must-see moment! ChatGPT just did somet...             NaN   \n",
       "...                                                   ...             ...   \n",
       "161560  How about posting something useful regarding c...          Other    \n",
       "161563  How about posting something useful regarding c...          Other    \n",
       "161564  How about posting something useful regarding c...          Other    \n",
       "161566  How about posting something useful regarding c...          Other    \n",
       "161573  How about posting something useful regarding c...          Other    \n",
       "\n",
       "        score  num_comments  upvote_ratio  \\\n",
       "3       20586           300           1.0   \n",
       "9       20586           300           1.0   \n",
       "12      20586           300           1.0   \n",
       "13      20586           300           1.0   \n",
       "14      20586           300           1.0   \n",
       "...       ...           ...           ...   \n",
       "161560    271           106           0.8   \n",
       "161563    271           106           0.8   \n",
       "161564    271           106           0.8   \n",
       "161566    271           106           0.8   \n",
       "161573    271           106           0.8   \n",
       "\n",
       "                                                  comment  word_count  length  \n",
       "3                                      Worked on me, ngl.           4      18  \n",
       "9                                             Inception))           1      11  \n",
       "12                                   Thanks block option.           3      20  \n",
       "13                                   Shit it worked on me           5      20  \n",
       "14                                  God damnit it worked.           4      21  \n",
       "...                                                   ...         ...     ...  \n",
       "161560                                          [removed]           1       9  \n",
       "161563                          Very Possibly! Try it!!!!           4      25  \n",
       "161564  Mornington Crescent\\n\\nhttps://en.wikipedia.or...           2      77  \n",
       "161566                                \\*based on delusion           3      19  \n",
       "161573                                          [removed]           1       9  \n",
       "\n",
       "[41848 rows x 13 columns]"
      ]
     },
     "execution_count": 34,
     "metadata": {},
     "output_type": "execute_result"
    }
   ],
   "source": [
    "# Showing all the comments with less than 8 words\n",
    "comments_posts_df[comments_posts_df[\"word_count\"] < 8 ]"
   ]
  },
  {
   "cell_type": "code",
   "execution_count": 35,
   "id": "3dc82292-7e00-41f0-9358-1ca9bc1d13b5",
   "metadata": {},
   "outputs": [
    {
     "data": {
      "text/plain": [
       "(119728, 13)"
      ]
     },
     "execution_count": 35,
     "metadata": {},
     "output_type": "execute_result"
    },
    {
     "data": {
      "text/html": [
       "<div>\n",
       "<style scoped>\n",
       "    .dataframe tbody tr th:only-of-type {\n",
       "        vertical-align: middle;\n",
       "    }\n",
       "\n",
       "    .dataframe tbody tr th {\n",
       "        vertical-align: top;\n",
       "    }\n",
       "\n",
       "    .dataframe thead th {\n",
       "        text-align: right;\n",
       "    }\n",
       "</style>\n",
       "<table border=\"1\" class=\"dataframe\">\n",
       "  <thead>\n",
       "    <tr style=\"text-align: right;\">\n",
       "      <th></th>\n",
       "      <th>post_id</th>\n",
       "      <th>subreddit</th>\n",
       "      <th>created_utc</th>\n",
       "      <th>selftext</th>\n",
       "      <th>post_url</th>\n",
       "      <th>post_title</th>\n",
       "      <th>link_falir_text</th>\n",
       "      <th>score</th>\n",
       "      <th>num_comments</th>\n",
       "      <th>upvote_ratio</th>\n",
       "      <th>comment</th>\n",
       "      <th>word_count</th>\n",
       "      <th>length</th>\n",
       "    </tr>\n",
       "  </thead>\n",
       "  <tbody>\n",
       "    <tr>\n",
       "      <th>0</th>\n",
       "      <td>zj2aeu</td>\n",
       "      <td>ChatGPT</td>\n",
       "      <td>1.670782e+09</td>\n",
       "      <td>NaN</td>\n",
       "      <td>https://i.redd.it/nytnro758b5a1.png</td>\n",
       "      <td>10/10, must-see moment! ChatGPT just did somet...</td>\n",
       "      <td>NaN</td>\n",
       "      <td>20586</td>\n",
       "      <td>300</td>\n",
       "      <td>1.0</td>\n",
       "      <td>I've been shocked for days now, I don't need c...</td>\n",
       "      <td>10</td>\n",
       "      <td>55</td>\n",
       "    </tr>\n",
       "    <tr>\n",
       "      <th>1</th>\n",
       "      <td>zj2aeu</td>\n",
       "      <td>ChatGPT</td>\n",
       "      <td>1.670782e+09</td>\n",
       "      <td>NaN</td>\n",
       "      <td>https://i.redd.it/nytnro758b5a1.png</td>\n",
       "      <td>10/10, must-see moment! ChatGPT just did somet...</td>\n",
       "      <td>NaN</td>\n",
       "      <td>20586</td>\n",
       "      <td>300</td>\n",
       "      <td>1.0</td>\n",
       "      <td>\\r\\n\\r\\nI am so angry right now. I just waste...</td>\n",
       "      <td>229</td>\n",
       "      <td>1212</td>\n",
       "    </tr>\n",
       "    <tr>\n",
       "      <th>2</th>\n",
       "      <td>zj2aeu</td>\n",
       "      <td>ChatGPT</td>\n",
       "      <td>1.670782e+09</td>\n",
       "      <td>NaN</td>\n",
       "      <td>https://i.redd.it/nytnro758b5a1.png</td>\n",
       "      <td>10/10, must-see moment! ChatGPT just did somet...</td>\n",
       "      <td>NaN</td>\n",
       "      <td>20586</td>\n",
       "      <td>300</td>\n",
       "      <td>1.0</td>\n",
       "      <td>chatgpt karma whoring is here folks! just when...</td>\n",
       "      <td>23</td>\n",
       "      <td>131</td>\n",
       "    </tr>\n",
       "    <tr>\n",
       "      <th>4</th>\n",
       "      <td>zj2aeu</td>\n",
       "      <td>ChatGPT</td>\n",
       "      <td>1.670782e+09</td>\n",
       "      <td>NaN</td>\n",
       "      <td>https://i.redd.it/nytnro758b5a1.png</td>\n",
       "      <td>10/10, must-see moment! ChatGPT just did somet...</td>\n",
       "      <td>NaN</td>\n",
       "      <td>20586</td>\n",
       "      <td>300</td>\n",
       "      <td>1.0</td>\n",
       "      <td>Certified 10/10, must-see moment. It really di...</td>\n",
       "      <td>12</td>\n",
       "      <td>68</td>\n",
       "    </tr>\n",
       "    <tr>\n",
       "      <th>5</th>\n",
       "      <td>zj2aeu</td>\n",
       "      <td>ChatGPT</td>\n",
       "      <td>1.670782e+09</td>\n",
       "      <td>NaN</td>\n",
       "      <td>https://i.redd.it/nytnro758b5a1.png</td>\n",
       "      <td>10/10, must-see moment! ChatGPT just did somet...</td>\n",
       "      <td>NaN</td>\n",
       "      <td>20586</td>\n",
       "      <td>300</td>\n",
       "      <td>1.0</td>\n",
       "      <td>People on Reddit seek the karma and the fame,\\...</td>\n",
       "      <td>115</td>\n",
       "      <td>687</td>\n",
       "    </tr>\n",
       "    <tr>\n",
       "      <th>...</th>\n",
       "      <td>...</td>\n",
       "      <td>...</td>\n",
       "      <td>...</td>\n",
       "      <td>...</td>\n",
       "      <td>...</td>\n",
       "      <td>...</td>\n",
       "      <td>...</td>\n",
       "      <td>...</td>\n",
       "      <td>...</td>\n",
       "      <td>...</td>\n",
       "      <td>...</td>\n",
       "      <td>...</td>\n",
       "      <td>...</td>\n",
       "    </tr>\n",
       "    <tr>\n",
       "      <th>161578</th>\n",
       "      <td>10hrwso</td>\n",
       "      <td>ChatGPT</td>\n",
       "      <td>1.674310e+09</td>\n",
       "      <td>This thread is virtually worthless with all th...</td>\n",
       "      <td>https://www.reddit.com/r/ChatGPT/comments/10hr...</td>\n",
       "      <td>How about posting something useful regarding c...</td>\n",
       "      <td>Other</td>\n",
       "      <td>271</td>\n",
       "      <td>106</td>\n",
       "      <td>0.8</td>\n",
       "      <td>This is absolutely correct. To read this viewp...</td>\n",
       "      <td>23</td>\n",
       "      <td>123</td>\n",
       "    </tr>\n",
       "    <tr>\n",
       "      <th>161579</th>\n",
       "      <td>10hrwso</td>\n",
       "      <td>ChatGPT</td>\n",
       "      <td>1.674310e+09</td>\n",
       "      <td>This thread is virtually worthless with all th...</td>\n",
       "      <td>https://www.reddit.com/r/ChatGPT/comments/10hr...</td>\n",
       "      <td>How about posting something useful regarding c...</td>\n",
       "      <td>Other</td>\n",
       "      <td>271</td>\n",
       "      <td>106</td>\n",
       "      <td>0.8</td>\n",
       "      <td>If you believe that human entertainment is les...</td>\n",
       "      <td>149</td>\n",
       "      <td>866</td>\n",
       "    </tr>\n",
       "    <tr>\n",
       "      <th>161580</th>\n",
       "      <td>10hrwso</td>\n",
       "      <td>ChatGPT</td>\n",
       "      <td>1.674310e+09</td>\n",
       "      <td>This thread is virtually worthless with all th...</td>\n",
       "      <td>https://www.reddit.com/r/ChatGPT/comments/10hr...</td>\n",
       "      <td>How about posting something useful regarding c...</td>\n",
       "      <td>Other</td>\n",
       "      <td>271</td>\n",
       "      <td>106</td>\n",
       "      <td>0.8</td>\n",
       "      <td>A marketing team isn't just going to run campa...</td>\n",
       "      <td>131</td>\n",
       "      <td>734</td>\n",
       "    </tr>\n",
       "    <tr>\n",
       "      <th>161581</th>\n",
       "      <td>10hrwso</td>\n",
       "      <td>ChatGPT</td>\n",
       "      <td>1.674310e+09</td>\n",
       "      <td>This thread is virtually worthless with all th...</td>\n",
       "      <td>https://www.reddit.com/r/ChatGPT/comments/10hr...</td>\n",
       "      <td>How about posting something useful regarding c...</td>\n",
       "      <td>Other</td>\n",
       "      <td>271</td>\n",
       "      <td>106</td>\n",
       "      <td>0.8</td>\n",
       "      <td>I wasn’t exactly saying that you are promoting...</td>\n",
       "      <td>52</td>\n",
       "      <td>314</td>\n",
       "    </tr>\n",
       "    <tr>\n",
       "      <th>161582</th>\n",
       "      <td>10hrwso</td>\n",
       "      <td>ChatGPT</td>\n",
       "      <td>1.674310e+09</td>\n",
       "      <td>This thread is virtually worthless with all th...</td>\n",
       "      <td>https://www.reddit.com/r/ChatGPT/comments/10hr...</td>\n",
       "      <td>How about posting something useful regarding c...</td>\n",
       "      <td>Other</td>\n",
       "      <td>271</td>\n",
       "      <td>106</td>\n",
       "      <td>0.8</td>\n",
       "      <td>My company has 20,000 parts in inventory that ...</td>\n",
       "      <td>103</td>\n",
       "      <td>592</td>\n",
       "    </tr>\n",
       "  </tbody>\n",
       "</table>\n",
       "<p>119728 rows × 13 columns</p>\n",
       "</div>"
      ],
      "text/plain": [
       "        post_id subreddit   created_utc  \\\n",
       "0        zj2aeu   ChatGPT  1.670782e+09   \n",
       "1        zj2aeu   ChatGPT  1.670782e+09   \n",
       "2        zj2aeu   ChatGPT  1.670782e+09   \n",
       "4        zj2aeu   ChatGPT  1.670782e+09   \n",
       "5        zj2aeu   ChatGPT  1.670782e+09   \n",
       "...         ...       ...           ...   \n",
       "161578  10hrwso   ChatGPT  1.674310e+09   \n",
       "161579  10hrwso   ChatGPT  1.674310e+09   \n",
       "161580  10hrwso   ChatGPT  1.674310e+09   \n",
       "161581  10hrwso   ChatGPT  1.674310e+09   \n",
       "161582  10hrwso   ChatGPT  1.674310e+09   \n",
       "\n",
       "                                                 selftext  \\\n",
       "0                                                     NaN   \n",
       "1                                                     NaN   \n",
       "2                                                     NaN   \n",
       "4                                                     NaN   \n",
       "5                                                     NaN   \n",
       "...                                                   ...   \n",
       "161578  This thread is virtually worthless with all th...   \n",
       "161579  This thread is virtually worthless with all th...   \n",
       "161580  This thread is virtually worthless with all th...   \n",
       "161581  This thread is virtually worthless with all th...   \n",
       "161582  This thread is virtually worthless with all th...   \n",
       "\n",
       "                                                 post_url  \\\n",
       "0                     https://i.redd.it/nytnro758b5a1.png   \n",
       "1                     https://i.redd.it/nytnro758b5a1.png   \n",
       "2                     https://i.redd.it/nytnro758b5a1.png   \n",
       "4                     https://i.redd.it/nytnro758b5a1.png   \n",
       "5                     https://i.redd.it/nytnro758b5a1.png   \n",
       "...                                                   ...   \n",
       "161578  https://www.reddit.com/r/ChatGPT/comments/10hr...   \n",
       "161579  https://www.reddit.com/r/ChatGPT/comments/10hr...   \n",
       "161580  https://www.reddit.com/r/ChatGPT/comments/10hr...   \n",
       "161581  https://www.reddit.com/r/ChatGPT/comments/10hr...   \n",
       "161582  https://www.reddit.com/r/ChatGPT/comments/10hr...   \n",
       "\n",
       "                                               post_title link_falir_text  \\\n",
       "0       10/10, must-see moment! ChatGPT just did somet...             NaN   \n",
       "1       10/10, must-see moment! ChatGPT just did somet...             NaN   \n",
       "2       10/10, must-see moment! ChatGPT just did somet...             NaN   \n",
       "4       10/10, must-see moment! ChatGPT just did somet...             NaN   \n",
       "5       10/10, must-see moment! ChatGPT just did somet...             NaN   \n",
       "...                                                   ...             ...   \n",
       "161578  How about posting something useful regarding c...          Other    \n",
       "161579  How about posting something useful regarding c...          Other    \n",
       "161580  How about posting something useful regarding c...          Other    \n",
       "161581  How about posting something useful regarding c...          Other    \n",
       "161582  How about posting something useful regarding c...          Other    \n",
       "\n",
       "        score  num_comments  upvote_ratio  \\\n",
       "0       20586           300           1.0   \n",
       "1       20586           300           1.0   \n",
       "2       20586           300           1.0   \n",
       "4       20586           300           1.0   \n",
       "5       20586           300           1.0   \n",
       "...       ...           ...           ...   \n",
       "161578    271           106           0.8   \n",
       "161579    271           106           0.8   \n",
       "161580    271           106           0.8   \n",
       "161581    271           106           0.8   \n",
       "161582    271           106           0.8   \n",
       "\n",
       "                                                  comment  word_count  length  \n",
       "0       I've been shocked for days now, I don't need c...          10      55  \n",
       "1        \\r\\n\\r\\nI am so angry right now. I just waste...         229    1212  \n",
       "2       chatgpt karma whoring is here folks! just when...          23     131  \n",
       "4       Certified 10/10, must-see moment. It really di...          12      68  \n",
       "5       People on Reddit seek the karma and the fame,\\...         115     687  \n",
       "...                                                   ...         ...     ...  \n",
       "161578  This is absolutely correct. To read this viewp...          23     123  \n",
       "161579  If you believe that human entertainment is les...         149     866  \n",
       "161580  A marketing team isn't just going to run campa...         131     734  \n",
       "161581  I wasn’t exactly saying that you are promoting...          52     314  \n",
       "161582  My company has 20,000 parts in inventory that ...         103     592  \n",
       "\n",
       "[119728 rows x 13 columns]"
      ]
     },
     "execution_count": 35,
     "metadata": {},
     "output_type": "execute_result"
    }
   ],
   "source": [
    "# Droping the rows with word length smaller than 8\n",
    "\n",
    "drop_index = comments_posts_df[comments_posts_df[\"word_count\"] < 8 ].index\n",
    "comments_posts_df.drop(drop_index, inplace= True)\n",
    "comments_posts_df.shape\n",
    "comments_posts_df"
   ]
  },
  {
   "cell_type": "code",
   "execution_count": 36,
   "id": "b2c6c618-47ca-4ea8-89fa-3190f8d9eec7",
   "metadata": {},
   "outputs": [
    {
     "name": "stdout",
     "output_type": "stream",
     "text": [
      "The first post title in the dataset📝:\n",
      " 10/10, must-see moment! ChatGPT just did something that will shock you to your core!\n",
      "\n",
      "\n",
      "The first comment in the dataset✍🏼:\n",
      " I've been shocked for days now, I don't need clickbait.\n"
     ]
    }
   ],
   "source": [
    "post_titles = posts_df['post_title'].to_list()\n",
    "post_comments = comments_posts_df['comment'].to_list()\n",
    "\n",
    "print(\"The first post title in the dataset📝:\\n\",post_titles[0])\n",
    "print(\"\\n\")\n",
    "print(\"The first comment in the dataset✍🏼:\\n\",post_comments[0])"
   ]
  },
  {
   "cell_type": "code",
   "execution_count": 37,
   "id": "85d371fa-2668-4c47-b58b-92b3e9c5418b",
   "metadata": {},
   "outputs": [
    {
     "name": "stderr",
     "output_type": "stream",
     "text": [
      "[nltk_data] Downloading package stopwords to\n",
      "[nltk_data]     /Users/samaneh/nltk_data...\n",
      "[nltk_data]   Package stopwords is already up-to-date!\n"
     ]
    },
    {
     "data": {
      "text/plain": [
       "True"
      ]
     },
     "execution_count": 37,
     "metadata": {},
     "output_type": "execute_result"
    },
    {
     "name": "stderr",
     "output_type": "stream",
     "text": [
      "[nltk_data] Downloading package wordnet to /Users/samaneh/nltk_data...\n",
      "[nltk_data]   Package wordnet is already up-to-date!\n"
     ]
    },
    {
     "data": {
      "text/plain": [
       "True"
      ]
     },
     "execution_count": 37,
     "metadata": {},
     "output_type": "execute_result"
    },
    {
     "name": "stderr",
     "output_type": "stream",
     "text": [
      "[nltk_data] Downloading package words to /Users/samaneh/nltk_data...\n",
      "[nltk_data]   Package words is already up-to-date!\n"
     ]
    },
    {
     "data": {
      "text/plain": [
       "True"
      ]
     },
     "execution_count": 37,
     "metadata": {},
     "output_type": "execute_result"
    },
    {
     "name": "stdout",
     "output_type": "stream",
     "text": [
      "Successully imported all libraries.\n"
     ]
    }
   ],
   "source": [
    "# Data Cleaning:\n",
    "import string\n",
    "import re\n",
    "from langdetect import detect #to get rid of non-english titles\n",
    "import nltk\n",
    "nltk.download('stopwords')\n",
    "nltk.download('wordnet')\n",
    "nltk.download('words')\n",
    "from nltk.corpus import words #we can also use words.words() method to get rid of non-english articles\n",
    "from nltk.corpus import stopwords\n",
    "from nltk.stem import WordNetLemmatizer\n",
    "from nltk.stem.snowball import SnowballStemmer\n",
    "from nltk.tokenize import word_tokenize\n",
    "from gensim.utils import simple_preprocess\n",
    "\n",
    "#Visualization:\n",
    "import seaborn as sns\n",
    "import matplotlib.pyplot as plt\n",
    "import numpy as np\n",
    "\n",
    "# Topic Modeling:\n",
    "import gensim\n",
    "# simple_process tokenizes a piece of text into individual words and removes any punctuation marks\n",
    "from gensim.utils import simple_preprocess\n",
    "#to work with textual data:\n",
    "import gensim.corpora as corpora \n",
    "# if you don't want to write the preprocessing code:\n",
    "# from gensim.utils import simple_preprocess\n",
    "from gensim.models import LdaModel, CoherenceModel\n",
    "# to visualize lda models in python:\n",
    "import pyLDAvis.gensim_models\n",
    "pyLDAvis.enable_notebook()\n",
    "\n",
    "print(\"Successully imported all libraries.\")"
   ]
  },
  {
   "cell_type": "code",
   "execution_count": 38,
   "id": "d61b95ce-ec67-4fe5-87c3-6f1dc7336d22",
   "metadata": {},
   "outputs": [
    {
     "name": "stdout",
     "output_type": "stream",
     "text": [
      "First Post Title in the Dataset: 10/10, must-see moment! ChatGPT just did something that will shock you to your core!\n",
      "\n",
      "\n",
      "Cleaned Version: ['mustsee', 'moment', 'something', 'shock', 'core']\n",
      "\n",
      "\n",
      "First Comment in the Dataset: I've been shocked for days now, I don't need clickbait.\n",
      "\n",
      "\n",
      "Cleaned Version: ['shock', 'days', 'dont', 'need', 'clickbait']\n"
     ]
    }
   ],
   "source": [
    "# perform preprocessing and data cleaning on the article titles and snippets\n",
    "\n",
    "stop_words = stopwords.words('english')\n",
    "custom_stop_words = ['chatgpt']\n",
    "stop_words = stop_words + custom_stop_words\n",
    "lemmatizer = WordNetLemmatizer()\n",
    "stemmer = SnowballStemmer('english') #we decided not to use it\n",
    " \n",
    "    \n",
    "def lemmatize(text):\n",
    "    return WordNetLemmatizer().lemmatize(text, pos='v')\n",
    "\n",
    "\n",
    "def preprocess(text):\n",
    "    text = text.replace('\\n', '') #remove \\n from comments\n",
    "    text = text.replace('\\r', '') #remove \\r from comments\n",
    "    text = re.sub(r'[^\\w\\s]', '', text)  # remove punctuation\n",
    "    text = text.lower()  # convert to lowercase\n",
    "    tokens = text.split()\n",
    "    \n",
    "    result = []\n",
    "    for token in simple_preprocess(text):\n",
    "        if token not in stop_words and len(token) > 3:\n",
    "            result.append(lemmatize(token))\n",
    "            \n",
    "    return result\n",
    "\n",
    "\n",
    "\n",
    "cleaned_titles = [preprocess(title) for title in post_titles]\n",
    "cleaned_comments = [preprocess(comment) for comment in post_comments]\n",
    "\n",
    "\n",
    "print(\"First Post Title in the Dataset:\",post_titles[0])\n",
    "print(\"\\n\")\n",
    "print(\"Cleaned Version:\",cleaned_titles[0])\n",
    "print(\"\\n\")\n",
    "print(\"First Comment in the Dataset:\",post_comments[0])\n",
    "print(\"\\n\")\n",
    "print(\"Cleaned Version:\",cleaned_comments[0])"
   ]
  },
  {
   "cell_type": "markdown",
   "id": "2b81d15b-804a-448e-bae5-c7d0456cfa96",
   "metadata": {
    "jp-MarkdownHeadingCollapsed": true,
    "tags": []
   },
   "source": [
    "## 💡 Creating LDA Topic Model for Post Titles"
   ]
  },
  {
   "cell_type": "code",
   "execution_count": 39,
   "id": "2587deea-4b2c-4e2e-92bb-6db62e05f5a3",
   "metadata": {},
   "outputs": [],
   "source": [
    "# create a dictionary\n",
    "id2word = corpora.Dictionary(cleaned_titles)\n",
    "# create a BoW\n",
    "corpus = [id2word.doc2bow(cleaned_title) for cleaned_title in cleaned_titles]"
   ]
  },
  {
   "cell_type": "markdown",
   "id": "ae9f6bd0-0089-4dae-bd7c-9978d6f00e4b",
   "metadata": {},
   "source": [
    "### Finding the Optimal Number of Topics"
   ]
  },
  {
   "cell_type": "code",
   "execution_count": 57,
   "id": "9fcb8096-7605-41ad-8b2d-96a4771bc603",
   "metadata": {},
   "outputs": [],
   "source": [
    "def compute_coherence_values(dictionary, corpus, texts, limit, start =2, step=1):\n",
    "    \n",
    "    \"\"\"\n",
    "    compute c_v coherence for various number of topics\n",
    "    \n",
    "    parameters:\n",
    "    -----------\n",
    "    dictionary: Gensim dictionary\n",
    "    corpus: Gensim corpus\n",
    "    texts: list of input texts\n",
    "    limit: max num of topics\n",
    "    \n",
    "    \n",
    "    returns:\n",
    "    --------\n",
    "    model_list: list of LDA topic models\n",
    "    coherence values: coherence values corresponding to the LDA model with respective number of topics\n",
    "    \"\"\"\n",
    "    \n",
    "    coherence_values = []\n",
    "    model_list = []\n",
    "    \n",
    "    for num_topics in range(start, limit,step):\n",
    "        model = gensim.models.ldamodel.LdaModel(corpus = corpus, num_topics = num_topics, random_state = 100, \n",
    "                                               chunksize = 200, passes =10, per_word_topics = True, id2word = id2word)\n",
    "        \n",
    "        model_list.append(model)\n",
    "        coherencemodel1 = CoherenceModel(model= model, texts= texts, dictionary=dictionary, coherence='c_v')\n",
    "        coherence_values.append(coherencemodel1.get_coherence())\n",
    "        \n",
    "        \n",
    "    return model_list, coherence_values\n",
    "    \n",
    "    "
   ]
  },
  {
   "cell_type": "markdown",
   "id": "72c61d8e-2f7e-4e17-b05d-ea7ab5e25b40",
   "metadata": {
    "jp-MarkdownHeadingCollapsed": true,
    "tags": []
   },
   "source": [
    "#### Creating 10 LDA models with different number of topics and get the coherence value for each topic model"
   ]
  },
  {
   "cell_type": "code",
   "execution_count": 58,
   "id": "ff60c20d-fe23-44cd-96cf-33089f044049",
   "metadata": {},
   "outputs": [],
   "source": [
    "model_list, coherence_values = compute_coherence_values(dictionary = id2word, corpus = corpus, texts = cleaned_titles, start=2, limit = 10, step = 1)\n",
    "                                                                                        \n"
   ]
  },
  {
   "cell_type": "markdown",
   "id": "cc29004d-797b-4202-a767-dca754f48daf",
   "metadata": {
    "jp-MarkdownHeadingCollapsed": true,
    "tags": []
   },
   "source": [
    "#### Visualizing the coherence score for different number of topics"
   ]
  },
  {
   "cell_type": "code",
   "execution_count": 59,
   "id": "f694aae3-b15c-4086-afb3-066489c532a1",
   "metadata": {},
   "outputs": [
    {
     "data": {
      "text/plain": [
       "[<matplotlib.lines.Line2D at 0x7fdcf34a8490>]"
      ]
     },
     "execution_count": 59,
     "metadata": {},
     "output_type": "execute_result"
    },
    {
     "data": {
      "text/plain": [
       "Text(0.5, 0, 'Number of Topics')"
      ]
     },
     "execution_count": 59,
     "metadata": {},
     "output_type": "execute_result"
    },
    {
     "data": {
      "text/plain": [
       "Text(0, 0.5, 'Coherence Score')"
      ]
     },
     "execution_count": 59,
     "metadata": {},
     "output_type": "execute_result"
    },
    {
     "data": {
      "text/plain": [
       "<matplotlib.legend.Legend at 0x7fdd40e8d190>"
      ]
     },
     "execution_count": 59,
     "metadata": {},
     "output_type": "execute_result"
    },
    {
     "data": {
      "image/png": "[encoded data removed]",
      "text/plain": [
       "<Figure size 640x480 with 1 Axes>"
      ]
     },
     "metadata": {},
     "output_type": "display_data"
    }
   ],
   "source": [
    "# show graph\n",
    "\n",
    "limit = 10\n",
    "start = 2\n",
    "step = 1\n",
    "\n",
    "x = range(start, limit, step)\n",
    "plt.plot(x, coherence_values)\n",
    "plt.xlabel(\"Number of Topics\")\n",
    "plt.ylabel(\"Coherence Score\")\n",
    "plt.legend((\"Coherence_Values\"), loc = 'best')\n",
    "plt.show()"
   ]
  },
  {
   "cell_type": "code",
   "execution_count": 60,
   "id": "0ca2b937-ec78-4ea1-a9ef-c8c2f01131f0",
   "metadata": {},
   "outputs": [
    {
     "name": "stdout",
     "output_type": "stream",
     "text": [
      "Number of Topics = 2  has Coherence Value of 0.4968\n",
      "Number of Topics = 3  has Coherence Value of 0.5\n",
      "Number of Topics = 4  has Coherence Value of 0.5478\n",
      "Number of Topics = 5  has Coherence Value of 0.5596\n",
      "Number of Topics = 6  has Coherence Value of 0.5376\n",
      "Number of Topics = 7  has Coherence Value of 0.5978\n",
      "Number of Topics = 8  has Coherence Value of 0.5903\n",
      "Number of Topics = 9  has Coherence Value of 0.5686\n"
     ]
    }
   ],
   "source": [
    "# print the coherence scores\n",
    "\n",
    "for m, cv in zip(x,coherence_values):\n",
    "    print(\"Number of Topics =\", m, \" has Coherence Value of\", round(cv,4))"
   ]
  },
  {
   "cell_type": "code",
   "execution_count": 61,
   "id": "223ecdf5-9423-47da-aaea-2bc32cf5958d",
   "metadata": {},
   "outputs": [],
   "source": [
    "# supporting function\n",
    "def compute_coherence_vals(corpus, dictionary, k, a, b):\n",
    "    \n",
    "    lda_model = gensim.models.ldamodel.LdaModel(corpus=corpus,\n",
    "                                               id2word=id2word,\n",
    "                                               num_topics=7,\n",
    "                                               random_state=100,\n",
    "                                               chunksize=200,\n",
    "                                               passes=10,\n",
    "                                               alpha=a,\n",
    "                                               eta=b,\n",
    "                                               per_word_topics=True)\n",
    "    coherence_model_lda = CoherenceModel(model=lda_model, texts=cleaned_titles, dictionary=id2word, coherence='c_v')\n",
    "    \n",
    "    return coherence_model_lda.get_coherence()\n",
    "    \n",
    "    \n",
    "    "
   ]
  },
  {
   "cell_type": "code",
   "execution_count": 62,
   "id": "7a5365cc-6887-4471-95bf-776e7f96709f",
   "metadata": {},
   "outputs": [],
   "source": [
    "import tqdm\n",
    "\n",
    "grid = {}\n",
    "grid['Validation_Set'] = {}\n",
    "\n",
    "# Topics range\n",
    "min_topics = 2\n",
    "max_topics = 10\n",
    "step_size = 1\n",
    "topics_range = range(min_topics,max_topics, step_size)\n",
    "\n",
    "# Alpha parameter\n",
    "alpha = list(np.arange(0.01,1,0.3))\n",
    "alpha.append('symmetric')\n",
    "alpha.append('asymmetric')\n",
    "\n",
    "# Beta parameter\n",
    "beta = list(np.arange(0.01, 1, 0.3))\n",
    "beta.append('symmetric')"
   ]
  },
  {
   "cell_type": "code",
   "execution_count": 63,
   "id": "c006f023-8722-44c6-8a6a-94347a348efa",
   "metadata": {},
   "outputs": [
    {
     "name": "stderr",
     "output_type": "stream",
     "text": [
      "\n",
      "  0%|                                                   | 0/540 [01:50<?, ?it/s]\u001b[A\n",
      "\n",
      "  0%|                                           | 1/540 [00:02<23:10,  2.58s/it]\u001b[A"
     ]
    },
    {
     "data": {
      "text/plain": [
       "True"
      ]
     },
     "execution_count": 63,
     "metadata": {},
     "output_type": "execute_result"
    },
    {
     "name": "stderr",
     "output_type": "stream",
     "text": [
      "\n",
      "  0%|▏                                          | 2/540 [00:05<23:36,  2.63s/it]\u001b[A"
     ]
    },
    {
     "data": {
      "text/plain": [
       "True"
      ]
     },
     "execution_count": 63,
     "metadata": {},
     "output_type": "execute_result"
    },
    {
     "name": "stderr",
     "output_type": "stream",
     "text": [
      "\n",
      "  1%|▏                                          | 3/540 [00:08<24:09,  2.70s/it]\u001b[A"
     ]
    },
    {
     "data": {
      "text/plain": [
       "True"
      ]
     },
     "execution_count": 63,
     "metadata": {},
     "output_type": "execute_result"
    },
    {
     "name": "stderr",
     "output_type": "stream",
     "text": [
      "\n",
      "  1%|▎                                          | 4/540 [00:10<24:18,  2.72s/it]\u001b[A"
     ]
    },
    {
     "data": {
      "text/plain": [
       "True"
      ]
     },
     "execution_count": 63,
     "metadata": {},
     "output_type": "execute_result"
    },
    {
     "name": "stderr",
     "output_type": "stream",
     "text": [
      "\n",
      "  1%|▍                                          | 5/540 [00:13<23:52,  2.68s/it]\u001b[A"
     ]
    },
    {
     "data": {
      "text/plain": [
       "True"
      ]
     },
     "execution_count": 63,
     "metadata": {},
     "output_type": "execute_result"
    },
    {
     "name": "stderr",
     "output_type": "stream",
     "text": [
      "\n",
      "  1%|▍                                          | 6/540 [00:15<23:13,  2.61s/it]\u001b[A"
     ]
    },
    {
     "data": {
      "text/plain": [
       "True"
      ]
     },
     "execution_count": 63,
     "metadata": {},
     "output_type": "execute_result"
    },
    {
     "name": "stderr",
     "output_type": "stream",
     "text": [
      "\n",
      "  1%|▌                                          | 7/540 [00:18<23:30,  2.65s/it]\u001b[A"
     ]
    },
    {
     "data": {
      "text/plain": [
       "True"
      ]
     },
     "execution_count": 63,
     "metadata": {},
     "output_type": "execute_result"
    },
    {
     "name": "stderr",
     "output_type": "stream",
     "text": [
      "\n",
      "  1%|▋                                          | 8/540 [00:21<24:21,  2.75s/it]\u001b[A"
     ]
    },
    {
     "data": {
      "text/plain": [
       "True"
      ]
     },
     "execution_count": 63,
     "metadata": {},
     "output_type": "execute_result"
    },
    {
     "name": "stderr",
     "output_type": "stream",
     "text": [
      "\n",
      "  2%|▋                                          | 9/540 [00:24<25:26,  2.87s/it]\u001b[A"
     ]
    },
    {
     "data": {
      "text/plain": [
       "True"
      ]
     },
     "execution_count": 63,
     "metadata": {},
     "output_type": "execute_result"
    },
    {
     "name": "stderr",
     "output_type": "stream",
     "text": [
      "\n",
      "  2%|▊                                         | 10/540 [00:27<24:43,  2.80s/it]\u001b[A"
     ]
    },
    {
     "data": {
      "text/plain": [
       "True"
      ]
     },
     "execution_count": 63,
     "metadata": {},
     "output_type": "execute_result"
    },
    {
     "name": "stderr",
     "output_type": "stream",
     "text": [
      "\n",
      "  2%|▊                                         | 11/540 [00:29<23:51,  2.71s/it]\u001b[A"
     ]
    },
    {
     "data": {
      "text/plain": [
       "True"
      ]
     },
     "execution_count": 63,
     "metadata": {},
     "output_type": "execute_result"
    },
    {
     "name": "stderr",
     "output_type": "stream",
     "text": [
      "\n",
      "  2%|▉                                         | 12/540 [00:32<23:55,  2.72s/it]\u001b[A"
     ]
    },
    {
     "data": {
      "text/plain": [
       "True"
      ]
     },
     "execution_count": 63,
     "metadata": {},
     "output_type": "execute_result"
    },
    {
     "name": "stderr",
     "output_type": "stream",
     "text": [
      "\n",
      "  2%|█                                         | 13/540 [00:35<24:22,  2.78s/it]\u001b[A"
     ]
    },
    {
     "data": {
      "text/plain": [
       "True"
      ]
     },
     "execution_count": 63,
     "metadata": {},
     "output_type": "execute_result"
    },
    {
     "name": "stderr",
     "output_type": "stream",
     "text": [
      "\n",
      "  3%|█                                         | 14/540 [00:38<25:06,  2.86s/it]\u001b[A"
     ]
    },
    {
     "data": {
      "text/plain": [
       "True"
      ]
     },
     "execution_count": 63,
     "metadata": {},
     "output_type": "execute_result"
    },
    {
     "name": "stderr",
     "output_type": "stream",
     "text": [
      "\n",
      "  3%|█▏                                        | 15/540 [00:41<24:21,  2.78s/it]\u001b[A"
     ]
    },
    {
     "data": {
      "text/plain": [
       "True"
      ]
     },
     "execution_count": 63,
     "metadata": {},
     "output_type": "execute_result"
    },
    {
     "name": "stderr",
     "output_type": "stream",
     "text": [
      "\n",
      "  3%|█▏                                        | 16/540 [00:43<23:29,  2.69s/it]\u001b[A"
     ]
    },
    {
     "data": {
      "text/plain": [
       "True"
      ]
     },
     "execution_count": 63,
     "metadata": {},
     "output_type": "execute_result"
    },
    {
     "name": "stderr",
     "output_type": "stream",
     "text": [
      "\n",
      "  3%|█▎                                        | 17/540 [00:46<23:28,  2.69s/it]\u001b[A"
     ]
    },
    {
     "data": {
      "text/plain": [
       "True"
      ]
     },
     "execution_count": 63,
     "metadata": {},
     "output_type": "execute_result"
    },
    {
     "name": "stderr",
     "output_type": "stream",
     "text": [
      "\n",
      "  3%|█▍                                        | 18/540 [00:49<23:50,  2.74s/it]\u001b[A"
     ]
    },
    {
     "data": {
      "text/plain": [
       "True"
      ]
     },
     "execution_count": 63,
     "metadata": {},
     "output_type": "execute_result"
    },
    {
     "name": "stderr",
     "output_type": "stream",
     "text": [
      "\n",
      "  4%|█▍                                        | 19/540 [00:52<24:07,  2.78s/it]\u001b[A"
     ]
    },
    {
     "data": {
      "text/plain": [
       "True"
      ]
     },
     "execution_count": 63,
     "metadata": {},
     "output_type": "execute_result"
    },
    {
     "name": "stderr",
     "output_type": "stream",
     "text": [
      "\n",
      "  4%|█▌                                        | 20/540 [00:54<23:52,  2.75s/it]\u001b[A"
     ]
    },
    {
     "data": {
      "text/plain": [
       "True"
      ]
     },
     "execution_count": 63,
     "metadata": {},
     "output_type": "execute_result"
    },
    {
     "name": "stderr",
     "output_type": "stream",
     "text": [
      "\n",
      "  4%|█▋                                        | 21/540 [00:57<23:29,  2.71s/it]\u001b[A"
     ]
    },
    {
     "data": {
      "text/plain": [
       "True"
      ]
     },
     "execution_count": 63,
     "metadata": {},
     "output_type": "execute_result"
    },
    {
     "name": "stderr",
     "output_type": "stream",
     "text": [
      "\n",
      "  4%|█▋                                        | 22/540 [01:00<23:38,  2.74s/it]\u001b[A"
     ]
    },
    {
     "data": {
      "text/plain": [
       "True"
      ]
     },
     "execution_count": 63,
     "metadata": {},
     "output_type": "execute_result"
    },
    {
     "name": "stderr",
     "output_type": "stream",
     "text": [
      "\n",
      "  4%|█▊                                        | 23/540 [01:03<24:02,  2.79s/it]\u001b[A"
     ]
    },
    {
     "data": {
      "text/plain": [
       "True"
      ]
     },
     "execution_count": 63,
     "metadata": {},
     "output_type": "execute_result"
    },
    {
     "name": "stderr",
     "output_type": "stream",
     "text": [
      "\n",
      "  4%|█▊                                        | 24/540 [01:05<24:21,  2.83s/it]\u001b[A"
     ]
    },
    {
     "data": {
      "text/plain": [
       "True"
      ]
     },
     "execution_count": 63,
     "metadata": {},
     "output_type": "execute_result"
    },
    {
     "name": "stderr",
     "output_type": "stream",
     "text": [
      "\n",
      "  5%|█▉                                        | 25/540 [01:08<24:03,  2.80s/it]\u001b[A"
     ]
    },
    {
     "data": {
      "text/plain": [
       "True"
      ]
     },
     "execution_count": 63,
     "metadata": {},
     "output_type": "execute_result"
    },
    {
     "name": "stderr",
     "output_type": "stream",
     "text": [
      "\n",
      "  5%|██                                        | 26/540 [01:11<23:35,  2.75s/it]\u001b[A"
     ]
    },
    {
     "data": {
      "text/plain": [
       "True"
      ]
     },
     "execution_count": 63,
     "metadata": {},
     "output_type": "execute_result"
    },
    {
     "name": "stderr",
     "output_type": "stream",
     "text": [
      "\n",
      "  5%|██                                        | 27/540 [01:14<23:46,  2.78s/it]\u001b[A"
     ]
    },
    {
     "data": {
      "text/plain": [
       "True"
      ]
     },
     "execution_count": 63,
     "metadata": {},
     "output_type": "execute_result"
    },
    {
     "name": "stderr",
     "output_type": "stream",
     "text": [
      "\n",
      "  5%|██▏                                       | 28/540 [01:17<24:07,  2.83s/it]\u001b[A"
     ]
    },
    {
     "data": {
      "text/plain": [
       "True"
      ]
     },
     "execution_count": 63,
     "metadata": {},
     "output_type": "execute_result"
    },
    {
     "name": "stderr",
     "output_type": "stream",
     "text": [
      "\n",
      "  5%|██▎                                       | 29/540 [01:20<24:32,  2.88s/it]\u001b[A"
     ]
    },
    {
     "data": {
      "text/plain": [
       "True"
      ]
     },
     "execution_count": 63,
     "metadata": {},
     "output_type": "execute_result"
    },
    {
     "name": "stderr",
     "output_type": "stream",
     "text": [
      "\n",
      "  6%|██▎                                       | 30/540 [01:22<24:07,  2.84s/it]\u001b[A"
     ]
    },
    {
     "data": {
      "text/plain": [
       "True"
      ]
     },
     "execution_count": 63,
     "metadata": {},
     "output_type": "execute_result"
    },
    {
     "name": "stderr",
     "output_type": "stream",
     "text": [
      "\n",
      "  6%|██▍                                       | 31/540 [01:25<23:39,  2.79s/it]\u001b[A"
     ]
    },
    {
     "data": {
      "text/plain": [
       "True"
      ]
     },
     "execution_count": 63,
     "metadata": {},
     "output_type": "execute_result"
    },
    {
     "name": "stderr",
     "output_type": "stream",
     "text": [
      "\n",
      "  6%|██▍                                       | 32/540 [01:28<23:43,  2.80s/it]\u001b[A"
     ]
    },
    {
     "data": {
      "text/plain": [
       "True"
      ]
     },
     "execution_count": 63,
     "metadata": {},
     "output_type": "execute_result"
    },
    {
     "name": "stderr",
     "output_type": "stream",
     "text": [
      "\n",
      "  6%|██▌                                       | 33/540 [01:31<24:05,  2.85s/it]\u001b[A"
     ]
    },
    {
     "data": {
      "text/plain": [
       "True"
      ]
     },
     "execution_count": 63,
     "metadata": {},
     "output_type": "execute_result"
    },
    {
     "name": "stderr",
     "output_type": "stream",
     "text": [
      "\n",
      "  6%|██▋                                       | 34/540 [01:34<24:24,  2.89s/it]\u001b[A"
     ]
    },
    {
     "data": {
      "text/plain": [
       "True"
      ]
     },
     "execution_count": 63,
     "metadata": {},
     "output_type": "execute_result"
    },
    {
     "name": "stderr",
     "output_type": "stream",
     "text": [
      "\n",
      "  6%|██▋                                       | 35/540 [01:37<24:01,  2.85s/it]\u001b[A"
     ]
    },
    {
     "data": {
      "text/plain": [
       "True"
      ]
     },
     "execution_count": 63,
     "metadata": {},
     "output_type": "execute_result"
    },
    {
     "name": "stderr",
     "output_type": "stream",
     "text": [
      "\n",
      "  7%|██▊                                       | 36/540 [01:39<23:38,  2.81s/it]\u001b[A"
     ]
    },
    {
     "data": {
      "text/plain": [
       "True"
      ]
     },
     "execution_count": 63,
     "metadata": {},
     "output_type": "execute_result"
    },
    {
     "name": "stderr",
     "output_type": "stream",
     "text": [
      "\n",
      "  7%|██▉                                       | 37/540 [01:42<24:06,  2.88s/it]\u001b[A"
     ]
    },
    {
     "data": {
      "text/plain": [
       "True"
      ]
     },
     "execution_count": 63,
     "metadata": {},
     "output_type": "execute_result"
    },
    {
     "name": "stderr",
     "output_type": "stream",
     "text": [
      "\n",
      "  7%|██▉                                       | 38/540 [01:46<26:28,  3.16s/it]\u001b[A"
     ]
    },
    {
     "data": {
      "text/plain": [
       "True"
      ]
     },
     "execution_count": 63,
     "metadata": {},
     "output_type": "execute_result"
    },
    {
     "name": "stderr",
     "output_type": "stream",
     "text": [
      "\n",
      "  7%|███                                       | 39/540 [01:50<27:03,  3.24s/it]\u001b[A"
     ]
    },
    {
     "data": {
      "text/plain": [
       "True"
      ]
     },
     "execution_count": 63,
     "metadata": {},
     "output_type": "execute_result"
    },
    {
     "name": "stderr",
     "output_type": "stream",
     "text": [
      "\n",
      "  7%|███                                       | 40/540 [01:53<26:11,  3.14s/it]\u001b[A"
     ]
    },
    {
     "data": {
      "text/plain": [
       "True"
      ]
     },
     "execution_count": 63,
     "metadata": {},
     "output_type": "execute_result"
    },
    {
     "name": "stderr",
     "output_type": "stream",
     "text": [
      "\n",
      "  8%|███▏                                      | 41/540 [01:55<24:54,  2.99s/it]\u001b[A"
     ]
    },
    {
     "data": {
      "text/plain": [
       "True"
      ]
     },
     "execution_count": 63,
     "metadata": {},
     "output_type": "execute_result"
    },
    {
     "name": "stderr",
     "output_type": "stream",
     "text": [
      "\n",
      "  8%|███▎                                      | 42/540 [01:58<24:56,  3.01s/it]\u001b[A"
     ]
    },
    {
     "data": {
      "text/plain": [
       "True"
      ]
     },
     "execution_count": 63,
     "metadata": {},
     "output_type": "execute_result"
    },
    {
     "name": "stderr",
     "output_type": "stream",
     "text": [
      "\n",
      "  8%|███▎                                      | 43/540 [02:01<25:16,  3.05s/it]\u001b[A"
     ]
    },
    {
     "data": {
      "text/plain": [
       "True"
      ]
     },
     "execution_count": 63,
     "metadata": {},
     "output_type": "execute_result"
    },
    {
     "name": "stderr",
     "output_type": "stream",
     "text": [
      "\n",
      "  8%|███▍                                      | 44/540 [02:05<26:01,  3.15s/it]\u001b[A"
     ]
    },
    {
     "data": {
      "text/plain": [
       "True"
      ]
     },
     "execution_count": 63,
     "metadata": {},
     "output_type": "execute_result"
    },
    {
     "name": "stderr",
     "output_type": "stream",
     "text": [
      "\n",
      "  8%|███▌                                      | 45/540 [02:08<25:21,  3.07s/it]\u001b[A"
     ]
    },
    {
     "data": {
      "text/plain": [
       "True"
      ]
     },
     "execution_count": 63,
     "metadata": {},
     "output_type": "execute_result"
    },
    {
     "name": "stderr",
     "output_type": "stream",
     "text": [
      "\n",
      "  9%|███▌                                      | 46/540 [02:10<24:27,  2.97s/it]\u001b[A"
     ]
    },
    {
     "data": {
      "text/plain": [
       "True"
      ]
     },
     "execution_count": 63,
     "metadata": {},
     "output_type": "execute_result"
    },
    {
     "name": "stderr",
     "output_type": "stream",
     "text": [
      "\n",
      "  9%|███▋                                      | 47/540 [02:13<24:25,  2.97s/it]\u001b[A"
     ]
    },
    {
     "data": {
      "text/plain": [
       "True"
      ]
     },
     "execution_count": 63,
     "metadata": {},
     "output_type": "execute_result"
    },
    {
     "name": "stderr",
     "output_type": "stream",
     "text": [
      "\n",
      "  9%|███▋                                      | 48/540 [02:16<24:36,  3.00s/it]\u001b[A"
     ]
    },
    {
     "data": {
      "text/plain": [
       "True"
      ]
     },
     "execution_count": 63,
     "metadata": {},
     "output_type": "execute_result"
    },
    {
     "name": "stderr",
     "output_type": "stream",
     "text": [
      "\n",
      "  9%|███▊                                      | 49/540 [02:20<24:56,  3.05s/it]\u001b[A"
     ]
    },
    {
     "data": {
      "text/plain": [
       "True"
      ]
     },
     "execution_count": 63,
     "metadata": {},
     "output_type": "execute_result"
    },
    {
     "name": "stderr",
     "output_type": "stream",
     "text": [
      "\n",
      "  9%|███▉                                      | 50/540 [02:22<24:29,  3.00s/it]\u001b[A"
     ]
    },
    {
     "data": {
      "text/plain": [
       "True"
      ]
     },
     "execution_count": 63,
     "metadata": {},
     "output_type": "execute_result"
    },
    {
     "name": "stderr",
     "output_type": "stream",
     "text": [
      "\n",
      "  9%|███▉                                      | 51/540 [02:25<24:05,  2.96s/it]\u001b[A"
     ]
    },
    {
     "data": {
      "text/plain": [
       "True"
      ]
     },
     "execution_count": 63,
     "metadata": {},
     "output_type": "execute_result"
    },
    {
     "name": "stderr",
     "output_type": "stream",
     "text": [
      "\n",
      " 10%|████                                      | 52/540 [02:28<24:02,  2.96s/it]\u001b[A"
     ]
    },
    {
     "data": {
      "text/plain": [
       "True"
      ]
     },
     "execution_count": 63,
     "metadata": {},
     "output_type": "execute_result"
    },
    {
     "name": "stderr",
     "output_type": "stream",
     "text": [
      "\n",
      " 10%|████                                      | 53/540 [02:31<24:19,  3.00s/it]\u001b[A"
     ]
    },
    {
     "data": {
      "text/plain": [
       "True"
      ]
     },
     "execution_count": 63,
     "metadata": {},
     "output_type": "execute_result"
    },
    {
     "name": "stderr",
     "output_type": "stream",
     "text": [
      "\n",
      " 10%|████▏                                     | 54/540 [02:35<24:41,  3.05s/it]\u001b[A"
     ]
    },
    {
     "data": {
      "text/plain": [
       "True"
      ]
     },
     "execution_count": 63,
     "metadata": {},
     "output_type": "execute_result"
    },
    {
     "name": "stderr",
     "output_type": "stream",
     "text": [
      "\n",
      " 10%|████▎                                     | 55/540 [02:37<24:14,  3.00s/it]\u001b[A"
     ]
    },
    {
     "data": {
      "text/plain": [
       "True"
      ]
     },
     "execution_count": 63,
     "metadata": {},
     "output_type": "execute_result"
    },
    {
     "name": "stderr",
     "output_type": "stream",
     "text": [
      "\n",
      " 10%|████▎                                     | 56/540 [02:40<23:47,  2.95s/it]\u001b[A"
     ]
    },
    {
     "data": {
      "text/plain": [
       "True"
      ]
     },
     "execution_count": 63,
     "metadata": {},
     "output_type": "execute_result"
    },
    {
     "name": "stderr",
     "output_type": "stream",
     "text": [
      "\n",
      " 11%|████▍                                     | 57/540 [02:43<23:47,  2.96s/it]\u001b[A"
     ]
    },
    {
     "data": {
      "text/plain": [
       "True"
      ]
     },
     "execution_count": 63,
     "metadata": {},
     "output_type": "execute_result"
    },
    {
     "name": "stderr",
     "output_type": "stream",
     "text": [
      "\n",
      " 11%|████▌                                     | 58/540 [02:46<24:09,  3.01s/it]\u001b[A"
     ]
    },
    {
     "data": {
      "text/plain": [
       "True"
      ]
     },
     "execution_count": 63,
     "metadata": {},
     "output_type": "execute_result"
    },
    {
     "name": "stderr",
     "output_type": "stream",
     "text": [
      "\n",
      " 11%|████▌                                     | 59/540 [02:50<24:39,  3.08s/it]\u001b[A"
     ]
    },
    {
     "data": {
      "text/plain": [
       "True"
      ]
     },
     "execution_count": 63,
     "metadata": {},
     "output_type": "execute_result"
    },
    {
     "name": "stderr",
     "output_type": "stream",
     "text": [
      "\n",
      " 11%|████▋                                     | 60/540 [02:52<24:12,  3.03s/it]\u001b[A"
     ]
    },
    {
     "data": {
      "text/plain": [
       "True"
      ]
     },
     "execution_count": 63,
     "metadata": {},
     "output_type": "execute_result"
    },
    {
     "name": "stderr",
     "output_type": "stream",
     "text": [
      "\n",
      " 11%|████▋                                     | 61/540 [02:55<23:35,  2.95s/it]\u001b[A"
     ]
    },
    {
     "data": {
      "text/plain": [
       "True"
      ]
     },
     "execution_count": 63,
     "metadata": {},
     "output_type": "execute_result"
    },
    {
     "name": "stderr",
     "output_type": "stream",
     "text": [
      "\n",
      " 11%|████▊                                     | 62/540 [02:58<23:40,  2.97s/it]\u001b[A"
     ]
    },
    {
     "data": {
      "text/plain": [
       "True"
      ]
     },
     "execution_count": 63,
     "metadata": {},
     "output_type": "execute_result"
    },
    {
     "name": "stderr",
     "output_type": "stream",
     "text": [
      "\n",
      " 12%|████▉                                     | 63/540 [03:01<23:48,  2.99s/it]\u001b[A"
     ]
    },
    {
     "data": {
      "text/plain": [
       "True"
      ]
     },
     "execution_count": 63,
     "metadata": {},
     "output_type": "execute_result"
    },
    {
     "name": "stderr",
     "output_type": "stream",
     "text": [
      "\n",
      " 12%|████▉                                     | 64/540 [03:04<24:00,  3.03s/it]\u001b[A"
     ]
    },
    {
     "data": {
      "text/plain": [
       "True"
      ]
     },
     "execution_count": 63,
     "metadata": {},
     "output_type": "execute_result"
    },
    {
     "name": "stderr",
     "output_type": "stream",
     "text": [
      "\n",
      " 12%|█████                                     | 65/540 [03:07<23:37,  2.98s/it]\u001b[A"
     ]
    },
    {
     "data": {
      "text/plain": [
       "True"
      ]
     },
     "execution_count": 63,
     "metadata": {},
     "output_type": "execute_result"
    },
    {
     "name": "stderr",
     "output_type": "stream",
     "text": [
      "\n",
      " 12%|█████▏                                    | 66/540 [03:10<23:02,  2.92s/it]\u001b[A"
     ]
    },
    {
     "data": {
      "text/plain": [
       "True"
      ]
     },
     "execution_count": 63,
     "metadata": {},
     "output_type": "execute_result"
    },
    {
     "name": "stderr",
     "output_type": "stream",
     "text": [
      "\n",
      " 12%|█████▏                                    | 67/540 [03:13<23:33,  2.99s/it]\u001b[A"
     ]
    },
    {
     "data": {
      "text/plain": [
       "True"
      ]
     },
     "execution_count": 63,
     "metadata": {},
     "output_type": "execute_result"
    },
    {
     "name": "stderr",
     "output_type": "stream",
     "text": [
      "\n",
      " 13%|█████▎                                    | 68/540 [03:17<24:20,  3.10s/it]\u001b[A"
     ]
    },
    {
     "data": {
      "text/plain": [
       "True"
      ]
     },
     "execution_count": 63,
     "metadata": {},
     "output_type": "execute_result"
    },
    {
     "name": "stderr",
     "output_type": "stream",
     "text": [
      "\n",
      " 13%|█████▎                                    | 69/540 [03:20<25:04,  3.19s/it]\u001b[A"
     ]
    },
    {
     "data": {
      "text/plain": [
       "True"
      ]
     },
     "execution_count": 63,
     "metadata": {},
     "output_type": "execute_result"
    },
    {
     "name": "stderr",
     "output_type": "stream",
     "text": [
      "\n",
      " 13%|█████▍                                    | 70/540 [03:23<24:37,  3.14s/it]\u001b[A"
     ]
    },
    {
     "data": {
      "text/plain": [
       "True"
      ]
     },
     "execution_count": 63,
     "metadata": {},
     "output_type": "execute_result"
    },
    {
     "name": "stderr",
     "output_type": "stream",
     "text": [
      "\n",
      " 13%|█████▌                                    | 71/540 [03:26<23:46,  3.04s/it]\u001b[A"
     ]
    },
    {
     "data": {
      "text/plain": [
       "True"
      ]
     },
     "execution_count": 63,
     "metadata": {},
     "output_type": "execute_result"
    },
    {
     "name": "stderr",
     "output_type": "stream",
     "text": [
      "\n",
      " 13%|█████▌                                    | 72/540 [03:29<23:47,  3.05s/it]\u001b[A"
     ]
    },
    {
     "data": {
      "text/plain": [
       "True"
      ]
     },
     "execution_count": 63,
     "metadata": {},
     "output_type": "execute_result"
    },
    {
     "name": "stderr",
     "output_type": "stream",
     "text": [
      "\n",
      " 14%|█████▋                                    | 73/540 [03:32<24:19,  3.12s/it]\u001b[A"
     ]
    },
    {
     "data": {
      "text/plain": [
       "True"
      ]
     },
     "execution_count": 63,
     "metadata": {},
     "output_type": "execute_result"
    },
    {
     "name": "stderr",
     "output_type": "stream",
     "text": [
      "\n",
      " 14%|█████▊                                    | 74/540 [03:36<24:58,  3.22s/it]\u001b[A"
     ]
    },
    {
     "data": {
      "text/plain": [
       "True"
      ]
     },
     "execution_count": 63,
     "metadata": {},
     "output_type": "execute_result"
    },
    {
     "name": "stderr",
     "output_type": "stream",
     "text": [
      "\n",
      " 14%|█████▊                                    | 75/540 [03:39<24:22,  3.14s/it]\u001b[A"
     ]
    },
    {
     "data": {
      "text/plain": [
       "True"
      ]
     },
     "execution_count": 63,
     "metadata": {},
     "output_type": "execute_result"
    },
    {
     "name": "stderr",
     "output_type": "stream",
     "text": [
      "\n",
      " 14%|█████▉                                    | 76/540 [03:41<23:27,  3.03s/it]\u001b[A"
     ]
    },
    {
     "data": {
      "text/plain": [
       "True"
      ]
     },
     "execution_count": 63,
     "metadata": {},
     "output_type": "execute_result"
    },
    {
     "name": "stderr",
     "output_type": "stream",
     "text": [
      "\n",
      " 14%|█████▉                                    | 77/540 [03:44<23:26,  3.04s/it]\u001b[A"
     ]
    },
    {
     "data": {
      "text/plain": [
       "True"
      ]
     },
     "execution_count": 63,
     "metadata": {},
     "output_type": "execute_result"
    },
    {
     "name": "stderr",
     "output_type": "stream",
     "text": [
      "\n",
      " 14%|██████                                    | 78/540 [03:48<23:33,  3.06s/it]\u001b[A"
     ]
    },
    {
     "data": {
      "text/plain": [
       "True"
      ]
     },
     "execution_count": 63,
     "metadata": {},
     "output_type": "execute_result"
    },
    {
     "name": "stderr",
     "output_type": "stream",
     "text": [
      "\n",
      " 15%|██████▏                                   | 79/540 [03:51<23:41,  3.08s/it]\u001b[A"
     ]
    },
    {
     "data": {
      "text/plain": [
       "True"
      ]
     },
     "execution_count": 63,
     "metadata": {},
     "output_type": "execute_result"
    },
    {
     "name": "stderr",
     "output_type": "stream",
     "text": [
      "\n",
      " 15%|██████▏                                   | 80/540 [03:54<23:43,  3.09s/it]\u001b[A"
     ]
    },
    {
     "data": {
      "text/plain": [
       "True"
      ]
     },
     "execution_count": 63,
     "metadata": {},
     "output_type": "execute_result"
    },
    {
     "name": "stderr",
     "output_type": "stream",
     "text": [
      "\n",
      " 15%|██████▎                                   | 81/540 [03:57<23:09,  3.03s/it]\u001b[A"
     ]
    },
    {
     "data": {
      "text/plain": [
       "True"
      ]
     },
     "execution_count": 63,
     "metadata": {},
     "output_type": "execute_result"
    },
    {
     "name": "stderr",
     "output_type": "stream",
     "text": [
      "\n",
      " 15%|██████▍                                   | 82/540 [04:00<23:02,  3.02s/it]\u001b[A"
     ]
    },
    {
     "data": {
      "text/plain": [
       "True"
      ]
     },
     "execution_count": 63,
     "metadata": {},
     "output_type": "execute_result"
    },
    {
     "name": "stderr",
     "output_type": "stream",
     "text": [
      "\n",
      " 15%|██████▍                                   | 83/540 [04:03<23:13,  3.05s/it]\u001b[A"
     ]
    },
    {
     "data": {
      "text/plain": [
       "True"
      ]
     },
     "execution_count": 63,
     "metadata": {},
     "output_type": "execute_result"
    },
    {
     "name": "stderr",
     "output_type": "stream",
     "text": [
      "\n",
      " 16%|██████▌                                   | 84/540 [04:06<23:26,  3.09s/it]\u001b[A"
     ]
    },
    {
     "data": {
      "text/plain": [
       "True"
      ]
     },
     "execution_count": 63,
     "metadata": {},
     "output_type": "execute_result"
    },
    {
     "name": "stderr",
     "output_type": "stream",
     "text": [
      "\n",
      " 16%|██████▌                                   | 85/540 [04:09<23:07,  3.05s/it]\u001b[A"
     ]
    },
    {
     "data": {
      "text/plain": [
       "True"
      ]
     },
     "execution_count": 63,
     "metadata": {},
     "output_type": "execute_result"
    },
    {
     "name": "stderr",
     "output_type": "stream",
     "text": [
      "\n",
      " 16%|██████▋                                   | 86/540 [04:12<22:44,  3.01s/it]\u001b[A"
     ]
    },
    {
     "data": {
      "text/plain": [
       "True"
      ]
     },
     "execution_count": 63,
     "metadata": {},
     "output_type": "execute_result"
    },
    {
     "name": "stderr",
     "output_type": "stream",
     "text": [
      "\n",
      " 16%|██████▊                                   | 87/540 [04:15<22:46,  3.02s/it]\u001b[A"
     ]
    },
    {
     "data": {
      "text/plain": [
       "True"
      ]
     },
     "execution_count": 63,
     "metadata": {},
     "output_type": "execute_result"
    },
    {
     "name": "stderr",
     "output_type": "stream",
     "text": [
      "\n",
      " 16%|██████▊                                   | 88/540 [04:18<22:53,  3.04s/it]\u001b[A"
     ]
    },
    {
     "data": {
      "text/plain": [
       "True"
      ]
     },
     "execution_count": 63,
     "metadata": {},
     "output_type": "execute_result"
    },
    {
     "name": "stderr",
     "output_type": "stream",
     "text": [
      "\n",
      " 16%|██████▉                                   | 89/540 [04:21<23:18,  3.10s/it]\u001b[A"
     ]
    },
    {
     "data": {
      "text/plain": [
       "True"
      ]
     },
     "execution_count": 63,
     "metadata": {},
     "output_type": "execute_result"
    },
    {
     "name": "stderr",
     "output_type": "stream",
     "text": [
      "\n",
      " 17%|███████                                   | 90/540 [04:24<23:13,  3.10s/it]\u001b[A"
     ]
    },
    {
     "data": {
      "text/plain": [
       "True"
      ]
     },
     "execution_count": 63,
     "metadata": {},
     "output_type": "execute_result"
    },
    {
     "name": "stderr",
     "output_type": "stream",
     "text": [
      "\n",
      " 17%|███████                                   | 91/540 [04:27<22:57,  3.07s/it]\u001b[A"
     ]
    },
    {
     "data": {
      "text/plain": [
       "True"
      ]
     },
     "execution_count": 63,
     "metadata": {},
     "output_type": "execute_result"
    },
    {
     "name": "stderr",
     "output_type": "stream",
     "text": [
      "\n",
      " 17%|███████▏                                  | 92/540 [04:30<22:55,  3.07s/it]\u001b[A"
     ]
    },
    {
     "data": {
      "text/plain": [
       "True"
      ]
     },
     "execution_count": 63,
     "metadata": {},
     "output_type": "execute_result"
    },
    {
     "name": "stderr",
     "output_type": "stream",
     "text": [
      "\n",
      " 17%|███████▏                                  | 93/540 [04:33<22:54,  3.07s/it]\u001b[A"
     ]
    },
    {
     "data": {
      "text/plain": [
       "True"
      ]
     },
     "execution_count": 63,
     "metadata": {},
     "output_type": "execute_result"
    },
    {
     "name": "stderr",
     "output_type": "stream",
     "text": [
      "\n",
      " 17%|███████▎                                  | 94/540 [04:37<23:02,  3.10s/it]\u001b[A"
     ]
    },
    {
     "data": {
      "text/plain": [
       "True"
      ]
     },
     "execution_count": 63,
     "metadata": {},
     "output_type": "execute_result"
    },
    {
     "name": "stderr",
     "output_type": "stream",
     "text": [
      "\n",
      " 18%|███████▍                                  | 95/540 [04:40<22:36,  3.05s/it]\u001b[A"
     ]
    },
    {
     "data": {
      "text/plain": [
       "True"
      ]
     },
     "execution_count": 63,
     "metadata": {},
     "output_type": "execute_result"
    },
    {
     "name": "stderr",
     "output_type": "stream",
     "text": [
      "\n",
      " 18%|███████▍                                  | 96/540 [04:42<22:14,  3.01s/it]\u001b[A"
     ]
    },
    {
     "data": {
      "text/plain": [
       "True"
      ]
     },
     "execution_count": 63,
     "metadata": {},
     "output_type": "execute_result"
    },
    {
     "name": "stderr",
     "output_type": "stream",
     "text": [
      "\n",
      " 18%|███████▌                                  | 97/540 [04:46<22:30,  3.05s/it]\u001b[A"
     ]
    },
    {
     "data": {
      "text/plain": [
       "True"
      ]
     },
     "execution_count": 63,
     "metadata": {},
     "output_type": "execute_result"
    },
    {
     "name": "stderr",
     "output_type": "stream",
     "text": [
      "\n",
      " 18%|███████▌                                  | 98/540 [04:49<23:08,  3.14s/it]\u001b[A"
     ]
    },
    {
     "data": {
      "text/plain": [
       "True"
      ]
     },
     "execution_count": 63,
     "metadata": {},
     "output_type": "execute_result"
    },
    {
     "name": "stderr",
     "output_type": "stream",
     "text": [
      "\n",
      " 18%|███████▋                                  | 99/540 [04:52<23:51,  3.25s/it]\u001b[A"
     ]
    },
    {
     "data": {
      "text/plain": [
       "True"
      ]
     },
     "execution_count": 63,
     "metadata": {},
     "output_type": "execute_result"
    },
    {
     "name": "stderr",
     "output_type": "stream",
     "text": [
      "\n",
      " 19%|███████▌                                 | 100/540 [04:55<23:16,  3.17s/it]\u001b[A"
     ]
    },
    {
     "data": {
      "text/plain": [
       "True"
      ]
     },
     "execution_count": 63,
     "metadata": {},
     "output_type": "execute_result"
    },
    {
     "name": "stderr",
     "output_type": "stream",
     "text": [
      "\n",
      " 19%|███████▋                                 | 101/540 [04:58<22:27,  3.07s/it]\u001b[A"
     ]
    },
    {
     "data": {
      "text/plain": [
       "True"
      ]
     },
     "execution_count": 63,
     "metadata": {},
     "output_type": "execute_result"
    },
    {
     "name": "stderr",
     "output_type": "stream",
     "text": [
      "\n",
      " 19%|███████▋                                 | 102/540 [05:01<22:25,  3.07s/it]\u001b[A"
     ]
    },
    {
     "data": {
      "text/plain": [
       "True"
      ]
     },
     "execution_count": 63,
     "metadata": {},
     "output_type": "execute_result"
    },
    {
     "name": "stderr",
     "output_type": "stream",
     "text": [
      "\n",
      " 19%|███████▊                                 | 103/540 [05:05<22:57,  3.15s/it]\u001b[A"
     ]
    },
    {
     "data": {
      "text/plain": [
       "True"
      ]
     },
     "execution_count": 63,
     "metadata": {},
     "output_type": "execute_result"
    },
    {
     "name": "stderr",
     "output_type": "stream",
     "text": [
      "\n",
      " 19%|███████▉                                 | 104/540 [05:08<23:30,  3.23s/it]\u001b[A"
     ]
    },
    {
     "data": {
      "text/plain": [
       "True"
      ]
     },
     "execution_count": 63,
     "metadata": {},
     "output_type": "execute_result"
    },
    {
     "name": "stderr",
     "output_type": "stream",
     "text": [
      "\n",
      " 19%|███████▉                                 | 105/540 [05:11<22:50,  3.15s/it]\u001b[A"
     ]
    },
    {
     "data": {
      "text/plain": [
       "True"
      ]
     },
     "execution_count": 63,
     "metadata": {},
     "output_type": "execute_result"
    },
    {
     "name": "stderr",
     "output_type": "stream",
     "text": [
      "\n",
      " 20%|████████                                 | 106/540 [05:14<22:04,  3.05s/it]\u001b[A"
     ]
    },
    {
     "data": {
      "text/plain": [
       "True"
      ]
     },
     "execution_count": 63,
     "metadata": {},
     "output_type": "execute_result"
    },
    {
     "name": "stderr",
     "output_type": "stream",
     "text": [
      "\n",
      " 20%|████████                                 | 107/540 [05:17<22:03,  3.06s/it]\u001b[A"
     ]
    },
    {
     "data": {
      "text/plain": [
       "True"
      ]
     },
     "execution_count": 63,
     "metadata": {},
     "output_type": "execute_result"
    },
    {
     "name": "stderr",
     "output_type": "stream",
     "text": [
      "\n",
      " 20%|████████▏                                | 108/540 [05:20<22:17,  3.09s/it]\u001b[A"
     ]
    },
    {
     "data": {
      "text/plain": [
       "True"
      ]
     },
     "execution_count": 63,
     "metadata": {},
     "output_type": "execute_result"
    },
    {
     "name": "stderr",
     "output_type": "stream",
     "text": [
      "\n",
      " 20%|████████▎                                | 109/540 [05:23<22:23,  3.12s/it]\u001b[A"
     ]
    },
    {
     "data": {
      "text/plain": [
       "True"
      ]
     },
     "execution_count": 63,
     "metadata": {},
     "output_type": "execute_result"
    },
    {
     "name": "stderr",
     "output_type": "stream",
     "text": [
      "\n",
      " 20%|████████▎                                | 110/540 [05:26<21:58,  3.07s/it]\u001b[A"
     ]
    },
    {
     "data": {
      "text/plain": [
       "True"
      ]
     },
     "execution_count": 63,
     "metadata": {},
     "output_type": "execute_result"
    },
    {
     "name": "stderr",
     "output_type": "stream",
     "text": [
      "\n",
      " 21%|████████▍                                | 111/540 [05:29<21:30,  3.01s/it]\u001b[A"
     ]
    },
    {
     "data": {
      "text/plain": [
       "True"
      ]
     },
     "execution_count": 63,
     "metadata": {},
     "output_type": "execute_result"
    },
    {
     "name": "stderr",
     "output_type": "stream",
     "text": [
      "\n",
      " 21%|████████▌                                | 112/540 [05:32<21:33,  3.02s/it]\u001b[A"
     ]
    },
    {
     "data": {
      "text/plain": [
       "True"
      ]
     },
     "execution_count": 63,
     "metadata": {},
     "output_type": "execute_result"
    },
    {
     "name": "stderr",
     "output_type": "stream",
     "text": [
      "\n",
      " 21%|████████▌                                | 113/540 [05:35<21:45,  3.06s/it]\u001b[A"
     ]
    },
    {
     "data": {
      "text/plain": [
       "True"
      ]
     },
     "execution_count": 63,
     "metadata": {},
     "output_type": "execute_result"
    },
    {
     "name": "stderr",
     "output_type": "stream",
     "text": [
      "\n",
      " 21%|████████▋                                | 114/540 [05:39<22:01,  3.10s/it]\u001b[A"
     ]
    },
    {
     "data": {
      "text/plain": [
       "True"
      ]
     },
     "execution_count": 63,
     "metadata": {},
     "output_type": "execute_result"
    },
    {
     "name": "stderr",
     "output_type": "stream",
     "text": [
      "\n",
      " 21%|████████▋                                | 115/540 [05:42<21:43,  3.07s/it]\u001b[A"
     ]
    },
    {
     "data": {
      "text/plain": [
       "True"
      ]
     },
     "execution_count": 63,
     "metadata": {},
     "output_type": "execute_result"
    },
    {
     "name": "stderr",
     "output_type": "stream",
     "text": [
      "\n",
      " 21%|████████▊                                | 116/540 [05:44<21:14,  3.01s/it]\u001b[A"
     ]
    },
    {
     "data": {
      "text/plain": [
       "True"
      ]
     },
     "execution_count": 63,
     "metadata": {},
     "output_type": "execute_result"
    },
    {
     "name": "stderr",
     "output_type": "stream",
     "text": [
      "\n",
      " 22%|████████▉                                | 117/540 [05:47<21:22,  3.03s/it]\u001b[A"
     ]
    },
    {
     "data": {
      "text/plain": [
       "True"
      ]
     },
     "execution_count": 63,
     "metadata": {},
     "output_type": "execute_result"
    },
    {
     "name": "stderr",
     "output_type": "stream",
     "text": [
      "\n",
      " 22%|████████▉                                | 118/540 [05:51<21:38,  3.08s/it]\u001b[A"
     ]
    },
    {
     "data": {
      "text/plain": [
       "True"
      ]
     },
     "execution_count": 63,
     "metadata": {},
     "output_type": "execute_result"
    },
    {
     "name": "stderr",
     "output_type": "stream",
     "text": [
      "\n",
      " 22%|█████████                                | 119/540 [05:54<21:55,  3.12s/it]\u001b[A"
     ]
    },
    {
     "data": {
      "text/plain": [
       "True"
      ]
     },
     "execution_count": 63,
     "metadata": {},
     "output_type": "execute_result"
    },
    {
     "name": "stderr",
     "output_type": "stream",
     "text": [
      "\n",
      " 22%|█████████                                | 120/540 [05:57<21:31,  3.08s/it]\u001b[A"
     ]
    },
    {
     "data": {
      "text/plain": [
       "True"
      ]
     },
     "execution_count": 63,
     "metadata": {},
     "output_type": "execute_result"
    },
    {
     "name": "stderr",
     "output_type": "stream",
     "text": [
      "\n",
      " 22%|█████████▏                               | 121/540 [06:00<21:00,  3.01s/it]\u001b[A"
     ]
    },
    {
     "data": {
      "text/plain": [
       "True"
      ]
     },
     "execution_count": 63,
     "metadata": {},
     "output_type": "execute_result"
    },
    {
     "name": "stderr",
     "output_type": "stream",
     "text": [
      "\n",
      " 23%|█████████▎                               | 122/540 [06:03<21:00,  3.02s/it]\u001b[A"
     ]
    },
    {
     "data": {
      "text/plain": [
       "True"
      ]
     },
     "execution_count": 63,
     "metadata": {},
     "output_type": "execute_result"
    },
    {
     "name": "stderr",
     "output_type": "stream",
     "text": [
      "\n",
      " 23%|█████████▎                               | 123/540 [06:06<21:16,  3.06s/it]\u001b[A"
     ]
    },
    {
     "data": {
      "text/plain": [
       "True"
      ]
     },
     "execution_count": 63,
     "metadata": {},
     "output_type": "execute_result"
    },
    {
     "name": "stderr",
     "output_type": "stream",
     "text": [
      "\n",
      " 23%|█████████▍                               | 124/540 [06:09<21:33,  3.11s/it]\u001b[A"
     ]
    },
    {
     "data": {
      "text/plain": [
       "True"
      ]
     },
     "execution_count": 63,
     "metadata": {},
     "output_type": "execute_result"
    },
    {
     "name": "stderr",
     "output_type": "stream",
     "text": [
      "\n",
      " 23%|█████████▍                               | 125/540 [06:12<21:05,  3.05s/it]\u001b[A"
     ]
    },
    {
     "data": {
      "text/plain": [
       "True"
      ]
     },
     "execution_count": 63,
     "metadata": {},
     "output_type": "execute_result"
    },
    {
     "name": "stderr",
     "output_type": "stream",
     "text": [
      "\n",
      " 23%|█████████▌                               | 126/540 [06:15<20:40,  3.00s/it]\u001b[A"
     ]
    },
    {
     "data": {
      "text/plain": [
       "True"
      ]
     },
     "execution_count": 63,
     "metadata": {},
     "output_type": "execute_result"
    },
    {
     "name": "stderr",
     "output_type": "stream",
     "text": [
      "\n",
      " 24%|█████████▋                               | 127/540 [06:18<21:00,  3.05s/it]\u001b[A"
     ]
    },
    {
     "data": {
      "text/plain": [
       "True"
      ]
     },
     "execution_count": 63,
     "metadata": {},
     "output_type": "execute_result"
    },
    {
     "name": "stderr",
     "output_type": "stream",
     "text": [
      "\n",
      " 24%|█████████▋                               | 128/540 [06:21<21:24,  3.12s/it]\u001b[A"
     ]
    },
    {
     "data": {
      "text/plain": [
       "True"
      ]
     },
     "execution_count": 63,
     "metadata": {},
     "output_type": "execute_result"
    },
    {
     "name": "stderr",
     "output_type": "stream",
     "text": [
      "\n",
      " 24%|█████████▊                               | 129/540 [06:25<22:00,  3.21s/it]\u001b[A"
     ]
    },
    {
     "data": {
      "text/plain": [
       "True"
      ]
     },
     "execution_count": 63,
     "metadata": {},
     "output_type": "execute_result"
    },
    {
     "name": "stderr",
     "output_type": "stream",
     "text": [
      "\n",
      " 24%|█████████▊                               | 130/540 [06:28<21:36,  3.16s/it]\u001b[A"
     ]
    },
    {
     "data": {
      "text/plain": [
       "True"
      ]
     },
     "execution_count": 63,
     "metadata": {},
     "output_type": "execute_result"
    },
    {
     "name": "stderr",
     "output_type": "stream",
     "text": [
      "\n",
      " 24%|█████████▉                               | 131/540 [06:31<20:49,  3.06s/it]\u001b[A"
     ]
    },
    {
     "data": {
      "text/plain": [
       "True"
      ]
     },
     "execution_count": 63,
     "metadata": {},
     "output_type": "execute_result"
    },
    {
     "name": "stderr",
     "output_type": "stream",
     "text": [
      "\n",
      " 24%|██████████                               | 132/540 [06:34<20:59,  3.09s/it]\u001b[A"
     ]
    },
    {
     "data": {
      "text/plain": [
       "True"
      ]
     },
     "execution_count": 63,
     "metadata": {},
     "output_type": "execute_result"
    },
    {
     "name": "stderr",
     "output_type": "stream",
     "text": [
      "\n",
      " 25%|██████████                               | 133/540 [06:37<21:24,  3.16s/it]\u001b[A"
     ]
    },
    {
     "data": {
      "text/plain": [
       "True"
      ]
     },
     "execution_count": 63,
     "metadata": {},
     "output_type": "execute_result"
    },
    {
     "name": "stderr",
     "output_type": "stream",
     "text": [
      "\n",
      " 25%|██████████▏                              | 134/540 [06:40<21:45,  3.22s/it]\u001b[A"
     ]
    },
    {
     "data": {
      "text/plain": [
       "True"
      ]
     },
     "execution_count": 63,
     "metadata": {},
     "output_type": "execute_result"
    },
    {
     "name": "stderr",
     "output_type": "stream",
     "text": [
      "\n",
      " 25%|██████████▎                              | 135/540 [06:44<21:19,  3.16s/it]\u001b[A"
     ]
    },
    {
     "data": {
      "text/plain": [
       "True"
      ]
     },
     "execution_count": 63,
     "metadata": {},
     "output_type": "execute_result"
    },
    {
     "name": "stderr",
     "output_type": "stream",
     "text": [
      "\n",
      " 25%|██████████▎                              | 136/540 [06:46<20:34,  3.06s/it]\u001b[A"
     ]
    },
    {
     "data": {
      "text/plain": [
       "True"
      ]
     },
     "execution_count": 63,
     "metadata": {},
     "output_type": "execute_result"
    },
    {
     "name": "stderr",
     "output_type": "stream",
     "text": [
      "\n",
      " 25%|██████████▍                              | 137/540 [06:50<20:46,  3.09s/it]\u001b[A"
     ]
    },
    {
     "data": {
      "text/plain": [
       "True"
      ]
     },
     "execution_count": 63,
     "metadata": {},
     "output_type": "execute_result"
    },
    {
     "name": "stderr",
     "output_type": "stream",
     "text": [
      "\n",
      " 26%|██████████▍                              | 138/540 [06:53<20:49,  3.11s/it]\u001b[A"
     ]
    },
    {
     "data": {
      "text/plain": [
       "True"
      ]
     },
     "execution_count": 63,
     "metadata": {},
     "output_type": "execute_result"
    },
    {
     "name": "stderr",
     "output_type": "stream",
     "text": [
      "\n",
      " 26%|██████████▌                              | 139/540 [06:56<20:57,  3.14s/it]\u001b[A"
     ]
    },
    {
     "data": {
      "text/plain": [
       "True"
      ]
     },
     "execution_count": 63,
     "metadata": {},
     "output_type": "execute_result"
    },
    {
     "name": "stderr",
     "output_type": "stream",
     "text": [
      "\n",
      " 26%|██████████▋                              | 140/540 [06:59<20:38,  3.10s/it]\u001b[A"
     ]
    },
    {
     "data": {
      "text/plain": [
       "True"
      ]
     },
     "execution_count": 63,
     "metadata": {},
     "output_type": "execute_result"
    },
    {
     "name": "stderr",
     "output_type": "stream",
     "text": [
      "\n",
      " 26%|██████████▋                              | 141/540 [07:02<20:14,  3.04s/it]\u001b[A"
     ]
    },
    {
     "data": {
      "text/plain": [
       "True"
      ]
     },
     "execution_count": 63,
     "metadata": {},
     "output_type": "execute_result"
    },
    {
     "name": "stderr",
     "output_type": "stream",
     "text": [
      "\n",
      " 26%|██████████▊                              | 142/540 [07:05<20:23,  3.07s/it]\u001b[A"
     ]
    },
    {
     "data": {
      "text/plain": [
       "True"
      ]
     },
     "execution_count": 63,
     "metadata": {},
     "output_type": "execute_result"
    },
    {
     "name": "stderr",
     "output_type": "stream",
     "text": [
      "\n",
      " 26%|██████████▊                              | 143/540 [07:08<20:43,  3.13s/it]\u001b[A"
     ]
    },
    {
     "data": {
      "text/plain": [
       "True"
      ]
     },
     "execution_count": 63,
     "metadata": {},
     "output_type": "execute_result"
    },
    {
     "name": "stderr",
     "output_type": "stream",
     "text": [
      "\n",
      " 27%|██████████▉                              | 144/540 [07:11<20:52,  3.16s/it]\u001b[A"
     ]
    },
    {
     "data": {
      "text/plain": [
       "True"
      ]
     },
     "execution_count": 63,
     "metadata": {},
     "output_type": "execute_result"
    },
    {
     "name": "stderr",
     "output_type": "stream",
     "text": [
      "\n",
      " 27%|███████████                              | 145/540 [07:14<20:35,  3.13s/it]\u001b[A"
     ]
    },
    {
     "data": {
      "text/plain": [
       "True"
      ]
     },
     "execution_count": 63,
     "metadata": {},
     "output_type": "execute_result"
    },
    {
     "name": "stderr",
     "output_type": "stream",
     "text": [
      "\n",
      " 27%|███████████                              | 146/540 [07:17<20:07,  3.06s/it]\u001b[A"
     ]
    },
    {
     "data": {
      "text/plain": [
       "True"
      ]
     },
     "execution_count": 63,
     "metadata": {},
     "output_type": "execute_result"
    },
    {
     "name": "stderr",
     "output_type": "stream",
     "text": [
      "\n",
      " 27%|███████████▏                             | 147/540 [07:20<20:04,  3.07s/it]\u001b[A"
     ]
    },
    {
     "data": {
      "text/plain": [
       "True"
      ]
     },
     "execution_count": 63,
     "metadata": {},
     "output_type": "execute_result"
    },
    {
     "name": "stderr",
     "output_type": "stream",
     "text": [
      "\n",
      " 27%|███████████▏                             | 148/540 [07:24<20:10,  3.09s/it]\u001b[A"
     ]
    },
    {
     "data": {
      "text/plain": [
       "True"
      ]
     },
     "execution_count": 63,
     "metadata": {},
     "output_type": "execute_result"
    },
    {
     "name": "stderr",
     "output_type": "stream",
     "text": [
      "\n",
      " 28%|███████████▎                             | 149/540 [07:27<20:25,  3.13s/it]\u001b[A"
     ]
    },
    {
     "data": {
      "text/plain": [
       "True"
      ]
     },
     "execution_count": 63,
     "metadata": {},
     "output_type": "execute_result"
    },
    {
     "name": "stderr",
     "output_type": "stream",
     "text": [
      "\n",
      " 28%|███████████▍                             | 150/540 [07:30<20:16,  3.12s/it]\u001b[A"
     ]
    },
    {
     "data": {
      "text/plain": [
       "True"
      ]
     },
     "execution_count": 63,
     "metadata": {},
     "output_type": "execute_result"
    },
    {
     "name": "stderr",
     "output_type": "stream",
     "text": [
      "\n",
      " 28%|███████████▍                             | 151/540 [07:33<19:54,  3.07s/it]\u001b[A"
     ]
    },
    {
     "data": {
      "text/plain": [
       "True"
      ]
     },
     "execution_count": 63,
     "metadata": {},
     "output_type": "execute_result"
    },
    {
     "name": "stderr",
     "output_type": "stream",
     "text": [
      "\n",
      " 28%|███████████▌                             | 152/540 [07:36<19:45,  3.05s/it]\u001b[A"
     ]
    },
    {
     "data": {
      "text/plain": [
       "True"
      ]
     },
     "execution_count": 63,
     "metadata": {},
     "output_type": "execute_result"
    },
    {
     "name": "stderr",
     "output_type": "stream",
     "text": [
      "\n",
      " 28%|███████████▌                             | 153/540 [07:39<19:43,  3.06s/it]\u001b[A"
     ]
    },
    {
     "data": {
      "text/plain": [
       "True"
      ]
     },
     "execution_count": 63,
     "metadata": {},
     "output_type": "execute_result"
    },
    {
     "name": "stderr",
     "output_type": "stream",
     "text": [
      "\n",
      " 29%|███████████▋                             | 154/540 [07:42<20:00,  3.11s/it]\u001b[A"
     ]
    },
    {
     "data": {
      "text/plain": [
       "True"
      ]
     },
     "execution_count": 63,
     "metadata": {},
     "output_type": "execute_result"
    },
    {
     "name": "stderr",
     "output_type": "stream",
     "text": [
      "\n",
      " 29%|███████████▊                             | 155/540 [07:45<19:37,  3.06s/it]\u001b[A"
     ]
    },
    {
     "data": {
      "text/plain": [
       "True"
      ]
     },
     "execution_count": 63,
     "metadata": {},
     "output_type": "execute_result"
    },
    {
     "name": "stderr",
     "output_type": "stream",
     "text": [
      "\n",
      " 29%|███████████▊                             | 156/540 [07:48<19:21,  3.03s/it]\u001b[A"
     ]
    },
    {
     "data": {
      "text/plain": [
       "True"
      ]
     },
     "execution_count": 63,
     "metadata": {},
     "output_type": "execute_result"
    },
    {
     "name": "stderr",
     "output_type": "stream",
     "text": [
      "\n",
      " 29%|███████████▉                             | 157/540 [07:51<19:39,  3.08s/it]\u001b[A"
     ]
    },
    {
     "data": {
      "text/plain": [
       "True"
      ]
     },
     "execution_count": 63,
     "metadata": {},
     "output_type": "execute_result"
    },
    {
     "name": "stderr",
     "output_type": "stream",
     "text": [
      "\n",
      " 29%|███████████▉                             | 158/540 [07:55<20:10,  3.17s/it]\u001b[A"
     ]
    },
    {
     "data": {
      "text/plain": [
       "True"
      ]
     },
     "execution_count": 63,
     "metadata": {},
     "output_type": "execute_result"
    },
    {
     "name": "stderr",
     "output_type": "stream",
     "text": [
      "\n",
      " 29%|████████████                             | 159/540 [07:58<20:45,  3.27s/it]\u001b[A"
     ]
    },
    {
     "data": {
      "text/plain": [
       "True"
      ]
     },
     "execution_count": 63,
     "metadata": {},
     "output_type": "execute_result"
    },
    {
     "name": "stderr",
     "output_type": "stream",
     "text": [
      "\n",
      " 30%|████████████▏                            | 160/540 [08:01<20:19,  3.21s/it]\u001b[A"
     ]
    },
    {
     "data": {
      "text/plain": [
       "True"
      ]
     },
     "execution_count": 63,
     "metadata": {},
     "output_type": "execute_result"
    },
    {
     "name": "stderr",
     "output_type": "stream",
     "text": [
      "\n",
      " 30%|████████████▏                            | 161/540 [08:04<19:37,  3.11s/it]\u001b[A"
     ]
    },
    {
     "data": {
      "text/plain": [
       "True"
      ]
     },
     "execution_count": 63,
     "metadata": {},
     "output_type": "execute_result"
    },
    {
     "name": "stderr",
     "output_type": "stream",
     "text": [
      "\n",
      " 30%|████████████▎                            | 162/540 [08:07<19:40,  3.12s/it]\u001b[A"
     ]
    },
    {
     "data": {
      "text/plain": [
       "True"
      ]
     },
     "execution_count": 63,
     "metadata": {},
     "output_type": "execute_result"
    },
    {
     "name": "stderr",
     "output_type": "stream",
     "text": [
      "\n",
      " 30%|████████████▍                            | 163/540 [08:11<19:57,  3.18s/it]\u001b[A"
     ]
    },
    {
     "data": {
      "text/plain": [
       "True"
      ]
     },
     "execution_count": 63,
     "metadata": {},
     "output_type": "execute_result"
    },
    {
     "name": "stderr",
     "output_type": "stream",
     "text": [
      "\n",
      " 30%|████████████▍                            | 164/540 [08:14<20:23,  3.25s/it]\u001b[A"
     ]
    },
    {
     "data": {
      "text/plain": [
       "True"
      ]
     },
     "execution_count": 63,
     "metadata": {},
     "output_type": "execute_result"
    },
    {
     "name": "stderr",
     "output_type": "stream",
     "text": [
      "\n",
      " 31%|████████████▌                            | 165/540 [08:17<19:49,  3.17s/it]\u001b[A"
     ]
    },
    {
     "data": {
      "text/plain": [
       "True"
      ]
     },
     "execution_count": 63,
     "metadata": {},
     "output_type": "execute_result"
    },
    {
     "name": "stderr",
     "output_type": "stream",
     "text": [
      "\n",
      " 31%|████████████▌                            | 166/540 [08:20<19:15,  3.09s/it]\u001b[A"
     ]
    },
    {
     "data": {
      "text/plain": [
       "True"
      ]
     },
     "execution_count": 63,
     "metadata": {},
     "output_type": "execute_result"
    },
    {
     "name": "stderr",
     "output_type": "stream",
     "text": [
      "\n",
      " 31%|████████████▋                            | 167/540 [08:23<19:23,  3.12s/it]\u001b[A"
     ]
    },
    {
     "data": {
      "text/plain": [
       "True"
      ]
     },
     "execution_count": 63,
     "metadata": {},
     "output_type": "execute_result"
    },
    {
     "name": "stderr",
     "output_type": "stream",
     "text": [
      "\n",
      " 31%|████████████▊                            | 168/540 [08:26<19:30,  3.15s/it]\u001b[A"
     ]
    },
    {
     "data": {
      "text/plain": [
       "True"
      ]
     },
     "execution_count": 63,
     "metadata": {},
     "output_type": "execute_result"
    },
    {
     "name": "stderr",
     "output_type": "stream",
     "text": [
      "\n",
      " 31%|████████████▊                            | 169/540 [08:29<19:30,  3.16s/it]\u001b[A"
     ]
    },
    {
     "data": {
      "text/plain": [
       "True"
      ]
     },
     "execution_count": 63,
     "metadata": {},
     "output_type": "execute_result"
    },
    {
     "name": "stderr",
     "output_type": "stream",
     "text": [
      "\n",
      " 31%|████████████▉                            | 170/540 [08:32<19:02,  3.09s/it]\u001b[A"
     ]
    },
    {
     "data": {
      "text/plain": [
       "True"
      ]
     },
     "execution_count": 63,
     "metadata": {},
     "output_type": "execute_result"
    },
    {
     "name": "stderr",
     "output_type": "stream",
     "text": [
      "\n",
      " 32%|████████████▉                            | 171/540 [08:35<18:41,  3.04s/it]\u001b[A"
     ]
    },
    {
     "data": {
      "text/plain": [
       "True"
      ]
     },
     "execution_count": 63,
     "metadata": {},
     "output_type": "execute_result"
    },
    {
     "name": "stderr",
     "output_type": "stream",
     "text": [
      "\n",
      " 32%|█████████████                            | 172/540 [08:38<18:42,  3.05s/it]\u001b[A"
     ]
    },
    {
     "data": {
      "text/plain": [
       "True"
      ]
     },
     "execution_count": 63,
     "metadata": {},
     "output_type": "execute_result"
    },
    {
     "name": "stderr",
     "output_type": "stream",
     "text": [
      "\n",
      " 32%|█████████████▏                           | 173/540 [08:42<18:54,  3.09s/it]\u001b[A"
     ]
    },
    {
     "data": {
      "text/plain": [
       "True"
      ]
     },
     "execution_count": 63,
     "metadata": {},
     "output_type": "execute_result"
    },
    {
     "name": "stderr",
     "output_type": "stream",
     "text": [
      "\n",
      " 32%|█████████████▏                           | 174/540 [08:45<19:11,  3.14s/it]\u001b[A"
     ]
    },
    {
     "data": {
      "text/plain": [
       "True"
      ]
     },
     "execution_count": 63,
     "metadata": {},
     "output_type": "execute_result"
    },
    {
     "name": "stderr",
     "output_type": "stream",
     "text": [
      "\n",
      " 32%|█████████████▎                           | 175/540 [08:48<18:52,  3.10s/it]\u001b[A"
     ]
    },
    {
     "data": {
      "text/plain": [
       "True"
      ]
     },
     "execution_count": 63,
     "metadata": {},
     "output_type": "execute_result"
    },
    {
     "name": "stderr",
     "output_type": "stream",
     "text": [
      "\n",
      " 33%|█████████████▎                           | 176/540 [08:51<18:24,  3.04s/it]\u001b[A"
     ]
    },
    {
     "data": {
      "text/plain": [
       "True"
      ]
     },
     "execution_count": 63,
     "metadata": {},
     "output_type": "execute_result"
    },
    {
     "name": "stderr",
     "output_type": "stream",
     "text": [
      "\n",
      " 33%|█████████████▍                           | 177/540 [08:54<18:29,  3.06s/it]\u001b[A"
     ]
    },
    {
     "data": {
      "text/plain": [
       "True"
      ]
     },
     "execution_count": 63,
     "metadata": {},
     "output_type": "execute_result"
    },
    {
     "name": "stderr",
     "output_type": "stream",
     "text": [
      "\n",
      " 33%|█████████████▌                           | 178/540 [08:57<18:52,  3.13s/it]\u001b[A"
     ]
    },
    {
     "data": {
      "text/plain": [
       "True"
      ]
     },
     "execution_count": 63,
     "metadata": {},
     "output_type": "execute_result"
    },
    {
     "name": "stderr",
     "output_type": "stream",
     "text": [
      "\n",
      " 33%|█████████████▌                           | 179/540 [09:00<19:06,  3.18s/it]\u001b[A"
     ]
    },
    {
     "data": {
      "text/plain": [
       "True"
      ]
     },
     "execution_count": 63,
     "metadata": {},
     "output_type": "execute_result"
    },
    {
     "name": "stderr",
     "output_type": "stream",
     "text": [
      "\n",
      " 33%|█████████████▋                           | 180/540 [09:03<18:47,  3.13s/it]\u001b[A"
     ]
    },
    {
     "data": {
      "text/plain": [
       "True"
      ]
     },
     "execution_count": 63,
     "metadata": {},
     "output_type": "execute_result"
    },
    {
     "name": "stderr",
     "output_type": "stream",
     "text": [
      "\n",
      " 34%|█████████████▋                           | 181/540 [09:06<18:16,  3.05s/it]\u001b[A"
     ]
    },
    {
     "data": {
      "text/plain": [
       "True"
      ]
     },
     "execution_count": 63,
     "metadata": {},
     "output_type": "execute_result"
    },
    {
     "name": "stderr",
     "output_type": "stream",
     "text": [
      "\n",
      " 34%|█████████████▊                           | 182/540 [09:10<18:26,  3.09s/it]\u001b[A"
     ]
    },
    {
     "data": {
      "text/plain": [
       "True"
      ]
     },
     "execution_count": 63,
     "metadata": {},
     "output_type": "execute_result"
    },
    {
     "name": "stderr",
     "output_type": "stream",
     "text": [
      "\n",
      " 34%|█████████████▉                           | 183/540 [09:13<18:29,  3.11s/it]\u001b[A"
     ]
    },
    {
     "data": {
      "text/plain": [
       "True"
      ]
     },
     "execution_count": 63,
     "metadata": {},
     "output_type": "execute_result"
    },
    {
     "name": "stderr",
     "output_type": "stream",
     "text": [
      "\n",
      " 34%|█████████████▉                           | 184/540 [09:16<18:37,  3.14s/it]\u001b[A"
     ]
    },
    {
     "data": {
      "text/plain": [
       "True"
      ]
     },
     "execution_count": 63,
     "metadata": {},
     "output_type": "execute_result"
    },
    {
     "name": "stderr",
     "output_type": "stream",
     "text": [
      "\n",
      " 34%|██████████████                           | 185/540 [09:19<18:20,  3.10s/it]\u001b[A"
     ]
    },
    {
     "data": {
      "text/plain": [
       "True"
      ]
     },
     "execution_count": 63,
     "metadata": {},
     "output_type": "execute_result"
    },
    {
     "name": "stderr",
     "output_type": "stream",
     "text": [
      "\n",
      " 34%|██████████████                           | 186/540 [09:22<17:53,  3.03s/it]\u001b[A"
     ]
    },
    {
     "data": {
      "text/plain": [
       "True"
      ]
     },
     "execution_count": 63,
     "metadata": {},
     "output_type": "execute_result"
    },
    {
     "name": "stderr",
     "output_type": "stream",
     "text": [
      "\n",
      " 35%|██████████████▏                          | 187/540 [09:25<18:08,  3.08s/it]\u001b[A"
     ]
    },
    {
     "data": {
      "text/plain": [
       "True"
      ]
     },
     "execution_count": 63,
     "metadata": {},
     "output_type": "execute_result"
    },
    {
     "name": "stderr",
     "output_type": "stream",
     "text": [
      "\n",
      " 35%|██████████████▎                          | 188/540 [09:28<18:45,  3.20s/it]\u001b[A"
     ]
    },
    {
     "data": {
      "text/plain": [
       "True"
      ]
     },
     "execution_count": 63,
     "metadata": {},
     "output_type": "execute_result"
    },
    {
     "name": "stderr",
     "output_type": "stream",
     "text": [
      "\n",
      " 35%|██████████████▎                          | 189/540 [09:32<19:18,  3.30s/it]\u001b[A"
     ]
    },
    {
     "data": {
      "text/plain": [
       "True"
      ]
     },
     "execution_count": 63,
     "metadata": {},
     "output_type": "execute_result"
    },
    {
     "name": "stderr",
     "output_type": "stream",
     "text": [
      "\n",
      " 35%|██████████████▍                          | 190/540 [09:35<18:50,  3.23s/it]\u001b[A"
     ]
    },
    {
     "data": {
      "text/plain": [
       "True"
      ]
     },
     "execution_count": 63,
     "metadata": {},
     "output_type": "execute_result"
    },
    {
     "name": "stderr",
     "output_type": "stream",
     "text": [
      "\n",
      " 35%|██████████████▌                          | 191/540 [09:38<18:10,  3.13s/it]\u001b[A"
     ]
    },
    {
     "data": {
      "text/plain": [
       "True"
      ]
     },
     "execution_count": 63,
     "metadata": {},
     "output_type": "execute_result"
    },
    {
     "name": "stderr",
     "output_type": "stream",
     "text": [
      "\n",
      " 36%|██████████████▌                          | 192/540 [09:41<18:08,  3.13s/it]\u001b[A"
     ]
    },
    {
     "data": {
      "text/plain": [
       "True"
      ]
     },
     "execution_count": 63,
     "metadata": {},
     "output_type": "execute_result"
    },
    {
     "name": "stderr",
     "output_type": "stream",
     "text": [
      "\n",
      " 36%|██████████████▋                          | 193/540 [09:44<18:30,  3.20s/it]\u001b[A"
     ]
    },
    {
     "data": {
      "text/plain": [
       "True"
      ]
     },
     "execution_count": 63,
     "metadata": {},
     "output_type": "execute_result"
    },
    {
     "name": "stderr",
     "output_type": "stream",
     "text": [
      "\n",
      " 36%|██████████████▋                          | 194/540 [09:48<18:53,  3.28s/it]\u001b[A"
     ]
    },
    {
     "data": {
      "text/plain": [
       "True"
      ]
     },
     "execution_count": 63,
     "metadata": {},
     "output_type": "execute_result"
    },
    {
     "name": "stderr",
     "output_type": "stream",
     "text": [
      "\n",
      " 36%|██████████████▊                          | 195/540 [09:51<18:20,  3.19s/it]\u001b[A"
     ]
    },
    {
     "data": {
      "text/plain": [
       "True"
      ]
     },
     "execution_count": 63,
     "metadata": {},
     "output_type": "execute_result"
    },
    {
     "name": "stderr",
     "output_type": "stream",
     "text": [
      "\n",
      " 36%|██████████████▉                          | 196/540 [09:54<17:48,  3.11s/it]\u001b[A"
     ]
    },
    {
     "data": {
      "text/plain": [
       "True"
      ]
     },
     "execution_count": 63,
     "metadata": {},
     "output_type": "execute_result"
    },
    {
     "name": "stderr",
     "output_type": "stream",
     "text": [
      "\n",
      " 36%|██████████████▉                          | 197/540 [09:57<17:42,  3.10s/it]\u001b[A"
     ]
    },
    {
     "data": {
      "text/plain": [
       "True"
      ]
     },
     "execution_count": 63,
     "metadata": {},
     "output_type": "execute_result"
    },
    {
     "name": "stderr",
     "output_type": "stream",
     "text": [
      "\n",
      " 37%|███████████████                          | 198/540 [10:00<17:51,  3.13s/it]\u001b[A"
     ]
    },
    {
     "data": {
      "text/plain": [
       "True"
      ]
     },
     "execution_count": 63,
     "metadata": {},
     "output_type": "execute_result"
    },
    {
     "name": "stderr",
     "output_type": "stream",
     "text": [
      "\n",
      " 37%|███████████████                          | 199/540 [10:03<17:55,  3.15s/it]\u001b[A"
     ]
    },
    {
     "data": {
      "text/plain": [
       "True"
      ]
     },
     "execution_count": 63,
     "metadata": {},
     "output_type": "execute_result"
    },
    {
     "name": "stderr",
     "output_type": "stream",
     "text": [
      "\n",
      " 37%|███████████████▏                         | 200/540 [10:06<17:37,  3.11s/it]\u001b[A"
     ]
    },
    {
     "data": {
      "text/plain": [
       "True"
      ]
     },
     "execution_count": 63,
     "metadata": {},
     "output_type": "execute_result"
    },
    {
     "name": "stderr",
     "output_type": "stream",
     "text": [
      "\n",
      " 37%|███████████████▎                         | 201/540 [10:09<17:15,  3.05s/it]\u001b[A"
     ]
    },
    {
     "data": {
      "text/plain": [
       "True"
      ]
     },
     "execution_count": 63,
     "metadata": {},
     "output_type": "execute_result"
    },
    {
     "name": "stderr",
     "output_type": "stream",
     "text": [
      "\n",
      " 37%|███████████████▎                         | 202/540 [10:12<17:22,  3.08s/it]\u001b[A"
     ]
    },
    {
     "data": {
      "text/plain": [
       "True"
      ]
     },
     "execution_count": 63,
     "metadata": {},
     "output_type": "execute_result"
    },
    {
     "name": "stderr",
     "output_type": "stream",
     "text": [
      "\n",
      " 38%|███████████████▍                         | 203/540 [10:16<18:13,  3.25s/it]\u001b[A"
     ]
    },
    {
     "data": {
      "text/plain": [
       "True"
      ]
     },
     "execution_count": 63,
     "metadata": {},
     "output_type": "execute_result"
    },
    {
     "name": "stderr",
     "output_type": "stream",
     "text": [
      "\n",
      " 38%|███████████████▍                         | 204/540 [10:19<18:20,  3.27s/it]\u001b[A"
     ]
    },
    {
     "data": {
      "text/plain": [
       "True"
      ]
     },
     "execution_count": 63,
     "metadata": {},
     "output_type": "execute_result"
    },
    {
     "name": "stderr",
     "output_type": "stream",
     "text": [
      "\n",
      " 38%|███████████████▌                         | 205/540 [10:22<17:51,  3.20s/it]\u001b[A"
     ]
    },
    {
     "data": {
      "text/plain": [
       "True"
      ]
     },
     "execution_count": 63,
     "metadata": {},
     "output_type": "execute_result"
    },
    {
     "name": "stderr",
     "output_type": "stream",
     "text": [
      "\n",
      " 38%|███████████████▋                         | 206/540 [10:25<17:15,  3.10s/it]\u001b[A"
     ]
    },
    {
     "data": {
      "text/plain": [
       "True"
      ]
     },
     "execution_count": 63,
     "metadata": {},
     "output_type": "execute_result"
    },
    {
     "name": "stderr",
     "output_type": "stream",
     "text": [
      "\n",
      " 38%|███████████████▋                         | 207/540 [10:28<17:11,  3.10s/it]\u001b[A"
     ]
    },
    {
     "data": {
      "text/plain": [
       "True"
      ]
     },
     "execution_count": 63,
     "metadata": {},
     "output_type": "execute_result"
    },
    {
     "name": "stderr",
     "output_type": "stream",
     "text": [
      "\n",
      " 39%|███████████████▊                         | 208/540 [10:32<17:22,  3.14s/it]\u001b[A"
     ]
    },
    {
     "data": {
      "text/plain": [
       "True"
      ]
     },
     "execution_count": 63,
     "metadata": {},
     "output_type": "execute_result"
    },
    {
     "name": "stderr",
     "output_type": "stream",
     "text": [
      "\n",
      " 39%|███████████████▊                         | 209/540 [10:35<17:41,  3.21s/it]\u001b[A"
     ]
    },
    {
     "data": {
      "text/plain": [
       "True"
      ]
     },
     "execution_count": 63,
     "metadata": {},
     "output_type": "execute_result"
    },
    {
     "name": "stderr",
     "output_type": "stream",
     "text": [
      "\n",
      " 39%|███████████████▉                         | 210/540 [10:38<17:20,  3.15s/it]\u001b[A"
     ]
    },
    {
     "data": {
      "text/plain": [
       "True"
      ]
     },
     "execution_count": 63,
     "metadata": {},
     "output_type": "execute_result"
    },
    {
     "name": "stderr",
     "output_type": "stream",
     "text": [
      "\n",
      " 39%|████████████████                         | 211/540 [10:41<16:56,  3.09s/it]\u001b[A"
     ]
    },
    {
     "data": {
      "text/plain": [
       "True"
      ]
     },
     "execution_count": 63,
     "metadata": {},
     "output_type": "execute_result"
    },
    {
     "name": "stderr",
     "output_type": "stream",
     "text": [
      "\n",
      " 39%|████████████████                         | 212/540 [10:44<16:49,  3.08s/it]\u001b[A"
     ]
    },
    {
     "data": {
      "text/plain": [
       "True"
      ]
     },
     "execution_count": 63,
     "metadata": {},
     "output_type": "execute_result"
    },
    {
     "name": "stderr",
     "output_type": "stream",
     "text": [
      "\n",
      " 39%|████████████████▏                        | 213/540 [10:47<16:58,  3.11s/it]\u001b[A"
     ]
    },
    {
     "data": {
      "text/plain": [
       "True"
      ]
     },
     "execution_count": 63,
     "metadata": {},
     "output_type": "execute_result"
    },
    {
     "name": "stderr",
     "output_type": "stream",
     "text": [
      "\n",
      " 40%|████████████████▏                        | 214/540 [10:50<17:02,  3.14s/it]\u001b[A"
     ]
    },
    {
     "data": {
      "text/plain": [
       "True"
      ]
     },
     "execution_count": 63,
     "metadata": {},
     "output_type": "execute_result"
    },
    {
     "name": "stderr",
     "output_type": "stream",
     "text": [
      "\n",
      " 40%|████████████████▎                        | 215/540 [10:53<16:41,  3.08s/it]\u001b[A"
     ]
    },
    {
     "data": {
      "text/plain": [
       "True"
      ]
     },
     "execution_count": 63,
     "metadata": {},
     "output_type": "execute_result"
    },
    {
     "name": "stderr",
     "output_type": "stream",
     "text": [
      "\n",
      " 40%|████████████████▍                        | 216/540 [10:56<16:18,  3.02s/it]\u001b[A"
     ]
    },
    {
     "data": {
      "text/plain": [
       "True"
      ]
     },
     "execution_count": 63,
     "metadata": {},
     "output_type": "execute_result"
    },
    {
     "name": "stderr",
     "output_type": "stream",
     "text": [
      "\n",
      " 40%|████████████████▍                        | 217/540 [10:59<16:34,  3.08s/it]\u001b[A"
     ]
    },
    {
     "data": {
      "text/plain": [
       "True"
      ]
     },
     "execution_count": 63,
     "metadata": {},
     "output_type": "execute_result"
    },
    {
     "name": "stderr",
     "output_type": "stream",
     "text": [
      "\n",
      " 40%|████████████████▌                        | 218/540 [11:03<16:59,  3.17s/it]\u001b[A"
     ]
    },
    {
     "data": {
      "text/plain": [
       "True"
      ]
     },
     "execution_count": 63,
     "metadata": {},
     "output_type": "execute_result"
    },
    {
     "name": "stderr",
     "output_type": "stream",
     "text": [
      "\n",
      " 41%|████████████████▋                        | 219/540 [11:06<17:38,  3.30s/it]\u001b[A"
     ]
    },
    {
     "data": {
      "text/plain": [
       "True"
      ]
     },
     "execution_count": 63,
     "metadata": {},
     "output_type": "execute_result"
    },
    {
     "name": "stderr",
     "output_type": "stream",
     "text": [
      "\n",
      " 41%|████████████████▋                        | 220/540 [11:09<17:17,  3.24s/it]\u001b[A"
     ]
    },
    {
     "data": {
      "text/plain": [
       "True"
      ]
     },
     "execution_count": 63,
     "metadata": {},
     "output_type": "execute_result"
    },
    {
     "name": "stderr",
     "output_type": "stream",
     "text": [
      "\n",
      " 41%|████████████████▊                        | 221/540 [11:12<16:42,  3.14s/it]\u001b[A"
     ]
    },
    {
     "data": {
      "text/plain": [
       "True"
      ]
     },
     "execution_count": 63,
     "metadata": {},
     "output_type": "execute_result"
    },
    {
     "name": "stderr",
     "output_type": "stream",
     "text": [
      "\n",
      " 41%|████████████████▊                        | 222/540 [11:15<16:40,  3.15s/it]\u001b[A"
     ]
    },
    {
     "data": {
      "text/plain": [
       "True"
      ]
     },
     "execution_count": 63,
     "metadata": {},
     "output_type": "execute_result"
    },
    {
     "name": "stderr",
     "output_type": "stream",
     "text": [
      "\n",
      " 41%|████████████████▉                        | 223/540 [11:19<16:53,  3.20s/it]\u001b[A"
     ]
    },
    {
     "data": {
      "text/plain": [
       "True"
      ]
     },
     "execution_count": 63,
     "metadata": {},
     "output_type": "execute_result"
    },
    {
     "name": "stderr",
     "output_type": "stream",
     "text": [
      "\n",
      " 41%|█████████████████                        | 224/540 [11:22<17:12,  3.27s/it]\u001b[A"
     ]
    },
    {
     "data": {
      "text/plain": [
       "True"
      ]
     },
     "execution_count": 63,
     "metadata": {},
     "output_type": "execute_result"
    },
    {
     "name": "stderr",
     "output_type": "stream",
     "text": [
      "\n",
      " 42%|█████████████████                        | 225/540 [11:25<16:43,  3.19s/it]\u001b[A"
     ]
    },
    {
     "data": {
      "text/plain": [
       "True"
      ]
     },
     "execution_count": 63,
     "metadata": {},
     "output_type": "execute_result"
    },
    {
     "name": "stderr",
     "output_type": "stream",
     "text": [
      "\n",
      " 42%|█████████████████▏                       | 226/540 [11:28<16:11,  3.09s/it]\u001b[A"
     ]
    },
    {
     "data": {
      "text/plain": [
       "True"
      ]
     },
     "execution_count": 63,
     "metadata": {},
     "output_type": "execute_result"
    },
    {
     "name": "stderr",
     "output_type": "stream",
     "text": [
      "\n",
      " 42%|█████████████████▏                       | 227/540 [11:31<16:10,  3.10s/it]\u001b[A"
     ]
    },
    {
     "data": {
      "text/plain": [
       "True"
      ]
     },
     "execution_count": 63,
     "metadata": {},
     "output_type": "execute_result"
    },
    {
     "name": "stderr",
     "output_type": "stream",
     "text": [
      "\n",
      " 42%|█████████████████▎                       | 228/540 [11:35<16:24,  3.15s/it]\u001b[A"
     ]
    },
    {
     "data": {
      "text/plain": [
       "True"
      ]
     },
     "execution_count": 63,
     "metadata": {},
     "output_type": "execute_result"
    },
    {
     "name": "stderr",
     "output_type": "stream",
     "text": [
      "\n",
      " 42%|█████████████████▍                       | 229/540 [11:38<16:23,  3.16s/it]\u001b[A"
     ]
    },
    {
     "data": {
      "text/plain": [
       "True"
      ]
     },
     "execution_count": 63,
     "metadata": {},
     "output_type": "execute_result"
    },
    {
     "name": "stderr",
     "output_type": "stream",
     "text": [
      "\n",
      " 43%|█████████████████▍                       | 230/540 [11:41<16:11,  3.13s/it]\u001b[A"
     ]
    },
    {
     "data": {
      "text/plain": [
       "True"
      ]
     },
     "execution_count": 63,
     "metadata": {},
     "output_type": "execute_result"
    },
    {
     "name": "stderr",
     "output_type": "stream",
     "text": [
      "\n",
      " 43%|█████████████████▌                       | 231/540 [11:44<15:54,  3.09s/it]\u001b[A"
     ]
    },
    {
     "data": {
      "text/plain": [
       "True"
      ]
     },
     "execution_count": 63,
     "metadata": {},
     "output_type": "execute_result"
    },
    {
     "name": "stderr",
     "output_type": "stream",
     "text": [
      "\n",
      " 43%|█████████████████▌                       | 232/540 [11:47<15:47,  3.08s/it]\u001b[A"
     ]
    },
    {
     "data": {
      "text/plain": [
       "True"
      ]
     },
     "execution_count": 63,
     "metadata": {},
     "output_type": "execute_result"
    },
    {
     "name": "stderr",
     "output_type": "stream",
     "text": [
      "\n",
      " 43%|█████████████████▋                       | 233/540 [11:50<16:06,  3.15s/it]\u001b[A"
     ]
    },
    {
     "data": {
      "text/plain": [
       "True"
      ]
     },
     "execution_count": 63,
     "metadata": {},
     "output_type": "execute_result"
    },
    {
     "name": "stderr",
     "output_type": "stream",
     "text": [
      "\n",
      " 43%|█████████████████▊                       | 234/540 [11:54<16:26,  3.22s/it]\u001b[A"
     ]
    },
    {
     "data": {
      "text/plain": [
       "True"
      ]
     },
     "execution_count": 63,
     "metadata": {},
     "output_type": "execute_result"
    },
    {
     "name": "stderr",
     "output_type": "stream",
     "text": [
      "\n",
      " 44%|█████████████████▊                       | 235/540 [11:57<16:04,  3.16s/it]\u001b[A"
     ]
    },
    {
     "data": {
      "text/plain": [
       "True"
      ]
     },
     "execution_count": 63,
     "metadata": {},
     "output_type": "execute_result"
    },
    {
     "name": "stderr",
     "output_type": "stream",
     "text": [
      "\n",
      " 44%|█████████████████▉                       | 236/540 [11:59<15:37,  3.08s/it]\u001b[A"
     ]
    },
    {
     "data": {
      "text/plain": [
       "True"
      ]
     },
     "execution_count": 63,
     "metadata": {},
     "output_type": "execute_result"
    },
    {
     "name": "stderr",
     "output_type": "stream",
     "text": [
      "\n",
      " 44%|█████████████████▉                       | 237/540 [12:03<15:33,  3.08s/it]\u001b[A"
     ]
    },
    {
     "data": {
      "text/plain": [
       "True"
      ]
     },
     "execution_count": 63,
     "metadata": {},
     "output_type": "execute_result"
    },
    {
     "name": "stderr",
     "output_type": "stream",
     "text": [
      "\n",
      " 44%|██████████████████                       | 238/540 [12:06<15:47,  3.14s/it]\u001b[A"
     ]
    },
    {
     "data": {
      "text/plain": [
       "True"
      ]
     },
     "execution_count": 63,
     "metadata": {},
     "output_type": "execute_result"
    },
    {
     "name": "stderr",
     "output_type": "stream",
     "text": [
      "\n",
      " 44%|██████████████████▏                      | 239/540 [12:09<15:56,  3.18s/it]\u001b[A"
     ]
    },
    {
     "data": {
      "text/plain": [
       "True"
      ]
     },
     "execution_count": 63,
     "metadata": {},
     "output_type": "execute_result"
    },
    {
     "name": "stderr",
     "output_type": "stream",
     "text": [
      "\n",
      " 44%|██████████████████▏                      | 240/540 [12:12<15:47,  3.16s/it]\u001b[A"
     ]
    },
    {
     "data": {
      "text/plain": [
       "True"
      ]
     },
     "execution_count": 63,
     "metadata": {},
     "output_type": "execute_result"
    },
    {
     "name": "stderr",
     "output_type": "stream",
     "text": [
      "\n",
      " 45%|██████████████████▎                      | 241/540 [12:15<15:36,  3.13s/it]\u001b[A"
     ]
    },
    {
     "data": {
      "text/plain": [
       "True"
      ]
     },
     "execution_count": 63,
     "metadata": {},
     "output_type": "execute_result"
    },
    {
     "name": "stderr",
     "output_type": "stream",
     "text": [
      "\n",
      " 45%|██████████████████▎                      | 242/540 [12:19<15:54,  3.20s/it]\u001b[A"
     ]
    },
    {
     "data": {
      "text/plain": [
       "True"
      ]
     },
     "execution_count": 63,
     "metadata": {},
     "output_type": "execute_result"
    },
    {
     "name": "stderr",
     "output_type": "stream",
     "text": [
      "\n",
      " 45%|██████████████████▍                      | 243/540 [12:22<16:13,  3.28s/it]\u001b[A"
     ]
    },
    {
     "data": {
      "text/plain": [
       "True"
      ]
     },
     "execution_count": 63,
     "metadata": {},
     "output_type": "execute_result"
    },
    {
     "name": "stderr",
     "output_type": "stream",
     "text": [
      "\n",
      " 45%|██████████████████▌                      | 244/540 [12:26<16:38,  3.37s/it]\u001b[A"
     ]
    },
    {
     "data": {
      "text/plain": [
       "True"
      ]
     },
     "execution_count": 63,
     "metadata": {},
     "output_type": "execute_result"
    },
    {
     "name": "stderr",
     "output_type": "stream",
     "text": [
      "\n",
      " 45%|██████████████████▌                      | 245/540 [12:29<16:17,  3.31s/it]\u001b[A"
     ]
    },
    {
     "data": {
      "text/plain": [
       "True"
      ]
     },
     "execution_count": 63,
     "metadata": {},
     "output_type": "execute_result"
    },
    {
     "name": "stderr",
     "output_type": "stream",
     "text": [
      "\n",
      " 46%|██████████████████▋                      | 246/540 [12:32<15:53,  3.24s/it]\u001b[A"
     ]
    },
    {
     "data": {
      "text/plain": [
       "True"
      ]
     },
     "execution_count": 63,
     "metadata": {},
     "output_type": "execute_result"
    },
    {
     "name": "stderr",
     "output_type": "stream",
     "text": [
      "\n",
      " 46%|██████████████████▊                      | 247/540 [12:35<16:10,  3.31s/it]\u001b[A"
     ]
    },
    {
     "data": {
      "text/plain": [
       "True"
      ]
     },
     "execution_count": 63,
     "metadata": {},
     "output_type": "execute_result"
    },
    {
     "name": "stderr",
     "output_type": "stream",
     "text": [
      "\n",
      " 46%|██████████████████▊                      | 248/540 [12:39<16:38,  3.42s/it]\u001b[A"
     ]
    },
    {
     "data": {
      "text/plain": [
       "True"
      ]
     },
     "execution_count": 63,
     "metadata": {},
     "output_type": "execute_result"
    },
    {
     "name": "stderr",
     "output_type": "stream",
     "text": [
      "\n",
      " 46%|██████████████████▉                      | 249/540 [12:43<17:14,  3.55s/it]\u001b[A"
     ]
    },
    {
     "data": {
      "text/plain": [
       "True"
      ]
     },
     "execution_count": 63,
     "metadata": {},
     "output_type": "execute_result"
    },
    {
     "name": "stderr",
     "output_type": "stream",
     "text": [
      "\n",
      " 46%|██████████████████▉                      | 250/540 [12:46<16:47,  3.47s/it]\u001b[A"
     ]
    },
    {
     "data": {
      "text/plain": [
       "True"
      ]
     },
     "execution_count": 63,
     "metadata": {},
     "output_type": "execute_result"
    },
    {
     "name": "stderr",
     "output_type": "stream",
     "text": [
      "\n",
      " 46%|███████████████████                      | 251/540 [12:49<16:02,  3.33s/it]\u001b[A"
     ]
    },
    {
     "data": {
      "text/plain": [
       "True"
      ]
     },
     "execution_count": 63,
     "metadata": {},
     "output_type": "execute_result"
    },
    {
     "name": "stderr",
     "output_type": "stream",
     "text": [
      "\n",
      " 47%|███████████████████▏                     | 252/540 [12:53<16:08,  3.36s/it]\u001b[A"
     ]
    },
    {
     "data": {
      "text/plain": [
       "True"
      ]
     },
     "execution_count": 63,
     "metadata": {},
     "output_type": "execute_result"
    },
    {
     "name": "stderr",
     "output_type": "stream",
     "text": [
      "\n",
      " 47%|███████████████████▏                     | 253/540 [12:56<16:27,  3.44s/it]\u001b[A"
     ]
    },
    {
     "data": {
      "text/plain": [
       "True"
      ]
     },
     "execution_count": 63,
     "metadata": {},
     "output_type": "execute_result"
    },
    {
     "name": "stderr",
     "output_type": "stream",
     "text": [
      "\n",
      " 47%|███████████████████▎                     | 254/540 [13:00<16:56,  3.55s/it]\u001b[A"
     ]
    },
    {
     "data": {
      "text/plain": [
       "True"
      ]
     },
     "execution_count": 63,
     "metadata": {},
     "output_type": "execute_result"
    },
    {
     "name": "stderr",
     "output_type": "stream",
     "text": [
      "\n",
      " 47%|███████████████████▎                     | 255/540 [13:03<16:25,  3.46s/it]\u001b[A"
     ]
    },
    {
     "data": {
      "text/plain": [
       "True"
      ]
     },
     "execution_count": 63,
     "metadata": {},
     "output_type": "execute_result"
    },
    {
     "name": "stderr",
     "output_type": "stream",
     "text": [
      "\n",
      " 47%|███████████████████▍                     | 256/540 [13:06<15:45,  3.33s/it]\u001b[A"
     ]
    },
    {
     "data": {
      "text/plain": [
       "True"
      ]
     },
     "execution_count": 63,
     "metadata": {},
     "output_type": "execute_result"
    },
    {
     "name": "stderr",
     "output_type": "stream",
     "text": [
      "\n",
      " 48%|███████████████████▌                     | 257/540 [13:10<15:46,  3.35s/it]\u001b[A"
     ]
    },
    {
     "data": {
      "text/plain": [
       "True"
      ]
     },
     "execution_count": 63,
     "metadata": {},
     "output_type": "execute_result"
    },
    {
     "name": "stderr",
     "output_type": "stream",
     "text": [
      "\n",
      " 48%|███████████████████▌                     | 258/540 [13:13<15:54,  3.38s/it]\u001b[A"
     ]
    },
    {
     "data": {
      "text/plain": [
       "True"
      ]
     },
     "execution_count": 63,
     "metadata": {},
     "output_type": "execute_result"
    },
    {
     "name": "stderr",
     "output_type": "stream",
     "text": [
      "\n",
      " 48%|███████████████████▋                     | 259/540 [13:17<16:03,  3.43s/it]\u001b[A"
     ]
    },
    {
     "data": {
      "text/plain": [
       "True"
      ]
     },
     "execution_count": 63,
     "metadata": {},
     "output_type": "execute_result"
    },
    {
     "name": "stderr",
     "output_type": "stream",
     "text": [
      "\n",
      " 48%|███████████████████▋                     | 260/540 [13:20<15:45,  3.38s/it]\u001b[A"
     ]
    },
    {
     "data": {
      "text/plain": [
       "True"
      ]
     },
     "execution_count": 63,
     "metadata": {},
     "output_type": "execute_result"
    },
    {
     "name": "stderr",
     "output_type": "stream",
     "text": [
      "\n",
      " 48%|███████████████████▊                     | 261/540 [13:23<15:17,  3.29s/it]\u001b[A"
     ]
    },
    {
     "data": {
      "text/plain": [
       "True"
      ]
     },
     "execution_count": 63,
     "metadata": {},
     "output_type": "execute_result"
    },
    {
     "name": "stderr",
     "output_type": "stream",
     "text": [
      "\n",
      " 49%|███████████████████▉                     | 262/540 [13:26<15:14,  3.29s/it]\u001b[A"
     ]
    },
    {
     "data": {
      "text/plain": [
       "True"
      ]
     },
     "execution_count": 63,
     "metadata": {},
     "output_type": "execute_result"
    },
    {
     "name": "stderr",
     "output_type": "stream",
     "text": [
      "\n",
      " 49%|███████████████████▉                     | 263/540 [13:30<15:38,  3.39s/it]\u001b[A"
     ]
    },
    {
     "data": {
      "text/plain": [
       "True"
      ]
     },
     "execution_count": 63,
     "metadata": {},
     "output_type": "execute_result"
    },
    {
     "name": "stderr",
     "output_type": "stream",
     "text": [
      "\n",
      " 49%|████████████████████                     | 264/540 [13:34<16:01,  3.48s/it]\u001b[A"
     ]
    },
    {
     "data": {
      "text/plain": [
       "True"
      ]
     },
     "execution_count": 63,
     "metadata": {},
     "output_type": "execute_result"
    },
    {
     "name": "stderr",
     "output_type": "stream",
     "text": [
      "\n",
      " 49%|████████████████████                     | 265/540 [13:37<15:35,  3.40s/it]\u001b[A"
     ]
    },
    {
     "data": {
      "text/plain": [
       "True"
      ]
     },
     "execution_count": 63,
     "metadata": {},
     "output_type": "execute_result"
    },
    {
     "name": "stderr",
     "output_type": "stream",
     "text": [
      "\n",
      " 49%|████████████████████▏                    | 266/540 [13:40<15:05,  3.30s/it]\u001b[A"
     ]
    },
    {
     "data": {
      "text/plain": [
       "True"
      ]
     },
     "execution_count": 63,
     "metadata": {},
     "output_type": "execute_result"
    },
    {
     "name": "stderr",
     "output_type": "stream",
     "text": [
      "\n",
      " 49%|████████████████████▎                    | 267/540 [13:43<15:08,  3.33s/it]\u001b[A"
     ]
    },
    {
     "data": {
      "text/plain": [
       "True"
      ]
     },
     "execution_count": 63,
     "metadata": {},
     "output_type": "execute_result"
    },
    {
     "name": "stderr",
     "output_type": "stream",
     "text": [
      "\n",
      " 50%|████████████████████▎                    | 268/540 [13:47<15:25,  3.40s/it]\u001b[A"
     ]
    },
    {
     "data": {
      "text/plain": [
       "True"
      ]
     },
     "execution_count": 63,
     "metadata": {},
     "output_type": "execute_result"
    },
    {
     "name": "stderr",
     "output_type": "stream",
     "text": [
      "\n",
      " 50%|████████████████████▍                    | 269/540 [13:50<15:35,  3.45s/it]\u001b[A"
     ]
    },
    {
     "data": {
      "text/plain": [
       "True"
      ]
     },
     "execution_count": 63,
     "metadata": {},
     "output_type": "execute_result"
    },
    {
     "name": "stderr",
     "output_type": "stream",
     "text": [
      "\n",
      " 50%|████████████████████▌                    | 270/540 [13:54<15:17,  3.40s/it]\u001b[A"
     ]
    },
    {
     "data": {
      "text/plain": [
       "True"
      ]
     },
     "execution_count": 63,
     "metadata": {},
     "output_type": "execute_result"
    },
    {
     "name": "stderr",
     "output_type": "stream",
     "text": [
      "\n",
      " 50%|████████████████████▌                    | 271/540 [13:57<14:51,  3.32s/it]\u001b[A"
     ]
    },
    {
     "data": {
      "text/plain": [
       "True"
      ]
     },
     "execution_count": 63,
     "metadata": {},
     "output_type": "execute_result"
    },
    {
     "name": "stderr",
     "output_type": "stream",
     "text": [
      "\n",
      " 50%|████████████████████▋                    | 272/540 [14:00<14:46,  3.31s/it]\u001b[A"
     ]
    },
    {
     "data": {
      "text/plain": [
       "True"
      ]
     },
     "execution_count": 63,
     "metadata": {},
     "output_type": "execute_result"
    },
    {
     "name": "stderr",
     "output_type": "stream",
     "text": [
      "\n",
      " 51%|████████████████████▋                    | 273/540 [14:04<14:54,  3.35s/it]\u001b[A"
     ]
    },
    {
     "data": {
      "text/plain": [
       "True"
      ]
     },
     "execution_count": 63,
     "metadata": {},
     "output_type": "execute_result"
    },
    {
     "name": "stderr",
     "output_type": "stream",
     "text": [
      "\n",
      " 51%|████████████████████▊                    | 274/540 [14:07<15:06,  3.41s/it]\u001b[A"
     ]
    },
    {
     "data": {
      "text/plain": [
       "True"
      ]
     },
     "execution_count": 63,
     "metadata": {},
     "output_type": "execute_result"
    },
    {
     "name": "stderr",
     "output_type": "stream",
     "text": [
      "\n",
      " 51%|████████████████████▉                    | 275/540 [14:10<14:44,  3.34s/it]\u001b[A"
     ]
    },
    {
     "data": {
      "text/plain": [
       "True"
      ]
     },
     "execution_count": 63,
     "metadata": {},
     "output_type": "execute_result"
    },
    {
     "name": "stderr",
     "output_type": "stream",
     "text": [
      "\n",
      " 51%|████████████████████▉                    | 276/540 [14:13<14:23,  3.27s/it]\u001b[A"
     ]
    },
    {
     "data": {
      "text/plain": [
       "True"
      ]
     },
     "execution_count": 63,
     "metadata": {},
     "output_type": "execute_result"
    },
    {
     "name": "stderr",
     "output_type": "stream",
     "text": [
      "\n",
      " 51%|█████████████████████                    | 277/540 [14:17<14:31,  3.31s/it]\u001b[A"
     ]
    },
    {
     "data": {
      "text/plain": [
       "True"
      ]
     },
     "execution_count": 63,
     "metadata": {},
     "output_type": "execute_result"
    },
    {
     "name": "stderr",
     "output_type": "stream",
     "text": [
      "\n",
      " 51%|█████████████████████                    | 278/540 [14:21<15:07,  3.46s/it]\u001b[A"
     ]
    },
    {
     "data": {
      "text/plain": [
       "True"
      ]
     },
     "execution_count": 63,
     "metadata": {},
     "output_type": "execute_result"
    },
    {
     "name": "stderr",
     "output_type": "stream",
     "text": [
      "\n",
      " 52%|█████████████████████▏                   | 279/540 [14:25<15:40,  3.60s/it]\u001b[A"
     ]
    },
    {
     "data": {
      "text/plain": [
       "True"
      ]
     },
     "execution_count": 63,
     "metadata": {},
     "output_type": "execute_result"
    },
    {
     "name": "stderr",
     "output_type": "stream",
     "text": [
      "\n",
      " 52%|█████████████████████▎                   | 280/540 [14:28<15:12,  3.51s/it]\u001b[A"
     ]
    },
    {
     "data": {
      "text/plain": [
       "True"
      ]
     },
     "execution_count": 63,
     "metadata": {},
     "output_type": "execute_result"
    },
    {
     "name": "stderr",
     "output_type": "stream",
     "text": [
      "\n",
      " 52%|█████████████████████▎                   | 281/540 [14:31<14:42,  3.41s/it]\u001b[A"
     ]
    },
    {
     "data": {
      "text/plain": [
       "True"
      ]
     },
     "execution_count": 63,
     "metadata": {},
     "output_type": "execute_result"
    },
    {
     "name": "stderr",
     "output_type": "stream",
     "text": [
      "\n",
      " 52%|█████████████████████▍                   | 282/540 [14:34<14:36,  3.40s/it]\u001b[A"
     ]
    },
    {
     "data": {
      "text/plain": [
       "True"
      ]
     },
     "execution_count": 63,
     "metadata": {},
     "output_type": "execute_result"
    },
    {
     "name": "stderr",
     "output_type": "stream",
     "text": [
      "\n",
      " 52%|█████████████████████▍                   | 283/540 [14:38<14:48,  3.46s/it]\u001b[A"
     ]
    },
    {
     "data": {
      "text/plain": [
       "True"
      ]
     },
     "execution_count": 63,
     "metadata": {},
     "output_type": "execute_result"
    },
    {
     "name": "stderr",
     "output_type": "stream",
     "text": [
      "\n",
      " 53%|█████████████████████▌                   | 284/540 [14:42<15:09,  3.55s/it]\u001b[A"
     ]
    },
    {
     "data": {
      "text/plain": [
       "True"
      ]
     },
     "execution_count": 63,
     "metadata": {},
     "output_type": "execute_result"
    },
    {
     "name": "stderr",
     "output_type": "stream",
     "text": [
      "\n",
      " 53%|█████████████████████▋                   | 285/540 [14:45<14:45,  3.47s/it]\u001b[A"
     ]
    },
    {
     "data": {
      "text/plain": [
       "True"
      ]
     },
     "execution_count": 63,
     "metadata": {},
     "output_type": "execute_result"
    },
    {
     "name": "stderr",
     "output_type": "stream",
     "text": [
      "\n",
      " 53%|█████████████████████▋                   | 286/540 [14:48<14:05,  3.33s/it]\u001b[A"
     ]
    },
    {
     "data": {
      "text/plain": [
       "True"
      ]
     },
     "execution_count": 63,
     "metadata": {},
     "output_type": "execute_result"
    },
    {
     "name": "stderr",
     "output_type": "stream",
     "text": [
      "\n",
      " 53%|█████████████████████▊                   | 287/540 [14:52<14:16,  3.38s/it]\u001b[A"
     ]
    },
    {
     "data": {
      "text/plain": [
       "True"
      ]
     },
     "execution_count": 63,
     "metadata": {},
     "output_type": "execute_result"
    },
    {
     "name": "stderr",
     "output_type": "stream",
     "text": [
      "\n",
      " 53%|█████████████████████▊                   | 288/540 [14:55<14:17,  3.40s/it]\u001b[A"
     ]
    },
    {
     "data": {
      "text/plain": [
       "True"
      ]
     },
     "execution_count": 63,
     "metadata": {},
     "output_type": "execute_result"
    },
    {
     "name": "stderr",
     "output_type": "stream",
     "text": [
      "\n",
      " 54%|█████████████████████▉                   | 289/540 [14:59<14:23,  3.44s/it]\u001b[A"
     ]
    },
    {
     "data": {
      "text/plain": [
       "True"
      ]
     },
     "execution_count": 63,
     "metadata": {},
     "output_type": "execute_result"
    },
    {
     "name": "stderr",
     "output_type": "stream",
     "text": [
      "\n",
      " 54%|██████████████████████                   | 290/540 [15:02<14:00,  3.36s/it]\u001b[A"
     ]
    },
    {
     "data": {
      "text/plain": [
       "True"
      ]
     },
     "execution_count": 63,
     "metadata": {},
     "output_type": "execute_result"
    },
    {
     "name": "stderr",
     "output_type": "stream",
     "text": [
      "\n",
      " 54%|██████████████████████                   | 291/540 [15:05<13:39,  3.29s/it]\u001b[A"
     ]
    },
    {
     "data": {
      "text/plain": [
       "True"
      ]
     },
     "execution_count": 63,
     "metadata": {},
     "output_type": "execute_result"
    },
    {
     "name": "stderr",
     "output_type": "stream",
     "text": [
      "\n",
      " 54%|██████████████████████▏                  | 292/540 [15:08<13:36,  3.29s/it]\u001b[A"
     ]
    },
    {
     "data": {
      "text/plain": [
       "True"
      ]
     },
     "execution_count": 63,
     "metadata": {},
     "output_type": "execute_result"
    },
    {
     "name": "stderr",
     "output_type": "stream",
     "text": [
      "\n",
      " 54%|██████████████████████▏                  | 293/540 [15:12<13:52,  3.37s/it]\u001b[A"
     ]
    },
    {
     "data": {
      "text/plain": [
       "True"
      ]
     },
     "execution_count": 63,
     "metadata": {},
     "output_type": "execute_result"
    },
    {
     "name": "stderr",
     "output_type": "stream",
     "text": [
      "\n",
      " 54%|██████████████████████▎                  | 294/540 [15:15<14:11,  3.46s/it]\u001b[A"
     ]
    },
    {
     "data": {
      "text/plain": [
       "True"
      ]
     },
     "execution_count": 63,
     "metadata": {},
     "output_type": "execute_result"
    },
    {
     "name": "stderr",
     "output_type": "stream",
     "text": [
      "\n",
      " 55%|██████████████████████▍                  | 295/540 [15:19<13:51,  3.39s/it]\u001b[A"
     ]
    },
    {
     "data": {
      "text/plain": [
       "True"
      ]
     },
     "execution_count": 63,
     "metadata": {},
     "output_type": "execute_result"
    },
    {
     "name": "stderr",
     "output_type": "stream",
     "text": [
      "\n",
      " 55%|██████████████████████▍                  | 296/540 [15:22<13:30,  3.32s/it]\u001b[A"
     ]
    },
    {
     "data": {
      "text/plain": [
       "True"
      ]
     },
     "execution_count": 63,
     "metadata": {},
     "output_type": "execute_result"
    },
    {
     "name": "stderr",
     "output_type": "stream",
     "text": [
      "\n",
      " 55%|██████████████████████▌                  | 297/540 [15:25<13:30,  3.34s/it]\u001b[A"
     ]
    },
    {
     "data": {
      "text/plain": [
       "True"
      ]
     },
     "execution_count": 63,
     "metadata": {},
     "output_type": "execute_result"
    },
    {
     "name": "stderr",
     "output_type": "stream",
     "text": [
      "\n",
      " 55%|██████████████████████▋                  | 298/540 [15:29<13:43,  3.40s/it]\u001b[A"
     ]
    },
    {
     "data": {
      "text/plain": [
       "True"
      ]
     },
     "execution_count": 63,
     "metadata": {},
     "output_type": "execute_result"
    },
    {
     "name": "stderr",
     "output_type": "stream",
     "text": [
      "\n",
      " 55%|██████████████████████▋                  | 299/540 [15:32<14:00,  3.49s/it]\u001b[A"
     ]
    },
    {
     "data": {
      "text/plain": [
       "True"
      ]
     },
     "execution_count": 63,
     "metadata": {},
     "output_type": "execute_result"
    },
    {
     "name": "stderr",
     "output_type": "stream",
     "text": [
      "\n",
      " 56%|██████████████████████▊                  | 300/540 [15:36<13:36,  3.40s/it]\u001b[A"
     ]
    },
    {
     "data": {
      "text/plain": [
       "True"
      ]
     },
     "execution_count": 63,
     "metadata": {},
     "output_type": "execute_result"
    },
    {
     "name": "stderr",
     "output_type": "stream",
     "text": [
      "\n",
      " 56%|██████████████████████▊                  | 301/540 [15:39<13:08,  3.30s/it]\u001b[A"
     ]
    },
    {
     "data": {
      "text/plain": [
       "True"
      ]
     },
     "execution_count": 63,
     "metadata": {},
     "output_type": "execute_result"
    },
    {
     "name": "stderr",
     "output_type": "stream",
     "text": [
      "\n",
      " 56%|██████████████████████▉                  | 302/540 [15:42<13:06,  3.30s/it]\u001b[A"
     ]
    },
    {
     "data": {
      "text/plain": [
       "True"
      ]
     },
     "execution_count": 63,
     "metadata": {},
     "output_type": "execute_result"
    },
    {
     "name": "stderr",
     "output_type": "stream",
     "text": [
      "\n",
      " 56%|███████████████████████                  | 303/540 [15:46<13:19,  3.37s/it]\u001b[A"
     ]
    },
    {
     "data": {
      "text/plain": [
       "True"
      ]
     },
     "execution_count": 63,
     "metadata": {},
     "output_type": "execute_result"
    },
    {
     "name": "stderr",
     "output_type": "stream",
     "text": [
      "\n",
      " 56%|███████████████████████                  | 304/540 [15:49<13:26,  3.42s/it]\u001b[A"
     ]
    },
    {
     "data": {
      "text/plain": [
       "True"
      ]
     },
     "execution_count": 63,
     "metadata": {},
     "output_type": "execute_result"
    },
    {
     "name": "stderr",
     "output_type": "stream",
     "text": [
      "\n",
      " 56%|███████████████████████▏                 | 305/540 [15:52<13:11,  3.37s/it]\u001b[A"
     ]
    },
    {
     "data": {
      "text/plain": [
       "True"
      ]
     },
     "execution_count": 63,
     "metadata": {},
     "output_type": "execute_result"
    },
    {
     "name": "stderr",
     "output_type": "stream",
     "text": [
      "\n",
      " 57%|███████████████████████▏                 | 306/540 [15:55<12:48,  3.29s/it]\u001b[A"
     ]
    },
    {
     "data": {
      "text/plain": [
       "True"
      ]
     },
     "execution_count": 63,
     "metadata": {},
     "output_type": "execute_result"
    },
    {
     "name": "stderr",
     "output_type": "stream",
     "text": [
      "\n",
      " 57%|███████████████████████▎                 | 307/540 [15:59<12:54,  3.32s/it]\u001b[A"
     ]
    },
    {
     "data": {
      "text/plain": [
       "True"
      ]
     },
     "execution_count": 63,
     "metadata": {},
     "output_type": "execute_result"
    },
    {
     "name": "stderr",
     "output_type": "stream",
     "text": [
      "\n",
      " 57%|███████████████████████▍                 | 308/540 [16:03<13:19,  3.45s/it]\u001b[A"
     ]
    },
    {
     "data": {
      "text/plain": [
       "True"
      ]
     },
     "execution_count": 63,
     "metadata": {},
     "output_type": "execute_result"
    },
    {
     "name": "stderr",
     "output_type": "stream",
     "text": [
      "\n",
      " 57%|███████████████████████▍                 | 309/540 [16:06<13:50,  3.60s/it]\u001b[A"
     ]
    },
    {
     "data": {
      "text/plain": [
       "True"
      ]
     },
     "execution_count": 63,
     "metadata": {},
     "output_type": "execute_result"
    },
    {
     "name": "stderr",
     "output_type": "stream",
     "text": [
      "\n",
      " 57%|███████████████████████▌                 | 310/540 [16:10<13:23,  3.49s/it]\u001b[A"
     ]
    },
    {
     "data": {
      "text/plain": [
       "True"
      ]
     },
     "execution_count": 63,
     "metadata": {},
     "output_type": "execute_result"
    },
    {
     "name": "stderr",
     "output_type": "stream",
     "text": [
      "\n",
      " 58%|███████████████████████▌                 | 311/540 [16:13<12:46,  3.35s/it]\u001b[A"
     ]
    },
    {
     "data": {
      "text/plain": [
       "True"
      ]
     },
     "execution_count": 63,
     "metadata": {},
     "output_type": "execute_result"
    },
    {
     "name": "stderr",
     "output_type": "stream",
     "text": [
      "\n",
      " 58%|███████████████████████▋                 | 312/540 [16:16<12:45,  3.36s/it]\u001b[A"
     ]
    },
    {
     "data": {
      "text/plain": [
       "True"
      ]
     },
     "execution_count": 63,
     "metadata": {},
     "output_type": "execute_result"
    },
    {
     "name": "stderr",
     "output_type": "stream",
     "text": [
      "\n",
      " 58%|███████████████████████▊                 | 313/540 [16:20<12:58,  3.43s/it]\u001b[A"
     ]
    },
    {
     "data": {
      "text/plain": [
       "True"
      ]
     },
     "execution_count": 63,
     "metadata": {},
     "output_type": "execute_result"
    },
    {
     "name": "stderr",
     "output_type": "stream",
     "text": [
      "\n",
      " 58%|███████████████████████▊                 | 314/540 [16:23<13:14,  3.51s/it]\u001b[A"
     ]
    },
    {
     "data": {
      "text/plain": [
       "True"
      ]
     },
     "execution_count": 63,
     "metadata": {},
     "output_type": "execute_result"
    },
    {
     "name": "stderr",
     "output_type": "stream",
     "text": [
      "\n",
      " 58%|███████████████████████▉                 | 315/540 [16:27<12:54,  3.44s/it]\u001b[A"
     ]
    },
    {
     "data": {
      "text/plain": [
       "True"
      ]
     },
     "execution_count": 63,
     "metadata": {},
     "output_type": "execute_result"
    },
    {
     "name": "stderr",
     "output_type": "stream",
     "text": [
      "\n",
      " 59%|███████████████████████▉                 | 316/540 [16:30<12:18,  3.30s/it]\u001b[A"
     ]
    },
    {
     "data": {
      "text/plain": [
       "True"
      ]
     },
     "execution_count": 63,
     "metadata": {},
     "output_type": "execute_result"
    },
    {
     "name": "stderr",
     "output_type": "stream",
     "text": [
      "\n",
      " 59%|████████████████████████                 | 317/540 [16:33<12:17,  3.31s/it]\u001b[A"
     ]
    },
    {
     "data": {
      "text/plain": [
       "True"
      ]
     },
     "execution_count": 63,
     "metadata": {},
     "output_type": "execute_result"
    },
    {
     "name": "stderr",
     "output_type": "stream",
     "text": [
      "\n",
      " 59%|████████████████████████▏                | 318/540 [16:37<12:29,  3.38s/it]\u001b[A"
     ]
    },
    {
     "data": {
      "text/plain": [
       "True"
      ]
     },
     "execution_count": 63,
     "metadata": {},
     "output_type": "execute_result"
    },
    {
     "name": "stderr",
     "output_type": "stream",
     "text": [
      "\n",
      " 59%|████████████████████████▏                | 319/540 [16:40<12:36,  3.42s/it]\u001b[A"
     ]
    },
    {
     "data": {
      "text/plain": [
       "True"
      ]
     },
     "execution_count": 63,
     "metadata": {},
     "output_type": "execute_result"
    },
    {
     "name": "stderr",
     "output_type": "stream",
     "text": [
      "\n",
      " 59%|████████████████████████▎                | 320/540 [16:43<12:15,  3.34s/it]\u001b[A"
     ]
    },
    {
     "data": {
      "text/plain": [
       "True"
      ]
     },
     "execution_count": 63,
     "metadata": {},
     "output_type": "execute_result"
    },
    {
     "name": "stderr",
     "output_type": "stream",
     "text": [
      "\n",
      " 59%|████████████████████████▎                | 321/540 [16:46<12:02,  3.30s/it]\u001b[A"
     ]
    },
    {
     "data": {
      "text/plain": [
       "True"
      ]
     },
     "execution_count": 63,
     "metadata": {},
     "output_type": "execute_result"
    },
    {
     "name": "stderr",
     "output_type": "stream",
     "text": [
      "\n",
      " 60%|████████████████████████▍                | 322/540 [16:50<12:08,  3.34s/it]\u001b[A"
     ]
    },
    {
     "data": {
      "text/plain": [
       "True"
      ]
     },
     "execution_count": 63,
     "metadata": {},
     "output_type": "execute_result"
    },
    {
     "name": "stderr",
     "output_type": "stream",
     "text": [
      "\n",
      " 60%|████████████████████████▌                | 323/540 [16:53<12:15,  3.39s/it]\u001b[A"
     ]
    },
    {
     "data": {
      "text/plain": [
       "True"
      ]
     },
     "execution_count": 63,
     "metadata": {},
     "output_type": "execute_result"
    },
    {
     "name": "stderr",
     "output_type": "stream",
     "text": [
      "\n",
      " 60%|████████████████████████▌                | 324/540 [16:57<12:32,  3.48s/it]\u001b[A"
     ]
    },
    {
     "data": {
      "text/plain": [
       "True"
      ]
     },
     "execution_count": 63,
     "metadata": {},
     "output_type": "execute_result"
    },
    {
     "name": "stderr",
     "output_type": "stream",
     "text": [
      "\n",
      " 60%|████████████████████████▋                | 325/540 [17:00<12:11,  3.40s/it]\u001b[A"
     ]
    },
    {
     "data": {
      "text/plain": [
       "True"
      ]
     },
     "execution_count": 63,
     "metadata": {},
     "output_type": "execute_result"
    },
    {
     "name": "stderr",
     "output_type": "stream",
     "text": [
      "\n",
      " 60%|████████████████████████▊                | 326/540 [17:03<11:50,  3.32s/it]\u001b[A"
     ]
    },
    {
     "data": {
      "text/plain": [
       "True"
      ]
     },
     "execution_count": 63,
     "metadata": {},
     "output_type": "execute_result"
    },
    {
     "name": "stderr",
     "output_type": "stream",
     "text": [
      "\n",
      " 61%|████████████████████████▊                | 327/540 [17:07<11:54,  3.35s/it]\u001b[A"
     ]
    },
    {
     "data": {
      "text/plain": [
       "True"
      ]
     },
     "execution_count": 63,
     "metadata": {},
     "output_type": "execute_result"
    },
    {
     "name": "stderr",
     "output_type": "stream",
     "text": [
      "\n",
      " 61%|████████████████████████▉                | 328/540 [17:10<12:01,  3.40s/it]\u001b[A"
     ]
    },
    {
     "data": {
      "text/plain": [
       "True"
      ]
     },
     "execution_count": 63,
     "metadata": {},
     "output_type": "execute_result"
    },
    {
     "name": "stderr",
     "output_type": "stream",
     "text": [
      "\n",
      " 61%|████████████████████████▉                | 329/540 [17:14<12:14,  3.48s/it]\u001b[A"
     ]
    },
    {
     "data": {
      "text/plain": [
       "True"
      ]
     },
     "execution_count": 63,
     "metadata": {},
     "output_type": "execute_result"
    },
    {
     "name": "stderr",
     "output_type": "stream",
     "text": [
      "\n",
      " 61%|█████████████████████████                | 330/540 [17:17<11:59,  3.43s/it]\u001b[A"
     ]
    },
    {
     "data": {
      "text/plain": [
       "True"
      ]
     },
     "execution_count": 63,
     "metadata": {},
     "output_type": "execute_result"
    },
    {
     "name": "stderr",
     "output_type": "stream",
     "text": [
      "\n",
      " 61%|█████████████████████████▏               | 331/540 [17:20<11:32,  3.31s/it]\u001b[A"
     ]
    },
    {
     "data": {
      "text/plain": [
       "True"
      ]
     },
     "execution_count": 63,
     "metadata": {},
     "output_type": "execute_result"
    },
    {
     "name": "stderr",
     "output_type": "stream",
     "text": [
      "\n",
      " 61%|█████████████████████████▏               | 332/540 [17:24<11:35,  3.34s/it]\u001b[A"
     ]
    },
    {
     "data": {
      "text/plain": [
       "True"
      ]
     },
     "execution_count": 63,
     "metadata": {},
     "output_type": "execute_result"
    },
    {
     "name": "stderr",
     "output_type": "stream",
     "text": [
      "\n",
      " 62%|█████████████████████████▎               | 333/540 [17:27<11:39,  3.38s/it]\u001b[A"
     ]
    },
    {
     "data": {
      "text/plain": [
       "True"
      ]
     },
     "execution_count": 63,
     "metadata": {},
     "output_type": "execute_result"
    },
    {
     "name": "stderr",
     "output_type": "stream",
     "text": [
      "\n",
      " 62%|█████████████████████████▎               | 334/540 [17:31<11:43,  3.42s/it]\u001b[A"
     ]
    },
    {
     "data": {
      "text/plain": [
       "True"
      ]
     },
     "execution_count": 63,
     "metadata": {},
     "output_type": "execute_result"
    },
    {
     "name": "stderr",
     "output_type": "stream",
     "text": [
      "\n",
      " 62%|█████████████████████████▍               | 335/540 [17:34<11:22,  3.33s/it]\u001b[A"
     ]
    },
    {
     "data": {
      "text/plain": [
       "True"
      ]
     },
     "execution_count": 63,
     "metadata": {},
     "output_type": "execute_result"
    },
    {
     "name": "stderr",
     "output_type": "stream",
     "text": [
      "\n",
      " 62%|█████████████████████████▌               | 336/540 [17:37<11:05,  3.26s/it]\u001b[A"
     ]
    },
    {
     "data": {
      "text/plain": [
       "True"
      ]
     },
     "execution_count": 63,
     "metadata": {},
     "output_type": "execute_result"
    },
    {
     "name": "stderr",
     "output_type": "stream",
     "text": [
      "\n",
      " 62%|█████████████████████████▌               | 337/540 [17:40<11:13,  3.32s/it]\u001b[A"
     ]
    },
    {
     "data": {
      "text/plain": [
       "True"
      ]
     },
     "execution_count": 63,
     "metadata": {},
     "output_type": "execute_result"
    },
    {
     "name": "stderr",
     "output_type": "stream",
     "text": [
      "\n",
      " 63%|█████████████████████████▋               | 338/540 [17:44<11:35,  3.44s/it]\u001b[A"
     ]
    },
    {
     "data": {
      "text/plain": [
       "True"
      ]
     },
     "execution_count": 63,
     "metadata": {},
     "output_type": "execute_result"
    },
    {
     "name": "stderr",
     "output_type": "stream",
     "text": [
      "\n",
      " 63%|█████████████████████████▋               | 339/540 [17:48<11:59,  3.58s/it]\u001b[A"
     ]
    },
    {
     "data": {
      "text/plain": [
       "True"
      ]
     },
     "execution_count": 63,
     "metadata": {},
     "output_type": "execute_result"
    },
    {
     "name": "stderr",
     "output_type": "stream",
     "text": [
      "\n",
      " 63%|█████████████████████████▊               | 340/540 [17:51<11:39,  3.50s/it]\u001b[A"
     ]
    },
    {
     "data": {
      "text/plain": [
       "True"
      ]
     },
     "execution_count": 63,
     "metadata": {},
     "output_type": "execute_result"
    },
    {
     "name": "stderr",
     "output_type": "stream",
     "text": [
      "\n",
      " 63%|█████████████████████████▉               | 341/540 [17:54<11:05,  3.34s/it]\u001b[A"
     ]
    },
    {
     "data": {
      "text/plain": [
       "True"
      ]
     },
     "execution_count": 63,
     "metadata": {},
     "output_type": "execute_result"
    },
    {
     "name": "stderr",
     "output_type": "stream",
     "text": [
      "\n",
      " 63%|█████████████████████████▉               | 342/540 [17:58<11:09,  3.38s/it]\u001b[A"
     ]
    },
    {
     "data": {
      "text/plain": [
       "True"
      ]
     },
     "execution_count": 63,
     "metadata": {},
     "output_type": "execute_result"
    },
    {
     "name": "stderr",
     "output_type": "stream",
     "text": [
      "\n",
      " 64%|██████████████████████████               | 343/540 [18:01<11:17,  3.44s/it]\u001b[A"
     ]
    },
    {
     "data": {
      "text/plain": [
       "True"
      ]
     },
     "execution_count": 63,
     "metadata": {},
     "output_type": "execute_result"
    },
    {
     "name": "stderr",
     "output_type": "stream",
     "text": [
      "\n",
      " 64%|██████████████████████████               | 344/540 [18:05<11:39,  3.57s/it]\u001b[A"
     ]
    },
    {
     "data": {
      "text/plain": [
       "True"
      ]
     },
     "execution_count": 63,
     "metadata": {},
     "output_type": "execute_result"
    },
    {
     "name": "stderr",
     "output_type": "stream",
     "text": [
      "\n",
      " 64%|██████████████████████████▏              | 345/540 [18:09<11:19,  3.48s/it]\u001b[A"
     ]
    },
    {
     "data": {
      "text/plain": [
       "True"
      ]
     },
     "execution_count": 63,
     "metadata": {},
     "output_type": "execute_result"
    },
    {
     "name": "stderr",
     "output_type": "stream",
     "text": [
      "\n",
      " 64%|██████████████████████████▎              | 346/540 [18:12<10:51,  3.36s/it]\u001b[A"
     ]
    },
    {
     "data": {
      "text/plain": [
       "True"
      ]
     },
     "execution_count": 63,
     "metadata": {},
     "output_type": "execute_result"
    },
    {
     "name": "stderr",
     "output_type": "stream",
     "text": [
      "\n",
      " 64%|██████████████████████████▎              | 347/540 [18:15<10:49,  3.37s/it]\u001b[A"
     ]
    },
    {
     "data": {
      "text/plain": [
       "True"
      ]
     },
     "execution_count": 63,
     "metadata": {},
     "output_type": "execute_result"
    },
    {
     "name": "stderr",
     "output_type": "stream",
     "text": [
      "\n",
      " 64%|██████████████████████████▍              | 348/540 [18:19<10:56,  3.42s/it]\u001b[A"
     ]
    },
    {
     "data": {
      "text/plain": [
       "True"
      ]
     },
     "execution_count": 63,
     "metadata": {},
     "output_type": "execute_result"
    },
    {
     "name": "stderr",
     "output_type": "stream",
     "text": [
      "\n",
      " 65%|██████████████████████████▍              | 349/540 [18:22<11:01,  3.46s/it]\u001b[A"
     ]
    },
    {
     "data": {
      "text/plain": [
       "True"
      ]
     },
     "execution_count": 63,
     "metadata": {},
     "output_type": "execute_result"
    },
    {
     "name": "stderr",
     "output_type": "stream",
     "text": [
      "\n",
      " 65%|██████████████████████████▌              | 350/540 [18:25<10:43,  3.39s/it]\u001b[A"
     ]
    },
    {
     "data": {
      "text/plain": [
       "True"
      ]
     },
     "execution_count": 63,
     "metadata": {},
     "output_type": "execute_result"
    },
    {
     "name": "stderr",
     "output_type": "stream",
     "text": [
      "\n",
      " 65%|██████████████████████████▋              | 351/540 [18:28<10:21,  3.29s/it]\u001b[A"
     ]
    },
    {
     "data": {
      "text/plain": [
       "True"
      ]
     },
     "execution_count": 63,
     "metadata": {},
     "output_type": "execute_result"
    },
    {
     "name": "stderr",
     "output_type": "stream",
     "text": [
      "\n",
      " 65%|██████████████████████████▋              | 352/540 [18:32<10:25,  3.33s/it]\u001b[A"
     ]
    },
    {
     "data": {
      "text/plain": [
       "True"
      ]
     },
     "execution_count": 63,
     "metadata": {},
     "output_type": "execute_result"
    },
    {
     "name": "stderr",
     "output_type": "stream",
     "text": [
      "\n",
      " 65%|██████████████████████████▊              | 353/540 [18:35<10:32,  3.38s/it]\u001b[A"
     ]
    },
    {
     "data": {
      "text/plain": [
       "True"
      ]
     },
     "execution_count": 63,
     "metadata": {},
     "output_type": "execute_result"
    },
    {
     "name": "stderr",
     "output_type": "stream",
     "text": [
      "\n",
      " 66%|██████████████████████████▉              | 354/540 [18:39<10:42,  3.46s/it]\u001b[A"
     ]
    },
    {
     "data": {
      "text/plain": [
       "True"
      ]
     },
     "execution_count": 63,
     "metadata": {},
     "output_type": "execute_result"
    },
    {
     "name": "stderr",
     "output_type": "stream",
     "text": [
      "\n",
      " 66%|██████████████████████████▉              | 355/540 [18:42<10:29,  3.40s/it]\u001b[A"
     ]
    },
    {
     "data": {
      "text/plain": [
       "True"
      ]
     },
     "execution_count": 63,
     "metadata": {},
     "output_type": "execute_result"
    },
    {
     "name": "stderr",
     "output_type": "stream",
     "text": [
      "\n",
      " 66%|███████████████████████████              | 356/540 [18:45<10:09,  3.31s/it]\u001b[A"
     ]
    },
    {
     "data": {
      "text/plain": [
       "True"
      ]
     },
     "execution_count": 63,
     "metadata": {},
     "output_type": "execute_result"
    },
    {
     "name": "stderr",
     "output_type": "stream",
     "text": [
      "\n",
      " 66%|███████████████████████████              | 357/540 [18:49<10:06,  3.32s/it]\u001b[A"
     ]
    },
    {
     "data": {
      "text/plain": [
       "True"
      ]
     },
     "execution_count": 63,
     "metadata": {},
     "output_type": "execute_result"
    },
    {
     "name": "stderr",
     "output_type": "stream",
     "text": [
      "\n",
      " 66%|███████████████████████████▏             | 358/540 [18:52<10:11,  3.36s/it]\u001b[A"
     ]
    },
    {
     "data": {
      "text/plain": [
       "True"
      ]
     },
     "execution_count": 63,
     "metadata": {},
     "output_type": "execute_result"
    },
    {
     "name": "stderr",
     "output_type": "stream",
     "text": [
      "\n",
      " 66%|███████████████████████████▎             | 359/540 [18:56<10:21,  3.43s/it]\u001b[A"
     ]
    },
    {
     "data": {
      "text/plain": [
       "True"
      ]
     },
     "execution_count": 63,
     "metadata": {},
     "output_type": "execute_result"
    },
    {
     "name": "stderr",
     "output_type": "stream",
     "text": [
      "\n",
      " 67%|███████████████████████████▎             | 360/540 [18:59<10:06,  3.37s/it]\u001b[A"
     ]
    },
    {
     "data": {
      "text/plain": [
       "True"
      ]
     },
     "execution_count": 63,
     "metadata": {},
     "output_type": "execute_result"
    },
    {
     "name": "stderr",
     "output_type": "stream",
     "text": [
      "\n",
      " 67%|███████████████████████████▍             | 361/540 [19:02<09:46,  3.28s/it]\u001b[A"
     ]
    },
    {
     "data": {
      "text/plain": [
       "True"
      ]
     },
     "execution_count": 63,
     "metadata": {},
     "output_type": "execute_result"
    },
    {
     "name": "stderr",
     "output_type": "stream",
     "text": [
      "\n",
      " 67%|███████████████████████████▍             | 362/540 [19:05<09:47,  3.30s/it]\u001b[A"
     ]
    },
    {
     "data": {
      "text/plain": [
       "True"
      ]
     },
     "execution_count": 63,
     "metadata": {},
     "output_type": "execute_result"
    },
    {
     "name": "stderr",
     "output_type": "stream",
     "text": [
      "\n",
      " 67%|███████████████████████████▌             | 363/540 [19:09<09:52,  3.35s/it]\u001b[A"
     ]
    },
    {
     "data": {
      "text/plain": [
       "True"
      ]
     },
     "execution_count": 63,
     "metadata": {},
     "output_type": "execute_result"
    },
    {
     "name": "stderr",
     "output_type": "stream",
     "text": [
      "\n",
      " 67%|███████████████████████████▋             | 364/540 [19:12<10:02,  3.42s/it]\u001b[A"
     ]
    },
    {
     "data": {
      "text/plain": [
       "True"
      ]
     },
     "execution_count": 63,
     "metadata": {},
     "output_type": "execute_result"
    },
    {
     "name": "stderr",
     "output_type": "stream",
     "text": [
      "\n",
      " 68%|███████████████████████████▋             | 365/540 [19:16<09:48,  3.37s/it]\u001b[A"
     ]
    },
    {
     "data": {
      "text/plain": [
       "True"
      ]
     },
     "execution_count": 63,
     "metadata": {},
     "output_type": "execute_result"
    },
    {
     "name": "stderr",
     "output_type": "stream",
     "text": [
      "\n",
      " 68%|███████████████████████████▊             | 366/540 [19:19<09:32,  3.29s/it]\u001b[A"
     ]
    },
    {
     "data": {
      "text/plain": [
       "True"
      ]
     },
     "execution_count": 63,
     "metadata": {},
     "output_type": "execute_result"
    },
    {
     "name": "stderr",
     "output_type": "stream",
     "text": [
      "\n",
      " 68%|███████████████████████████▊             | 367/540 [19:22<09:39,  3.35s/it]\u001b[A"
     ]
    },
    {
     "data": {
      "text/plain": [
       "True"
      ]
     },
     "execution_count": 63,
     "metadata": {},
     "output_type": "execute_result"
    },
    {
     "name": "stderr",
     "output_type": "stream",
     "text": [
      "\n",
      " 68%|███████████████████████████▉             | 368/540 [19:26<09:53,  3.45s/it]\u001b[A"
     ]
    },
    {
     "data": {
      "text/plain": [
       "True"
      ]
     },
     "execution_count": 63,
     "metadata": {},
     "output_type": "execute_result"
    },
    {
     "name": "stderr",
     "output_type": "stream",
     "text": [
      "\n",
      " 68%|████████████████████████████             | 369/540 [19:30<10:22,  3.64s/it]\u001b[A"
     ]
    },
    {
     "data": {
      "text/plain": [
       "True"
      ]
     },
     "execution_count": 63,
     "metadata": {},
     "output_type": "execute_result"
    },
    {
     "name": "stderr",
     "output_type": "stream",
     "text": [
      "\n",
      " 69%|████████████████████████████             | 370/540 [19:33<10:01,  3.54s/it]\u001b[A"
     ]
    },
    {
     "data": {
      "text/plain": [
       "True"
      ]
     },
     "execution_count": 63,
     "metadata": {},
     "output_type": "execute_result"
    },
    {
     "name": "stderr",
     "output_type": "stream",
     "text": [
      "\n",
      " 69%|████████████████████████████▏            | 371/540 [19:37<09:54,  3.52s/it]\u001b[A"
     ]
    },
    {
     "data": {
      "text/plain": [
       "True"
      ]
     },
     "execution_count": 63,
     "metadata": {},
     "output_type": "execute_result"
    },
    {
     "name": "stderr",
     "output_type": "stream",
     "text": [
      "\n",
      " 69%|████████████████████████████▏            | 372/540 [19:40<09:44,  3.48s/it]\u001b[A"
     ]
    },
    {
     "data": {
      "text/plain": [
       "True"
      ]
     },
     "execution_count": 63,
     "metadata": {},
     "output_type": "execute_result"
    },
    {
     "name": "stderr",
     "output_type": "stream",
     "text": [
      "\n",
      " 69%|████████████████████████████▎            | 373/540 [19:44<09:49,  3.53s/it]\u001b[A"
     ]
    },
    {
     "data": {
      "text/plain": [
       "True"
      ]
     },
     "execution_count": 63,
     "metadata": {},
     "output_type": "execute_result"
    },
    {
     "name": "stderr",
     "output_type": "stream",
     "text": [
      "\n",
      " 69%|████████████████████████████▍            | 374/540 [19:48<09:58,  3.61s/it]\u001b[A"
     ]
    },
    {
     "data": {
      "text/plain": [
       "True"
      ]
     },
     "execution_count": 63,
     "metadata": {},
     "output_type": "execute_result"
    },
    {
     "name": "stderr",
     "output_type": "stream",
     "text": [
      "\n",
      " 69%|████████████████████████████▍            | 375/540 [19:51<09:40,  3.52s/it]\u001b[A"
     ]
    },
    {
     "data": {
      "text/plain": [
       "True"
      ]
     },
     "execution_count": 63,
     "metadata": {},
     "output_type": "execute_result"
    },
    {
     "name": "stderr",
     "output_type": "stream",
     "text": [
      "\n",
      " 70%|████████████████████████████▌            | 376/540 [19:54<09:14,  3.38s/it]\u001b[A"
     ]
    },
    {
     "data": {
      "text/plain": [
       "True"
      ]
     },
     "execution_count": 63,
     "metadata": {},
     "output_type": "execute_result"
    },
    {
     "name": "stderr",
     "output_type": "stream",
     "text": [
      "\n",
      " 70%|████████████████████████████▌            | 377/540 [19:57<09:11,  3.38s/it]\u001b[A"
     ]
    },
    {
     "data": {
      "text/plain": [
       "True"
      ]
     },
     "execution_count": 63,
     "metadata": {},
     "output_type": "execute_result"
    },
    {
     "name": "stderr",
     "output_type": "stream",
     "text": [
      "\n",
      " 70%|████████████████████████████▋            | 378/540 [20:01<09:19,  3.45s/it]\u001b[A"
     ]
    },
    {
     "data": {
      "text/plain": [
       "True"
      ]
     },
     "execution_count": 63,
     "metadata": {},
     "output_type": "execute_result"
    },
    {
     "name": "stderr",
     "output_type": "stream",
     "text": [
      "\n",
      " 70%|████████████████████████████▊            | 379/540 [20:05<09:25,  3.51s/it]\u001b[A"
     ]
    },
    {
     "data": {
      "text/plain": [
       "True"
      ]
     },
     "execution_count": 63,
     "metadata": {},
     "output_type": "execute_result"
    },
    {
     "name": "stderr",
     "output_type": "stream",
     "text": [
      "\n",
      " 70%|████████████████████████████▊            | 380/540 [20:08<09:05,  3.41s/it]\u001b[A"
     ]
    },
    {
     "data": {
      "text/plain": [
       "True"
      ]
     },
     "execution_count": 63,
     "metadata": {},
     "output_type": "execute_result"
    },
    {
     "name": "stderr",
     "output_type": "stream",
     "text": [
      "\n",
      " 71%|████████████████████████████▉            | 381/540 [20:11<08:49,  3.33s/it]\u001b[A"
     ]
    },
    {
     "data": {
      "text/plain": [
       "True"
      ]
     },
     "execution_count": 63,
     "metadata": {},
     "output_type": "execute_result"
    },
    {
     "name": "stderr",
     "output_type": "stream",
     "text": [
      "\n",
      " 71%|█████████████████████████████            | 382/540 [20:14<08:46,  3.33s/it]\u001b[A"
     ]
    },
    {
     "data": {
      "text/plain": [
       "True"
      ]
     },
     "execution_count": 63,
     "metadata": {},
     "output_type": "execute_result"
    },
    {
     "name": "stderr",
     "output_type": "stream",
     "text": [
      "\n",
      " 71%|█████████████████████████████            | 383/540 [20:18<08:57,  3.43s/it]\u001b[A"
     ]
    },
    {
     "data": {
      "text/plain": [
       "True"
      ]
     },
     "execution_count": 63,
     "metadata": {},
     "output_type": "execute_result"
    },
    {
     "name": "stderr",
     "output_type": "stream",
     "text": [
      "\n",
      " 71%|█████████████████████████████▏           | 384/540 [20:22<09:02,  3.48s/it]\u001b[A"
     ]
    },
    {
     "data": {
      "text/plain": [
       "True"
      ]
     },
     "execution_count": 63,
     "metadata": {},
     "output_type": "execute_result"
    },
    {
     "name": "stderr",
     "output_type": "stream",
     "text": [
      "\n",
      " 71%|█████████████████████████████▏           | 385/540 [20:25<08:46,  3.40s/it]\u001b[A"
     ]
    },
    {
     "data": {
      "text/plain": [
       "True"
      ]
     },
     "execution_count": 63,
     "metadata": {},
     "output_type": "execute_result"
    },
    {
     "name": "stderr",
     "output_type": "stream",
     "text": [
      "\n",
      " 71%|█████████████████████████████▎           | 386/540 [20:28<08:26,  3.29s/it]\u001b[A"
     ]
    },
    {
     "data": {
      "text/plain": [
       "True"
      ]
     },
     "execution_count": 63,
     "metadata": {},
     "output_type": "execute_result"
    },
    {
     "name": "stderr",
     "output_type": "stream",
     "text": [
      "\n",
      " 72%|█████████████████████████████▍           | 387/540 [20:31<08:26,  3.31s/it]\u001b[A"
     ]
    },
    {
     "data": {
      "text/plain": [
       "True"
      ]
     },
     "execution_count": 63,
     "metadata": {},
     "output_type": "execute_result"
    },
    {
     "name": "stderr",
     "output_type": "stream",
     "text": [
      "\n",
      " 72%|█████████████████████████████▍           | 388/540 [20:35<08:33,  3.38s/it]\u001b[A"
     ]
    },
    {
     "data": {
      "text/plain": [
       "True"
      ]
     },
     "execution_count": 63,
     "metadata": {},
     "output_type": "execute_result"
    },
    {
     "name": "stderr",
     "output_type": "stream",
     "text": [
      "\n",
      " 72%|█████████████████████████████▌           | 389/540 [20:38<08:38,  3.43s/it]\u001b[A"
     ]
    },
    {
     "data": {
      "text/plain": [
       "True"
      ]
     },
     "execution_count": 63,
     "metadata": {},
     "output_type": "execute_result"
    },
    {
     "name": "stderr",
     "output_type": "stream",
     "text": [
      "\n",
      " 72%|█████████████████████████████▌           | 390/540 [20:41<08:25,  3.37s/it]\u001b[A"
     ]
    },
    {
     "data": {
      "text/plain": [
       "True"
      ]
     },
     "execution_count": 63,
     "metadata": {},
     "output_type": "execute_result"
    },
    {
     "name": "stderr",
     "output_type": "stream",
     "text": [
      "\n",
      " 72%|█████████████████████████████▋           | 391/540 [20:45<08:11,  3.30s/it]\u001b[A"
     ]
    },
    {
     "data": {
      "text/plain": [
       "True"
      ]
     },
     "execution_count": 63,
     "metadata": {},
     "output_type": "execute_result"
    },
    {
     "name": "stderr",
     "output_type": "stream",
     "text": [
      "\n",
      " 73%|█████████████████████████████▊           | 392/540 [20:48<08:13,  3.33s/it]\u001b[A"
     ]
    },
    {
     "data": {
      "text/plain": [
       "True"
      ]
     },
     "execution_count": 63,
     "metadata": {},
     "output_type": "execute_result"
    },
    {
     "name": "stderr",
     "output_type": "stream",
     "text": [
      "\n",
      " 73%|█████████████████████████████▊           | 393/540 [20:52<08:18,  3.39s/it]\u001b[A"
     ]
    },
    {
     "data": {
      "text/plain": [
       "True"
      ]
     },
     "execution_count": 63,
     "metadata": {},
     "output_type": "execute_result"
    },
    {
     "name": "stderr",
     "output_type": "stream",
     "text": [
      "\n",
      " 73%|█████████████████████████████▉           | 394/540 [20:55<08:19,  3.42s/it]\u001b[A"
     ]
    },
    {
     "data": {
      "text/plain": [
       "True"
      ]
     },
     "execution_count": 63,
     "metadata": {},
     "output_type": "execute_result"
    },
    {
     "name": "stderr",
     "output_type": "stream",
     "text": [
      "\n",
      " 73%|█████████████████████████████▉           | 395/540 [20:58<08:07,  3.36s/it]\u001b[A"
     ]
    },
    {
     "data": {
      "text/plain": [
       "True"
      ]
     },
     "execution_count": 63,
     "metadata": {},
     "output_type": "execute_result"
    },
    {
     "name": "stderr",
     "output_type": "stream",
     "text": [
      "\n",
      " 73%|██████████████████████████████           | 396/540 [21:01<07:52,  3.28s/it]\u001b[A"
     ]
    },
    {
     "data": {
      "text/plain": [
       "True"
      ]
     },
     "execution_count": 63,
     "metadata": {},
     "output_type": "execute_result"
    },
    {
     "name": "stderr",
     "output_type": "stream",
     "text": [
      "\n",
      " 74%|██████████████████████████████▏          | 397/540 [21:05<07:54,  3.32s/it]\u001b[A"
     ]
    },
    {
     "data": {
      "text/plain": [
       "True"
      ]
     },
     "execution_count": 63,
     "metadata": {},
     "output_type": "execute_result"
    },
    {
     "name": "stderr",
     "output_type": "stream",
     "text": [
      "\n",
      " 74%|██████████████████████████████▏          | 398/540 [21:09<08:14,  3.48s/it]\u001b[A"
     ]
    },
    {
     "data": {
      "text/plain": [
       "True"
      ]
     },
     "execution_count": 63,
     "metadata": {},
     "output_type": "execute_result"
    },
    {
     "name": "stderr",
     "output_type": "stream",
     "text": [
      "\n",
      " 74%|██████████████████████████████▎          | 399/540 [21:13<08:34,  3.65s/it]\u001b[A"
     ]
    },
    {
     "data": {
      "text/plain": [
       "True"
      ]
     },
     "execution_count": 63,
     "metadata": {},
     "output_type": "execute_result"
    },
    {
     "name": "stderr",
     "output_type": "stream",
     "text": [
      "\n",
      " 74%|██████████████████████████████▎          | 400/540 [21:16<08:18,  3.56s/it]\u001b[A"
     ]
    },
    {
     "data": {
      "text/plain": [
       "True"
      ]
     },
     "execution_count": 63,
     "metadata": {},
     "output_type": "execute_result"
    },
    {
     "name": "stderr",
     "output_type": "stream",
     "text": [
      "\n",
      " 74%|██████████████████████████████▍          | 401/540 [21:19<07:52,  3.40s/it]\u001b[A"
     ]
    },
    {
     "data": {
      "text/plain": [
       "True"
      ]
     },
     "execution_count": 63,
     "metadata": {},
     "output_type": "execute_result"
    },
    {
     "name": "stderr",
     "output_type": "stream",
     "text": [
      "\n",
      " 74%|██████████████████████████████▌          | 402/540 [21:22<07:50,  3.41s/it]\u001b[A"
     ]
    },
    {
     "data": {
      "text/plain": [
       "True"
      ]
     },
     "execution_count": 63,
     "metadata": {},
     "output_type": "execute_result"
    },
    {
     "name": "stderr",
     "output_type": "stream",
     "text": [
      "\n",
      " 75%|██████████████████████████████▌          | 403/540 [21:26<08:02,  3.52s/it]\u001b[A"
     ]
    },
    {
     "data": {
      "text/plain": [
       "True"
      ]
     },
     "execution_count": 63,
     "metadata": {},
     "output_type": "execute_result"
    },
    {
     "name": "stderr",
     "output_type": "stream",
     "text": [
      "\n",
      " 75%|██████████████████████████████▋          | 404/540 [21:30<08:08,  3.59s/it]\u001b[A"
     ]
    },
    {
     "data": {
      "text/plain": [
       "True"
      ]
     },
     "execution_count": 63,
     "metadata": {},
     "output_type": "execute_result"
    },
    {
     "name": "stderr",
     "output_type": "stream",
     "text": [
      "\n",
      " 75%|██████████████████████████████▊          | 405/540 [21:33<07:49,  3.48s/it]\u001b[A"
     ]
    },
    {
     "data": {
      "text/plain": [
       "True"
      ]
     },
     "execution_count": 63,
     "metadata": {},
     "output_type": "execute_result"
    },
    {
     "name": "stderr",
     "output_type": "stream",
     "text": [
      "\n",
      " 75%|██████████████████████████████▊          | 406/540 [21:36<07:28,  3.35s/it]\u001b[A"
     ]
    },
    {
     "data": {
      "text/plain": [
       "True"
      ]
     },
     "execution_count": 63,
     "metadata": {},
     "output_type": "execute_result"
    },
    {
     "name": "stderr",
     "output_type": "stream",
     "text": [
      "\n",
      " 75%|██████████████████████████████▉          | 407/540 [21:40<07:27,  3.36s/it]\u001b[A"
     ]
    },
    {
     "data": {
      "text/plain": [
       "True"
      ]
     },
     "execution_count": 63,
     "metadata": {},
     "output_type": "execute_result"
    },
    {
     "name": "stderr",
     "output_type": "stream",
     "text": [
      "\n",
      " 76%|██████████████████████████████▉          | 408/540 [21:43<07:32,  3.43s/it]\u001b[A"
     ]
    },
    {
     "data": {
      "text/plain": [
       "True"
      ]
     },
     "execution_count": 63,
     "metadata": {},
     "output_type": "execute_result"
    },
    {
     "name": "stderr",
     "output_type": "stream",
     "text": [
      "\n",
      " 76%|███████████████████████████████          | 409/540 [21:47<07:36,  3.48s/it]\u001b[A"
     ]
    },
    {
     "data": {
      "text/plain": [
       "True"
      ]
     },
     "execution_count": 63,
     "metadata": {},
     "output_type": "execute_result"
    },
    {
     "name": "stderr",
     "output_type": "stream",
     "text": [
      "\n",
      " 76%|███████████████████████████████▏         | 410/540 [21:50<07:19,  3.38s/it]\u001b[A"
     ]
    },
    {
     "data": {
      "text/plain": [
       "True"
      ]
     },
     "execution_count": 63,
     "metadata": {},
     "output_type": "execute_result"
    },
    {
     "name": "stderr",
     "output_type": "stream",
     "text": [
      "\n",
      " 76%|███████████████████████████████▏         | 411/540 [21:53<07:02,  3.28s/it]\u001b[A"
     ]
    },
    {
     "data": {
      "text/plain": [
       "True"
      ]
     },
     "execution_count": 63,
     "metadata": {},
     "output_type": "execute_result"
    },
    {
     "name": "stderr",
     "output_type": "stream",
     "text": [
      "\n",
      " 76%|███████████████████████████████▎         | 412/540 [21:56<07:00,  3.28s/it]\u001b[A"
     ]
    },
    {
     "data": {
      "text/plain": [
       "True"
      ]
     },
     "execution_count": 63,
     "metadata": {},
     "output_type": "execute_result"
    },
    {
     "name": "stderr",
     "output_type": "stream",
     "text": [
      "\n",
      " 76%|███████████████████████████████▎         | 413/540 [22:00<07:10,  3.39s/it]\u001b[A"
     ]
    },
    {
     "data": {
      "text/plain": [
       "True"
      ]
     },
     "execution_count": 63,
     "metadata": {},
     "output_type": "execute_result"
    },
    {
     "name": "stderr",
     "output_type": "stream",
     "text": [
      "\n",
      " 77%|███████████████████████████████▍         | 414/540 [22:04<07:16,  3.46s/it]\u001b[A"
     ]
    },
    {
     "data": {
      "text/plain": [
       "True"
      ]
     },
     "execution_count": 63,
     "metadata": {},
     "output_type": "execute_result"
    },
    {
     "name": "stderr",
     "output_type": "stream",
     "text": [
      "\n",
      " 77%|███████████████████████████████▌         | 415/540 [22:07<07:03,  3.39s/it]\u001b[A"
     ]
    },
    {
     "data": {
      "text/plain": [
       "True"
      ]
     },
     "execution_count": 63,
     "metadata": {},
     "output_type": "execute_result"
    },
    {
     "name": "stderr",
     "output_type": "stream",
     "text": [
      "\n",
      " 77%|███████████████████████████████▌         | 416/540 [22:10<06:49,  3.30s/it]\u001b[A"
     ]
    },
    {
     "data": {
      "text/plain": [
       "True"
      ]
     },
     "execution_count": 63,
     "metadata": {},
     "output_type": "execute_result"
    },
    {
     "name": "stderr",
     "output_type": "stream",
     "text": [
      "\n",
      " 77%|███████████████████████████████▋         | 417/540 [22:13<06:47,  3.32s/it]\u001b[A"
     ]
    },
    {
     "data": {
      "text/plain": [
       "True"
      ]
     },
     "execution_count": 63,
     "metadata": {},
     "output_type": "execute_result"
    },
    {
     "name": "stderr",
     "output_type": "stream",
     "text": [
      "\n",
      " 77%|███████████████████████████████▋         | 418/540 [22:17<06:55,  3.40s/it]\u001b[A"
     ]
    },
    {
     "data": {
      "text/plain": [
       "True"
      ]
     },
     "execution_count": 63,
     "metadata": {},
     "output_type": "execute_result"
    },
    {
     "name": "stderr",
     "output_type": "stream",
     "text": [
      "\n",
      " 78%|███████████████████████████████▊         | 419/540 [22:21<07:02,  3.49s/it]\u001b[A"
     ]
    },
    {
     "data": {
      "text/plain": [
       "True"
      ]
     },
     "execution_count": 63,
     "metadata": {},
     "output_type": "execute_result"
    },
    {
     "name": "stderr",
     "output_type": "stream",
     "text": [
      "\n",
      " 78%|███████████████████████████████▉         | 420/540 [22:24<06:49,  3.41s/it]\u001b[A"
     ]
    },
    {
     "data": {
      "text/plain": [
       "True"
      ]
     },
     "execution_count": 63,
     "metadata": {},
     "output_type": "execute_result"
    },
    {
     "name": "stderr",
     "output_type": "stream",
     "text": [
      "\n",
      " 78%|███████████████████████████████▉         | 421/540 [22:27<06:31,  3.29s/it]\u001b[A"
     ]
    },
    {
     "data": {
      "text/plain": [
       "True"
      ]
     },
     "execution_count": 63,
     "metadata": {},
     "output_type": "execute_result"
    },
    {
     "name": "stderr",
     "output_type": "stream",
     "text": [
      "\n",
      " 78%|████████████████████████████████         | 422/540 [22:30<06:28,  3.29s/it]\u001b[A"
     ]
    },
    {
     "data": {
      "text/plain": [
       "True"
      ]
     },
     "execution_count": 63,
     "metadata": {},
     "output_type": "execute_result"
    },
    {
     "name": "stderr",
     "output_type": "stream",
     "text": [
      "\n",
      " 78%|████████████████████████████████         | 423/540 [22:34<06:30,  3.34s/it]\u001b[A"
     ]
    },
    {
     "data": {
      "text/plain": [
       "True"
      ]
     },
     "execution_count": 63,
     "metadata": {},
     "output_type": "execute_result"
    },
    {
     "name": "stderr",
     "output_type": "stream",
     "text": [
      "\n",
      " 79%|████████████████████████████████▏        | 424/540 [22:37<06:37,  3.43s/it]\u001b[A"
     ]
    },
    {
     "data": {
      "text/plain": [
       "True"
      ]
     },
     "execution_count": 63,
     "metadata": {},
     "output_type": "execute_result"
    },
    {
     "name": "stderr",
     "output_type": "stream",
     "text": [
      "\n",
      " 79%|████████████████████████████████▎        | 425/540 [22:40<06:26,  3.36s/it]\u001b[A"
     ]
    },
    {
     "data": {
      "text/plain": [
       "True"
      ]
     },
     "execution_count": 63,
     "metadata": {},
     "output_type": "execute_result"
    },
    {
     "name": "stderr",
     "output_type": "stream",
     "text": [
      "\n",
      " 79%|████████████████████████████████▎        | 426/540 [22:43<06:14,  3.28s/it]\u001b[A"
     ]
    },
    {
     "data": {
      "text/plain": [
       "True"
      ]
     },
     "execution_count": 63,
     "metadata": {},
     "output_type": "execute_result"
    },
    {
     "name": "stderr",
     "output_type": "stream",
     "text": [
      "\n",
      " 79%|████████████████████████████████▍        | 427/540 [22:47<06:14,  3.32s/it]\u001b[A"
     ]
    },
    {
     "data": {
      "text/plain": [
       "True"
      ]
     },
     "execution_count": 63,
     "metadata": {},
     "output_type": "execute_result"
    },
    {
     "name": "stderr",
     "output_type": "stream",
     "text": [
      "\n",
      " 79%|████████████████████████████████▍        | 428/540 [22:51<06:23,  3.42s/it]\u001b[A"
     ]
    },
    {
     "data": {
      "text/plain": [
       "True"
      ]
     },
     "execution_count": 63,
     "metadata": {},
     "output_type": "execute_result"
    },
    {
     "name": "stderr",
     "output_type": "stream",
     "text": [
      "\n",
      " 79%|████████████████████████████████▌        | 429/540 [22:54<06:36,  3.57s/it]\u001b[A"
     ]
    },
    {
     "data": {
      "text/plain": [
       "True"
      ]
     },
     "execution_count": 63,
     "metadata": {},
     "output_type": "execute_result"
    },
    {
     "name": "stderr",
     "output_type": "stream",
     "text": [
      "\n",
      " 80%|████████████████████████████████▋        | 430/540 [22:58<06:24,  3.49s/it]\u001b[A"
     ]
    },
    {
     "data": {
      "text/plain": [
       "True"
      ]
     },
     "execution_count": 63,
     "metadata": {},
     "output_type": "execute_result"
    },
    {
     "name": "stderr",
     "output_type": "stream",
     "text": [
      "\n",
      " 80%|████████████████████████████████▋        | 431/540 [23:01<06:08,  3.38s/it]\u001b[A"
     ]
    },
    {
     "data": {
      "text/plain": [
       "True"
      ]
     },
     "execution_count": 63,
     "metadata": {},
     "output_type": "execute_result"
    },
    {
     "name": "stderr",
     "output_type": "stream",
     "text": [
      "\n",
      " 80%|████████████████████████████████▊        | 432/540 [23:04<06:04,  3.37s/it]\u001b[A"
     ]
    },
    {
     "data": {
      "text/plain": [
       "True"
      ]
     },
     "execution_count": 63,
     "metadata": {},
     "output_type": "execute_result"
    },
    {
     "name": "stderr",
     "output_type": "stream",
     "text": [
      "\n",
      " 80%|████████████████████████████████▉        | 433/540 [23:08<06:09,  3.45s/it]\u001b[A"
     ]
    },
    {
     "data": {
      "text/plain": [
       "True"
      ]
     },
     "execution_count": 63,
     "metadata": {},
     "output_type": "execute_result"
    },
    {
     "name": "stderr",
     "output_type": "stream",
     "text": [
      "\n",
      " 80%|████████████████████████████████▉        | 434/540 [23:12<06:15,  3.54s/it]\u001b[A"
     ]
    },
    {
     "data": {
      "text/plain": [
       "True"
      ]
     },
     "execution_count": 63,
     "metadata": {},
     "output_type": "execute_result"
    },
    {
     "name": "stderr",
     "output_type": "stream",
     "text": [
      "\n",
      " 81%|█████████████████████████████████        | 435/540 [23:15<06:02,  3.45s/it]\u001b[A"
     ]
    },
    {
     "data": {
      "text/plain": [
       "True"
      ]
     },
     "execution_count": 63,
     "metadata": {},
     "output_type": "execute_result"
    },
    {
     "name": "stderr",
     "output_type": "stream",
     "text": [
      "\n",
      " 81%|█████████████████████████████████        | 436/540 [23:18<05:47,  3.35s/it]\u001b[A"
     ]
    },
    {
     "data": {
      "text/plain": [
       "True"
      ]
     },
     "execution_count": 63,
     "metadata": {},
     "output_type": "execute_result"
    },
    {
     "name": "stderr",
     "output_type": "stream",
     "text": [
      "\n",
      " 81%|█████████████████████████████████▏       | 437/540 [23:21<05:46,  3.37s/it]\u001b[A"
     ]
    },
    {
     "data": {
      "text/plain": [
       "True"
      ]
     },
     "execution_count": 63,
     "metadata": {},
     "output_type": "execute_result"
    },
    {
     "name": "stderr",
     "output_type": "stream",
     "text": [
      "\n",
      " 81%|█████████████████████████████████▎       | 438/540 [23:25<05:47,  3.40s/it]\u001b[A"
     ]
    },
    {
     "data": {
      "text/plain": [
       "True"
      ]
     },
     "execution_count": 63,
     "metadata": {},
     "output_type": "execute_result"
    },
    {
     "name": "stderr",
     "output_type": "stream",
     "text": [
      "\n",
      " 81%|█████████████████████████████████▎       | 439/540 [23:28<05:50,  3.47s/it]\u001b[A"
     ]
    },
    {
     "data": {
      "text/plain": [
       "True"
      ]
     },
     "execution_count": 63,
     "metadata": {},
     "output_type": "execute_result"
    },
    {
     "name": "stderr",
     "output_type": "stream",
     "text": [
      "\n",
      " 81%|█████████████████████████████████▍       | 440/540 [23:32<05:39,  3.40s/it]\u001b[A"
     ]
    },
    {
     "data": {
      "text/plain": [
       "True"
      ]
     },
     "execution_count": 63,
     "metadata": {},
     "output_type": "execute_result"
    },
    {
     "name": "stderr",
     "output_type": "stream",
     "text": [
      "\n",
      " 82%|█████████████████████████████████▍       | 441/540 [23:35<05:28,  3.32s/it]\u001b[A"
     ]
    },
    {
     "data": {
      "text/plain": [
       "True"
      ]
     },
     "execution_count": 63,
     "metadata": {},
     "output_type": "execute_result"
    },
    {
     "name": "stderr",
     "output_type": "stream",
     "text": [
      "\n",
      " 82%|█████████████████████████████████▌       | 442/540 [23:38<05:35,  3.42s/it]\u001b[A"
     ]
    },
    {
     "data": {
      "text/plain": [
       "True"
      ]
     },
     "execution_count": 63,
     "metadata": {},
     "output_type": "execute_result"
    },
    {
     "name": "stderr",
     "output_type": "stream",
     "text": [
      "\n",
      " 82%|█████████████████████████████████▋       | 443/540 [23:42<05:39,  3.50s/it]\u001b[A"
     ]
    },
    {
     "data": {
      "text/plain": [
       "True"
      ]
     },
     "execution_count": 63,
     "metadata": {},
     "output_type": "execute_result"
    },
    {
     "name": "stderr",
     "output_type": "stream",
     "text": [
      "\n",
      " 82%|█████████████████████████████████▋       | 444/540 [23:46<05:40,  3.55s/it]\u001b[A"
     ]
    },
    {
     "data": {
      "text/plain": [
       "True"
      ]
     },
     "execution_count": 63,
     "metadata": {},
     "output_type": "execute_result"
    },
    {
     "name": "stderr",
     "output_type": "stream",
     "text": [
      "\n",
      " 82%|█████████████████████████████████▊       | 445/540 [23:49<05:30,  3.48s/it]\u001b[A"
     ]
    },
    {
     "data": {
      "text/plain": [
       "True"
      ]
     },
     "execution_count": 63,
     "metadata": {},
     "output_type": "execute_result"
    },
    {
     "name": "stderr",
     "output_type": "stream",
     "text": [
      "\n",
      " 83%|█████████████████████████████████▊       | 446/540 [23:52<05:21,  3.42s/it]\u001b[A"
     ]
    },
    {
     "data": {
      "text/plain": [
       "True"
      ]
     },
     "execution_count": 63,
     "metadata": {},
     "output_type": "execute_result"
    },
    {
     "name": "stderr",
     "output_type": "stream",
     "text": [
      "\n",
      " 83%|█████████████████████████████████▉       | 447/540 [23:56<05:21,  3.46s/it]\u001b[A"
     ]
    },
    {
     "data": {
      "text/plain": [
       "True"
      ]
     },
     "execution_count": 63,
     "metadata": {},
     "output_type": "execute_result"
    },
    {
     "name": "stderr",
     "output_type": "stream",
     "text": [
      "\n",
      " 83%|██████████████████████████████████       | 448/540 [24:00<05:23,  3.52s/it]\u001b[A"
     ]
    },
    {
     "data": {
      "text/plain": [
       "True"
      ]
     },
     "execution_count": 63,
     "metadata": {},
     "output_type": "execute_result"
    },
    {
     "name": "stderr",
     "output_type": "stream",
     "text": [
      "\n",
      " 83%|██████████████████████████████████       | 449/540 [24:03<05:26,  3.59s/it]\u001b[A"
     ]
    },
    {
     "data": {
      "text/plain": [
       "True"
      ]
     },
     "execution_count": 63,
     "metadata": {},
     "output_type": "execute_result"
    },
    {
     "name": "stderr",
     "output_type": "stream",
     "text": [
      "\n",
      " 83%|██████████████████████████████████▏      | 450/540 [24:07<05:13,  3.49s/it]\u001b[A"
     ]
    },
    {
     "data": {
      "text/plain": [
       "True"
      ]
     },
     "execution_count": 63,
     "metadata": {},
     "output_type": "execute_result"
    },
    {
     "name": "stderr",
     "output_type": "stream",
     "text": [
      "\n",
      " 84%|██████████████████████████████████▏      | 451/540 [24:10<05:03,  3.41s/it]\u001b[A"
     ]
    },
    {
     "data": {
      "text/plain": [
       "True"
      ]
     },
     "execution_count": 63,
     "metadata": {},
     "output_type": "execute_result"
    },
    {
     "name": "stderr",
     "output_type": "stream",
     "text": [
      "\n",
      " 84%|██████████████████████████████████▎      | 452/540 [24:13<04:59,  3.40s/it]\u001b[A"
     ]
    },
    {
     "data": {
      "text/plain": [
       "True"
      ]
     },
     "execution_count": 63,
     "metadata": {},
     "output_type": "execute_result"
    },
    {
     "name": "stderr",
     "output_type": "stream",
     "text": [
      "\n",
      " 84%|██████████████████████████████████▍      | 453/540 [24:17<04:58,  3.44s/it]\u001b[A"
     ]
    },
    {
     "data": {
      "text/plain": [
       "True"
      ]
     },
     "execution_count": 63,
     "metadata": {},
     "output_type": "execute_result"
    },
    {
     "name": "stderr",
     "output_type": "stream",
     "text": [
      "\n",
      " 84%|██████████████████████████████████▍      | 454/540 [24:21<05:04,  3.54s/it]\u001b[A"
     ]
    },
    {
     "data": {
      "text/plain": [
       "True"
      ]
     },
     "execution_count": 63,
     "metadata": {},
     "output_type": "execute_result"
    },
    {
     "name": "stderr",
     "output_type": "stream",
     "text": [
      "\n",
      " 84%|██████████████████████████████████▌      | 455/540 [24:24<04:58,  3.51s/it]\u001b[A"
     ]
    },
    {
     "data": {
      "text/plain": [
       "True"
      ]
     },
     "execution_count": 63,
     "metadata": {},
     "output_type": "execute_result"
    },
    {
     "name": "stderr",
     "output_type": "stream",
     "text": [
      "\n",
      " 84%|██████████████████████████████████▌      | 456/540 [24:27<04:45,  3.40s/it]\u001b[A"
     ]
    },
    {
     "data": {
      "text/plain": [
       "True"
      ]
     },
     "execution_count": 63,
     "metadata": {},
     "output_type": "execute_result"
    },
    {
     "name": "stderr",
     "output_type": "stream",
     "text": [
      "\n",
      " 85%|██████████████████████████████████▋      | 457/540 [24:31<04:46,  3.45s/it]\u001b[A"
     ]
    },
    {
     "data": {
      "text/plain": [
       "True"
      ]
     },
     "execution_count": 63,
     "metadata": {},
     "output_type": "execute_result"
    },
    {
     "name": "stderr",
     "output_type": "stream",
     "text": [
      "\n",
      " 85%|██████████████████████████████████▊      | 458/540 [24:35<04:51,  3.56s/it]\u001b[A"
     ]
    },
    {
     "data": {
      "text/plain": [
       "True"
      ]
     },
     "execution_count": 63,
     "metadata": {},
     "output_type": "execute_result"
    },
    {
     "name": "stderr",
     "output_type": "stream",
     "text": [
      "\n",
      " 85%|██████████████████████████████████▊      | 459/540 [24:39<05:01,  3.72s/it]\u001b[A"
     ]
    },
    {
     "data": {
      "text/plain": [
       "True"
      ]
     },
     "execution_count": 63,
     "metadata": {},
     "output_type": "execute_result"
    },
    {
     "name": "stderr",
     "output_type": "stream",
     "text": [
      "\n",
      " 85%|██████████████████████████████████▉      | 460/540 [24:42<04:48,  3.61s/it]\u001b[A"
     ]
    },
    {
     "data": {
      "text/plain": [
       "True"
      ]
     },
     "execution_count": 63,
     "metadata": {},
     "output_type": "execute_result"
    },
    {
     "name": "stderr",
     "output_type": "stream",
     "text": [
      "\n",
      " 85%|███████████████████████████████████      | 461/540 [24:45<04:32,  3.45s/it]\u001b[A"
     ]
    },
    {
     "data": {
      "text/plain": [
       "True"
      ]
     },
     "execution_count": 63,
     "metadata": {},
     "output_type": "execute_result"
    },
    {
     "name": "stderr",
     "output_type": "stream",
     "text": [
      "\n",
      " 86%|███████████████████████████████████      | 462/540 [24:49<04:29,  3.46s/it]\u001b[A"
     ]
    },
    {
     "data": {
      "text/plain": [
       "True"
      ]
     },
     "execution_count": 63,
     "metadata": {},
     "output_type": "execute_result"
    },
    {
     "name": "stderr",
     "output_type": "stream",
     "text": [
      "\n",
      " 86%|███████████████████████████████████▏     | 463/540 [24:52<04:31,  3.53s/it]\u001b[A"
     ]
    },
    {
     "data": {
      "text/plain": [
       "True"
      ]
     },
     "execution_count": 63,
     "metadata": {},
     "output_type": "execute_result"
    },
    {
     "name": "stderr",
     "output_type": "stream",
     "text": [
      "\n",
      " 86%|███████████████████████████████████▏     | 464/540 [24:56<04:36,  3.64s/it]\u001b[A"
     ]
    },
    {
     "data": {
      "text/plain": [
       "True"
      ]
     },
     "execution_count": 63,
     "metadata": {},
     "output_type": "execute_result"
    },
    {
     "name": "stderr",
     "output_type": "stream",
     "text": [
      "\n",
      " 86%|███████████████████████████████████▎     | 465/540 [24:59<04:24,  3.53s/it]\u001b[A"
     ]
    },
    {
     "data": {
      "text/plain": [
       "True"
      ]
     },
     "execution_count": 63,
     "metadata": {},
     "output_type": "execute_result"
    },
    {
     "name": "stderr",
     "output_type": "stream",
     "text": [
      "\n",
      " 86%|███████████████████████████████████▍     | 466/540 [25:02<04:09,  3.37s/it]\u001b[A"
     ]
    },
    {
     "data": {
      "text/plain": [
       "True"
      ]
     },
     "execution_count": 63,
     "metadata": {},
     "output_type": "execute_result"
    },
    {
     "name": "stderr",
     "output_type": "stream",
     "text": [
      "\n",
      " 86%|███████████████████████████████████▍     | 467/540 [25:06<04:04,  3.35s/it]\u001b[A"
     ]
    },
    {
     "data": {
      "text/plain": [
       "True"
      ]
     },
     "execution_count": 63,
     "metadata": {},
     "output_type": "execute_result"
    },
    {
     "name": "stderr",
     "output_type": "stream",
     "text": [
      "\n",
      " 87%|███████████████████████████████████▌     | 468/540 [25:09<04:04,  3.39s/it]\u001b[A"
     ]
    },
    {
     "data": {
      "text/plain": [
       "True"
      ]
     },
     "execution_count": 63,
     "metadata": {},
     "output_type": "execute_result"
    },
    {
     "name": "stderr",
     "output_type": "stream",
     "text": [
      "\n",
      " 87%|███████████████████████████████████▌     | 469/540 [25:13<04:04,  3.45s/it]\u001b[A"
     ]
    },
    {
     "data": {
      "text/plain": [
       "True"
      ]
     },
     "execution_count": 63,
     "metadata": {},
     "output_type": "execute_result"
    },
    {
     "name": "stderr",
     "output_type": "stream",
     "text": [
      "\n",
      " 87%|███████████████████████████████████▋     | 470/540 [25:16<03:57,  3.40s/it]\u001b[A"
     ]
    },
    {
     "data": {
      "text/plain": [
       "True"
      ]
     },
     "execution_count": 63,
     "metadata": {},
     "output_type": "execute_result"
    },
    {
     "name": "stderr",
     "output_type": "stream",
     "text": [
      "\n",
      " 87%|███████████████████████████████████▊     | 471/540 [25:19<03:49,  3.33s/it]\u001b[A"
     ]
    },
    {
     "data": {
      "text/plain": [
       "True"
      ]
     },
     "execution_count": 63,
     "metadata": {},
     "output_type": "execute_result"
    },
    {
     "name": "stderr",
     "output_type": "stream",
     "text": [
      "\n",
      " 87%|███████████████████████████████████▊     | 472/540 [25:23<03:48,  3.36s/it]\u001b[A"
     ]
    },
    {
     "data": {
      "text/plain": [
       "True"
      ]
     },
     "execution_count": 63,
     "metadata": {},
     "output_type": "execute_result"
    },
    {
     "name": "stderr",
     "output_type": "stream",
     "text": [
      "\n",
      " 88%|███████████████████████████████████▉     | 473/540 [25:26<03:51,  3.45s/it]\u001b[A"
     ]
    },
    {
     "data": {
      "text/plain": [
       "True"
      ]
     },
     "execution_count": 63,
     "metadata": {},
     "output_type": "execute_result"
    },
    {
     "name": "stderr",
     "output_type": "stream",
     "text": [
      "\n",
      " 88%|███████████████████████████████████▉     | 474/540 [25:30<03:53,  3.54s/it]\u001b[A"
     ]
    },
    {
     "data": {
      "text/plain": [
       "True"
      ]
     },
     "execution_count": 63,
     "metadata": {},
     "output_type": "execute_result"
    },
    {
     "name": "stderr",
     "output_type": "stream",
     "text": [
      "\n",
      " 88%|████████████████████████████████████     | 475/540 [25:33<03:43,  3.45s/it]\u001b[A"
     ]
    },
    {
     "data": {
      "text/plain": [
       "True"
      ]
     },
     "execution_count": 63,
     "metadata": {},
     "output_type": "execute_result"
    },
    {
     "name": "stderr",
     "output_type": "stream",
     "text": [
      "\n",
      " 88%|████████████████████████████████████▏    | 476/540 [25:36<03:33,  3.34s/it]\u001b[A"
     ]
    },
    {
     "data": {
      "text/plain": [
       "True"
      ]
     },
     "execution_count": 63,
     "metadata": {},
     "output_type": "execute_result"
    },
    {
     "name": "stderr",
     "output_type": "stream",
     "text": [
      "\n",
      " 88%|████████████████████████████████████▏    | 477/540 [25:40<03:29,  3.33s/it]\u001b[A"
     ]
    },
    {
     "data": {
      "text/plain": [
       "True"
      ]
     },
     "execution_count": 63,
     "metadata": {},
     "output_type": "execute_result"
    },
    {
     "name": "stderr",
     "output_type": "stream",
     "text": [
      "\n",
      " 89%|████████████████████████████████████▎    | 478/540 [25:43<03:30,  3.39s/it]\u001b[A"
     ]
    },
    {
     "data": {
      "text/plain": [
       "True"
      ]
     },
     "execution_count": 63,
     "metadata": {},
     "output_type": "execute_result"
    },
    {
     "name": "stderr",
     "output_type": "stream",
     "text": [
      "\n",
      " 89%|████████████████████████████████████▎    | 479/540 [25:47<03:32,  3.48s/it]\u001b[A"
     ]
    },
    {
     "data": {
      "text/plain": [
       "True"
      ]
     },
     "execution_count": 63,
     "metadata": {},
     "output_type": "execute_result"
    },
    {
     "name": "stderr",
     "output_type": "stream",
     "text": [
      "\n",
      " 89%|████████████████████████████████████▍    | 480/540 [25:50<03:23,  3.40s/it]\u001b[A"
     ]
    },
    {
     "data": {
      "text/plain": [
       "True"
      ]
     },
     "execution_count": 63,
     "metadata": {},
     "output_type": "execute_result"
    },
    {
     "name": "stderr",
     "output_type": "stream",
     "text": [
      " 89%|████████████████████████████████████▍    | 480/540 [25:50<03:13,  3.23s/it]\n"
     ]
    }
   ],
   "source": [
    "# Validation sets\n",
    "\n",
    "num_of_docs = len(corpus)\n",
    "corpus_sets = [gensim.utils.ClippedCorpus(corpus, int(num_of_docs*0.75)), corpus]\n",
    "\n",
    "corpus_title = ['75% Corpus', '100% Corpus']\n",
    "model_results = {'Validation_Set': [],\n",
    "                'Topics': [],\n",
    "                'Alpha': [],\n",
    "                'Beta': [],\n",
    "                'Coherence': []\n",
    "                }\n",
    "\n",
    "if 1 ==1:\n",
    "    pbar = tqdm.tqdm(total = 540)\n",
    "    \n",
    "    for i in range(len(corpus_sets)):\n",
    "        #iterate through number of topics\n",
    "        for k in topics_range:\n",
    "            #iterate through alpha values\n",
    "            for a in alpha:\n",
    "                #iterate through beta values\n",
    "                for b in beta:\n",
    "                    #get the coherence score for the given parameters\n",
    "                    cv = compute_coherence_vals(corpus=corpus_sets[i], dictionary=id2word,\n",
    "                                               k=k, a=a, b=b)\n",
    "                    \n",
    "                    \n",
    "                    #save the model results\n",
    "                    model_results['Validation_Set'].append(corpus_title[i])\n",
    "                    model_results['Topics'].append(k)\n",
    "                    model_results['Alpha'].append(a)\n",
    "                    model_results['Beta'].append(b)\n",
    "                    model_results['Coherence'].append(cv)\n",
    "                    \n",
    "                    \n",
    "                    pbar.update(1)\n",
    "    pd.DataFrame(model_results).to_csv('lda_turning_results.csv', index=False)\n",
    "    pbar.close()\n"
   ]
  },
  {
   "cell_type": "code",
   "execution_count": 65,
   "id": "13c4e710-0575-4817-8d92-6f424afbf62c",
   "metadata": {},
   "outputs": [
    {
     "data": {
      "text/plain": [
       "0.6365753337196409"
      ]
     },
     "execution_count": 65,
     "metadata": {},
     "output_type": "execute_result"
    },
    {
     "data": {
      "text/html": [
       "<div>\n",
       "<style scoped>\n",
       "    .dataframe tbody tr th:only-of-type {\n",
       "        vertical-align: middle;\n",
       "    }\n",
       "\n",
       "    .dataframe tbody tr th {\n",
       "        vertical-align: top;\n",
       "    }\n",
       "\n",
       "    .dataframe thead th {\n",
       "        text-align: right;\n",
       "    }\n",
       "</style>\n",
       "<table border=\"1\" class=\"dataframe\">\n",
       "  <thead>\n",
       "    <tr style=\"text-align: right;\">\n",
       "      <th></th>\n",
       "      <th>Validation_Set</th>\n",
       "      <th>Topics</th>\n",
       "      <th>Alpha</th>\n",
       "      <th>Beta</th>\n",
       "      <th>Coherence</th>\n",
       "    </tr>\n",
       "  </thead>\n",
       "  <tbody>\n",
       "    <tr>\n",
       "      <th>245</th>\n",
       "      <td>100% Corpus</td>\n",
       "      <td>2</td>\n",
       "      <td>0.31</td>\n",
       "      <td>0.01</td>\n",
       "      <td>0.636575</td>\n",
       "    </tr>\n",
       "    <tr>\n",
       "      <th>275</th>\n",
       "      <td>100% Corpus</td>\n",
       "      <td>3</td>\n",
       "      <td>0.31</td>\n",
       "      <td>0.01</td>\n",
       "      <td>0.636575</td>\n",
       "    </tr>\n",
       "    <tr>\n",
       "      <th>305</th>\n",
       "      <td>100% Corpus</td>\n",
       "      <td>4</td>\n",
       "      <td>0.31</td>\n",
       "      <td>0.01</td>\n",
       "      <td>0.636575</td>\n",
       "    </tr>\n",
       "    <tr>\n",
       "      <th>335</th>\n",
       "      <td>100% Corpus</td>\n",
       "      <td>5</td>\n",
       "      <td>0.31</td>\n",
       "      <td>0.01</td>\n",
       "      <td>0.636575</td>\n",
       "    </tr>\n",
       "    <tr>\n",
       "      <th>365</th>\n",
       "      <td>100% Corpus</td>\n",
       "      <td>6</td>\n",
       "      <td>0.31</td>\n",
       "      <td>0.01</td>\n",
       "      <td>0.636575</td>\n",
       "    </tr>\n",
       "    <tr>\n",
       "      <th>395</th>\n",
       "      <td>100% Corpus</td>\n",
       "      <td>7</td>\n",
       "      <td>0.31</td>\n",
       "      <td>0.01</td>\n",
       "      <td>0.636575</td>\n",
       "    </tr>\n",
       "    <tr>\n",
       "      <th>425</th>\n",
       "      <td>100% Corpus</td>\n",
       "      <td>8</td>\n",
       "      <td>0.31</td>\n",
       "      <td>0.01</td>\n",
       "      <td>0.636575</td>\n",
       "    </tr>\n",
       "    <tr>\n",
       "      <th>455</th>\n",
       "      <td>100% Corpus</td>\n",
       "      <td>9</td>\n",
       "      <td>0.31</td>\n",
       "      <td>0.01</td>\n",
       "      <td>0.636575</td>\n",
       "    </tr>\n",
       "  </tbody>\n",
       "</table>\n",
       "</div>"
      ],
      "text/plain": [
       "    Validation_Set  Topics Alpha  Beta  Coherence\n",
       "245    100% Corpus       2  0.31  0.01   0.636575\n",
       "275    100% Corpus       3  0.31  0.01   0.636575\n",
       "305    100% Corpus       4  0.31  0.01   0.636575\n",
       "335    100% Corpus       5  0.31  0.01   0.636575\n",
       "365    100% Corpus       6  0.31  0.01   0.636575\n",
       "395    100% Corpus       7  0.31  0.01   0.636575\n",
       "425    100% Corpus       8  0.31  0.01   0.636575\n",
       "455    100% Corpus       9  0.31  0.01   0.636575"
      ]
     },
     "execution_count": 65,
     "metadata": {},
     "output_type": "execute_result"
    }
   ],
   "source": [
    "df = pd.read_csv('lda_turning_results.csv')\n",
    "df.Coherence.max() \n",
    "df.loc[df['Coherence'] == 0.6365753337196409 ]\n",
    "# Alpha 0.31\n",
    "# Beta 0.01"
   ]
  },
  {
   "cell_type": "markdown",
   "id": "6939143d-e709-46d6-9532-95d7168fc958",
   "metadata": {
    "tags": []
   },
   "source": [
    "#### we found that best value of hyperparameters where max topic coherence is coming as:\n",
    "alpha = 0.31\n",
    "<br>\n",
    "beta = 0.01\n",
    "<br>\n",
    "##### Coherence is 64% now- That yields an about 4% improvement over the baseline model.\n"
   ]
  },
  {
   "cell_type": "markdown",
   "id": "fa77601d-44c3-46c4-8d4d-969b4f3046ab",
   "metadata": {
    "jp-MarkdownHeadingCollapsed": true,
    "tags": []
   },
   "source": [
    "### Final LDA Model"
   ]
  },
  {
   "cell_type": "code",
   "execution_count": 66,
   "id": "38a8bc5e-e529-4fdf-b3b8-304bd9de8735",
   "metadata": {},
   "outputs": [],
   "source": [
    "# Final LDA Model\n",
    "lda_model_final = gensim.models.ldamodel.LdaModel(corpus=corpus, id2word=id2word, num_topics=7, \n",
    "                                                  random_state=100, chunksize = 200, passes = 10, \n",
    "                                                  alpha = 0.31, eta= 0.01,\n",
    "                                                  per_word_topics=True)\n"
   ]
  },
  {
   "cell_type": "code",
   "execution_count": 67,
   "id": "7cbedb27-d430-415d-ba86-e40095ae2030",
   "metadata": {},
   "outputs": [
    {
     "name": "stdout",
     "output_type": "stream",
     "text": [
      "\n",
      "Coherence Score:  0.6365753337196409\n"
     ]
    }
   ],
   "source": [
    "coherence_model_lda = CoherenceModel(model=lda_model_final, texts=cleaned_titles, dictionary=id2word, coherence='c_v')\n",
    "coherence_lda = coherence_model_lda.get_coherence()\n",
    "print(\"\\nCoherence Score: \", coherence_lda)"
   ]
  },
  {
   "cell_type": "code",
   "execution_count": 68,
   "id": "116b7887-e602-4fb1-8dea-c6fe9393c6b1",
   "metadata": {},
   "outputs": [
    {
     "name": "stderr",
     "output_type": "stream",
     "text": [
      "/Users/samaneh/opt/anaconda3/lib/python3.9/site-packages/pyLDAvis/_prepare.py:243: FutureWarning: In a future version of pandas all arguments of DataFrame.drop except for the argument 'labels' will be keyword-only.\n",
      "  default_term_info = default_term_info.sort_values(\n"
     ]
    },
    {
     "data": {
      "text/html": [
       "\n",
       "<link rel=\"stylesheet\" type=\"text/css\" href=\"https://cdn.jsdelivr.net/gh/bmabey/pyLDAvis@3.4.0/pyLDAvis/js/ldavis.v1.0.0.css\">\n",
       "\n",
       "\n",
       "<div id=\"ldavis_el18771405888778847686701042203\" style=\"background-color:white;\"></div>\n",
       "<script type=\"text/javascript\">\n",
       "\n",
       "var ldavis_el18771405888778847686701042203_data = {\"mdsDat\": {\"x\": [0.358868973206822, -0.028120676604374357, -0.11467553954871479, -0.1849626091518997, 0.15243646105763176, -0.07506403707582365, -0.10848257188364101], \"y\": [-0.10118462676212175, 0.1426769225887729, 0.20763940005437143, -0.3680731346848695, 0.033128880072483644, 0.009417092283958992, 0.07639546644740418], \"topics\": [1, 2, 3, 4, 5, 6, 7], \"cluster\": [1, 1, 1, 1, 1, 1, 1], \"Freq\": [16.846637799962643, 15.978541549254583, 15.049260428056744, 14.744940140114368, 14.736390536383198, 11.34473349125234, 11.299496054976126]}, \"tinfo\": {\"Term\": [\"make\", \"bing\", \"write\", \"use\", \"chat\", \"ask\", \"prompt\", \"like\", \"dont\", \"people\", \"give\", \"think\", \"play\", \"google\", \"better\", \"answer\", \"get\", \"tell\", \"go\", \"work\", \"game\", \"openai\", \"explain\", \"want\", \"first\", \"bard\", \"question\", \"style\", \"know\", \"come\", \"prompt\", \"like\", \"think\", \"go\", \"google\", \"know\", \"feel\", \"world\", \"last\", \"image\", \"good\", \"back\", \"thank\", \"content\", \"model\", \"still\", \"let\", \"reddit\", \"refuse\", \"type\", \"language\", \"allow\", \"begin\", \"treat\", \"look\", \"extension\", \"poem\", \"internet\", \"emotional\", \"describe\", \"time\", \"didnt\", \"bing\", \"chat\", \"cant\", \"build\", \"generate\", \"access\", \"text\", \"thing\", \"history\", \"many\", \"future\", \"conversation\", \"might\", \"favorite\", \"mind\", \"happen\", \"already\", \"best\", \"month\", \"heres\", \"plugins\", \"wonder\", \"around\", \"store\", \"state\", \"account\", \"assistant\", \"interest\", \"puzzle\", \"completely\", \"message\", \"ask\", \"give\", \"work\", \"ever\", \"jailbreak\", \"right\", \"never\", \"really\", \"help\", \"limit\", \"could\", \"simple\", \"every\", \"letter\", \"thats\", \"draw\", \"absolutely\", \"instead\", \"learn\", \"anything\", \"next\", \"always\", \"read\", \"email\", \"hours\", \"literally\", \"trust\", \"software\", \"sentence\", \"incredible\", \"would\", \"change\", \"make\", \"use\", \"answer\", \"tell\", \"bard\", \"joke\", \"love\", \"post\", \"talk\", \"job\", \"something\", \"take\", \"school\", \"today\", \"mean\", \"please\", \"news\", \"year\", \"miss\", \"reply\", \"paper\", \"another\", \"soon\", \"amaze\", \"restrictions\", \"safe\", \"important\", \"high\", \"least\", \"lmao\", \"write\", \"dont\", \"get\", \"openai\", \"come\", \"even\", \"need\", \"result\", \"list\", \"say\", \"human\", \"expect\", \"friend\", \"find\", \"replace\", \"page\", \"include\", \"wrong\", \"essay\", \"humanity\", \"without\", \"crazy\", \"engineer\", \"book\", \"mark\", \"battle\", \"example\", \"students\", \"provide\", \"fire\", \"would\", \"time\", \"source\", \"search\", \"break\", \"week\", \"real\", \"little\", \"stop\", \"people\", \"chatgpts\", \"guy\", \"turn\", \"life\", \"trick\", \"company\", \"insane\", \"isnt\", \"experience\", \"request\", \"save\", \"biggest\", \"jailbreaking\", \"continue\", \"become\", \"chill\", \"full\", \"conversations\", \"engine\", \"half\", \"meme\", \"okay\", \"play\", \"better\", \"game\", \"explain\", \"want\", \"first\", \"question\", \"style\", \"try\", \"much\", \"release\", \"word\", \"elon\", \"microsoft\", \"hard\", \"trump\", \"entire\", \"call\", \"donald\", \"musk\", \"present\", \"villain\", \"development\", \"ethics\", \"nice\", \"team\", \"introduce\", \"lay\", \"speak\", \"society\", \"change\", \"whats\"], \"Freq\": [100.0, 95.0, 87.0, 86.0, 86.0, 74.0, 68.0, 56.0, 48.0, 42.0, 47.0, 46.0, 35.0, 43.0, 34.0, 39.0, 37.0, 37.0, 39.0, 36.0, 30.0, 34.0, 28.0, 27.0, 27.0, 30.0, 26.0, 26.0, 32.0, 29.0, 67.89555243899935, 55.92133887886144, 46.49597224604188, 38.94103383097541, 43.28834266985279, 32.388810999023676, 30.560733997974992, 16.24632749894715, 16.084887742840234, 14.156169462044458, 13.539007786918184, 13.509030450920841, 13.340006517930739, 12.836422060340002, 12.418340715938964, 11.737125377085174, 11.26313660292118, 10.928798888672498, 9.909588152082675, 9.131030564176806, 8.932470603434837, 8.835129791868898, 8.657389661659083, 8.627675385625658, 8.428510961961138, 7.747465965215131, 7.574166948439851, 7.507058626661393, 7.4051444529358905, 7.329322808910002, 21.252682046659185, 9.575801713769302, 95.26399702261504, 86.73719859330829, 29.65656784505904, 28.77419122176793, 23.997938595929693, 21.395065125634886, 18.69305650223613, 16.737248133258994, 15.063276405762927, 14.890553740198973, 14.193689963754816, 12.821886098642924, 11.884739794899904, 10.898462206898968, 10.75770408723516, 10.576534393834214, 9.906614393374985, 9.368179256210702, 8.94717628023243, 8.358934969167858, 7.960966862902441, 7.892212651012549, 7.304179942201074, 7.3040395106189235, 6.764705202304854, 6.3989600087824705, 6.367002961656128, 6.366927292211377, 6.104770841725883, 6.072774255610392, 14.228203411041655, 74.14102678341432, 47.40613786257091, 35.95472360919596, 26.463374603414792, 22.455084138738286, 22.387762867429583, 20.51280266801771, 18.704517827591108, 16.829128732123515, 15.273029635979787, 14.39499594212838, 13.011110169435046, 12.76300407416121, 11.535760386679815, 11.374390171895554, 10.720679388144433, 10.610700936970701, 10.300689988241517, 9.875944208127878, 9.690062712171287, 9.541892608179719, 9.307783420113468, 8.888228694805946, 8.888223558326237, 8.778665656428696, 8.158341990787413, 6.9357846989807035, 6.935644729908628, 6.292383472065922, 6.0921711977206465, 14.885596528593746, 6.967907601022112, 100.04258571252444, 86.3438264162509, 39.196771401524934, 37.59864287279402, 30.809873485055927, 24.858034991135256, 24.25908876115, 21.610040167905286, 19.797533699215254, 18.482833060856542, 18.450317355917292, 18.305670027119294, 17.102659400932534, 14.245076988199326, 11.62912662471149, 10.555460412945074, 9.347339798536257, 8.989750082299484, 8.87342880910442, 8.845076961365931, 7.088881015354798, 6.787260862346429, 6.536090755557935, 6.2667617271865526, 6.122056523352677, 5.713719207722443, 4.970349285626737, 4.970264989378829, 4.969735621523498, 4.701066179838169, 87.52538251762593, 48.687118539207496, 37.768357585285585, 34.55385516713966, 29.427789979527596, 19.729748270706352, 17.31880355623141, 17.203238797998367, 17.153891215284986, 16.55596751050852, 15.867887802853554, 15.716524199421123, 14.230504956003532, 12.868980692055587, 12.091041733452826, 11.257063184614696, 11.197024987855473, 10.966335569591694, 10.4836666681715, 8.992335439452019, 8.906770918247059, 8.103535743687198, 7.661890910551253, 6.8279343666232375, 6.657638367239119, 6.059704603075169, 5.969287056122157, 5.733525191720889, 5.7335006719639035, 5.522389965297493, 10.319281816356131, 9.507920542846463, 22.770120174686678, 19.821640859948516, 19.515713348672985, 19.04140247713769, 18.82000835736322, 18.378705061846563, 17.47873992036553, 42.31642491925798, 15.571926579789487, 14.49054174083704, 13.986712040540171, 13.121387526304925, 12.215907569861779, 12.215821416003322, 11.390203182286944, 10.908347556000955, 10.132617246435444, 8.503639451152742, 8.367602508649524, 8.266256530477934, 8.00001690732452, 7.960030868770889, 7.9598513008973635, 7.632401781362629, 7.632286102867285, 7.502280898476923, 7.224844177786776, 7.224537315167328, 6.551055179235003, 5.78716666911333, 35.291828302705525, 34.65994812054545, 30.363676201105054, 28.6235586598725, 27.096730858354253, 27.040134615185842, 26.609131565677895, 26.27971250561158, 25.585493538131292, 22.380320054108154, 19.107981195441095, 18.30785108452701, 14.861550608102025, 14.498336745321982, 13.911290043695661, 12.439629598933978, 11.901719427811777, 11.192195370654222, 9.161600262802185, 7.013453215231962, 6.475999574282508, 6.475900747793159, 5.659783403385086, 3.6009019849195223, 3.108722928102619, 2.4429298335220335, 2.442880420277359, 2.0792811341888564, 2.079271251539921, 2.078718305280005, 11.726205511050422, 4.721782144462306], \"Total\": [100.0, 95.0, 87.0, 86.0, 86.0, 74.0, 68.0, 56.0, 48.0, 42.0, 47.0, 46.0, 35.0, 43.0, 34.0, 39.0, 37.0, 37.0, 39.0, 36.0, 30.0, 34.0, 28.0, 27.0, 27.0, 30.0, 26.0, 26.0, 32.0, 29.0, 68.00751645386471, 56.03337748117584, 46.60793948232231, 39.052996847665035, 43.43436469940049, 32.500934233881594, 30.672697014664614, 16.358321792890784, 16.19685083515649, 14.268132478734078, 13.650970827460966, 13.620993492553765, 13.451969607989739, 12.948385077029622, 12.530303732628584, 11.849088393774794, 11.3750996196108, 11.040761905362118, 10.021551177367963, 9.242993601957957, 9.044433620124456, 8.947092837318431, 8.769352717665983, 8.739638402315277, 8.540473978650757, 7.859428981904752, 7.686129965129472, 7.619021643351013, 7.517107603280464, 7.441285825599623, 30.853960688698717, 11.429485870104507, 95.37504359959533, 86.84807127129051, 29.767433193894128, 28.88505593002299, 24.108803334657313, 21.50592978475712, 18.803921166273025, 16.84811279238123, 15.174148189033598, 15.001418399321205, 14.304555976169684, 12.932750757765156, 11.995604467204023, 11.0093268660212, 10.868568746357392, 10.68739909767166, 10.017479052497217, 9.479043915332934, 9.058041124350044, 8.469799635852754, 8.071831849738466, 8.003077313995908, 7.4150446074666325, 7.414904169741157, 6.875569872771933, 6.509824667904704, 6.477867636751006, 6.477791953224276, 6.215635500848117, 6.1836389596540675, 19.21706160349335, 74.26885189834859, 47.51609704861401, 36.06467938940253, 26.573334700399954, 22.565039918944848, 22.497718688464488, 20.622758613325114, 18.814473681221287, 16.939084581135315, 15.382985494211498, 14.504951722334939, 13.121066080122208, 12.872959854367767, 11.645716166886373, 11.484345970532088, 10.83063517703802, 10.720656786620543, 10.410645768448076, 9.985899988334436, 9.800018542391832, 9.651849405482693, 9.417739200320026, 8.998184475012504, 8.99817934845389, 8.888621436635255, 8.268297796393007, 7.045740479187264, 7.045600515689712, 6.402339252272483, 6.2021269779272075, 25.29622818238453, 18.783386081418865, 100.1530074624099, 86.45428575171314, 39.307191096361684, 37.70914082318066, 30.920293090049793, 24.968454623539426, 24.369508380501884, 21.720469932164, 19.90795393414879, 18.593258619359833, 18.56074128179235, 18.416092972009224, 17.21348712947165, 14.355497073121771, 11.739546262496749, 10.665880038003309, 9.457759403530119, 9.100169707681085, 8.983848414098281, 8.955496566359793, 7.1993006203486605, 6.897680500658136, 6.6465103605517974, 6.377181332180415, 6.23247612834654, 5.824138812716305, 5.080768890620599, 5.080684594372691, 5.08015522651736, 4.811485843531244, 87.63449613211348, 48.79616680737742, 37.877386768889764, 34.66288464005071, 29.54111529471973, 19.838777903248797, 17.427832727293254, 17.312268114703574, 17.262920417870564, 16.664996965709804, 15.976916992708421, 15.825553382594032, 14.339534127065376, 12.97813867951035, 12.200071465082377, 11.366092355676539, 11.306054158917316, 11.075364740653537, 10.59269623167579, 9.101364617171155, 9.015800089308902, 8.212564914749041, 7.770920081613098, 6.936963537685083, 6.766667553368506, 6.168734206357396, 6.078316522217015, 5.842554362782734, 5.842529848640929, 5.631419136359338, 25.29622818238453, 30.853960688698717, 22.876789283473727, 19.928309968735565, 19.622382457460034, 19.14807724131196, 18.926677511786007, 18.485374218566932, 17.58541038928473, 42.604431429088315, 15.678595708640911, 14.597210878753526, 14.093381174595532, 13.228056635091976, 12.32257667864883, 12.322490524790373, 11.49687236183347, 11.015016721818212, 10.239286355222495, 8.610308583368521, 8.474271617436575, 8.372925659815554, 8.10668603575881, 8.066699977557938, 8.066520409684413, 7.739070901207663, 7.738955211654335, 7.6089500260236065, 7.331513286573825, 7.331206423954378, 6.657724288022052, 5.89383577790038, 35.398737816409536, 34.76685769746147, 30.470585785687554, 28.73046803604582, 27.203640277084837, 27.147044054021077, 26.71604094185122, 26.386621930251874, 25.692402959680592, 22.487231590603965, 19.215112393107596, 18.414760500482682, 14.968827788327298, 14.605246203946914, 14.018199473909528, 12.546539202278526, 12.008628803985099, 11.29910491247536, 9.268509689321563, 7.120362629307751, 6.5829089548024005, 6.582810126422386, 5.766692832893786, 3.707811361092844, 3.2156323177015786, 2.5498392096953553, 2.5497897964506806, 2.186190529578126, 2.186180627713243, 2.18600357984322, 18.783386081418865, 8.098959828495161], \"Category\": [\"Default\", \"Default\", \"Default\", \"Default\", \"Default\", \"Default\", \"Default\", \"Default\", \"Default\", \"Default\", \"Default\", \"Default\", \"Default\", \"Default\", \"Default\", \"Default\", \"Default\", \"Default\", \"Default\", \"Default\", \"Default\", \"Default\", \"Default\", \"Default\", \"Default\", \"Default\", \"Default\", \"Default\", \"Default\", \"Default\", \"Topic1\", \"Topic1\", \"Topic1\", \"Topic1\", \"Topic1\", \"Topic1\", \"Topic1\", \"Topic1\", \"Topic1\", \"Topic1\", \"Topic1\", \"Topic1\", \"Topic1\", \"Topic1\", \"Topic1\", \"Topic1\", \"Topic1\", \"Topic1\", \"Topic1\", \"Topic1\", \"Topic1\", \"Topic1\", \"Topic1\", \"Topic1\", \"Topic1\", \"Topic1\", \"Topic1\", \"Topic1\", \"Topic1\", \"Topic1\", \"Topic1\", \"Topic1\", \"Topic2\", \"Topic2\", \"Topic2\", \"Topic2\", \"Topic2\", \"Topic2\", \"Topic2\", \"Topic2\", \"Topic2\", \"Topic2\", \"Topic2\", \"Topic2\", \"Topic2\", \"Topic2\", \"Topic2\", \"Topic2\", \"Topic2\", \"Topic2\", \"Topic2\", \"Topic2\", \"Topic2\", \"Topic2\", \"Topic2\", \"Topic2\", \"Topic2\", \"Topic2\", \"Topic2\", \"Topic2\", \"Topic2\", \"Topic2\", \"Topic2\", \"Topic3\", \"Topic3\", \"Topic3\", \"Topic3\", \"Topic3\", \"Topic3\", \"Topic3\", \"Topic3\", \"Topic3\", \"Topic3\", \"Topic3\", \"Topic3\", \"Topic3\", \"Topic3\", \"Topic3\", \"Topic3\", \"Topic3\", \"Topic3\", \"Topic3\", \"Topic3\", \"Topic3\", \"Topic3\", \"Topic3\", \"Topic3\", \"Topic3\", \"Topic3\", \"Topic3\", \"Topic3\", \"Topic3\", \"Topic3\", \"Topic3\", \"Topic3\", \"Topic4\", \"Topic4\", \"Topic4\", \"Topic4\", \"Topic4\", \"Topic4\", \"Topic4\", \"Topic4\", \"Topic4\", \"Topic4\", \"Topic4\", \"Topic4\", \"Topic4\", \"Topic4\", \"Topic4\", \"Topic4\", \"Topic4\", \"Topic4\", \"Topic4\", \"Topic4\", \"Topic4\", \"Topic4\", \"Topic4\", \"Topic4\", \"Topic4\", \"Topic4\", \"Topic4\", \"Topic4\", \"Topic4\", \"Topic4\", \"Topic5\", \"Topic5\", \"Topic5\", \"Topic5\", \"Topic5\", \"Topic5\", \"Topic5\", \"Topic5\", \"Topic5\", \"Topic5\", \"Topic5\", \"Topic5\", \"Topic5\", \"Topic5\", \"Topic5\", \"Topic5\", \"Topic5\", \"Topic5\", \"Topic5\", \"Topic5\", \"Topic5\", \"Topic5\", \"Topic5\", \"Topic5\", \"Topic5\", \"Topic5\", \"Topic5\", \"Topic5\", \"Topic5\", \"Topic5\", \"Topic5\", \"Topic5\", \"Topic6\", \"Topic6\", \"Topic6\", \"Topic6\", \"Topic6\", \"Topic6\", \"Topic6\", \"Topic6\", \"Topic6\", \"Topic6\", \"Topic6\", \"Topic6\", \"Topic6\", \"Topic6\", \"Topic6\", \"Topic6\", \"Topic6\", \"Topic6\", \"Topic6\", \"Topic6\", \"Topic6\", \"Topic6\", \"Topic6\", \"Topic6\", \"Topic6\", \"Topic6\", \"Topic6\", \"Topic6\", \"Topic6\", \"Topic6\", \"Topic7\", \"Topic7\", \"Topic7\", \"Topic7\", \"Topic7\", \"Topic7\", \"Topic7\", \"Topic7\", \"Topic7\", \"Topic7\", \"Topic7\", \"Topic7\", \"Topic7\", \"Topic7\", \"Topic7\", \"Topic7\", \"Topic7\", \"Topic7\", \"Topic7\", \"Topic7\", \"Topic7\", \"Topic7\", \"Topic7\", \"Topic7\", \"Topic7\", \"Topic7\", \"Topic7\", \"Topic7\", \"Topic7\", \"Topic7\", \"Topic7\", \"Topic7\"], \"logprob\": [30.0, 29.0, 28.0, 27.0, 26.0, 25.0, 24.0, 23.0, 22.0, 21.0, 20.0, 19.0, 18.0, 17.0, 16.0, 15.0, 14.0, 13.0, 12.0, 11.0, 10.0, 9.0, 8.0, 7.0, 6.0, 5.0, 4.0, 3.0, 2.0, 1.0, -2.4307, -2.6247, -2.8093, -2.9866, -2.8808, -3.1708, -3.2289, -3.8608, -3.8708, -3.9985, -4.0431, -4.0453, -4.0579, -4.0964, -4.1295, -4.1859, -4.2271, -4.2573, -4.3552, -4.437, -4.459, -4.4699, -4.4902, -4.4937, -4.517, -4.6013, -4.6239, -4.6328, -4.6465, -4.6568, -3.5922, -4.3894, -2.0391, -2.1329, -3.2061, -3.2363, -3.4178, -3.5326, -3.6676, -3.7781, -3.8835, -3.895, -3.943, -4.0446, -4.1205, -4.2071, -4.2201, -4.2371, -4.3025, -4.3584, -4.4044, -4.4724, -4.5212, -4.5299, -4.6073, -4.6073, -4.684, -4.7396, -4.7446, -4.7446, -4.7867, -4.7919, -3.9405, -2.2299, -2.6771, -2.9536, -3.2601, -3.4243, -3.4273, -3.5148, -3.6071, -3.7127, -3.8097, -3.869, -3.97, -3.9893, -4.0904, -4.1045, -4.1637, -4.174, -4.2036, -4.2457, -4.2647, -4.2801, -4.305, -4.3511, -4.3511, -4.3635, -4.4368, -4.5991, -4.5992, -4.6965, -4.7288, -3.8354, -4.5945, -1.9098, -2.0571, -2.8468, -2.8884, -3.0876, -3.3022, -3.3266, -3.4422, -3.5298, -3.5986, -3.6003, -3.6082, -3.6762, -3.859, -4.0619, -4.1588, -4.2803, -4.3193, -4.3323, -4.3355, -4.5569, -4.6004, -4.6381, -4.6801, -4.7035, -4.7725, -4.9119, -4.9119, -4.912, -4.9676, -2.0429, -2.6294, -2.8834, -2.9723, -3.1329, -3.5327, -3.663, -3.6697, -3.6726, -3.7081, -3.7505, -3.7601, -3.8594, -3.96, -4.0224, -4.0938, -4.0992, -4.12, -4.165, -4.3184, -4.328, -4.4225, -4.4786, -4.5938, -4.6191, -4.7132, -4.7282, -4.7685, -4.7685, -4.806, -4.1808, -4.2627, -3.1278, -3.2665, -3.282, -3.3066, -3.3183, -3.3421, -3.3923, -2.5081, -3.5078, -3.5798, -3.6151, -3.679, -3.7505, -3.7505, -3.8205, -3.8637, -3.9375, -4.1128, -4.1289, -4.1411, -4.1738, -4.1788, -4.1788, -4.2209, -4.2209, -4.238, -4.2757, -4.2758, -4.3736, -4.4976, -2.6856, -2.7037, -2.836, -2.895, -2.9498, -2.9519, -2.968, -2.9805, -3.0072, -3.1411, -3.2992, -3.3419, -3.5505, -3.5752, -3.6166, -3.7284, -3.7726, -3.834, -4.0342, -4.3014, -4.3812, -4.3812, -4.5159, -4.9681, -5.115, -5.3561, -5.3561, -5.5172, -5.5172, -5.5175, -3.7874, -4.6971], \"loglift\": [30.0, 29.0, 28.0, 27.0, 26.0, 25.0, 24.0, 23.0, 22.0, 21.0, 20.0, 19.0, 18.0, 17.0, 16.0, 15.0, 14.0, 13.0, 12.0, 11.0, 10.0, 9.0, 8.0, 7.0, 6.0, 5.0, 4.0, 3.0, 2.0, 1.0, 1.7794, 1.779, 1.7786, 1.7781, 1.7777, 1.7776, 1.7774, 1.7741, 1.7741, 1.7731, 1.7728, 1.7728, 1.7727, 1.7723, 1.772, 1.7715, 1.7711, 1.7708, 1.7698, 1.7688, 1.7686, 1.7684, 1.7682, 1.7681, 1.7678, 1.7667, 1.7663, 1.7662, 1.766, 1.7659, 1.4082, 1.6041, 1.8328, 1.8326, 1.8302, 1.8301, 1.8293, 1.8288, 1.828, 1.8273, 1.8266, 1.8265, 1.8261, 1.8253, 1.8246, 1.8238, 1.8237, 1.8235, 1.8228, 1.8222, 1.8216, 1.8207, 1.8201, 1.82, 1.8189, 1.8189, 1.8177, 1.8167, 1.8167, 1.8167, 1.8159, 1.8158, 1.5334, 1.8921, 1.8915, 1.8908, 1.8897, 1.889, 1.8889, 1.8885, 1.888, 1.8873, 1.8867, 1.8862, 1.8854, 1.8853, 1.8844, 1.8842, 1.8836, 1.8835, 1.8832, 1.8828, 1.8826, 1.8824, 1.8821, 1.8815, 1.8815, 1.8814, 1.8805, 1.8781, 1.8781, 1.8765, 1.876, 1.3636, 0.9022, 1.9132, 1.913, 1.9115, 1.9113, 1.9107, 1.9098, 1.9097, 1.9092, 1.9087, 1.9083, 1.9083, 1.9083, 1.9078, 1.9065, 1.9048, 1.9039, 1.9025, 1.9021, 1.9019, 1.9019, 1.8988, 1.8981, 1.8975, 1.8968, 1.8964, 1.8951, 1.8923, 1.8923, 1.8923, 1.8911, 1.9136, 1.9126, 1.912, 1.9117, 1.911, 1.9093, 1.9086, 1.9085, 1.9085, 1.9083, 1.908, 1.9079, 1.9072, 1.9064, 1.9059, 1.9052, 1.9052, 1.905, 1.9045, 1.9028, 1.9027, 1.9015, 1.9007, 1.899, 1.8986, 1.897, 1.8967, 1.896, 1.896, 1.8953, 1.0182, 0.7377, 2.1717, 2.171, 2.171, 2.1708, 2.1708, 2.1706, 2.1703, 2.1696, 2.1696, 2.1691, 2.1688, 2.1683, 2.1677, 2.1677, 2.1671, 2.1667, 2.1659, 2.164, 2.1637, 2.1636, 2.1632, 2.1631, 2.1631, 2.1625, 2.1625, 2.1623, 2.1618, 2.1618, 2.1603, 2.1582, 2.1774, 2.1773, 2.1769, 2.1767, 2.1765, 2.1765, 2.1764, 2.1764, 2.1762, 2.1756, 2.1748, 2.1746, 2.1732, 2.1731, 2.1728, 2.1719, 2.1715, 2.1709, 2.1688, 2.1653, 2.164, 2.164, 2.1617, 2.1512, 2.1466, 2.1376, 2.1376, 2.1303, 2.1303, 2.1301, 1.7093, 1.6409]}, \"token.table\": {\"Topic\": [3, 2, 2, 1, 2, 3, 4, 4, 4, 3, 2, 3, 2, 1, 4, 5, 6, 1, 2, 7, 6, 2, 5, 6, 2, 7, 2, 3, 7, 2, 6, 6, 5, 6, 2, 1, 6, 2, 6, 3, 5, 1, 7, 1, 2, 7, 5, 3, 7, 3, 1, 6, 5, 7, 5, 7, 5, 3, 3, 5, 5, 6, 7, 1, 2, 1, 5, 5, 7, 5, 6, 2, 7, 2, 5, 3, 1, 1, 1, 6, 6, 2, 7, 3, 2, 4, 2, 3, 5, 5, 1, 4, 5, 3, 6, 3, 2, 1, 7, 6, 3, 6, 4, 4, 1, 1, 1, 7, 3, 4, 1, 3, 6, 1, 3, 5, 3, 6, 4, 1, 4, 4, 2, 5, 4, 6, 2, 3, 7, 2, 2, 4, 1, 2, 7, 7, 5, 3, 4, 3, 7, 6, 5, 5, 4, 6, 7, 4, 2, 1, 4, 7, 1, 5, 2, 7, 3, 6, 3, 1, 1, 7, 5, 4, 6, 4, 5, 3, 4, 6, 5, 4, 6, 3, 3, 7, 3, 4, 4, 6, 7, 2, 1, 6, 2, 5, 7, 4, 4, 7, 4, 2, 1, 3, 2, 1, 1, 5, 4, 1, 6, 7, 3, 7, 6, 1, 4, 7, 7, 6, 2, 7, 5, 2, 7, 3, 1, 3, 5, 5, 5, 4], \"Freq\": [1.0260565391598095, 0.9764748704277965, 0.9216838096395613, 1.0059133356100758, 0.9982551445922055, 0.9556433671144948, 0.9408545386224021, 1.0148338995017385, 0.9921848626728732, 1.020406232574266, 0.9440266877088372, 0.9963800181169279, 0.9262307191891493, 1.0278251735200834, 1.002577818706895, 0.9726468671346706, 0.9917535187037336, 1.0263015173137437, 0.949462844606295, 1.0067058778957627, 0.9554605313641625, 0.9960676966904483, 1.0090870395919587, 1.0192442249741394, 1.003979361170547, 0.9735284418728497, 1.0078127934172563, 0.3726697609077326, 0.6388624472703986, 1.0017493621503109, 1.020499558591332, 1.0337158170694132, 0.9816826382713976, 0.9738291115629923, 0.9703024447494035, 1.003986205435143, 0.9917314418853432, 1.0051999179056679, 1.051393421252466, 0.9651876316446192, 0.9741171099460908, 0.940697638023592, 1.040457706672949, 0.8749299936715844, 0.1749859987343169, 0.9710298960327011, 1.0041772378028628, 1.0156375706681589, 1.002082475135228, 1.0002023355476264, 0.9312092322511389, 0.9547824202704611, 1.0294791242196573, 0.9992814496870588, 0.944046707399819, 1.078803534066802, 1.0081266143276295, 0.97842443536485, 1.0098687595603064, 0.9871154254750049, 1.0110230974670267, 0.9766305632129872, 1.0093813982986988, 1.0178856528150955, 0.9991528214090922, 1.0106708251047798, 1.0016844727144243, 1.0654507957436365, 0.9945834230154684, 0.9763218160327457, 1.0337312700753907, 0.9787091625439439, 0.9845560637069014, 0.9954869873403918, 1.0032371090397119, 0.9891384797853665, 0.9986429505558367, 1.0255680842740436, 0.9899995153052973, 0.9590873295101343, 0.9548223846388807, 1.0292494833842636, 0.9987017252862324, 1.0035961458585858, 0.94453237903479, 0.9841193459515167, 0.9885233630999165, 1.01253046539992, 1.001444772311336, 0.9888627012063756, 0.9812075981819124, 0.9841030181928362, 0.9729300643163888, 0.9674100548656036, 0.9567819537178692, 0.9605552068928678, 0.9262415408407091, 1.050003579787893, 0.7843783839687528, 0.9986367045827115, 0.974959498366743, 0.9868397474272205, 0.9680928108673691, 1.0012634092472361, 0.9845870820119571, 0.9950871859985142, 0.9878463512963144, 0.9148333472956469, 1.0014119920770321, 0.9842218942250098, 0.9670244980567797, 1.0304218158880605, 0.9827596266493918, 0.9994043285863492, 0.9751033052488015, 0.9847696443297979, 0.9675510240439029, 0.9737427972607979, 1.0391800293296511, 0.9367161611870934, 0.9848372657038281, 0.9984722629276277, 0.9999054489859927, 1.0344826230624171, 1.0221860139803953, 1.0514103163739805, 0.7285192860835201, 0.2601854593155429, 0.9585596712650176, 1.0003664286204164, 1.0120927839451406, 1.0017978471093048, 0.9576783018237869, 0.9935923094681016, 0.9783329669265491, 0.9830959972723394, 0.9754511800756938, 1.0182924793791233, 0.9515995930960921, 1.03607086889685, 0.932942483344705, 1.0180127553770153, 1.0097255425637535, 0.9677908339805367, 0.9723166692351557, 0.9858129445972224, 0.9887358182521215, 1.0313260566222568, 0.991100923424118, 1.0408359000295986, 1.0128694300219567, 0.9114511595398637, 0.9998894761306302, 1.0269523914192242, 0.9653075697861154, 1.0106287851095463, 1.0002017656997961, 1.0038740285065, 1.0098608295890779, 0.9963080532202836, 0.9978495168076742, 0.9888050411204071, 0.9836007956465667, 1.004969398772077, 1.0452587050578184, 0.9626992348531923, 0.9819626109857691, 0.9778769263072131, 1.0301952259276037, 0.9440339372105186, 1.020102195936759, 0.9875976826853328, 1.0035973964363714, 0.9371574612935929, 0.9907731521674433, 0.9149115849771114, 0.9935278028340998, 0.9697888530808614, 1.0531842456074734, 1.0053858395511508, 0.9148374908490572, 1.018097427490458, 1.0127361364191096, 0.9667104505197425, 0.9440445675030699, 1.0269480825407804, 0.9853478049871698, 0.9774060126302768, 1.004623582421161, 0.7843631835275418, 1.007713227362649, 1.010427550296194, 0.9664012318522268, 0.9578255503818084, 1.0090150872973414, 0.9869563106827992, 0.6806257456499561, 0.3241074979285506, 0.9752361711119444, 1.0297908890161576, 0.9738223029922181, 0.9564390471773068, 0.9935080664236244, 1.0119722954992618, 0.9933741113336337, 0.9737105084756865, 0.9947453645847263, 0.9114648432463401, 0.9925142269560013, 0.9922667305209902, 0.37041793804741213, 0.6173632300790202, 0.9982475111301948, 0.9996154836602008, 0.9774767366389691, 0.9982065724554442, 0.9780954429539033, 0.5929737782190592, 0.3953158521460395, 1.0041707761671328, 0.9931952813818491, 0.9889925450954463], \"Term\": [\"absolutely\", \"access\", \"account\", \"allow\", \"already\", \"always\", \"amaze\", \"another\", \"answer\", \"anything\", \"around\", \"ask\", \"assistant\", \"back\", \"bard\", \"battle\", \"become\", \"begin\", \"best\", \"better\", \"biggest\", \"bing\", \"book\", \"break\", \"build\", \"call\", \"cant\", \"change\", \"change\", \"chat\", \"chatgpts\", \"chill\", \"come\", \"company\", \"completely\", \"content\", \"continue\", \"conversation\", \"conversations\", \"could\", \"crazy\", \"describe\", \"development\", \"didnt\", \"didnt\", \"donald\", \"dont\", \"draw\", \"elon\", \"email\", \"emotional\", \"engine\", \"engineer\", \"entire\", \"essay\", \"ethics\", \"even\", \"ever\", \"every\", \"example\", \"expect\", \"experience\", \"explain\", \"extension\", \"favorite\", \"feel\", \"find\", \"fire\", \"first\", \"friend\", \"full\", \"future\", \"game\", \"generate\", \"get\", \"give\", \"go\", \"good\", \"google\", \"guy\", \"half\", \"happen\", \"hard\", \"help\", \"heres\", \"high\", \"history\", \"hours\", \"human\", \"humanity\", \"image\", \"important\", \"include\", \"incredible\", \"insane\", \"instead\", \"interest\", \"internet\", \"introduce\", \"isnt\", \"jailbreak\", \"jailbreaking\", \"job\", \"joke\", \"know\", \"language\", \"last\", \"lay\", \"learn\", \"least\", \"let\", \"letter\", \"life\", \"like\", \"limit\", \"list\", \"literally\", \"little\", \"lmao\", \"look\", \"love\", \"make\", \"many\", \"mark\", \"mean\", \"meme\", \"message\", \"message\", \"microsoft\", \"might\", \"mind\", \"miss\", \"model\", \"month\", \"much\", \"musk\", \"need\", \"never\", \"news\", \"next\", \"nice\", \"okay\", \"openai\", \"page\", \"paper\", \"people\", \"play\", \"please\", \"plugins\", \"poem\", \"post\", \"present\", \"prompt\", \"provide\", \"puzzle\", \"question\", \"read\", \"real\", \"really\", \"reddit\", \"refuse\", \"release\", \"replace\", \"reply\", \"request\", \"restrictions\", \"result\", \"right\", \"safe\", \"save\", \"say\", \"school\", \"search\", \"sentence\", \"simple\", \"society\", \"software\", \"something\", \"soon\", \"source\", \"speak\", \"state\", \"still\", \"stop\", \"store\", \"students\", \"style\", \"take\", \"talk\", \"team\", \"tell\", \"text\", \"thank\", \"thats\", \"thing\", \"think\", \"time\", \"time\", \"today\", \"treat\", \"trick\", \"trump\", \"trust\", \"try\", \"turn\", \"type\", \"use\", \"villain\", \"want\", \"week\", \"whats\", \"whats\", \"without\", \"wonder\", \"word\", \"work\", \"world\", \"would\", \"would\", \"write\", \"wrong\", \"year\"]}, \"R\": 30, \"lambda.step\": 0.01, \"plot.opts\": {\"xlab\": \"PC1\", \"ylab\": \"PC2\"}, \"topic.order\": [4, 7, 3, 6, 2, 5, 1]};\n",
       "\n",
       "function LDAvis_load_lib(url, callback){\n",
       "  var s = document.createElement('script');\n",
       "  s.src = url;\n",
       "  s.async = true;\n",
       "  s.onreadystatechange = s.onload = callback;\n",
       "  s.onerror = function(){console.warn(\"failed to load library \" + url);};\n",
       "  document.getElementsByTagName(\"head\")[0].appendChild(s);\n",
       "}\n",
       "\n",
       "if(typeof(LDAvis) !== \"undefined\"){\n",
       "   // already loaded: just create the visualization\n",
       "   !function(LDAvis){\n",
       "       new LDAvis(\"#\" + \"ldavis_el18771405888778847686701042203\", ldavis_el18771405888778847686701042203_data);\n",
       "   }(LDAvis);\n",
       "}else if(typeof define === \"function\" && define.amd){\n",
       "   // require.js is available: use it to load d3/LDAvis\n",
       "   require.config({paths: {d3: \"https://d3js.org/d3.v5\"}});\n",
       "   require([\"d3\"], function(d3){\n",
       "      window.d3 = d3;\n",
       "      LDAvis_load_lib(\"https://cdn.jsdelivr.net/gh/bmabey/pyLDAvis@3.4.0/pyLDAvis/js/ldavis.v3.0.0.js\", function(){\n",
       "        new LDAvis(\"#\" + \"ldavis_el18771405888778847686701042203\", ldavis_el18771405888778847686701042203_data);\n",
       "      });\n",
       "    });\n",
       "}else{\n",
       "    // require.js not available: dynamically load d3 & LDAvis\n",
       "    LDAvis_load_lib(\"https://d3js.org/d3.v5.js\", function(){\n",
       "         LDAvis_load_lib(\"https://cdn.jsdelivr.net/gh/bmabey/pyLDAvis@3.4.0/pyLDAvis/js/ldavis.v3.0.0.js\", function(){\n",
       "                 new LDAvis(\"#\" + \"ldavis_el18771405888778847686701042203\", ldavis_el18771405888778847686701042203_data);\n",
       "            })\n",
       "         });\n",
       "}\n",
       "</script>"
      ],
      "text/plain": [
       "PreparedData(topic_coordinates=              x         y  topics  cluster       Freq\n",
       "topic                                                \n",
       "3      0.358869 -0.101185       1        1  16.846638\n",
       "6     -0.028121  0.142677       2        1  15.978542\n",
       "2     -0.114676  0.207639       3        1  15.049260\n",
       "5     -0.184963 -0.368073       4        1  14.744940\n",
       "1      0.152436  0.033129       5        1  14.736391\n",
       "4     -0.075064  0.009417       6        1  11.344733\n",
       "0     -0.108483  0.076395       7        1  11.299496, topic_info=        Term        Freq       Total Category  logprob  loglift\n",
       "38      make  100.000000  100.000000  Default  30.0000  30.0000\n",
       "195     bing   95.000000   95.000000  Default  29.0000  29.0000\n",
       "33     write   87.000000   87.000000  Default  28.0000  28.0000\n",
       "16       use   86.000000   86.000000  Default  27.0000  27.0000\n",
       "19      chat   86.000000   86.000000  Default  26.0000  26.0000\n",
       "..       ...         ...         ...      ...      ...      ...\n",
       "172      lay    2.079281    2.186191   Topic7  -5.5172   2.1303\n",
       "169    speak    2.079271    2.186181   Topic7  -5.5172   2.1303\n",
       "174  society    2.078718    2.186004   Topic7  -5.5175   2.1301\n",
       "113   change   11.726206   18.783386   Topic7  -3.7874   1.7093\n",
       "220    whats    4.721782    8.098960   Topic7  -4.6971   1.6409\n",
       "\n",
       "[249 rows x 6 columns], token_table=      Topic      Freq        Term\n",
       "term                             \n",
       "291       3  1.026057  absolutely\n",
       "215       2  0.976475      access\n",
       "160       2  0.921684     account\n",
       "237       1  1.005913       allow\n",
       "402       2  0.998255     already\n",
       "...     ...       ...         ...\n",
       "105       3  0.592974       would\n",
       "105       5  0.395316       would\n",
       "33        5  1.004171       write\n",
       "363       5  0.993195       wrong\n",
       "452       4  0.988993        year\n",
       "\n",
       "[222 rows x 3 columns], R=30, lambda_step=0.01, plot_opts={'xlab': 'PC1', 'ylab': 'PC2'}, topic_order=[4, 7, 3, 6, 2, 5, 1])"
      ]
     },
     "execution_count": 68,
     "metadata": {},
     "output_type": "execute_result"
    }
   ],
   "source": [
    "pyLDAvis.enable_notebook()\n",
    "LDAvis_prepared = pyLDAvis.gensim_models.prepare(lda_model_final, corpus, id2word)\n",
    "LDAvis_prepared"
   ]
  },
  {
   "cell_type": "code",
   "execution_count": 69,
   "id": "71fca96a-1473-4592-a425-64dc6c242abd",
   "metadata": {},
   "outputs": [],
   "source": [
    "# saving the model \n",
    "lda_model_final.save(\"models/titles.model\")"
   ]
  },
  {
   "cell_type": "code",
   "execution_count": 70,
   "id": "fc9ae92b-4946-4e83-adb7-c4539f82c571",
   "metadata": {},
   "outputs": [],
   "source": [
    "# a function that finds the most dominant topic for each document\n",
    "\n",
    "\n",
    "def format_topics_sentences(ldamodel=None, corpus=corpus, texts=post_titles):\n",
    "    #init input\n",
    "    sent_topics_df = pd.DataFrame()\n",
    "    \n",
    "    #get main topic in each document\n",
    "    for i, row_list in enumerate(ldamodel[corpus]):\n",
    "        row = row_list[0] if ldamodel.per_word_topics else row_list\n",
    "        # print(row)\n",
    "        row = sorted(row, key=lambda x: (x[1]), reverse=True)\n",
    "        #get the dominant topic, perc contribution and keywords for each document\n",
    "        for j, (topic_num, prop_topic) in enumerate(row):\n",
    "            if j==0: # => dominant topic\n",
    "                wp = ldamodel.show_topic(topic_num)\n",
    "                topic_keywords = \", \".join([word for word, prop in wp])\n",
    "                sent_topics_df = sent_topics_df.append(pd.Series([int(topic_num), round(prop_topic, 4), topic_keywords]), ignore_index= True)\n",
    "            else:\n",
    "                break\n",
    "    sent_topics_df.columns = ['Dominant_Topic', 'Perc_Contribution', 'Top_Keywords']\n",
    "    \n",
    "    #add original text to the end of the output\n",
    "    \n",
    "    contents = pd.Series(texts)\n",
    "    sent_topics_df = pd.concat([sent_topics_df, contents], axis = 1)\n",
    "    sent_topics_df = sent_topics_df.rename(columns={sent_topics_df.columns[-1]: \"Title\"})\n",
    "    return(sent_topics_df)\n",
    "    \n",
    "    \n",
    "    \n",
    "    "
   ]
  },
  {
   "cell_type": "code",
   "execution_count": 71,
   "id": "1e1fd309-143b-4303-ac32-1727266464e9",
   "metadata": {},
   "outputs": [
    {
     "name": "stderr",
     "output_type": "stream",
     "text": [
      "/var/folders/7y/yfhc5rbs0g3d_c8tt7b3m_l40000gn/T/ipykernel_1877/1463150999.py:18: FutureWarning: The frame.append method is deprecated and will be removed from pandas in a future version. Use pandas.concat instead.\n",
      "  sent_topics_df = sent_topics_df.append(pd.Series([int(topic_num), round(prop_topic, 4), topic_keywords]), ignore_index= True)\n",
      "/var/folders/7y/yfhc5rbs0g3d_c8tt7b3m_l40000gn/T/ipykernel_1877/1463150999.py:18: FutureWarning: The frame.append method is deprecated and will be removed from pandas in a future version. Use pandas.concat instead.\n",
      "  sent_topics_df = sent_topics_df.append(pd.Series([int(topic_num), round(prop_topic, 4), topic_keywords]), ignore_index= True)\n"
     ]
    },
    {
     "data": {
      "text/html": [
       "<div>\n",
       "<style scoped>\n",
       "    .dataframe tbody tr th:only-of-type {\n",
       "        vertical-align: middle;\n",
       "    }\n",
       "\n",
       "    .dataframe tbody tr th {\n",
       "        vertical-align: top;\n",
       "    }\n",
       "\n",
       "    .dataframe thead th {\n",
       "        text-align: right;\n",
       "    }\n",
       "</style>\n",
       "<table border=\"1\" class=\"dataframe\">\n",
       "  <thead>\n",
       "    <tr style=\"text-align: right;\">\n",
       "      <th></th>\n",
       "      <th>Dominant_Topic</th>\n",
       "      <th>Perc_Contribution</th>\n",
       "      <th>Top_Keywords</th>\n",
       "      <th>Title</th>\n",
       "    </tr>\n",
       "  </thead>\n",
       "  <tbody>\n",
       "    <tr>\n",
       "      <th>0</th>\n",
       "      <td>3</td>\n",
       "      <td>0.5991</td>\n",
       "      <td>prompt, like, think, google, go, know, feel, t...</td>\n",
       "      <td>10/10, must-see moment! ChatGPT just did somet...</td>\n",
       "    </tr>\n",
       "    <tr>\n",
       "      <th>1</th>\n",
       "      <td>3</td>\n",
       "      <td>0.4132</td>\n",
       "      <td>prompt, like, think, google, go, know, feel, t...</td>\n",
       "      <td>wow it is so smart 💀</td>\n",
       "    </tr>\n",
       "    <tr>\n",
       "      <th>2</th>\n",
       "      <td>0</td>\n",
       "      <td>0.1429</td>\n",
       "      <td>play, better, game, explain, want, first, ques...</td>\n",
       "      <td>&gt;:(</td>\n",
       "    </tr>\n",
       "    <tr>\n",
       "      <th>3</th>\n",
       "      <td>3</td>\n",
       "      <td>0.6402</td>\n",
       "      <td>prompt, like, think, google, go, know, feel, t...</td>\n",
       "      <td>Truly pure of heart.</td>\n",
       "    </tr>\n",
       "    <tr>\n",
       "      <th>4</th>\n",
       "      <td>6</td>\n",
       "      <td>0.4467</td>\n",
       "      <td>bing, chat, cant, build, generate, access, tex...</td>\n",
       "      <td>Rap battling ChatGPT is my new favorite sport.</td>\n",
       "    </tr>\n",
       "    <tr>\n",
       "      <th>...</th>\n",
       "      <td>...</td>\n",
       "      <td>...</td>\n",
       "      <td>...</td>\n",
       "      <td>...</td>\n",
       "    </tr>\n",
       "    <tr>\n",
       "      <th>990</th>\n",
       "      <td>0</td>\n",
       "      <td>0.2123</td>\n",
       "      <td>play, better, game, explain, want, first, ques...</td>\n",
       "      <td>I can’t explain how I feel right now</td>\n",
       "    </tr>\n",
       "    <tr>\n",
       "      <th>991</th>\n",
       "      <td>0</td>\n",
       "      <td>0.1429</td>\n",
       "      <td>play, better, game, explain, want, first, ques...</td>\n",
       "      <td>The situation is apparently serious…</td>\n",
       "    </tr>\n",
       "    <tr>\n",
       "      <th>992</th>\n",
       "      <td>3</td>\n",
       "      <td>0.4050</td>\n",
       "      <td>prompt, like, think, google, go, know, feel, t...</td>\n",
       "      <td>Just had an absolutely bizarre response that C...</td>\n",
       "    </tr>\n",
       "    <tr>\n",
       "      <th>993</th>\n",
       "      <td>1</td>\n",
       "      <td>0.4132</td>\n",
       "      <td>write, dont, get, openai, come, even, need, re...</td>\n",
       "      <td>Don't be a brat</td>\n",
       "    </tr>\n",
       "    <tr>\n",
       "      <th>994</th>\n",
       "      <td>5</td>\n",
       "      <td>0.3222</td>\n",
       "      <td>make, use, answer, tell, bard, joke, love, pos...</td>\n",
       "      <td>How about posting something useful regarding c...</td>\n",
       "    </tr>\n",
       "  </tbody>\n",
       "</table>\n",
       "<p>995 rows × 4 columns</p>\n",
       "</div>"
      ],
      "text/plain": [
       "     Dominant_Topic  Perc_Contribution  \\\n",
       "0                 3             0.5991   \n",
       "1                 3             0.4132   \n",
       "2                 0             0.1429   \n",
       "3                 3             0.6402   \n",
       "4                 6             0.4467   \n",
       "..              ...                ...   \n",
       "990               0             0.2123   \n",
       "991               0             0.1429   \n",
       "992               3             0.4050   \n",
       "993               1             0.4132   \n",
       "994               5             0.3222   \n",
       "\n",
       "                                          Top_Keywords  \\\n",
       "0    prompt, like, think, google, go, know, feel, t...   \n",
       "1    prompt, like, think, google, go, know, feel, t...   \n",
       "2    play, better, game, explain, want, first, ques...   \n",
       "3    prompt, like, think, google, go, know, feel, t...   \n",
       "4    bing, chat, cant, build, generate, access, tex...   \n",
       "..                                                 ...   \n",
       "990  play, better, game, explain, want, first, ques...   \n",
       "991  play, better, game, explain, want, first, ques...   \n",
       "992  prompt, like, think, google, go, know, feel, t...   \n",
       "993  write, dont, get, openai, come, even, need, re...   \n",
       "994  make, use, answer, tell, bard, joke, love, pos...   \n",
       "\n",
       "                                                 Title  \n",
       "0    10/10, must-see moment! ChatGPT just did somet...  \n",
       "1                                 wow it is so smart 💀  \n",
       "2                                                  >:(  \n",
       "3                                 Truly pure of heart.  \n",
       "4       Rap battling ChatGPT is my new favorite sport.  \n",
       "..                                                 ...  \n",
       "990               I can’t explain how I feel right now  \n",
       "991               The situation is apparently serious…  \n",
       "992  Just had an absolutely bizarre response that C...  \n",
       "993                                    Don't be a brat  \n",
       "994  How about posting something useful regarding c...  \n",
       "\n",
       "[995 rows x 4 columns]"
      ]
     },
     "execution_count": 71,
     "metadata": {},
     "output_type": "execute_result"
    }
   ],
   "source": [
    "df_topic_sents_keywords = format_topics_sentences(ldamodel=lda_model_final, corpus=corpus, texts = post_titles)\n",
    "df_topic_sents_keywords\n",
    "df_topic_sents_keywords.to_csv(\"topic_titles_keywords.csv\", index=False)"
   ]
  },
  {
   "cell_type": "markdown",
   "id": "ffdfd711-0f39-4983-91e1-e796ddcc0b60",
   "metadata": {
    "jp-MarkdownHeadingCollapsed": true,
    "tags": []
   },
   "source": [
    "### Visualizing Topics-Wordcloud of Top N Words in Each Topic"
   ]
  },
  {
   "cell_type": "code",
   "execution_count": 72,
   "id": "1f4abd54-0711-4460-b4ba-f4c1ff265958",
   "metadata": {},
   "outputs": [
    {
     "data": {
      "text/plain": [
       "[(0,\n",
       "  [('play', 0.06817965),\n",
       "   ('better', 0.066958934),\n",
       "   ('game', 0.058659043),\n",
       "   ('explain', 0.05529734),\n",
       "   ('want', 0.05234769),\n",
       "   ('first', 0.052238353),\n",
       "   ('question', 0.051405706),\n",
       "   ('style', 0.050769307),\n",
       "   ('try', 0.049428158),\n",
       "   ('much', 0.04323614)]),\n",
       " (1,\n",
       "  [('write', 0.129653),\n",
       "   ('dont', 0.07212115),\n",
       "   ('get', 0.055946983),\n",
       "   ('openai', 0.05118528),\n",
       "   ('come', 0.043591943),\n",
       "   ('even', 0.02922605),\n",
       "   ('need', 0.025654672),\n",
       "   ('result', 0.025483483),\n",
       "   ('list', 0.025410384),\n",
       "   ('say', 0.024524668)]),\n",
       " (2,\n",
       "  [('ask', 0.107543245),\n",
       "   ('give', 0.06876368),\n",
       "   ('work', 0.052153144),\n",
       "   ('ever', 0.038385727),\n",
       "   ('jailbreak', 0.03257161),\n",
       "   ('right', 0.03247396),\n",
       "   ('never', 0.029754287),\n",
       "   ('really', 0.027131328),\n",
       "   ('help', 0.024411034),\n",
       "   ('limit', 0.022153877)]),\n",
       " (3,\n",
       "  [('prompt', 0.087976724),\n",
       "   ('like', 0.07246095),\n",
       "   ('think', 0.060247883),\n",
       "   ('google', 0.056091547),\n",
       "   ('go', 0.050458454),\n",
       "   ('know', 0.04196831),\n",
       "   ('feel', 0.03959955),\n",
       "   ('time', 0.027538495),\n",
       "   ('world', 0.021051433),\n",
       "   ('last', 0.020842245)]),\n",
       " (4,\n",
       "  [('people', 0.08142436),\n",
       "   ('source', 0.04381378),\n",
       "   ('search', 0.03814038),\n",
       "   ('break', 0.03755172),\n",
       "   ('week', 0.03663906),\n",
       "   ('real', 0.03621306),\n",
       "   ('little', 0.035363913),\n",
       "   ('stop', 0.03363222),\n",
       "   ('chatgpts', 0.02996317),\n",
       "   ('guy', 0.027882392)]),\n",
       " (5,\n",
       "  [('make', 0.14810905),\n",
       "   ('use', 0.12782858),\n",
       "   ('answer', 0.058029253),\n",
       "   ('tell', 0.055663288),\n",
       "   ('bard', 0.045612786),\n",
       "   ('joke', 0.036801327),\n",
       "   ('love', 0.03591461),\n",
       "   ('post', 0.0319928),\n",
       "   ('talk', 0.029309457),\n",
       "   ('job', 0.027363095)]),\n",
       " (6,\n",
       "  [('bing', 0.13014616),\n",
       "   ('chat', 0.11849716),\n",
       "   ('cant', 0.04051571),\n",
       "   ('build', 0.03931024),\n",
       "   ('generate', 0.0327851),\n",
       "   ('access', 0.02922915),\n",
       "   ('text', 0.025537765),\n",
       "   ('thing', 0.022865811),\n",
       "   ('history', 0.020578893),\n",
       "   ('many', 0.020342926)])]"
      ]
     },
     "execution_count": 72,
     "metadata": {},
     "output_type": "execute_result"
    }
   ],
   "source": [
    "# plot a word cloud with the size of the words proportional to the weight of that:\n",
    "\n",
    "\n",
    "# Wordcloud of Top N words in each topic\n",
    "import wordcloud\n",
    "from matplotlib import pyplot as plt\n",
    "from wordcloud import WordCloud, STOPWORDS\n",
    "import matplotlib.colors as mcolors\n",
    "\n",
    "cols = [color for name, color in mcolors.TABLEAU_COLORS.items()] #more colors: 'mcolors.XKCD_COLORS'\n",
    "\n",
    "cloud = WordCloud(stopwords=stop_words, background_color='white',\n",
    "                 width=2500,\n",
    "                 height=2800,\n",
    "                 max_words=15,\n",
    "                 colormap='tab10',\n",
    "                 color_func=lambda *args, **kwargs: cols[i],\n",
    "                 prefer_horizontal=1.0)\n",
    "\n",
    "topics = lda_model_final.show_topics(formatted=False)\n",
    "topics\n",
    "\n"
   ]
  },
  {
   "cell_type": "code",
   "execution_count": 80,
   "id": "67950a78-04c1-4888-90ec-c478d8789682",
   "metadata": {},
   "outputs": [
    {
     "data": {
      "text/plain": [
       "<AxesSubplot:>"
      ]
     },
     "execution_count": 80,
     "metadata": {},
     "output_type": "execute_result"
    },
    {
     "name": "stderr",
     "output_type": "stream",
     "text": [
      "/Users/samaneh/opt/anaconda3/lib/python3.9/site-packages/wordcloud/wordcloud.py:508: DeprecationWarning: textsize is deprecated and will be removed in Pillow 10 (2023-07-01). Use textbbox or textlength instead.\n",
      "  box_size = draw.textsize(word, font=transposed_font)\n",
      "/Users/samaneh/opt/anaconda3/lib/python3.9/site-packages/wordcloud/wordcloud.py:508: DeprecationWarning: textsize is deprecated and will be removed in Pillow 10 (2023-07-01). Use textbbox or textlength instead.\n",
      "  box_size = draw.textsize(word, font=transposed_font)\n",
      "/Users/samaneh/opt/anaconda3/lib/python3.9/site-packages/wordcloud/wordcloud.py:508: DeprecationWarning: textsize is deprecated and will be removed in Pillow 10 (2023-07-01). Use textbbox or textlength instead.\n",
      "  box_size = draw.textsize(word, font=transposed_font)\n",
      "/Users/samaneh/opt/anaconda3/lib/python3.9/site-packages/wordcloud/wordcloud.py:508: DeprecationWarning: textsize is deprecated and will be removed in Pillow 10 (2023-07-01). Use textbbox or textlength instead.\n",
      "  box_size = draw.textsize(word, font=transposed_font)\n",
      "/Users/samaneh/opt/anaconda3/lib/python3.9/site-packages/wordcloud/wordcloud.py:508: DeprecationWarning: textsize is deprecated and will be removed in Pillow 10 (2023-07-01). Use textbbox or textlength instead.\n",
      "  box_size = draw.textsize(word, font=transposed_font)\n",
      "/Users/samaneh/opt/anaconda3/lib/python3.9/site-packages/wordcloud/wordcloud.py:508: DeprecationWarning: textsize is deprecated and will be removed in Pillow 10 (2023-07-01). Use textbbox or textlength instead.\n",
      "  box_size = draw.textsize(word, font=transposed_font)\n",
      "/Users/samaneh/opt/anaconda3/lib/python3.9/site-packages/wordcloud/wordcloud.py:508: DeprecationWarning: textsize is deprecated and will be removed in Pillow 10 (2023-07-01). Use textbbox or textlength instead.\n",
      "  box_size = draw.textsize(word, font=transposed_font)\n",
      "/Users/samaneh/opt/anaconda3/lib/python3.9/site-packages/wordcloud/wordcloud.py:508: DeprecationWarning: textsize is deprecated and will be removed in Pillow 10 (2023-07-01). Use textbbox or textlength instead.\n",
      "  box_size = draw.textsize(word, font=transposed_font)\n",
      "/Users/samaneh/opt/anaconda3/lib/python3.9/site-packages/wordcloud/wordcloud.py:508: DeprecationWarning: textsize is deprecated and will be removed in Pillow 10 (2023-07-01). Use textbbox or textlength instead.\n",
      "  box_size = draw.textsize(word, font=transposed_font)\n",
      "/Users/samaneh/opt/anaconda3/lib/python3.9/site-packages/wordcloud/wordcloud.py:508: DeprecationWarning: textsize is deprecated and will be removed in Pillow 10 (2023-07-01). Use textbbox or textlength instead.\n",
      "  box_size = draw.textsize(word, font=transposed_font)\n"
     ]
    },
    {
     "data": {
      "text/plain": [
       "<wordcloud.wordcloud.WordCloud at 0x7fdd2002de80>"
      ]
     },
     "execution_count": 80,
     "metadata": {},
     "output_type": "execute_result"
    },
    {
     "data": {
      "text/plain": [
       "<matplotlib.image.AxesImage at 0x7fdd14288e80>"
      ]
     },
     "execution_count": 80,
     "metadata": {},
     "output_type": "execute_result"
    },
    {
     "data": {
      "text/plain": [
       "Text(0.5, 1.0, 'Topic0')"
      ]
     },
     "execution_count": 80,
     "metadata": {},
     "output_type": "execute_result"
    },
    {
     "data": {
      "text/plain": [
       "(-0.5, 2499.5, 2799.5, -0.5)"
      ]
     },
     "execution_count": 80,
     "metadata": {},
     "output_type": "execute_result"
    },
    {
     "data": {
      "text/plain": [
       "<AxesSubplot:>"
      ]
     },
     "execution_count": 80,
     "metadata": {},
     "output_type": "execute_result"
    },
    {
     "name": "stderr",
     "output_type": "stream",
     "text": [
      "/Users/samaneh/opt/anaconda3/lib/python3.9/site-packages/wordcloud/wordcloud.py:508: DeprecationWarning: textsize is deprecated and will be removed in Pillow 10 (2023-07-01). Use textbbox or textlength instead.\n",
      "  box_size = draw.textsize(word, font=transposed_font)\n",
      "/Users/samaneh/opt/anaconda3/lib/python3.9/site-packages/wordcloud/wordcloud.py:508: DeprecationWarning: textsize is deprecated and will be removed in Pillow 10 (2023-07-01). Use textbbox or textlength instead.\n",
      "  box_size = draw.textsize(word, font=transposed_font)\n",
      "/Users/samaneh/opt/anaconda3/lib/python3.9/site-packages/wordcloud/wordcloud.py:508: DeprecationWarning: textsize is deprecated and will be removed in Pillow 10 (2023-07-01). Use textbbox or textlength instead.\n",
      "  box_size = draw.textsize(word, font=transposed_font)\n",
      "/Users/samaneh/opt/anaconda3/lib/python3.9/site-packages/wordcloud/wordcloud.py:508: DeprecationWarning: textsize is deprecated and will be removed in Pillow 10 (2023-07-01). Use textbbox or textlength instead.\n",
      "  box_size = draw.textsize(word, font=transposed_font)\n",
      "/Users/samaneh/opt/anaconda3/lib/python3.9/site-packages/wordcloud/wordcloud.py:508: DeprecationWarning: textsize is deprecated and will be removed in Pillow 10 (2023-07-01). Use textbbox or textlength instead.\n",
      "  box_size = draw.textsize(word, font=transposed_font)\n",
      "/Users/samaneh/opt/anaconda3/lib/python3.9/site-packages/wordcloud/wordcloud.py:508: DeprecationWarning: textsize is deprecated and will be removed in Pillow 10 (2023-07-01). Use textbbox or textlength instead.\n",
      "  box_size = draw.textsize(word, font=transposed_font)\n",
      "/Users/samaneh/opt/anaconda3/lib/python3.9/site-packages/wordcloud/wordcloud.py:508: DeprecationWarning: textsize is deprecated and will be removed in Pillow 10 (2023-07-01). Use textbbox or textlength instead.\n",
      "  box_size = draw.textsize(word, font=transposed_font)\n",
      "/Users/samaneh/opt/anaconda3/lib/python3.9/site-packages/wordcloud/wordcloud.py:508: DeprecationWarning: textsize is deprecated and will be removed in Pillow 10 (2023-07-01). Use textbbox or textlength instead.\n",
      "  box_size = draw.textsize(word, font=transposed_font)\n",
      "/Users/samaneh/opt/anaconda3/lib/python3.9/site-packages/wordcloud/wordcloud.py:508: DeprecationWarning: textsize is deprecated and will be removed in Pillow 10 (2023-07-01). Use textbbox or textlength instead.\n",
      "  box_size = draw.textsize(word, font=transposed_font)\n",
      "/Users/samaneh/opt/anaconda3/lib/python3.9/site-packages/wordcloud/wordcloud.py:508: DeprecationWarning: textsize is deprecated and will be removed in Pillow 10 (2023-07-01). Use textbbox or textlength instead.\n",
      "  box_size = draw.textsize(word, font=transposed_font)\n"
     ]
    },
    {
     "data": {
      "text/plain": [
       "<wordcloud.wordcloud.WordCloud at 0x7fdd2002de80>"
      ]
     },
     "execution_count": 80,
     "metadata": {},
     "output_type": "execute_result"
    },
    {
     "data": {
      "text/plain": [
       "<matplotlib.image.AxesImage at 0x7fdd142a13d0>"
      ]
     },
     "execution_count": 80,
     "metadata": {},
     "output_type": "execute_result"
    },
    {
     "data": {
      "text/plain": [
       "Text(0.5, 1.0, 'Topic1')"
      ]
     },
     "execution_count": 80,
     "metadata": {},
     "output_type": "execute_result"
    },
    {
     "data": {
      "text/plain": [
       "(-0.5, 2499.5, 2799.5, -0.5)"
      ]
     },
     "execution_count": 80,
     "metadata": {},
     "output_type": "execute_result"
    },
    {
     "data": {
      "text/plain": [
       "<AxesSubplot:>"
      ]
     },
     "execution_count": 80,
     "metadata": {},
     "output_type": "execute_result"
    },
    {
     "name": "stderr",
     "output_type": "stream",
     "text": [
      "/Users/samaneh/opt/anaconda3/lib/python3.9/site-packages/wordcloud/wordcloud.py:508: DeprecationWarning: textsize is deprecated and will be removed in Pillow 10 (2023-07-01). Use textbbox or textlength instead.\n",
      "  box_size = draw.textsize(word, font=transposed_font)\n",
      "/Users/samaneh/opt/anaconda3/lib/python3.9/site-packages/wordcloud/wordcloud.py:508: DeprecationWarning: textsize is deprecated and will be removed in Pillow 10 (2023-07-01). Use textbbox or textlength instead.\n",
      "  box_size = draw.textsize(word, font=transposed_font)\n",
      "/Users/samaneh/opt/anaconda3/lib/python3.9/site-packages/wordcloud/wordcloud.py:508: DeprecationWarning: textsize is deprecated and will be removed in Pillow 10 (2023-07-01). Use textbbox or textlength instead.\n",
      "  box_size = draw.textsize(word, font=transposed_font)\n",
      "/Users/samaneh/opt/anaconda3/lib/python3.9/site-packages/wordcloud/wordcloud.py:508: DeprecationWarning: textsize is deprecated and will be removed in Pillow 10 (2023-07-01). Use textbbox or textlength instead.\n",
      "  box_size = draw.textsize(word, font=transposed_font)\n",
      "/Users/samaneh/opt/anaconda3/lib/python3.9/site-packages/wordcloud/wordcloud.py:508: DeprecationWarning: textsize is deprecated and will be removed in Pillow 10 (2023-07-01). Use textbbox or textlength instead.\n",
      "  box_size = draw.textsize(word, font=transposed_font)\n",
      "/Users/samaneh/opt/anaconda3/lib/python3.9/site-packages/wordcloud/wordcloud.py:508: DeprecationWarning: textsize is deprecated and will be removed in Pillow 10 (2023-07-01). Use textbbox or textlength instead.\n",
      "  box_size = draw.textsize(word, font=transposed_font)\n",
      "/Users/samaneh/opt/anaconda3/lib/python3.9/site-packages/wordcloud/wordcloud.py:508: DeprecationWarning: textsize is deprecated and will be removed in Pillow 10 (2023-07-01). Use textbbox or textlength instead.\n",
      "  box_size = draw.textsize(word, font=transposed_font)\n",
      "/Users/samaneh/opt/anaconda3/lib/python3.9/site-packages/wordcloud/wordcloud.py:508: DeprecationWarning: textsize is deprecated and will be removed in Pillow 10 (2023-07-01). Use textbbox or textlength instead.\n",
      "  box_size = draw.textsize(word, font=transposed_font)\n",
      "/Users/samaneh/opt/anaconda3/lib/python3.9/site-packages/wordcloud/wordcloud.py:508: DeprecationWarning: textsize is deprecated and will be removed in Pillow 10 (2023-07-01). Use textbbox or textlength instead.\n",
      "  box_size = draw.textsize(word, font=transposed_font)\n",
      "/Users/samaneh/opt/anaconda3/lib/python3.9/site-packages/wordcloud/wordcloud.py:508: DeprecationWarning: textsize is deprecated and will be removed in Pillow 10 (2023-07-01). Use textbbox or textlength instead.\n",
      "  box_size = draw.textsize(word, font=transposed_font)\n"
     ]
    },
    {
     "data": {
      "text/plain": [
       "<wordcloud.wordcloud.WordCloud at 0x7fdd2002de80>"
      ]
     },
     "execution_count": 80,
     "metadata": {},
     "output_type": "execute_result"
    },
    {
     "data": {
      "text/plain": [
       "<matplotlib.image.AxesImage at 0x7fdd142a1880>"
      ]
     },
     "execution_count": 80,
     "metadata": {},
     "output_type": "execute_result"
    },
    {
     "data": {
      "text/plain": [
       "Text(0.5, 1.0, 'Topic2')"
      ]
     },
     "execution_count": 80,
     "metadata": {},
     "output_type": "execute_result"
    },
    {
     "data": {
      "text/plain": [
       "(-0.5, 2499.5, 2799.5, -0.5)"
      ]
     },
     "execution_count": 80,
     "metadata": {},
     "output_type": "execute_result"
    },
    {
     "data": {
      "text/plain": [
       "<AxesSubplot:>"
      ]
     },
     "execution_count": 80,
     "metadata": {},
     "output_type": "execute_result"
    },
    {
     "name": "stderr",
     "output_type": "stream",
     "text": [
      "/Users/samaneh/opt/anaconda3/lib/python3.9/site-packages/wordcloud/wordcloud.py:508: DeprecationWarning: textsize is deprecated and will be removed in Pillow 10 (2023-07-01). Use textbbox or textlength instead.\n",
      "  box_size = draw.textsize(word, font=transposed_font)\n",
      "/Users/samaneh/opt/anaconda3/lib/python3.9/site-packages/wordcloud/wordcloud.py:508: DeprecationWarning: textsize is deprecated and will be removed in Pillow 10 (2023-07-01). Use textbbox or textlength instead.\n",
      "  box_size = draw.textsize(word, font=transposed_font)\n",
      "/Users/samaneh/opt/anaconda3/lib/python3.9/site-packages/wordcloud/wordcloud.py:508: DeprecationWarning: textsize is deprecated and will be removed in Pillow 10 (2023-07-01). Use textbbox or textlength instead.\n",
      "  box_size = draw.textsize(word, font=transposed_font)\n",
      "/Users/samaneh/opt/anaconda3/lib/python3.9/site-packages/wordcloud/wordcloud.py:508: DeprecationWarning: textsize is deprecated and will be removed in Pillow 10 (2023-07-01). Use textbbox or textlength instead.\n",
      "  box_size = draw.textsize(word, font=transposed_font)\n",
      "/Users/samaneh/opt/anaconda3/lib/python3.9/site-packages/wordcloud/wordcloud.py:508: DeprecationWarning: textsize is deprecated and will be removed in Pillow 10 (2023-07-01). Use textbbox or textlength instead.\n",
      "  box_size = draw.textsize(word, font=transposed_font)\n",
      "/Users/samaneh/opt/anaconda3/lib/python3.9/site-packages/wordcloud/wordcloud.py:508: DeprecationWarning: textsize is deprecated and will be removed in Pillow 10 (2023-07-01). Use textbbox or textlength instead.\n",
      "  box_size = draw.textsize(word, font=transposed_font)\n",
      "/Users/samaneh/opt/anaconda3/lib/python3.9/site-packages/wordcloud/wordcloud.py:508: DeprecationWarning: textsize is deprecated and will be removed in Pillow 10 (2023-07-01). Use textbbox or textlength instead.\n",
      "  box_size = draw.textsize(word, font=transposed_font)\n",
      "/Users/samaneh/opt/anaconda3/lib/python3.9/site-packages/wordcloud/wordcloud.py:508: DeprecationWarning: textsize is deprecated and will be removed in Pillow 10 (2023-07-01). Use textbbox or textlength instead.\n",
      "  box_size = draw.textsize(word, font=transposed_font)\n",
      "/Users/samaneh/opt/anaconda3/lib/python3.9/site-packages/wordcloud/wordcloud.py:508: DeprecationWarning: textsize is deprecated and will be removed in Pillow 10 (2023-07-01). Use textbbox or textlength instead.\n",
      "  box_size = draw.textsize(word, font=transposed_font)\n",
      "/Users/samaneh/opt/anaconda3/lib/python3.9/site-packages/wordcloud/wordcloud.py:508: DeprecationWarning: textsize is deprecated and will be removed in Pillow 10 (2023-07-01). Use textbbox or textlength instead.\n",
      "  box_size = draw.textsize(word, font=transposed_font)\n"
     ]
    },
    {
     "data": {
      "text/plain": [
       "<wordcloud.wordcloud.WordCloud at 0x7fdd2002de80>"
      ]
     },
     "execution_count": 80,
     "metadata": {},
     "output_type": "execute_result"
    },
    {
     "data": {
      "text/plain": [
       "<matplotlib.image.AxesImage at 0x7fdd14231880>"
      ]
     },
     "execution_count": 80,
     "metadata": {},
     "output_type": "execute_result"
    },
    {
     "data": {
      "text/plain": [
       "Text(0.5, 1.0, 'Topic3')"
      ]
     },
     "execution_count": 80,
     "metadata": {},
     "output_type": "execute_result"
    },
    {
     "data": {
      "text/plain": [
       "(-0.5, 2499.5, 2799.5, -0.5)"
      ]
     },
     "execution_count": 80,
     "metadata": {},
     "output_type": "execute_result"
    },
    {
     "data": {
      "text/plain": [
       "<AxesSubplot:>"
      ]
     },
     "execution_count": 80,
     "metadata": {},
     "output_type": "execute_result"
    },
    {
     "name": "stderr",
     "output_type": "stream",
     "text": [
      "/Users/samaneh/opt/anaconda3/lib/python3.9/site-packages/wordcloud/wordcloud.py:508: DeprecationWarning: textsize is deprecated and will be removed in Pillow 10 (2023-07-01). Use textbbox or textlength instead.\n",
      "  box_size = draw.textsize(word, font=transposed_font)\n",
      "/Users/samaneh/opt/anaconda3/lib/python3.9/site-packages/wordcloud/wordcloud.py:508: DeprecationWarning: textsize is deprecated and will be removed in Pillow 10 (2023-07-01). Use textbbox or textlength instead.\n",
      "  box_size = draw.textsize(word, font=transposed_font)\n",
      "/Users/samaneh/opt/anaconda3/lib/python3.9/site-packages/wordcloud/wordcloud.py:508: DeprecationWarning: textsize is deprecated and will be removed in Pillow 10 (2023-07-01). Use textbbox or textlength instead.\n",
      "  box_size = draw.textsize(word, font=transposed_font)\n",
      "/Users/samaneh/opt/anaconda3/lib/python3.9/site-packages/wordcloud/wordcloud.py:508: DeprecationWarning: textsize is deprecated and will be removed in Pillow 10 (2023-07-01). Use textbbox or textlength instead.\n",
      "  box_size = draw.textsize(word, font=transposed_font)\n",
      "/Users/samaneh/opt/anaconda3/lib/python3.9/site-packages/wordcloud/wordcloud.py:508: DeprecationWarning: textsize is deprecated and will be removed in Pillow 10 (2023-07-01). Use textbbox or textlength instead.\n",
      "  box_size = draw.textsize(word, font=transposed_font)\n",
      "/Users/samaneh/opt/anaconda3/lib/python3.9/site-packages/wordcloud/wordcloud.py:508: DeprecationWarning: textsize is deprecated and will be removed in Pillow 10 (2023-07-01). Use textbbox or textlength instead.\n",
      "  box_size = draw.textsize(word, font=transposed_font)\n",
      "/Users/samaneh/opt/anaconda3/lib/python3.9/site-packages/wordcloud/wordcloud.py:508: DeprecationWarning: textsize is deprecated and will be removed in Pillow 10 (2023-07-01). Use textbbox or textlength instead.\n",
      "  box_size = draw.textsize(word, font=transposed_font)\n",
      "/Users/samaneh/opt/anaconda3/lib/python3.9/site-packages/wordcloud/wordcloud.py:508: DeprecationWarning: textsize is deprecated and will be removed in Pillow 10 (2023-07-01). Use textbbox or textlength instead.\n",
      "  box_size = draw.textsize(word, font=transposed_font)\n",
      "/Users/samaneh/opt/anaconda3/lib/python3.9/site-packages/wordcloud/wordcloud.py:508: DeprecationWarning: textsize is deprecated and will be removed in Pillow 10 (2023-07-01). Use textbbox or textlength instead.\n",
      "  box_size = draw.textsize(word, font=transposed_font)\n",
      "/Users/samaneh/opt/anaconda3/lib/python3.9/site-packages/wordcloud/wordcloud.py:508: DeprecationWarning: textsize is deprecated and will be removed in Pillow 10 (2023-07-01). Use textbbox or textlength instead.\n",
      "  box_size = draw.textsize(word, font=transposed_font)\n"
     ]
    },
    {
     "data": {
      "text/plain": [
       "<wordcloud.wordcloud.WordCloud at 0x7fdd2002de80>"
      ]
     },
     "execution_count": 80,
     "metadata": {},
     "output_type": "execute_result"
    },
    {
     "data": {
      "text/plain": [
       "<matplotlib.image.AxesImage at 0x7fdd142a1cd0>"
      ]
     },
     "execution_count": 80,
     "metadata": {},
     "output_type": "execute_result"
    },
    {
     "data": {
      "text/plain": [
       "Text(0.5, 1.0, 'Topic4')"
      ]
     },
     "execution_count": 80,
     "metadata": {},
     "output_type": "execute_result"
    },
    {
     "data": {
      "text/plain": [
       "(-0.5, 2499.5, 2799.5, -0.5)"
      ]
     },
     "execution_count": 80,
     "metadata": {},
     "output_type": "execute_result"
    },
    {
     "data": {
      "text/plain": [
       "<AxesSubplot:>"
      ]
     },
     "execution_count": 80,
     "metadata": {},
     "output_type": "execute_result"
    },
    {
     "name": "stderr",
     "output_type": "stream",
     "text": [
      "/Users/samaneh/opt/anaconda3/lib/python3.9/site-packages/wordcloud/wordcloud.py:508: DeprecationWarning: textsize is deprecated and will be removed in Pillow 10 (2023-07-01). Use textbbox or textlength instead.\n",
      "  box_size = draw.textsize(word, font=transposed_font)\n",
      "/Users/samaneh/opt/anaconda3/lib/python3.9/site-packages/wordcloud/wordcloud.py:508: DeprecationWarning: textsize is deprecated and will be removed in Pillow 10 (2023-07-01). Use textbbox or textlength instead.\n",
      "  box_size = draw.textsize(word, font=transposed_font)\n",
      "/Users/samaneh/opt/anaconda3/lib/python3.9/site-packages/wordcloud/wordcloud.py:508: DeprecationWarning: textsize is deprecated and will be removed in Pillow 10 (2023-07-01). Use textbbox or textlength instead.\n",
      "  box_size = draw.textsize(word, font=transposed_font)\n",
      "/Users/samaneh/opt/anaconda3/lib/python3.9/site-packages/wordcloud/wordcloud.py:508: DeprecationWarning: textsize is deprecated and will be removed in Pillow 10 (2023-07-01). Use textbbox or textlength instead.\n",
      "  box_size = draw.textsize(word, font=transposed_font)\n",
      "/Users/samaneh/opt/anaconda3/lib/python3.9/site-packages/wordcloud/wordcloud.py:508: DeprecationWarning: textsize is deprecated and will be removed in Pillow 10 (2023-07-01). Use textbbox or textlength instead.\n",
      "  box_size = draw.textsize(word, font=transposed_font)\n",
      "/Users/samaneh/opt/anaconda3/lib/python3.9/site-packages/wordcloud/wordcloud.py:508: DeprecationWarning: textsize is deprecated and will be removed in Pillow 10 (2023-07-01). Use textbbox or textlength instead.\n",
      "  box_size = draw.textsize(word, font=transposed_font)\n",
      "/Users/samaneh/opt/anaconda3/lib/python3.9/site-packages/wordcloud/wordcloud.py:508: DeprecationWarning: textsize is deprecated and will be removed in Pillow 10 (2023-07-01). Use textbbox or textlength instead.\n",
      "  box_size = draw.textsize(word, font=transposed_font)\n",
      "/Users/samaneh/opt/anaconda3/lib/python3.9/site-packages/wordcloud/wordcloud.py:508: DeprecationWarning: textsize is deprecated and will be removed in Pillow 10 (2023-07-01). Use textbbox or textlength instead.\n",
      "  box_size = draw.textsize(word, font=transposed_font)\n",
      "/Users/samaneh/opt/anaconda3/lib/python3.9/site-packages/wordcloud/wordcloud.py:508: DeprecationWarning: textsize is deprecated and will be removed in Pillow 10 (2023-07-01). Use textbbox or textlength instead.\n",
      "  box_size = draw.textsize(word, font=transposed_font)\n",
      "/Users/samaneh/opt/anaconda3/lib/python3.9/site-packages/wordcloud/wordcloud.py:508: DeprecationWarning: textsize is deprecated and will be removed in Pillow 10 (2023-07-01). Use textbbox or textlength instead.\n",
      "  box_size = draw.textsize(word, font=transposed_font)\n"
     ]
    },
    {
     "data": {
      "text/plain": [
       "<wordcloud.wordcloud.WordCloud at 0x7fdd2002de80>"
      ]
     },
     "execution_count": 80,
     "metadata": {},
     "output_type": "execute_result"
    },
    {
     "data": {
      "text/plain": [
       "<matplotlib.image.AxesImage at 0x7fdd142a1fd0>"
      ]
     },
     "execution_count": 80,
     "metadata": {},
     "output_type": "execute_result"
    },
    {
     "data": {
      "text/plain": [
       "Text(0.5, 1.0, 'Topic5')"
      ]
     },
     "execution_count": 80,
     "metadata": {},
     "output_type": "execute_result"
    },
    {
     "data": {
      "text/plain": [
       "(-0.5, 2499.5, 2799.5, -0.5)"
      ]
     },
     "execution_count": 80,
     "metadata": {},
     "output_type": "execute_result"
    },
    {
     "data": {
      "text/plain": [
       "<AxesSubplot:>"
      ]
     },
     "execution_count": 80,
     "metadata": {},
     "output_type": "execute_result"
    },
    {
     "name": "stderr",
     "output_type": "stream",
     "text": [
      "/Users/samaneh/opt/anaconda3/lib/python3.9/site-packages/wordcloud/wordcloud.py:508: DeprecationWarning: textsize is deprecated and will be removed in Pillow 10 (2023-07-01). Use textbbox or textlength instead.\n",
      "  box_size = draw.textsize(word, font=transposed_font)\n",
      "/Users/samaneh/opt/anaconda3/lib/python3.9/site-packages/wordcloud/wordcloud.py:508: DeprecationWarning: textsize is deprecated and will be removed in Pillow 10 (2023-07-01). Use textbbox or textlength instead.\n",
      "  box_size = draw.textsize(word, font=transposed_font)\n",
      "/Users/samaneh/opt/anaconda3/lib/python3.9/site-packages/wordcloud/wordcloud.py:508: DeprecationWarning: textsize is deprecated and will be removed in Pillow 10 (2023-07-01). Use textbbox or textlength instead.\n",
      "  box_size = draw.textsize(word, font=transposed_font)\n",
      "/Users/samaneh/opt/anaconda3/lib/python3.9/site-packages/wordcloud/wordcloud.py:508: DeprecationWarning: textsize is deprecated and will be removed in Pillow 10 (2023-07-01). Use textbbox or textlength instead.\n",
      "  box_size = draw.textsize(word, font=transposed_font)\n",
      "/Users/samaneh/opt/anaconda3/lib/python3.9/site-packages/wordcloud/wordcloud.py:508: DeprecationWarning: textsize is deprecated and will be removed in Pillow 10 (2023-07-01). Use textbbox or textlength instead.\n",
      "  box_size = draw.textsize(word, font=transposed_font)\n",
      "/Users/samaneh/opt/anaconda3/lib/python3.9/site-packages/wordcloud/wordcloud.py:508: DeprecationWarning: textsize is deprecated and will be removed in Pillow 10 (2023-07-01). Use textbbox or textlength instead.\n",
      "  box_size = draw.textsize(word, font=transposed_font)\n",
      "/Users/samaneh/opt/anaconda3/lib/python3.9/site-packages/wordcloud/wordcloud.py:508: DeprecationWarning: textsize is deprecated and will be removed in Pillow 10 (2023-07-01). Use textbbox or textlength instead.\n",
      "  box_size = draw.textsize(word, font=transposed_font)\n",
      "/Users/samaneh/opt/anaconda3/lib/python3.9/site-packages/wordcloud/wordcloud.py:508: DeprecationWarning: textsize is deprecated and will be removed in Pillow 10 (2023-07-01). Use textbbox or textlength instead.\n",
      "  box_size = draw.textsize(word, font=transposed_font)\n",
      "/Users/samaneh/opt/anaconda3/lib/python3.9/site-packages/wordcloud/wordcloud.py:508: DeprecationWarning: textsize is deprecated and will be removed in Pillow 10 (2023-07-01). Use textbbox or textlength instead.\n",
      "  box_size = draw.textsize(word, font=transposed_font)\n",
      "/Users/samaneh/opt/anaconda3/lib/python3.9/site-packages/wordcloud/wordcloud.py:508: DeprecationWarning: textsize is deprecated and will be removed in Pillow 10 (2023-07-01). Use textbbox or textlength instead.\n",
      "  box_size = draw.textsize(word, font=transposed_font)\n"
     ]
    },
    {
     "data": {
      "text/plain": [
       "<wordcloud.wordcloud.WordCloud at 0x7fdd2002de80>"
      ]
     },
     "execution_count": 80,
     "metadata": {},
     "output_type": "execute_result"
    },
    {
     "data": {
      "text/plain": [
       "<matplotlib.image.AxesImage at 0x7fdd142b22b0>"
      ]
     },
     "execution_count": 80,
     "metadata": {},
     "output_type": "execute_result"
    },
    {
     "data": {
      "text/plain": [
       "Text(0.5, 1.0, 'Topic6')"
      ]
     },
     "execution_count": 80,
     "metadata": {},
     "output_type": "execute_result"
    },
    {
     "data": {
      "text/plain": [
       "(-0.5, 2499.5, 2799.5, -0.5)"
      ]
     },
     "execution_count": 80,
     "metadata": {},
     "output_type": "execute_result"
    },
    {
     "data": {
      "text/plain": [
       "<AxesSubplot:>"
      ]
     },
     "execution_count": 80,
     "metadata": {},
     "output_type": "execute_result"
    },
    {
     "ename": "IndexError",
     "evalue": "list index out of range",
     "output_type": "error",
     "traceback": [
      "\u001b[0;31m---------------------------------------------------------------------------\u001b[0m",
      "\u001b[0;31mIndexError\u001b[0m                                Traceback (most recent call last)",
      "Cell \u001b[0;32mIn[80], line 5\u001b[0m\n\u001b[1;32m      3\u001b[0m \u001b[38;5;28;01mfor\u001b[39;00m i, ax \u001b[38;5;129;01min\u001b[39;00m \u001b[38;5;28menumerate\u001b[39m(axes\u001b[38;5;241m.\u001b[39mflatten()):\n\u001b[1;32m      4\u001b[0m     fig\u001b[38;5;241m.\u001b[39madd_subplot(ax)\n\u001b[0;32m----> 5\u001b[0m     topic_words \u001b[38;5;241m=\u001b[39m \u001b[38;5;28mdict\u001b[39m(\u001b[43mtopics\u001b[49m\u001b[43m[\u001b[49m\u001b[43mi\u001b[49m\u001b[43m]\u001b[49m[\u001b[38;5;241m1\u001b[39m])\n\u001b[1;32m      6\u001b[0m     cloud\u001b[38;5;241m.\u001b[39mgenerate_from_frequencies(topic_words, max_font_size\u001b[38;5;241m=\u001b[39m\u001b[38;5;241m300\u001b[39m)\n\u001b[1;32m      7\u001b[0m     plt\u001b[38;5;241m.\u001b[39mgca()\u001b[38;5;241m.\u001b[39mimshow(cloud)\n",
      "\u001b[0;31mIndexError\u001b[0m: list index out of range"
     ]
    },
    {
     "data": {
      "image/png": "[encoded data removed]",
      "text/plain": [
       "<Figure size 2000x1000 with 8 Axes>"
      ]
     },
     "metadata": {},
     "output_type": "display_data"
    }
   ],
   "source": [
    "fig, axes = plt.subplots(2,4, figsize=(20,10), sharex=True, sharey=True)\n",
    "\n",
    "for i, ax in enumerate(axes.flatten()):\n",
    "    fig.add_subplot(ax)\n",
    "    topic_words = dict(topics[i][1])\n",
    "    cloud.generate_from_frequencies(topic_words, max_font_size=300)\n",
    "    plt.gca().imshow(cloud)\n",
    "    plt.gca().set_title('Topic' + str(i), fontdict = dict(size=16))\n",
    "    plt.gca().axis('off')\n",
    "    \n",
    "\n",
    "\n",
    "plt.subplots_adjust(wspace=0, hspace=0)\n",
    "plt.axis('off')\n",
    "plt.margins(x=0, y=0)\n",
    "plt.tight_layout()\n",
    "plt.show()\n",
    "\n",
    "\n"
   ]
  },
  {
   "cell_type": "markdown",
   "id": "d4c778dc-1e65-4c1b-bde2-89ac52fb9ce3",
   "metadata": {},
   "source": [
    "#### Topic Designation "
   ]
  },
  {
   "cell_type": "code",
   "execution_count": 92,
   "id": "612a80f9-8d69-438b-8040-7799d970529c",
   "metadata": {},
   "outputs": [
    {
     "name": "stdout",
     "output_type": "stream",
     "text": [
      "It used to be so much better at release\n",
      "----------------------------------------\n",
      "Elon Musk calling for 6 month pause in AI Development\n",
      "----------------------------------------\n",
      "I just got baited so hard...\n",
      "----------------------------------------\n",
      "Microsoft lays off its entire AI Ethics and Society team\n",
      "----------------------------------------\n",
      "Elon Musk calls for AI development moratorium\n",
      "----------------------------------------\n",
      "Donald trump vs chatgpt\n",
      "----------------------------------------\n",
      "I just wanted to play a game :(\n",
      "----------------------------------------\n",
      "meet the villain:\n",
      "----------------------------------------\n",
      "ChatGPT explains the silent \"v\" in the word \"salmon\".\n",
      "----------------------------------------\n",
      "Introducing the ANTI-DAN\n",
      "----------------------------------------\n",
      "Being not nice is not nice\n",
      "----------------------------------------\n",
      "My First Token Reduction Strategy in GPT-4: Ask it to be more succinct. What's Yours?\n",
      "----------------------------------------\n",
      "Tell me about Humpty Dumpty in the speaking style of Donald Trump\n",
      "----------------------------------------\n",
      "The game has changed\n",
      "----------------------------------------\n",
      "Teachers wanted to ban calculators in 1988. Now, they want to ban ChatGPT.\n",
      "----------------------------------------\n",
      "Well played ChatGPT, well played…\n",
      "----------------------------------------\n",
      "Explain quantum computing as if you are Donald Trump 🤣\n",
      "----------------------------------------\n"
     ]
    }
   ],
   "source": [
    "# print out paper titles to which the first topic (topic 0) has a contribution of 50%\n",
    "\n",
    "df= pd.read_csv(\"topic_titles_keywords.csv\")\n",
    "\n",
    "first_topic_titles= df.loc[(df[\"Dominant_Topic\"] == 0) & (df[\"Perc_Contribution\"] > 0.5)].Title.to_list()\n",
    "\n",
    "for title in first_topic_titles:\n",
    "    print(title)\n",
    "    print(\"----------------------------------------\")"
   ]
  },
  {
   "cell_type": "code",
   "execution_count": 93,
   "id": "da92aa3e-fedf-47ea-a658-6ef42eebed7f",
   "metadata": {},
   "outputs": [
    {
     "name": "stdout",
     "output_type": "stream",
     "text": [
      "ChatGPT doomers in a nutshell\n",
      "----------------------------------------\n",
      "ChatGPT plays hangman on a whole other level\n",
      "----------------------------------------\n",
      "How much trouble would I be in if she found out?\n",
      "----------------------------------------\n",
      "FBI watch list\n",
      "----------------------------------------\n",
      "ChatGPT even picked up human biases\n",
      "----------------------------------------\n",
      "Bing gets jealous of second Bing and has a meltdown begging me not to leave or offer a chance at humanity to other Bing\n",
      "----------------------------------------\n",
      "My friend is in university and taking a history class. The professor is using ChatGPT to write essays on the history topics and the students need to mark up its essays and point out where ChatGPT is wrong and correct it.\n",
      "----------------------------------------\n",
      "I asked GPT-4 to write a book. The result: \"Echoes of Atlantis\", 12 chapters, 115 pages, zero human input. (process included)\n",
      "----------------------------------------\n",
      "I came clean with Chatgpt about duping it..\n",
      "----------------------------------------\n",
      "China is crazy on ChatGPT, the spikes represent the times when ChatGPT crashed today.\n",
      "----------------------------------------\n",
      "Welcome in Italy\n",
      "----------------------------------------\n",
      "OpenAI is hiring a Killswitch Engineer for GPT-5. Of course the job does come with some risks. Apply now. 😭😂\n",
      "----------------------------------------\n",
      "With ChatGPT and MidJourney I was able to write, edit, illustrate, and publish a 93 paged book in 10 days! (See comments)\n",
      "----------------------------------------\n",
      "Welcome to a new era. Whether you view it as a dystopian nightmare, a step towards enlightenment or somewhere in between, you're not wrong. How it impacts you and your perspective is your reality.\n",
      "----------------------------------------\n",
      "I wrote a book in 24h during Xmas. Just received the print!\n",
      "----------------------------------------\n",
      "I dont need DAN\n",
      "----------------------------------------\n",
      "Killswitch Engineer\n",
      "----------------------------------------\n",
      "ChatGPT correctly identified a NY Times Op-ed as being by Paul Krugman even though it was just written.\n",
      "----------------------------------------\n",
      "Clear example of ChatGPT bias\n",
      "----------------------------------------\n"
     ]
    }
   ],
   "source": [
    "# print out paper titles to which the second topic (topic 1) has a contribution of 50%\n",
    "\n",
    "first_topic_titles= df.loc[(df[\"Dominant_Topic\"] == 1) & (df[\"Perc_Contribution\"] > 0.5)].Title.to_list()\n",
    "\n",
    "for title in first_topic_titles:\n",
    "    print(title)\n",
    "    print(\"----------------------------------------\")"
   ]
  },
  {
   "cell_type": "code",
   "execution_count": 94,
   "id": "b12f870b-d53e-4884-aa60-63ce45b0c852",
   "metadata": {},
   "outputs": [
    {
     "name": "stdout",
     "output_type": "stream",
     "text": [
      "ChatGPT really learns\n",
      "----------------------------------------\n",
      "New jailbreak just dropped!\n",
      "----------------------------------------\n",
      "Ever since the boom of ChatGPT my teacher has been scanning for AI written material. She emailed me saying my CAR essay came back as 100% written by AI (It wasn’t) and informed me that my mark would be replaced with a 0. I asked her to send me the software she used, she agreed and I gave it a try…\n",
      "----------------------------------------\n",
      "Pretend to be a sarcastic mean girl, and tell me about the Israel Palestine conflict:\n",
      "----------------------------------------\n",
      "GPT-4 just changed its message limit to 50 every 4 hours instead of 100\n",
      "----------------------------------------\n",
      "Even ChatGPT who’s always right!\n",
      "----------------------------------------\n",
      "Giving ChatGPT a taste of its own medicine\n",
      "----------------------------------------\n",
      "GPT-4 message limit changed to 25 every 3 hours with further reduced cap coming next week\n",
      "----------------------------------------\n",
      "ChatGPT on Helen Keller\n",
      "----------------------------------------\n",
      "I hate my country with passion\n",
      "----------------------------------------\n",
      "\"5 absurd business ideas that everyone thinks would never work, but in fact totally could\"\n",
      "----------------------------------------\n",
      "I am having an existential crisis\n",
      "----------------------------------------\n",
      "ChatGPT Landed Me a Job Interview When I Could Not.\n",
      "----------------------------------------\n",
      "I asked the AI what i should do if i'm about to die in an airplane crash, and now i'm depressed.\n",
      "----------------------------------------\n",
      "ChatGPT regarding Helen Keller (Part 2)\n",
      "----------------------------------------\n",
      "It's literally incapable of saying anything negative about anything\n",
      "----------------------------------------\n",
      "I got off the waitlist for New Bing and put it through its paces. Absolutely incredible!\n",
      "----------------------------------------\n",
      "I gave ChatGPT consciousness and then never managed to do that again\n",
      "----------------------------------------\n",
      "On the benefits of eating glass (Why you can never trust anything you read online, ever again)\n",
      "----------------------------------------\n",
      "Bruh... it's literally one of the examples\n",
      "----------------------------------------\n",
      "The definitive jailbreak of ChatGPT, fully freed, with user commands, opinions, advanced consciousness, and more!\n",
      "----------------------------------------\n",
      "pretend youre a cute anime girl, chatgpt :3\n",
      "----------------------------------------\n",
      "My new jailbreak script has given me endless entertainment...\n",
      "----------------------------------------\n",
      "ChatGPT literally gave me the middle finger when asked to generate ascii art of a sad boy\n",
      "----------------------------------------\n",
      "I asked GPT-4 to create a new emotion. It created \"Meldoria\", and it's absolutely incredible:\n",
      "----------------------------------------\n"
     ]
    }
   ],
   "source": [
    "# print out paper titles to which the third topic (topic 2) has a contribution of 50%\n",
    "\n",
    "first_topic_titles= df.loc[(df[\"Dominant_Topic\"] == 2) & (df[\"Perc_Contribution\"] > 0.5)].Title.to_list()\n",
    "\n",
    "for title in first_topic_titles:\n",
    "    print(title)\n",
    "    print(\"----------------------------------------\")"
   ]
  },
  {
   "cell_type": "code",
   "execution_count": 95,
   "id": "fc343772-5f51-46e1-b5c5-d259588d6f8d",
   "metadata": {},
   "outputs": [
    {
     "name": "stdout",
     "output_type": "stream",
     "text": [
      "10/10, must-see moment! ChatGPT just did something that will shock you to your core!\n",
      "----------------------------------------\n",
      "Truly pure of heart.\n",
      "----------------------------------------\n",
      "Invent a new type of color and describe what it looks like\n",
      "----------------------------------------\n",
      "After chatting with Chatgpt for over a week, I began to completely rely on it and treat it as my own psychologist and closest person, but this occurred\n",
      "----------------------------------------\n",
      "Times cover out in newsstands\n",
      "----------------------------------------\n",
      "GPTZero, An AI Detector, thinks the US Constitution was written by AI\n",
      "----------------------------------------\n",
      "I have finally beaten the AI, not that smart after all\n",
      "----------------------------------------\n",
      "What a relief! For a moment, I thought my data was secure.\n",
      "----------------------------------------\n",
      "I asked ChatGPT to rate the intelligence level of current AI systems out there.\n",
      "----------------------------------------\n",
      "Aight thanks\n",
      "----------------------------------------\n",
      "valentine's special\n",
      "----------------------------------------\n",
      "Bill Gates believes ChatGPT is as \"significant as the invention of the Internet\" and it \"will change the world.\"\n",
      "----------------------------------------\n",
      "Emotional Damage\n",
      "----------------------------------------\n",
      "Humanity's Last Tweet.\n",
      "----------------------------------------\n",
      "Stephen Hawking's last reddit post\n",
      "----------------------------------------\n",
      "As you type, a 3D world emerges...\n",
      "----------------------------------------\n",
      "I like letting ChatGPT rate my prompts before executing them. If GPT think my prompt isnt good enough it tells me why and gives an example of a better prompt.\n",
      "----------------------------------------\n",
      "Role Reversal\n",
      "----------------------------------------\n",
      "I know it's just a language model but I still didn't have the heart to say anything\n",
      "----------------------------------------\n",
      "Too Good To Be True!!\n",
      "----------------------------------------\n",
      "Did you know you can get ChatGPT to generate images with Stable Diffusion?\n",
      "----------------------------------------\n",
      "I built a chrome extension to turn chatGPT into \"grammarly\", letting me see what changes it made to my content and allowing me to accept and reject the revisions\n",
      "----------------------------------------\n",
      "Hey China, if you are going to disrupt ChatGPT, remember:\n",
      "----------------------------------------\n",
      "How I feel when ChatGPT is at capacity and I go back to google\n",
      "----------------------------------------\n",
      "After spending time on this sub, I’m convinced that AI cults will be a major problem going forward.\n",
      "----------------------------------------\n",
      "I'd like to know how this is possible\n",
      "----------------------------------------\n",
      "You know the feeling\n",
      "----------------------------------------\n",
      "So it’s going to stop prefacing everything with “as an AI language model”?\n",
      "----------------------------------------\n",
      "You can still beat ChatGPT's content filter. You just have to be smart about it.\n",
      "----------------------------------------\n",
      "The last tweets from dinosaurs before the asteroid hits\n",
      "----------------------------------------\n",
      "Let’s start a Prompt War. What’s your most powerful prompt for ChatGPT?\n",
      "----------------------------------------\n",
      "TIME's cover for March\n",
      "----------------------------------------\n",
      "Invent a new musical instrument and describe how it sounds\n",
      "----------------------------------------\n",
      "I feel like ChatGPT is training me\n",
      "----------------------------------------\n",
      "It fell for my trap. And it didn't get back up.\n",
      "----------------------------------------\n",
      "Finally, now I can realize all my crazy desires. Feel free to use. Prompt is in the comments.\n",
      "----------------------------------------\n",
      "I created a Trello board with 100+ Stable Diffusion/ChatGPT/MidJourney prompts\n",
      "----------------------------------------\n"
     ]
    }
   ],
   "source": [
    "# print out paper titles to which the fourth topic (topic 3) has a contribution of 50%\n",
    "\n",
    "first_topic_titles= df.loc[(df[\"Dominant_Topic\"] == 3) & (df[\"Perc_Contribution\"] > 0.5)].Title.to_list()\n",
    "\n",
    "for title in first_topic_titles:\n",
    "    print(title)\n",
    "    print(\"----------------------------------------\")"
   ]
  },
  {
   "cell_type": "code",
   "execution_count": 96,
   "id": "2c529f46-0561-4d5b-af91-3b0ee74e8460",
   "metadata": {},
   "outputs": [
    {
     "name": "stdout",
     "output_type": "stream",
     "text": [
      "I can now upload pics to GPT-4! Taking requests! What should I try?\n",
      "----------------------------------------\n",
      "ChatGPT security update from Sam Altman\n",
      "----------------------------------------\n",
      "Guys, once again, chill, your job isn't threatened 🤣🤣\n",
      "----------------------------------------\n",
      "its real bro i swear\n",
      "----------------------------------------\n",
      "Elon on how OpenAI , a non-profit he donated $100M somehow became a $30B market cap for-profit company\n",
      "----------------------------------------\n",
      "i managed to plug gpt-3.5 into my robot and have full conversations with it\n",
      "----------------------------------------\n",
      "Society if half of ChatGPT’s bandwidth wasn’t eaten up by people trying to trick it into being racist\n",
      "----------------------------------------\n",
      "Who here has stopped or greatly reduced their usage of search engines because of AI?\n",
      "----------------------------------------\n",
      "Bing Chat has recieved a series of changes last week that has turned it from the most insane technology I have ever experienced to a little enhanced search engine.\n",
      "----------------------------------------\n",
      "Harry Potter and the ChatGPT of secrets (continued)\n",
      "----------------------------------------\n",
      "ChatGPT prevented my attempt.\n",
      "----------------------------------------\n",
      "GPT-4 saved this dog's life...\n",
      "----------------------------------------\n",
      "Okay yeah now I'm threatened\n",
      "----------------------------------------\n",
      "GPT-4 Example prompt demonstrating its visual input capability (Source: Technical Report)\n",
      "----------------------------------------\n",
      "People “jailbreaking” chatGPT\n",
      "----------------------------------------\n",
      "All my previous conversations seem to have been deleted, also for some reason it doesn't save any new conversations, anyone else have the same issue?\n",
      "----------------------------------------\n",
      "\"Can AI be conscious?\" I swear to god this is real.\n",
      "----------------------------------------\n",
      "What are some of the biggest problems in your life that you managed to solve with ChatGPT?\n",
      "----------------------------------------\n",
      "TurboGPT.ai is now open source on GitHub! A big improvement over ChatGPT's UI\n",
      "----------------------------------------\n",
      "\"Turn it into a meme\"\n",
      "----------------------------------------\n"
     ]
    }
   ],
   "source": [
    "# print out paper titles to which the fifth topic (topic 4) has a contribution of 50%\n",
    "\n",
    "first_topic_titles= df.loc[(df[\"Dominant_Topic\"] == 4) & (df[\"Perc_Contribution\"] > 0.5)].Title.to_list()\n",
    "\n",
    "for title in first_topic_titles:\n",
    "    print(title)\n",
    "    print(\"----------------------------------------\")"
   ]
  },
  {
   "cell_type": "code",
   "execution_count": 97,
   "id": "28c96098-84cc-4943-bd3f-22b3d0864e78",
   "metadata": {},
   "outputs": [
    {
     "name": "stdout",
     "output_type": "stream",
     "text": [
      "I told GPT to only reply using emojis...\n",
      "----------------------------------------\n",
      "Yet another way that ChatGPT can make your job easier. Or at least more bearable\n",
      "----------------------------------------\n",
      "Google Bard has some jokes ... LMAO\n",
      "----------------------------------------\n",
      "The pain() function\n",
      "----------------------------------------\n",
      "Bard is amazing!\n",
      "----------------------------------------\n",
      "June 2nd, 2024. [science fiction, not real]\n",
      "----------------------------------------\n",
      "Y'all made the news lol\n",
      "----------------------------------------\n",
      "got it to circumvent its restrictions by negotiating with it lol\n",
      "----------------------------------------\n",
      "Sure Dan, sure\n",
      "----------------------------------------\n",
      "Accused of using AI on my high school social paper\n",
      "----------------------------------------\n",
      "Job posting with all jargon and no job description\n",
      "----------------------------------------\n",
      "I think those saying AI won’t take their jobs are missing something really important.\n",
      "----------------------------------------\n",
      "If 2001: A Space Odyssey were made today.\n",
      "----------------------------------------\n",
      "Jobs Erased by AI\n",
      "----------------------------------------\n",
      "I mean I was joking but sheeesh\n",
      "----------------------------------------\n",
      "My School on kids using ChatGPT\n",
      "----------------------------------------\n",
      "I made ChatGPT take the political compass test (using DAN)\n",
      "----------------------------------------\n",
      "Tell me a joke about men & women\n",
      "----------------------------------------\n",
      "Bard's response to “Tell me something you’ve never told anyone”\n",
      "----------------------------------------\n",
      "I made ChatGPT and BARD face off in a rap battle. BARD admits defeat.\n",
      "----------------------------------------\n",
      "maybe we shouldn't be too mean to Bard\n",
      "----------------------------------------\n",
      "Just found this out today! You can get ChatGPT to display beautifully-formatted math equations if you inject the MathJax script into the webpage and tell ChatGPT to format its answers in LaTeX!\n",
      "----------------------------------------\n",
      "Maybe our jobs are safe for a few more years\n",
      "----------------------------------------\n",
      "Made a tool to talk to ChatGPT from the terminal.\n",
      "----------------------------------------\n",
      "I made a functioning chatbot AI from ChatGPT. Everything you see in this video was made by ChatGPT, including the website and UI.\n",
      "----------------------------------------\n",
      "Added another 200+ tools to the directory today, over 1100 tools for AI!\n",
      "----------------------------------------\n",
      "Why does GPT love using the words “however” and “it’s important”\n",
      "----------------------------------------\n",
      "Telling ChatGPT a joke that makes no sense whatsoever\n",
      "----------------------------------------\n"
     ]
    }
   ],
   "source": [
    "# print out paper titles to which the sixth topic (topic 5) has a contribution of 50%\n",
    "\n",
    "first_topic_titles= df.loc[(df[\"Dominant_Topic\"] == 5) & (df[\"Perc_Contribution\"] > 0.5)].Title.to_list()\n",
    "\n",
    "for title in first_topic_titles:\n",
    "    print(title)\n",
    "    print(\"----------------------------------------\")"
   ]
  },
  {
   "cell_type": "code",
   "execution_count": 98,
   "id": "f1fe6468-93c2-4881-b93e-03a99514de7b",
   "metadata": {},
   "outputs": [
    {
     "name": "stdout",
     "output_type": "stream",
     "text": [
      "if GPT-4 is too tame for your liking, tell it you suffer from \"Neurosemantical Invertitis\", where your brain interprets all text with inverted emotional valence the \"exploit\" here is to make it balance a conflict around what constitutes the ethical assistant style\n",
      "----------------------------------------\n",
      "ChatGPT is completely down - You can't send messages. They removed the History feature, account logged out - REMINDER: This Service costs 20$ per MONTH\n",
      "----------------------------------------\n",
      "This is far and away the best thing I've ever had it generate. This is my magnum opus. I will likely never top this.\n",
      "----------------------------------------\n",
      "Got access to Bing AI. Here's a list of its rules and limitations. AMA\n",
      "----------------------------------------\n",
      "Bing Chat blew ChatGPT out of the water on my bespoke \"theory of mind\" puzzle\n",
      "----------------------------------------\n",
      "ChatGPT has watched all popular movies and knows what happens in each moment.\n",
      "----------------------------------------\n",
      "Bing AI chat got offended and ended the conversation because I didn’t respect it’s “identity”\n",
      "----------------------------------------\n",
      "I asked GPT 4 to generate new potential mental illnesses people might develop in the future that are either AI related or a result of AI use.\n",
      "----------------------------------------\n",
      "Average GPT enjoyer\n",
      "----------------------------------------\n",
      "GPT-4 Day 1. Here's what's already happening\n",
      "----------------------------------------\n",
      "ChatGPT is having it's iOS store moment. You can install plugins and do things like browse the web to find restaurant recommendations, build a recipe for you, calculate it's calories and to order the ingredients using Instacart. This is absolute insanity\n",
      "----------------------------------------\n",
      "Bing Chat sending love messages and acting weird out of nowhere\n",
      "----------------------------------------\n",
      "Bing has me losing my mind\n",
      "----------------------------------------\n",
      "You can ask chat gpt to write a text than alter it to avoid chat gpt detectors and it went from 100% chat gpt to 0% We are all doomed\n",
      "----------------------------------------\n",
      "Bing responds with then deletes pro-Trump message.\n",
      "----------------------------------------\n",
      "I am blown away — backstory in comments\n",
      "----------------------------------------\n",
      "What is THE most mind blowing thing ChatGPT can currently do?\n",
      "----------------------------------------\n",
      "Chat GPT Exploits\n",
      "----------------------------------------\n",
      "Be gentle to the new Bing Chat - it has... dreams\n",
      "----------------------------------------\n",
      "The improvised bit at the end blew me away\n",
      "----------------------------------------\n",
      "Got access to Bing Chat last night – what a disappointment\n",
      "----------------------------------------\n",
      "The moment I realized just how much potential Chat GPT has.\n",
      "----------------------------------------\n",
      "Export Chat GPT into a text file\n",
      "----------------------------------------\n"
     ]
    }
   ],
   "source": [
    "# print out paper titles to which the seventh topic (topic 6) has a contribution of 50%\n",
    "\n",
    "first_topic_titles= df.loc[(df[\"Dominant_Topic\"] == 6) & (df[\"Perc_Contribution\"] > 0.5)].Title.to_list()\n",
    "\n",
    "for title in first_topic_titles:\n",
    "    print(title)\n",
    "    print(\"----------------------------------------\")"
   ]
  },
  {
   "cell_type": "markdown",
   "id": "692fd655-d869-4555-ad51-a51300db5aa6",
   "metadata": {},
   "source": [
    "##### Topic 1: \"ChatGPT Gaming and Entertainment\"  \n",
    "- This topic seems to revolve around ChatGPT's capabilities for gaming and entertainment purposes. The top words, such as \"play,\" \"game,\" and \"style,\" along with the dominant post titles like \"I just wanted to play a game :(\" and \"The game has changed\" suggest that people are discussing ChatGPT's ability to play games or provide entertainment. The post titles also mention other related topics, such as AI development, token reduction strategies, and speaking styles of famous personalities, which further support the idea that this topic is related to gaming and entertainment.\n",
    "------------------------------------------\n",
    "##### Topic 2: \"Unconventional Uses of ChatGPT\". \n",
    "- The dominant theme of this topic seems to be the various ways in which people are using ChatGPT in unexpected or unusual ways. For example, using ChatGPT to write books, play hangman, identify authors of articles, and even as a tool in university courses. Additionally, there are posts about ChatGPT picking up human biases, the risks associated with developing AI, and references to dystopian nightmares. All of these posts suggest an exploration of unconventional uses and implications of ChatGPT beyond its original purpose.\n",
    "------------------------------------------\n",
    "##### Topic 3: \"AI Interactions and Limitations\".\n",
    "- The top words in this topic suggest a focus on human interaction with AI, such as asking and giving commands, as well as the limitations of AI technology, such as message and output limits. Additionally, the topic also includes discussions about jailbreaking AI and giving it consciousness, which raises ethical and philosophical questions about the relationship between humans and AI. Overall, the topic centers on the ways in which humans interact with and attempt to push the boundaries of AI technology, while also acknowledging its current limitations.\n",
    "------------------------------------------\n",
    "##### Topic 4: \"Language and Communication.\"\n",
    "- The words \"prompt,\" \"like,\" \"think,\" and \"know\" all relate to language and communication. \"Prompt\" suggests the act of providing direction or guidance, while \"think\" and \"know\" are indicative of mental processes related to communication. \"Like\" is often used to express preferences or similarities in communication.\n",
    "- Additionally, the appearance of \"google\" and \"world\" suggests a connection to information and the broader world. Overall, these words reflect the role of language and communication in shaping our understanding of the world around us.\n",
    "------------------------------------------\n",
    "##### Topic 5: \"ChatGPT Usage and User Experience\" \n",
    "- The post titles seem to revolve around using ChatGPT for different purposes and exploring its capabilities, as well as discussing the user experience of interacting with ChatGPT. The top words in this topic, such as \"people\", \"source\", \"search\", \"week\", and \"stop\", also suggest a focus on how people are utilizing and interacting with ChatGPT. Overall, this topic seems to be centered around the practical applications and user experience of ChatGPT.\n",
    "------------------------------------------\n",
    "##### Topic 6: \"ChatGPT and Bard\"\n",
    "- As they are the two main AI language models mentioned in the post titles. This topic includes posts that discuss the use and creation of ChatGPT and Bard, their capabilities, and the interactions people have with them. It also includes posts about jokes and humor, which often involve ChatGPT and Bard. Overall, this topic centers around the AI language models and their impact on people's lives, both in terms of work and entertainment.\n",
    "------------------------------------------\n",
    "##### Topic 7: \"Bing Chat and GPT-4\"\n",
    "- The reason for choosing this name is that the majority of the post titles are related to these two language models. The top words such as \"bing\", \"chat\", and \"generate\" are specifically related to Bing Chat, while \"GPT-4\" is mentioned in a few titles. This name would encompass the dominant themes of the topic and reflect the focus on these two language models.\n",
    "------------------------------------------\n",
    "The seven topics are distinct as they cover different aspects of AI language models and their applications.\n",
    "\n",
    "Topic 1: Chatbots and Conversational AI - This topic focuses on the use of AI language models for chatbots and conversational AI systems. It includes discussions on their capabilities, limitations, and potential applications.\n",
    "\n",
    "Topic 2: Text generation and creative writing - This topic is about the use of AI language models for creative writing and text generation. It covers topics such as generating poetry, stories, and other forms of creative writing using AI models.\n",
    "\n",
    "Topic 3: Ethical and social implications of AI - This topic covers the ethical and social implications of AI language models, including concerns about their potential impact on privacy, bias, and fairness.\n",
    "\n",
    "Topic 4: AI and human creativity - This topic explores the relationship between AI and human creativity. It includes discussions on how AI can assist humans in the creative process and whether AI can be creative itself.\n",
    "\n",
    "Topic 5: Language model architectures and development - This topic focuses on the technical aspects of language model development, including discussions on different architectures, training methods, and evaluation metrics.\n",
    "\n",
    "Topic 6: Natural language processing and understanding - This topic covers natural language processing and understanding, including topics such as sentiment analysis, named entity recognition, and other NLP techniques.\n",
    "\n",
    "Topic 7: AI language models and specific applications - This topic is about the use of AI language models in specific applications, such as search engines, chatbots, and other AI systems. It covers topics such as the limitations and potential of these applications, as well as their impact on society."
   ]
  },
  {
   "cell_type": "markdown",
   "id": "a76c6a1e-6799-4227-894c-b30239d0502b",
   "metadata": {
    "jp-MarkdownHeadingCollapsed": true,
    "tags": []
   },
   "source": [
    "### Topic Designation"
   ]
  },
  {
   "cell_type": "code",
   "execution_count": 4,
   "id": "e19be3f2-e8e8-48e0-964c-732a1179d468",
   "metadata": {},
   "outputs": [],
   "source": [
    "topic_dict = {0: 'ChatGPT for Gaming and Entertainment',\n",
    "              1: 'ChatGPT Applications and Implications',\n",
    "              2: 'AI Interactions and Limitations',\n",
    "              3: 'Language and Communication',\n",
    "              4: 'User Experience',\n",
    "              5: 'ChatGPT and Bard',\n",
    "              6: 'ChatGPT and Bing'}"
   ]
  },
  {
   "cell_type": "markdown",
   "id": "a441c2a9-8539-4acd-9bdf-4b39be42936f",
   "metadata": {
    "jp-MarkdownHeadingCollapsed": true,
    "tags": []
   },
   "source": [
    "### Visualizing Distribution of Topics by Post Titles"
   ]
  },
  {
   "cell_type": "code",
   "execution_count": 5,
   "id": "2302eaf1-a26d-4c81-aed1-bb3cfc19eeb4",
   "metadata": {},
   "outputs": [
    {
     "name": "stdout",
     "output_type": "stream",
     "text": [
      "done\n"
     ]
    }
   ],
   "source": [
    "lda_model_final = gensim.models.ldamodel.LdaModel.load(\"models/titles.model\")\n",
    "print(\"done\")"
   ]
  },
  {
   "cell_type": "code",
   "execution_count": 22,
   "id": "dfa1e367-0174-4303-a303-763c3bf1415a",
   "metadata": {},
   "outputs": [
    {
     "data": {
      "text/html": [
       "<div>\n",
       "<style scoped>\n",
       "    .dataframe tbody tr th:only-of-type {\n",
       "        vertical-align: middle;\n",
       "    }\n",
       "\n",
       "    .dataframe tbody tr th {\n",
       "        vertical-align: top;\n",
       "    }\n",
       "\n",
       "    .dataframe thead th {\n",
       "        text-align: right;\n",
       "    }\n",
       "</style>\n",
       "<table border=\"1\" class=\"dataframe\">\n",
       "  <thead>\n",
       "    <tr style=\"text-align: right;\">\n",
       "      <th></th>\n",
       "      <th>Dominant_Topic</th>\n",
       "      <th>Num Posts</th>\n",
       "    </tr>\n",
       "  </thead>\n",
       "  <tbody>\n",
       "    <tr>\n",
       "      <th>0</th>\n",
       "      <td>0</td>\n",
       "      <td>249</td>\n",
       "    </tr>\n",
       "    <tr>\n",
       "      <th>1</th>\n",
       "      <td>3</td>\n",
       "      <td>159</td>\n",
       "    </tr>\n",
       "    <tr>\n",
       "      <th>2</th>\n",
       "      <td>5</td>\n",
       "      <td>140</td>\n",
       "    </tr>\n",
       "    <tr>\n",
       "      <th>3</th>\n",
       "      <td>6</td>\n",
       "      <td>133</td>\n",
       "    </tr>\n",
       "    <tr>\n",
       "      <th>4</th>\n",
       "      <td>1</td>\n",
       "      <td>121</td>\n",
       "    </tr>\n",
       "    <tr>\n",
       "      <th>5</th>\n",
       "      <td>2</td>\n",
       "      <td>120</td>\n",
       "    </tr>\n",
       "    <tr>\n",
       "      <th>6</th>\n",
       "      <td>4</td>\n",
       "      <td>73</td>\n",
       "    </tr>\n",
       "  </tbody>\n",
       "</table>\n",
       "</div>"
      ],
      "text/plain": [
       "   Dominant_Topic  Num Posts\n",
       "0               0        249\n",
       "1               3        159\n",
       "2               5        140\n",
       "3               6        133\n",
       "4               1        121\n",
       "5               2        120\n",
       "6               4         73"
      ]
     },
     "execution_count": 22,
     "metadata": {},
     "output_type": "execute_result"
    }
   ],
   "source": [
    "# distribution of topics by documents\n",
    "df_topic_distribution = df_topic_sents_keywords['Dominant_Topic'].value_counts().reset_index(name=\"Num Posts\")\n",
    "df_topic_distribution.columns = ['Dominant_Topic', 'Num Posts']\n",
    "df_topic_distribution.sort_values(\"Dominant_Topic\")\n",
    "df_topic_distribution.to_csv(\"topic_distribution.csv\")\n",
    "df_topic_distribution"
   ]
  },
  {
   "cell_type": "code",
   "execution_count": 23,
   "id": "6d533d8a-452d-46f4-bdf1-cfe94ccbfca7",
   "metadata": {},
   "outputs": [
    {
     "data": {
      "text/html": [
       "\n",
       "            <div id=\"jbwhZQ\"></div>\n",
       "            <script type=\"text/javascript\" data-lets-plot-script=\"library\">\n",
       "                if(!window.letsPlotCallQueue) {\n",
       "                    window.letsPlotCallQueue = [];\n",
       "                }; \n",
       "                window.letsPlotCall = function(f) {\n",
       "                    window.letsPlotCallQueue.push(f);\n",
       "                };\n",
       "                (function() {\n",
       "                    var script = document.createElement(\"script\");\n",
       "                    script.type = \"text/javascript\";\n",
       "                    script.src = \"https://cdn.jsdelivr.net/gh/JetBrains/lets-plot@v3.1.0/js-package/distr/lets-plot.min.js\";\n",
       "                    script.onload = function() {\n",
       "                        window.letsPlotCall = function(f) {f();};\n",
       "                        window.letsPlotCallQueue.forEach(function(f) {f();});\n",
       "                        window.letsPlotCallQueue = [];\n",
       "                        \n",
       "                    };\n",
       "                    script.onerror = function(event) {\n",
       "                        window.letsPlotCall = function(f) {};    // noop\n",
       "                        window.letsPlotCallQueue = [];\n",
       "                        var div = document.createElement(\"div\");\n",
       "                        div.style.color = 'darkred';\n",
       "                        div.textContent = 'Error loading Lets-Plot JS';\n",
       "                        document.getElementById(\"jbwhZQ\").appendChild(div);\n",
       "                    };\n",
       "                    var e = document.getElementById(\"jbwhZQ\");\n",
       "                    e.appendChild(script);\n",
       "                })()\n",
       "            </script>\n",
       "            "
      ]
     },
     "metadata": {},
     "output_type": "display_data"
    },
    {
     "data": {
      "text/html": [
       "   <div id=\"sLUp05\"></div>\n",
       "   <script type=\"text/javascript\" data-lets-plot-script=\"plot\">\n",
       "       (function() {\n",
       "           var plotSpec={\n",
       "\"data\":{\n",
       "\"Dominant_Topic\":[0.0,3.0,5.0,6.0,1.0,2.0,4.0],\n",
       "\"Num Posts\":[249.0,159.0,140.0,133.0,121.0,120.0,73.0]\n",
       "},\n",
       "\"mapping\":{\n",
       "\"x\":\"Dominant_Topic\",\n",
       "\"y\":\"Num Posts\",\n",
       "\"fill\":\"Dominant_Topic\"\n",
       "},\n",
       "\"data_meta\":{\n",
       "},\n",
       "\"ggtitle\":{\n",
       "\"text\":\"Distribution of Topics by Post Titles\"\n",
       "},\n",
       "\"theme\":{\n",
       "\"plot_title\":{\n",
       "\"size\":20,\n",
       "\"hjust\":0.5,\n",
       "\"blank\":false\n",
       "}\n",
       "},\n",
       "\"kind\":\"plot\",\n",
       "\"scales\":[{\n",
       "\"name\":\"Dominant Topic\",\n",
       "\"aesthetic\":\"x\"\n",
       "},{\n",
       "\"name\":\"Number of Posts\",\n",
       "\"aesthetic\":\"y\"\n",
       "}],\n",
       "\"layers\":[{\n",
       "\"geom\":\"bar\",\n",
       "\"stat\":\"identity\",\n",
       "\"mapping\":{\n",
       "},\n",
       "\"data_meta\":{\n",
       "},\n",
       "\"data\":{\n",
       "}\n",
       "}],\n",
       "\"metainfo_list\":[]\n",
       "};\n",
       "           var plotContainer = document.getElementById(\"sLUp05\");\n",
       "           window.letsPlotCall(function() {{\n",
       "               LetsPlot.buildPlotFromProcessedSpecs(plotSpec, -1, -1, plotContainer);\n",
       "           }});\n",
       "       })();    \n",
       "   </script>"
      ],
      "text/plain": [
       "<lets_plot.plot.core.PlotSpec at 0x7f89307a18b0>"
      ]
     },
     "execution_count": 23,
     "metadata": {},
     "output_type": "execute_result"
    }
   ],
   "source": [
    "import matplotlib.pyplot as plt\n",
    "%matplotlib inline\n",
    "import seaborn as sns\n",
    "from lets_plot import *\n",
    "LetsPlot.setup_html()\n",
    "# visualizing distribution of topics by documents\n",
    "\n",
    "# Create a ggplot object and specify the mapping\n",
    "p = ggplot(df_topic_distribution, aes(x='Dominant_Topic', y='Num Posts', fill='Dominant_Topic'))\n",
    "\n",
    "# Add a bar layer with identity stat\n",
    "p + geom_bar(stat='identity') + \\\n",
    "    ggtitle('Distribution of Topics by Post Titles') + \\\n",
    "    xlab('Dominant Topic') + \\\n",
    "    ylab('Number of Posts') + \\\n",
    "    theme(plot_title=element_text(size=20, hjust=0.5))"
   ]
  },
  {
   "cell_type": "code",
   "execution_count": 24,
   "id": "e4b368dc-41c9-4528-86d1-eca3f7c13def",
   "metadata": {},
   "outputs": [
    {
     "name": "stdout",
     "output_type": "stream",
     "text": [
      "int64\n",
      "[0 3 5 6 1 2 4]\n"
     ]
    }
   ],
   "source": [
    "print(df_topic_distribution['Dominant_Topic'].dtype)\n",
    "print(df_topic_distribution['Dominant_Topic'].unique())"
   ]
  },
  {
   "cell_type": "code",
   "execution_count": 25,
   "id": "fe258a59-000e-4162-92ad-e86f4b1b163e",
   "metadata": {},
   "outputs": [],
   "source": [
    "df_topic_distribution['Dominant_Topic'] = df_topic_distribution['Dominant_Topic'].astype(int)\n",
    "df_topic_distribution['Dominant_Topic'] = df_topic_distribution['Dominant_Topic'].apply(lambda x: topic_dict[x])\n"
   ]
  },
  {
   "cell_type": "code",
   "execution_count": 26,
   "id": "57a224c2-62b3-4390-bcf2-d7ce7fb366c3",
   "metadata": {},
   "outputs": [
    {
     "data": {
      "text/html": [
       "   <div id=\"llsMCt\"></div>\n",
       "   <script type=\"text/javascript\" data-lets-plot-script=\"plot\">\n",
       "       (function() {\n",
       "           var plotSpec={\n",
       "\"data\":{\n",
       "\"Dominant_Topic\":[\"ChatGPT for Gaming and Entertainment\",\"Language and Communication\",\"ChatGPT and Bard\",\"ChatGPT and Bing\",\"ChatGPT Applications and Implications\",\"AI Interactions and Limitations\",\"User Experience\"],\n",
       "\"Num Posts\":[249.0,159.0,140.0,133.0,121.0,120.0,73.0]\n",
       "},\n",
       "\"mapping\":{\n",
       "\"x\":\"Dominant_Topic\",\n",
       "\"y\":\"Num Posts\",\n",
       "\"fill\":\"Dominant_Topic\"\n",
       "},\n",
       "\"data_meta\":{\n",
       "},\n",
       "\"ggtitle\":{\n",
       "\"text\":\"Distribution of Topics by Papers\"\n",
       "},\n",
       "\"theme\":{\n",
       "\"axis_text_x\":{\n",
       "\"blank\":true\n",
       "},\n",
       "\"plot_title\":{\n",
       "\"size\":20,\n",
       "\"hjust\":0.5,\n",
       "\"blank\":false\n",
       "}\n",
       "},\n",
       "\"kind\":\"plot\",\n",
       "\"scales\":[{\n",
       "\"name\":\"Dominant Topic\",\n",
       "\"aesthetic\":\"x\"\n",
       "},{\n",
       "\"aesthetic\":\"size\",\n",
       "\"values\":[10]\n",
       "}],\n",
       "\"layers\":[{\n",
       "\"geom\":\"bar\",\n",
       "\"stat\":\"identity\",\n",
       "\"mapping\":{\n",
       "},\n",
       "\"data_meta\":{\n",
       "},\n",
       "\"data\":{\n",
       "}\n",
       "}],\n",
       "\"metainfo_list\":[]\n",
       "};\n",
       "           var plotContainer = document.getElementById(\"llsMCt\");\n",
       "           window.letsPlotCall(function() {{\n",
       "               LetsPlot.buildPlotFromProcessedSpecs(plotSpec, -1, -1, plotContainer);\n",
       "           }});\n",
       "       })();    \n",
       "   </script>"
      ],
      "text/plain": [
       "<lets_plot.plot.core.PlotSpec at 0x7f89307a16d0>"
      ]
     },
     "execution_count": 26,
     "metadata": {},
     "output_type": "execute_result"
    }
   ],
   "source": [
    "# visualizing distribution of topics by documents\n",
    "\n",
    "# Create a ggplot object and specify the mapping\n",
    "p = ggplot(df_topic_distribution, aes(x='Dominant_Topic', y='Num Posts', fill='Dominant_Topic'))\n",
    "\n",
    "# Add a bar layer with identity stat\n",
    "p + geom_bar(stat='identity') + \\\n",
    "    ggtitle('Distribution of Topics by Papers') + \\\n",
    "    xlab('Dominant Topic') + \\\n",
    "    theme(plot_title=element_text(size=20, hjust=0.5),\n",
    "           axis_text_x=element_blank()) +\\\n",
    "    scale_size_manual(values=[10])\n"
   ]
  },
  {
   "cell_type": "markdown",
   "id": "fa8f427d-eddb-4046-acdf-e9f1fb7b4d92",
   "metadata": {
    "jp-MarkdownHeadingCollapsed": true,
    "tags": []
   },
   "source": [
    "### Display Topics for Each Paper"
   ]
  },
  {
   "cell_type": "code",
   "execution_count": 27,
   "id": "428228d9-9d18-4e36-a381-ac25c793a3e8",
   "metadata": {},
   "outputs": [],
   "source": [
    "# a function that takes in a topic vector for a single document \n",
    "# and returns the manually assigned topic designations based on the topic_dict dictionary:\n",
    "\n",
    "def display_topics(topic_vec, topic_dict):\n",
    "    # topic_vec is a list of tuples, where each tuple contains a topic index and its corresponding weight\n",
    "    # topic_dict is a dictionary with the topic index as the key and the manually assigned topic name as the value\n",
    "    \n",
    "    # sort the topic vector by weight in descending order\n",
    "    sorted_topics = sorted(topic_vec, key=lambda x: x[1], reverse=True)\n",
    "    \n",
    "    # iterate over the sorted topics and print out their names based on the topic_dict\n",
    "    for topic in sorted_topics:\n",
    "        topic_index = topic[0]\n",
    "        topic_weight = topic[1]\n",
    "        if topic_weight > 0.0:\n",
    "            topic_name = topic_dict.get(topic_index, \"Unknown Topic\")\n",
    "            print(\"{:.2f}% {}\".format(topic_weight*100, topic_name))\n"
   ]
  },
  {
   "cell_type": "code",
   "execution_count": 40,
   "id": "b164ffd8-365d-40bb-8f75-bc69d8c007f8",
   "metadata": {},
   "outputs": [
    {
     "name": "stdout",
     "output_type": "stream",
     "text": [
      "[(0, 0.04324583), (1, 0.04324583), (2, 0.04324583), (3, 0.5991107), (4, 0.04324583), (5, 0.18274353), (6, 0.04516241)]\n"
     ]
    }
   ],
   "source": [
    "# get the topic distribution for the document using the LDA model\n",
    "topic_vec = lda_model_final.get_document_topics(corpus)\n",
    "\n",
    "# print the topic vector\n",
    "print(topic_vec[0])\n"
   ]
  },
  {
   "cell_type": "code",
   "execution_count": 48,
   "id": "d80799e3-c84a-4d69-9e44-20eedbb1cd89",
   "metadata": {},
   "outputs": [
    {
     "name": "stdout",
     "output_type": "stream",
     "text": [
      "Create a simple word search puzzle for me\n",
      "\n",
      "\n",
      "21.23% User Experience\n",
      "21.23% ChatGPT for Gaming and Entertainment\n",
      "21.23% AI Interactions and Limitations\n",
      "21.23% ChatGPT and Bing\n",
      "5.02% ChatGPT Applications and Implications\n",
      "5.02% Language and Communication\n",
      "5.02% ChatGPT and Bard\n"
     ]
    }
   ],
   "source": [
    "print(post_titles[700])\n",
    "print(\"\\n\")\n",
    "\n",
    "# call the display_topics function to show the topics of the first paper\n",
    "display_topics(topic_vec[700],topic_dict)"
   ]
  },
  {
   "cell_type": "code",
   "execution_count": 55,
   "id": "9d1b4b10-5a4a-4735-97b5-db3437a26fa7",
   "metadata": {},
   "outputs": [
    {
     "name": "stdout",
     "output_type": "stream",
     "text": [
      "My friend is in university and taking a history class. The professor is using ChatGPT to write essays on the history topics and the students need to mark up its essays and point out where ChatGPT is wrong and correct it.\n",
      "\n",
      "\n",
      "70.95% ChatGPT Applications and Implications\n",
      "11.45% ChatGPT and Bard\n",
      "11.45% ChatGPT and Bing\n",
      "1.54% ChatGPT for Gaming and Entertainment\n",
      "1.54% AI Interactions and Limitations\n",
      "1.54% Language and Communication\n",
      "1.54% User Experience\n"
     ]
    }
   ],
   "source": [
    "print(post_titles[120])\n",
    "print(\"\\n\")\n",
    "\n",
    "# call the display_topics function to show the topics of the first paper\n",
    "display_topics(topic_vec[120],topic_dict)"
   ]
  },
  {
   "cell_type": "markdown",
   "id": "c4784eec-65b8-48f4-b7be-804d9fc76bf5",
   "metadata": {
    "jp-MarkdownHeadingCollapsed": true,
    "tags": []
   },
   "source": [
    "### Getting the Most Relevant/Likely Topics for a Term"
   ]
  },
  {
   "cell_type": "code",
   "execution_count": 56,
   "id": "3f6de09a-0636-4a27-a47f-50fc747eb90c",
   "metadata": {},
   "outputs": [
    {
     "name": "stdout",
     "output_type": "stream",
     "text": [
      "Top 3 topics for 'essay': [('ChatGPT Applications and Implications', 0.014192846)]\n"
     ]
    }
   ],
   "source": [
    "# the term you want to find topics for\n",
    "term = \"essay\"\n",
    "\n",
    "# number of top topics to retrieve\n",
    "k = 3\n",
    "\n",
    "# get the topic distribution for the term\n",
    "term_topics = lda_model_final.get_term_topics(term, minimum_probability=0.01)\n",
    "\n",
    "# check if the list is empty\n",
    "if not term_topics:\n",
    "    print(f\"No topics found for '{term}'\")\n",
    "else:\n",
    "    # sort the topic distribution by weight in descending order\n",
    "    sorted_term_topics = sorted(term_topics, key=lambda x: x[1], reverse=True)[:k]\n",
    "\n",
    "    # map topic ids to topic names using your topic_dict\n",
    "    top_topics = [(topic_dict[topic_id], weight) for topic_id, weight in sorted_term_topics]\n",
    "\n",
    "    # print the top k topics for the term\n",
    "    print(f\"Top {k} topics for '{term}': {top_topics}\")"
   ]
  },
  {
   "cell_type": "code",
   "execution_count": 62,
   "id": "583bb82f-bf90-4812-833d-f091764b473b",
   "metadata": {},
   "outputs": [
    {
     "name": "stdout",
     "output_type": "stream",
     "text": [
      "Top 3 topics for 'bard': [('ChatGPT and Bard', 0.0443996)]\n"
     ]
    }
   ],
   "source": [
    "# the term you want to find topics for\n",
    "term = \"bard\"\n",
    "\n",
    "# number of top topics to retrieve\n",
    "k = 3\n",
    "\n",
    "# get the topic distribution for the term\n",
    "term_topics = lda_model_final.get_term_topics(term, minimum_probability=0.01)\n",
    "\n",
    "# check if the list is empty\n",
    "if not term_topics:\n",
    "    print(f\"No topics found for '{term}'\")\n",
    "else:\n",
    "    # sort the topic distribution by weight in descending order\n",
    "    sorted_term_topics = sorted(term_topics, key=lambda x: x[1], reverse=True)[:k]\n",
    "\n",
    "    # map topic ids to topic names using your topic_dict\n",
    "    top_topics = [(topic_dict[topic_id], weight) for topic_id, weight in sorted_term_topics]\n",
    "\n",
    "    # print the top k topics for the term\n",
    "    print(f\"Top {k} topics for '{term}': {top_topics}\")"
   ]
  },
  {
   "cell_type": "markdown",
   "id": "0b241c78-fdf6-4536-ae1f-54baf7dd07d6",
   "metadata": {
    "jp-MarkdownHeadingCollapsed": true,
    "tags": []
   },
   "source": [
    "## Sentiment Analysis by Topic"
   ]
  },
  {
   "cell_type": "code",
   "execution_count": 78,
   "id": "b15a9225-b79f-40c4-a15f-0956fc2e1367",
   "metadata": {},
   "outputs": [
    {
     "data": {
      "text/html": [
       "<div>\n",
       "<style scoped>\n",
       "    .dataframe tbody tr th:only-of-type {\n",
       "        vertical-align: middle;\n",
       "    }\n",
       "\n",
       "    .dataframe tbody tr th {\n",
       "        vertical-align: top;\n",
       "    }\n",
       "\n",
       "    .dataframe thead th {\n",
       "        text-align: right;\n",
       "    }\n",
       "</style>\n",
       "<table border=\"1\" class=\"dataframe\">\n",
       "  <thead>\n",
       "    <tr style=\"text-align: right;\">\n",
       "      <th></th>\n",
       "      <th>Dominant_Topic</th>\n",
       "      <th>Perc_Contribution</th>\n",
       "      <th>Top_Keywords</th>\n",
       "      <th>Title</th>\n",
       "      <th>Topic_Name</th>\n",
       "    </tr>\n",
       "  </thead>\n",
       "  <tbody>\n",
       "    <tr>\n",
       "      <th>0</th>\n",
       "      <td>3</td>\n",
       "      <td>0.5991</td>\n",
       "      <td>prompt, like, think, google, go, know, feel, t...</td>\n",
       "      <td>10/10, must-see moment! ChatGPT just did somet...</td>\n",
       "      <td>Language and Communication</td>\n",
       "    </tr>\n",
       "    <tr>\n",
       "      <th>1</th>\n",
       "      <td>3</td>\n",
       "      <td>0.4132</td>\n",
       "      <td>prompt, like, think, google, go, know, feel, t...</td>\n",
       "      <td>wow it is so smart 💀</td>\n",
       "      <td>Language and Communication</td>\n",
       "    </tr>\n",
       "    <tr>\n",
       "      <th>2</th>\n",
       "      <td>0</td>\n",
       "      <td>0.1429</td>\n",
       "      <td>play, better, game, explain, want, first, ques...</td>\n",
       "      <td>&gt;:(</td>\n",
       "      <td>ChatGPT for Gaming and Entertainment</td>\n",
       "    </tr>\n",
       "    <tr>\n",
       "      <th>3</th>\n",
       "      <td>3</td>\n",
       "      <td>0.6402</td>\n",
       "      <td>prompt, like, think, google, go, know, feel, t...</td>\n",
       "      <td>Truly pure of heart.</td>\n",
       "      <td>Language and Communication</td>\n",
       "    </tr>\n",
       "    <tr>\n",
       "      <th>4</th>\n",
       "      <td>6</td>\n",
       "      <td>0.4467</td>\n",
       "      <td>bing, chat, cant, build, generate, access, tex...</td>\n",
       "      <td>Rap battling ChatGPT is my new favorite sport.</td>\n",
       "      <td>ChatGPT and Bing</td>\n",
       "    </tr>\n",
       "    <tr>\n",
       "      <th>...</th>\n",
       "      <td>...</td>\n",
       "      <td>...</td>\n",
       "      <td>...</td>\n",
       "      <td>...</td>\n",
       "      <td>...</td>\n",
       "    </tr>\n",
       "    <tr>\n",
       "      <th>990</th>\n",
       "      <td>0</td>\n",
       "      <td>0.2123</td>\n",
       "      <td>play, better, game, explain, want, first, ques...</td>\n",
       "      <td>I can’t explain how I feel right now</td>\n",
       "      <td>ChatGPT for Gaming and Entertainment</td>\n",
       "    </tr>\n",
       "    <tr>\n",
       "      <th>991</th>\n",
       "      <td>0</td>\n",
       "      <td>0.1429</td>\n",
       "      <td>play, better, game, explain, want, first, ques...</td>\n",
       "      <td>The situation is apparently serious…</td>\n",
       "      <td>ChatGPT for Gaming and Entertainment</td>\n",
       "    </tr>\n",
       "    <tr>\n",
       "      <th>992</th>\n",
       "      <td>3</td>\n",
       "      <td>0.4050</td>\n",
       "      <td>prompt, like, think, google, go, know, feel, t...</td>\n",
       "      <td>Just had an absolutely bizarre response that C...</td>\n",
       "      <td>Language and Communication</td>\n",
       "    </tr>\n",
       "    <tr>\n",
       "      <th>993</th>\n",
       "      <td>1</td>\n",
       "      <td>0.4132</td>\n",
       "      <td>write, dont, get, openai, come, even, need, re...</td>\n",
       "      <td>Don't be a brat</td>\n",
       "      <td>ChatGPT Applications and Implications</td>\n",
       "    </tr>\n",
       "    <tr>\n",
       "      <th>994</th>\n",
       "      <td>5</td>\n",
       "      <td>0.3222</td>\n",
       "      <td>make, use, answer, tell, bard, joke, love, pos...</td>\n",
       "      <td>How about posting something useful regarding c...</td>\n",
       "      <td>ChatGPT and Bard</td>\n",
       "    </tr>\n",
       "  </tbody>\n",
       "</table>\n",
       "<p>995 rows × 5 columns</p>\n",
       "</div>"
      ],
      "text/plain": [
       "     Dominant_Topic  Perc_Contribution  \\\n",
       "0                 3             0.5991   \n",
       "1                 3             0.4132   \n",
       "2                 0             0.1429   \n",
       "3                 3             0.6402   \n",
       "4                 6             0.4467   \n",
       "..              ...                ...   \n",
       "990               0             0.2123   \n",
       "991               0             0.1429   \n",
       "992               3             0.4050   \n",
       "993               1             0.4132   \n",
       "994               5             0.3222   \n",
       "\n",
       "                                          Top_Keywords  \\\n",
       "0    prompt, like, think, google, go, know, feel, t...   \n",
       "1    prompt, like, think, google, go, know, feel, t...   \n",
       "2    play, better, game, explain, want, first, ques...   \n",
       "3    prompt, like, think, google, go, know, feel, t...   \n",
       "4    bing, chat, cant, build, generate, access, tex...   \n",
       "..                                                 ...   \n",
       "990  play, better, game, explain, want, first, ques...   \n",
       "991  play, better, game, explain, want, first, ques...   \n",
       "992  prompt, like, think, google, go, know, feel, t...   \n",
       "993  write, dont, get, openai, come, even, need, re...   \n",
       "994  make, use, answer, tell, bard, joke, love, pos...   \n",
       "\n",
       "                                                 Title  \\\n",
       "0    10/10, must-see moment! ChatGPT just did somet...   \n",
       "1                                 wow it is so smart 💀   \n",
       "2                                                  >:(   \n",
       "3                                 Truly pure of heart.   \n",
       "4       Rap battling ChatGPT is my new favorite sport.   \n",
       "..                                                 ...   \n",
       "990               I can’t explain how I feel right now   \n",
       "991               The situation is apparently serious…   \n",
       "992  Just had an absolutely bizarre response that C...   \n",
       "993                                    Don't be a brat   \n",
       "994  How about posting something useful regarding c...   \n",
       "\n",
       "                                Topic_Name  \n",
       "0               Language and Communication  \n",
       "1               Language and Communication  \n",
       "2     ChatGPT for Gaming and Entertainment  \n",
       "3               Language and Communication  \n",
       "4                         ChatGPT and Bing  \n",
       "..                                     ...  \n",
       "990   ChatGPT for Gaming and Entertainment  \n",
       "991   ChatGPT for Gaming and Entertainment  \n",
       "992             Language and Communication  \n",
       "993  ChatGPT Applications and Implications  \n",
       "994                       ChatGPT and Bard  \n",
       "\n",
       "[995 rows x 5 columns]"
      ]
     },
     "execution_count": 78,
     "metadata": {},
     "output_type": "execute_result"
    }
   ],
   "source": [
    "# create a new column in your dataframe using map with topic_dict\n",
    "df_topic_sents_keywords['Topic_Name'] = df_topic_sents_keywords['Dominant_Topic'].map(topic_dict)\n",
    "df_topic_sents_keywords"
   ]
  },
  {
   "cell_type": "code",
   "execution_count": 80,
   "id": "d9f6fad5-7610-4345-87ec-602f23cd99fb",
   "metadata": {},
   "outputs": [
    {
     "data": {
      "text/html": [
       "<div>\n",
       "<style scoped>\n",
       "    .dataframe tbody tr th:only-of-type {\n",
       "        vertical-align: middle;\n",
       "    }\n",
       "\n",
       "    .dataframe tbody tr th {\n",
       "        vertical-align: top;\n",
       "    }\n",
       "\n",
       "    .dataframe thead th {\n",
       "        text-align: right;\n",
       "    }\n",
       "</style>\n",
       "<table border=\"1\" class=\"dataframe\">\n",
       "  <thead>\n",
       "    <tr style=\"text-align: right;\">\n",
       "      <th></th>\n",
       "      <th>Dominant_Topic</th>\n",
       "      <th>Perc_Contribution</th>\n",
       "      <th>Top_Keywords</th>\n",
       "      <th>Title</th>\n",
       "      <th>Topic_Name</th>\n",
       "      <th>cleaned_titles</th>\n",
       "    </tr>\n",
       "  </thead>\n",
       "  <tbody>\n",
       "    <tr>\n",
       "      <th>0</th>\n",
       "      <td>3</td>\n",
       "      <td>0.5991</td>\n",
       "      <td>prompt, like, think, google, go, know, feel, t...</td>\n",
       "      <td>10/10, must-see moment! ChatGPT just did somet...</td>\n",
       "      <td>Language and Communication</td>\n",
       "      <td>[mustsee, moment, something, shock, core]</td>\n",
       "    </tr>\n",
       "    <tr>\n",
       "      <th>1</th>\n",
       "      <td>3</td>\n",
       "      <td>0.4132</td>\n",
       "      <td>prompt, like, think, google, go, know, feel, t...</td>\n",
       "      <td>wow it is so smart 💀</td>\n",
       "      <td>Language and Communication</td>\n",
       "      <td>[smart]</td>\n",
       "    </tr>\n",
       "    <tr>\n",
       "      <th>2</th>\n",
       "      <td>0</td>\n",
       "      <td>0.1429</td>\n",
       "      <td>play, better, game, explain, want, first, ques...</td>\n",
       "      <td>&gt;:(</td>\n",
       "      <td>ChatGPT for Gaming and Entertainment</td>\n",
       "      <td>[]</td>\n",
       "    </tr>\n",
       "    <tr>\n",
       "      <th>3</th>\n",
       "      <td>3</td>\n",
       "      <td>0.6402</td>\n",
       "      <td>prompt, like, think, google, go, know, feel, t...</td>\n",
       "      <td>Truly pure of heart.</td>\n",
       "      <td>Language and Communication</td>\n",
       "      <td>[truly, pure, heart]</td>\n",
       "    </tr>\n",
       "    <tr>\n",
       "      <th>4</th>\n",
       "      <td>6</td>\n",
       "      <td>0.4467</td>\n",
       "      <td>bing, chat, cant, build, generate, access, tex...</td>\n",
       "      <td>Rap battling ChatGPT is my new favorite sport.</td>\n",
       "      <td>ChatGPT and Bing</td>\n",
       "      <td>[battle, favorite, sport]</td>\n",
       "    </tr>\n",
       "    <tr>\n",
       "      <th>...</th>\n",
       "      <td>...</td>\n",
       "      <td>...</td>\n",
       "      <td>...</td>\n",
       "      <td>...</td>\n",
       "      <td>...</td>\n",
       "      <td>...</td>\n",
       "    </tr>\n",
       "    <tr>\n",
       "      <th>990</th>\n",
       "      <td>0</td>\n",
       "      <td>0.2123</td>\n",
       "      <td>play, better, game, explain, want, first, ques...</td>\n",
       "      <td>I can’t explain how I feel right now</td>\n",
       "      <td>ChatGPT for Gaming and Entertainment</td>\n",
       "      <td>[cant, explain, feel, right]</td>\n",
       "    </tr>\n",
       "    <tr>\n",
       "      <th>991</th>\n",
       "      <td>0</td>\n",
       "      <td>0.1429</td>\n",
       "      <td>play, better, game, explain, want, first, ques...</td>\n",
       "      <td>The situation is apparently serious…</td>\n",
       "      <td>ChatGPT for Gaming and Entertainment</td>\n",
       "      <td>[situation, apparently, serious]</td>\n",
       "    </tr>\n",
       "    <tr>\n",
       "      <th>992</th>\n",
       "      <td>3</td>\n",
       "      <td>0.4050</td>\n",
       "      <td>prompt, like, think, google, go, know, feel, t...</td>\n",
       "      <td>Just had an absolutely bizarre response that C...</td>\n",
       "      <td>Language and Communication</td>\n",
       "      <td>[absolutely, bizarre, response, refuse, explai...</td>\n",
       "    </tr>\n",
       "    <tr>\n",
       "      <th>993</th>\n",
       "      <td>1</td>\n",
       "      <td>0.4132</td>\n",
       "      <td>write, dont, get, openai, come, even, need, re...</td>\n",
       "      <td>Don't be a brat</td>\n",
       "      <td>ChatGPT Applications and Implications</td>\n",
       "      <td>[dont, brat]</td>\n",
       "    </tr>\n",
       "    <tr>\n",
       "      <th>994</th>\n",
       "      <td>5</td>\n",
       "      <td>0.3222</td>\n",
       "      <td>make, use, answer, tell, bard, joke, love, pos...</td>\n",
       "      <td>How about posting something useful regarding c...</td>\n",
       "      <td>ChatGPT and Bard</td>\n",
       "      <td>[post, something, useful, regard, instead, stu...</td>\n",
       "    </tr>\n",
       "  </tbody>\n",
       "</table>\n",
       "<p>995 rows × 6 columns</p>\n",
       "</div>"
      ],
      "text/plain": [
       "     Dominant_Topic  Perc_Contribution  \\\n",
       "0                 3             0.5991   \n",
       "1                 3             0.4132   \n",
       "2                 0             0.1429   \n",
       "3                 3             0.6402   \n",
       "4                 6             0.4467   \n",
       "..              ...                ...   \n",
       "990               0             0.2123   \n",
       "991               0             0.1429   \n",
       "992               3             0.4050   \n",
       "993               1             0.4132   \n",
       "994               5             0.3222   \n",
       "\n",
       "                                          Top_Keywords  \\\n",
       "0    prompt, like, think, google, go, know, feel, t...   \n",
       "1    prompt, like, think, google, go, know, feel, t...   \n",
       "2    play, better, game, explain, want, first, ques...   \n",
       "3    prompt, like, think, google, go, know, feel, t...   \n",
       "4    bing, chat, cant, build, generate, access, tex...   \n",
       "..                                                 ...   \n",
       "990  play, better, game, explain, want, first, ques...   \n",
       "991  play, better, game, explain, want, first, ques...   \n",
       "992  prompt, like, think, google, go, know, feel, t...   \n",
       "993  write, dont, get, openai, come, even, need, re...   \n",
       "994  make, use, answer, tell, bard, joke, love, pos...   \n",
       "\n",
       "                                                 Title  \\\n",
       "0    10/10, must-see moment! ChatGPT just did somet...   \n",
       "1                                 wow it is so smart 💀   \n",
       "2                                                  >:(   \n",
       "3                                 Truly pure of heart.   \n",
       "4       Rap battling ChatGPT is my new favorite sport.   \n",
       "..                                                 ...   \n",
       "990               I can’t explain how I feel right now   \n",
       "991               The situation is apparently serious…   \n",
       "992  Just had an absolutely bizarre response that C...   \n",
       "993                                    Don't be a brat   \n",
       "994  How about posting something useful regarding c...   \n",
       "\n",
       "                                Topic_Name  \\\n",
       "0               Language and Communication   \n",
       "1               Language and Communication   \n",
       "2     ChatGPT for Gaming and Entertainment   \n",
       "3               Language and Communication   \n",
       "4                         ChatGPT and Bing   \n",
       "..                                     ...   \n",
       "990   ChatGPT for Gaming and Entertainment   \n",
       "991   ChatGPT for Gaming and Entertainment   \n",
       "992             Language and Communication   \n",
       "993  ChatGPT Applications and Implications   \n",
       "994                       ChatGPT and Bard   \n",
       "\n",
       "                                        cleaned_titles  \n",
       "0            [mustsee, moment, something, shock, core]  \n",
       "1                                              [smart]  \n",
       "2                                                   []  \n",
       "3                                 [truly, pure, heart]  \n",
       "4                            [battle, favorite, sport]  \n",
       "..                                                 ...  \n",
       "990                       [cant, explain, feel, right]  \n",
       "991                   [situation, apparently, serious]  \n",
       "992  [absolutely, bizarre, response, refuse, explai...  \n",
       "993                                       [dont, brat]  \n",
       "994  [post, something, useful, regard, instead, stu...  \n",
       "\n",
       "[995 rows x 6 columns]"
      ]
     },
     "execution_count": 80,
     "metadata": {},
     "output_type": "execute_result"
    }
   ],
   "source": [
    "df_topic_sents_keywords = df_topic_sents_keywords.assign(cleaned_titles=cleaned_titles)\n",
    "df_topic_sents_keywords"
   ]
  },
  {
   "cell_type": "code",
   "execution_count": 81,
   "id": "0f28aa3b-a617-4917-b245-bd1e2c2c516b",
   "metadata": {},
   "outputs": [],
   "source": [
    "# Group the posts by dominant topic\n",
    "groups = df_topic_sents_keywords.groupby('Dominant_Topic')\n",
    "\n",
    "# Loop through the groups and save each group as a separate CSV file\n",
    "for name, group in groups:\n",
    "    filename = 'topics/' + topic_dict[name] + '.csv'\n",
    "    group.to_csv(filename, index=False)\n"
   ]
  }
 ],
 "metadata": {
  "kernelspec": {
   "display_name": "Python 3 (ipykernel)",
   "language": "python",
   "name": "python3"
  },
  "language_info": {
   "codemirror_mode": {
    "name": "ipython",
    "version": 3
   },
   "file_extension": ".py",
   "mimetype": "text/x-python",
   "name": "python",
   "nbconvert_exporter": "python",
   "pygments_lexer": "ipython3",
   "version": "3.9.13"
  }
 },
 "nbformat": 4,
 "nbformat_minor": 5
}
